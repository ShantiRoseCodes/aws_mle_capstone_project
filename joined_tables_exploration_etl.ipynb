{
 "cells": [
  {
   "cell_type": "code",
   "execution_count": 101,
   "id": "a859b294-d136-4c72-95ff-3d75be9b5de3",
   "metadata": {
    "tags": []
   },
   "outputs": [],
   "source": [
    "import pandas as pd\n",
    "import numpy as np\n",
    "import math\n",
    "import json\n",
    "import seaborn as sns\n",
    "import matplotlib.pyplot as plt\n",
    "import os\n",
    "\n",
    "%matplotlib inline\n",
    "\n",
    "transaction = pd.read_csv('data/transaction.csv')\n",
    "transaction_offers = pd.read_csv('data/transaction_offers.csv')\n",
    "complete_df = pd.read_csv('data/complete.csv')\n",
    "transaction_with_labels = pd.read_csv('data/transaction_with_labels.csv')"
   ]
  },
  {
   "cell_type": "code",
   "execution_count": 5,
   "id": "0cd56498-95eb-48b3-963c-84da093248d6",
   "metadata": {
    "tags": []
   },
   "outputs": [
    {
     "data": {
      "text/html": [
       "<div>\n",
       "<style scoped>\n",
       "    .dataframe tbody tr th:only-of-type {\n",
       "        vertical-align: middle;\n",
       "    }\n",
       "\n",
       "    .dataframe tbody tr th {\n",
       "        vertical-align: top;\n",
       "    }\n",
       "\n",
       "    .dataframe thead th {\n",
       "        text-align: right;\n",
       "    }\n",
       "</style>\n",
       "<table border=\"1\" class=\"dataframe\">\n",
       "  <thead>\n",
       "    <tr style=\"text-align: right;\">\n",
       "      <th></th>\n",
       "      <th>offer</th>\n",
       "      <th>offer_type</th>\n",
       "      <th>difficulty</th>\n",
       "      <th>duration</th>\n",
       "      <th>duration_hr</th>\n",
       "      <th>reward</th>\n",
       "      <th>channels</th>\n",
       "      <th>web</th>\n",
       "      <th>email</th>\n",
       "      <th>social</th>\n",
       "      <th>...</th>\n",
       "      <th>offer_viewed</th>\n",
       "      <th>time_viewed</th>\n",
       "      <th>offer_completed</th>\n",
       "      <th>time_completed</th>\n",
       "      <th>reward_received</th>\n",
       "      <th>received_viewed</th>\n",
       "      <th>viewed_completed</th>\n",
       "      <th>received_completed_diff</th>\n",
       "      <th>duration_diff</th>\n",
       "      <th>valid_complete</th>\n",
       "    </tr>\n",
       "  </thead>\n",
       "  <tbody>\n",
       "    <tr>\n",
       "      <th>0</th>\n",
       "      <td>1</td>\n",
       "      <td>bogo</td>\n",
       "      <td>10</td>\n",
       "      <td>7</td>\n",
       "      <td>168</td>\n",
       "      <td>10</td>\n",
       "      <td>['email', 'mobile', 'social']</td>\n",
       "      <td>0</td>\n",
       "      <td>1</td>\n",
       "      <td>1</td>\n",
       "      <td>...</td>\n",
       "      <td>1</td>\n",
       "      <td>408.0</td>\n",
       "      <td>1</td>\n",
       "      <td>510.0</td>\n",
       "      <td>10.0</td>\n",
       "      <td>0.0</td>\n",
       "      <td>102.0</td>\n",
       "      <td>102.0</td>\n",
       "      <td>66.0</td>\n",
       "      <td>1</td>\n",
       "    </tr>\n",
       "    <tr>\n",
       "      <th>1</th>\n",
       "      <td>1</td>\n",
       "      <td>bogo</td>\n",
       "      <td>10</td>\n",
       "      <td>7</td>\n",
       "      <td>168</td>\n",
       "      <td>10</td>\n",
       "      <td>['email', 'mobile', 'social']</td>\n",
       "      <td>0</td>\n",
       "      <td>1</td>\n",
       "      <td>1</td>\n",
       "      <td>...</td>\n",
       "      <td>1</td>\n",
       "      <td>414.0</td>\n",
       "      <td>0</td>\n",
       "      <td>0.0</td>\n",
       "      <td>0.0</td>\n",
       "      <td>6.0</td>\n",
       "      <td>-414.0</td>\n",
       "      <td>-408.0</td>\n",
       "      <td>576.0</td>\n",
       "      <td>0</td>\n",
       "    </tr>\n",
       "    <tr>\n",
       "      <th>2</th>\n",
       "      <td>1</td>\n",
       "      <td>bogo</td>\n",
       "      <td>10</td>\n",
       "      <td>7</td>\n",
       "      <td>168</td>\n",
       "      <td>10</td>\n",
       "      <td>['email', 'mobile', 'social']</td>\n",
       "      <td>0</td>\n",
       "      <td>1</td>\n",
       "      <td>1</td>\n",
       "      <td>...</td>\n",
       "      <td>1</td>\n",
       "      <td>414.0</td>\n",
       "      <td>1</td>\n",
       "      <td>486.0</td>\n",
       "      <td>10.0</td>\n",
       "      <td>6.0</td>\n",
       "      <td>72.0</td>\n",
       "      <td>78.0</td>\n",
       "      <td>90.0</td>\n",
       "      <td>1</td>\n",
       "    </tr>\n",
       "    <tr>\n",
       "      <th>3</th>\n",
       "      <td>1</td>\n",
       "      <td>bogo</td>\n",
       "      <td>10</td>\n",
       "      <td>7</td>\n",
       "      <td>168</td>\n",
       "      <td>10</td>\n",
       "      <td>['email', 'mobile', 'social']</td>\n",
       "      <td>0</td>\n",
       "      <td>1</td>\n",
       "      <td>1</td>\n",
       "      <td>...</td>\n",
       "      <td>1</td>\n",
       "      <td>438.0</td>\n",
       "      <td>0</td>\n",
       "      <td>0.0</td>\n",
       "      <td>0.0</td>\n",
       "      <td>30.0</td>\n",
       "      <td>-438.0</td>\n",
       "      <td>-408.0</td>\n",
       "      <td>576.0</td>\n",
       "      <td>0</td>\n",
       "    </tr>\n",
       "    <tr>\n",
       "      <th>4</th>\n",
       "      <td>1</td>\n",
       "      <td>bogo</td>\n",
       "      <td>10</td>\n",
       "      <td>7</td>\n",
       "      <td>168</td>\n",
       "      <td>10</td>\n",
       "      <td>['email', 'mobile', 'social']</td>\n",
       "      <td>0</td>\n",
       "      <td>1</td>\n",
       "      <td>1</td>\n",
       "      <td>...</td>\n",
       "      <td>0</td>\n",
       "      <td>0.0</td>\n",
       "      <td>1</td>\n",
       "      <td>522.0</td>\n",
       "      <td>10.0</td>\n",
       "      <td>-504.0</td>\n",
       "      <td>522.0</td>\n",
       "      <td>18.0</td>\n",
       "      <td>150.0</td>\n",
       "      <td>0</td>\n",
       "    </tr>\n",
       "  </tbody>\n",
       "</table>\n",
       "<p>5 rows × 31 columns</p>\n",
       "</div>"
      ],
      "text/plain": [
       "   offer offer_type  difficulty  duration  duration_hr  reward  \\\n",
       "0      1       bogo          10         7          168      10   \n",
       "1      1       bogo          10         7          168      10   \n",
       "2      1       bogo          10         7          168      10   \n",
       "3      1       bogo          10         7          168      10   \n",
       "4      1       bogo          10         7          168      10   \n",
       "\n",
       "                        channels  web  email  social  ...  offer_viewed  \\\n",
       "0  ['email', 'mobile', 'social']    0      1       1  ...             1   \n",
       "1  ['email', 'mobile', 'social']    0      1       1  ...             1   \n",
       "2  ['email', 'mobile', 'social']    0      1       1  ...             1   \n",
       "3  ['email', 'mobile', 'social']    0      1       1  ...             1   \n",
       "4  ['email', 'mobile', 'social']    0      1       1  ...             0   \n",
       "\n",
       "   time_viewed offer_completed  time_completed reward_received  \\\n",
       "0        408.0               1           510.0            10.0   \n",
       "1        414.0               0             0.0             0.0   \n",
       "2        414.0               1           486.0            10.0   \n",
       "3        438.0               0             0.0             0.0   \n",
       "4          0.0               1           522.0            10.0   \n",
       "\n",
       "   received_viewed viewed_completed  received_completed_diff  duration_diff  \\\n",
       "0              0.0            102.0                    102.0           66.0   \n",
       "1              6.0           -414.0                   -408.0          576.0   \n",
       "2              6.0             72.0                     78.0           90.0   \n",
       "3             30.0           -438.0                   -408.0          576.0   \n",
       "4           -504.0            522.0                     18.0          150.0   \n",
       "\n",
       "  valid_complete  \n",
       "0              1  \n",
       "1              0  \n",
       "2              1  \n",
       "3              0  \n",
       "4              0  \n",
       "\n",
       "[5 rows x 31 columns]"
      ]
     },
     "execution_count": 5,
     "metadata": {},
     "output_type": "execute_result"
    }
   ],
   "source": [
    "complete_df.head()"
   ]
  },
  {
   "cell_type": "code",
   "execution_count": 6,
   "id": "d8e40071-82cd-47a4-8200-864859eec24d",
   "metadata": {
    "tags": []
   },
   "outputs": [
    {
     "data": {
      "text/html": [
       "<div>\n",
       "<style scoped>\n",
       "    .dataframe tbody tr th:only-of-type {\n",
       "        vertical-align: middle;\n",
       "    }\n",
       "\n",
       "    .dataframe tbody tr th {\n",
       "        vertical-align: top;\n",
       "    }\n",
       "\n",
       "    .dataframe thead th {\n",
       "        text-align: right;\n",
       "    }\n",
       "</style>\n",
       "<table border=\"1\" class=\"dataframe\">\n",
       "  <thead>\n",
       "    <tr style=\"text-align: right;\">\n",
       "      <th></th>\n",
       "      <th>offer</th>\n",
       "      <th>offer_type</th>\n",
       "      <th>difficulty</th>\n",
       "      <th>duration</th>\n",
       "      <th>duration_hr</th>\n",
       "      <th>reward</th>\n",
       "      <th>channels</th>\n",
       "      <th>web</th>\n",
       "      <th>email</th>\n",
       "      <th>social</th>\n",
       "      <th>...</th>\n",
       "      <th>offer_viewed</th>\n",
       "      <th>time_viewed</th>\n",
       "      <th>offer_completed</th>\n",
       "      <th>time_completed</th>\n",
       "      <th>reward_received</th>\n",
       "      <th>received_viewed</th>\n",
       "      <th>viewed_completed</th>\n",
       "      <th>received_completed_diff</th>\n",
       "      <th>duration_diff</th>\n",
       "      <th>valid_complete</th>\n",
       "    </tr>\n",
       "  </thead>\n",
       "  <tbody>\n",
       "    <tr>\n",
       "      <th>0</th>\n",
       "      <td>1</td>\n",
       "      <td>bogo</td>\n",
       "      <td>10</td>\n",
       "      <td>7</td>\n",
       "      <td>168</td>\n",
       "      <td>10</td>\n",
       "      <td>['email', 'mobile', 'social']</td>\n",
       "      <td>0</td>\n",
       "      <td>1</td>\n",
       "      <td>1</td>\n",
       "      <td>...</td>\n",
       "      <td>1</td>\n",
       "      <td>408.0</td>\n",
       "      <td>1</td>\n",
       "      <td>510.0</td>\n",
       "      <td>10.0</td>\n",
       "      <td>0.0</td>\n",
       "      <td>102.0</td>\n",
       "      <td>102.0</td>\n",
       "      <td>66.0</td>\n",
       "      <td>1</td>\n",
       "    </tr>\n",
       "    <tr>\n",
       "      <th>1</th>\n",
       "      <td>1</td>\n",
       "      <td>bogo</td>\n",
       "      <td>10</td>\n",
       "      <td>7</td>\n",
       "      <td>168</td>\n",
       "      <td>10</td>\n",
       "      <td>['email', 'mobile', 'social']</td>\n",
       "      <td>0</td>\n",
       "      <td>1</td>\n",
       "      <td>1</td>\n",
       "      <td>...</td>\n",
       "      <td>1</td>\n",
       "      <td>414.0</td>\n",
       "      <td>0</td>\n",
       "      <td>0.0</td>\n",
       "      <td>0.0</td>\n",
       "      <td>6.0</td>\n",
       "      <td>-414.0</td>\n",
       "      <td>-408.0</td>\n",
       "      <td>576.0</td>\n",
       "      <td>0</td>\n",
       "    </tr>\n",
       "    <tr>\n",
       "      <th>2</th>\n",
       "      <td>1</td>\n",
       "      <td>bogo</td>\n",
       "      <td>10</td>\n",
       "      <td>7</td>\n",
       "      <td>168</td>\n",
       "      <td>10</td>\n",
       "      <td>['email', 'mobile', 'social']</td>\n",
       "      <td>0</td>\n",
       "      <td>1</td>\n",
       "      <td>1</td>\n",
       "      <td>...</td>\n",
       "      <td>1</td>\n",
       "      <td>414.0</td>\n",
       "      <td>1</td>\n",
       "      <td>486.0</td>\n",
       "      <td>10.0</td>\n",
       "      <td>6.0</td>\n",
       "      <td>72.0</td>\n",
       "      <td>78.0</td>\n",
       "      <td>90.0</td>\n",
       "      <td>1</td>\n",
       "    </tr>\n",
       "    <tr>\n",
       "      <th>3</th>\n",
       "      <td>1</td>\n",
       "      <td>bogo</td>\n",
       "      <td>10</td>\n",
       "      <td>7</td>\n",
       "      <td>168</td>\n",
       "      <td>10</td>\n",
       "      <td>['email', 'mobile', 'social']</td>\n",
       "      <td>0</td>\n",
       "      <td>1</td>\n",
       "      <td>1</td>\n",
       "      <td>...</td>\n",
       "      <td>1</td>\n",
       "      <td>438.0</td>\n",
       "      <td>0</td>\n",
       "      <td>0.0</td>\n",
       "      <td>0.0</td>\n",
       "      <td>30.0</td>\n",
       "      <td>-438.0</td>\n",
       "      <td>-408.0</td>\n",
       "      <td>576.0</td>\n",
       "      <td>0</td>\n",
       "    </tr>\n",
       "    <tr>\n",
       "      <th>4</th>\n",
       "      <td>1</td>\n",
       "      <td>bogo</td>\n",
       "      <td>10</td>\n",
       "      <td>7</td>\n",
       "      <td>168</td>\n",
       "      <td>10</td>\n",
       "      <td>['email', 'mobile', 'social']</td>\n",
       "      <td>0</td>\n",
       "      <td>1</td>\n",
       "      <td>1</td>\n",
       "      <td>...</td>\n",
       "      <td>0</td>\n",
       "      <td>0.0</td>\n",
       "      <td>1</td>\n",
       "      <td>522.0</td>\n",
       "      <td>10.0</td>\n",
       "      <td>-504.0</td>\n",
       "      <td>522.0</td>\n",
       "      <td>18.0</td>\n",
       "      <td>150.0</td>\n",
       "      <td>0</td>\n",
       "    </tr>\n",
       "  </tbody>\n",
       "</table>\n",
       "<p>5 rows × 31 columns</p>\n",
       "</div>"
      ],
      "text/plain": [
       "   offer offer_type  difficulty  duration  duration_hr  reward  \\\n",
       "0      1       bogo          10         7          168      10   \n",
       "1      1       bogo          10         7          168      10   \n",
       "2      1       bogo          10         7          168      10   \n",
       "3      1       bogo          10         7          168      10   \n",
       "4      1       bogo          10         7          168      10   \n",
       "\n",
       "                        channels  web  email  social  ...  offer_viewed  \\\n",
       "0  ['email', 'mobile', 'social']    0      1       1  ...             1   \n",
       "1  ['email', 'mobile', 'social']    0      1       1  ...             1   \n",
       "2  ['email', 'mobile', 'social']    0      1       1  ...             1   \n",
       "3  ['email', 'mobile', 'social']    0      1       1  ...             1   \n",
       "4  ['email', 'mobile', 'social']    0      1       1  ...             0   \n",
       "\n",
       "   time_viewed offer_completed  time_completed reward_received  \\\n",
       "0        408.0               1           510.0            10.0   \n",
       "1        414.0               0             0.0             0.0   \n",
       "2        414.0               1           486.0            10.0   \n",
       "3        438.0               0             0.0             0.0   \n",
       "4          0.0               1           522.0            10.0   \n",
       "\n",
       "   received_viewed viewed_completed  received_completed_diff  duration_diff  \\\n",
       "0              0.0            102.0                    102.0           66.0   \n",
       "1              6.0           -414.0                   -408.0          576.0   \n",
       "2              6.0             72.0                     78.0           90.0   \n",
       "3             30.0           -438.0                   -408.0          576.0   \n",
       "4           -504.0            522.0                     18.0          150.0   \n",
       "\n",
       "  valid_complete  \n",
       "0              1  \n",
       "1              0  \n",
       "2              1  \n",
       "3              0  \n",
       "4              0  \n",
       "\n",
       "[5 rows x 31 columns]"
      ]
     },
     "execution_count": 6,
     "metadata": {},
     "output_type": "execute_result"
    }
   ],
   "source": [
    "complete_df.head()"
   ]
  },
  {
   "cell_type": "code",
   "execution_count": 7,
   "id": "1aa54ab5-df32-48ab-b07e-4927069db3fb",
   "metadata": {
    "tags": []
   },
   "outputs": [
    {
     "data": {
      "text/plain": [
       "(49035, 31)"
      ]
     },
     "execution_count": 7,
     "metadata": {},
     "output_type": "execute_result"
    }
   ],
   "source": [
    "complete_df.shape"
   ]
  },
  {
   "cell_type": "code",
   "execution_count": 8,
   "id": "3bf76898-ae85-47c4-9728-646ebbcf43de",
   "metadata": {
    "tags": []
   },
   "outputs": [],
   "source": [
    "complete_df.drop_duplicates(inplace = True)"
   ]
  },
  {
   "cell_type": "code",
   "execution_count": 9,
   "id": "36ea2181-84fa-44a0-b5bf-f3e79c519bd5",
   "metadata": {
    "tags": []
   },
   "outputs": [
    {
     "data": {
      "text/plain": [
       "(49035, 31)"
      ]
     },
     "execution_count": 9,
     "metadata": {},
     "output_type": "execute_result"
    }
   ],
   "source": [
    "complete_df.shape"
   ]
  },
  {
   "cell_type": "code",
   "execution_count": 10,
   "id": "06a140ef-6003-4082-b92f-e36d6542d27c",
   "metadata": {
    "tags": []
   },
   "outputs": [
    {
     "data": {
      "text/plain": [
       "3f207df678b143eea3cee63160fa8bed    6027\n",
       "5a8bc65990b245e5a138643cd4eb9837    5640\n",
       "0b1e1539f2cc45b7b9fa7c272da2e1d7    5184\n",
       "fafdcd668e3743c1bb461111dcafc2a4    4848\n",
       "2906b810c7d4411798c6938adc9daaa5    4683\n",
       "2298d6c36e964ae4a3e7e9706d1fb8c2    4661\n",
       "9b98b8c7a33c4b65b9aebfe6a799e6d9    4655\n",
       "4d5c57ea9a6940dd891ad53e9dbe8da0    4481\n",
       "ae264e3637204a6fb9bb56bc8210ddfd    4448\n",
       "f19421c1d4aa40978ebb69ca19b0e20d    4408\n",
       "Name: offer_id, dtype: int64"
      ]
     },
     "execution_count": 10,
     "metadata": {},
     "output_type": "execute_result"
    }
   ],
   "source": [
    "complete_df['offer_id'].value_counts()"
   ]
  },
  {
   "cell_type": "code",
   "execution_count": 11,
   "id": "6aa5da4c-cd1d-4339-8e9b-4ef105b7ab88",
   "metadata": {
    "tags": []
   },
   "outputs": [
    {
     "data": {
      "text/plain": [
       "discount         19376\n",
       "bogo             17992\n",
       "informational    11667\n",
       "Name: offer_type, dtype: int64"
      ]
     },
     "execution_count": 11,
     "metadata": {},
     "output_type": "execute_result"
    }
   ],
   "source": [
    "complete_df['offer_type'].value_counts()"
   ]
  },
  {
   "cell_type": "code",
   "execution_count": 12,
   "id": "53dba1de-29f5-4996-ab7c-aabf77790860",
   "metadata": {
    "tags": []
   },
   "outputs": [
    {
     "data": {
      "text/plain": [
       "0    29817\n",
       "1    19218\n",
       "Name: valid_complete, dtype: int64"
      ]
     },
     "execution_count": 12,
     "metadata": {},
     "output_type": "execute_result"
    }
   ],
   "source": [
    "complete_df['valid_complete'].value_counts()"
   ]
  },
  {
   "cell_type": "code",
   "execution_count": 13,
   "id": "36ec029d-722c-4280-b21b-3495a11dee7c",
   "metadata": {
    "tags": []
   },
   "outputs": [
    {
     "data": {
      "text/plain": [
       "(123957, 10)"
      ]
     },
     "execution_count": 13,
     "metadata": {},
     "output_type": "execute_result"
    }
   ],
   "source": [
    "transaction.shape"
   ]
  },
  {
   "cell_type": "code",
   "execution_count": 14,
   "id": "2f665054-cec7-4454-b51b-0fadd0c5e2dc",
   "metadata": {
    "tags": []
   },
   "outputs": [
    {
     "data": {
      "text/html": [
       "<div>\n",
       "<style scoped>\n",
       "    .dataframe tbody tr th:only-of-type {\n",
       "        vertical-align: middle;\n",
       "    }\n",
       "\n",
       "    .dataframe tbody tr th {\n",
       "        vertical-align: top;\n",
       "    }\n",
       "\n",
       "    .dataframe thead th {\n",
       "        text-align: right;\n",
       "    }\n",
       "</style>\n",
       "<table border=\"1\" class=\"dataframe\">\n",
       "  <thead>\n",
       "    <tr style=\"text-align: right;\">\n",
       "      <th></th>\n",
       "      <th>id</th>\n",
       "      <th>age</th>\n",
       "      <th>gender</th>\n",
       "      <th>income</th>\n",
       "      <th>became_member_on</th>\n",
       "      <th>membership_duration</th>\n",
       "      <th>person</th>\n",
       "      <th>event</th>\n",
       "      <th>time</th>\n",
       "      <th>amount_spent</th>\n",
       "    </tr>\n",
       "  </thead>\n",
       "  <tbody>\n",
       "    <tr>\n",
       "      <th>0</th>\n",
       "      <td>0610b486422d4921ae7d2bf64640c50b</td>\n",
       "      <td>55</td>\n",
       "      <td>F</td>\n",
       "      <td>112000.0</td>\n",
       "      <td>2017-07-15</td>\n",
       "      <td>376</td>\n",
       "      <td>0610b486422d4921ae7d2bf64640c50b</td>\n",
       "      <td>transaction</td>\n",
       "      <td>18</td>\n",
       "      <td>21.51</td>\n",
       "    </tr>\n",
       "    <tr>\n",
       "      <th>1</th>\n",
       "      <td>0610b486422d4921ae7d2bf64640c50b</td>\n",
       "      <td>55</td>\n",
       "      <td>F</td>\n",
       "      <td>112000.0</td>\n",
       "      <td>2017-07-15</td>\n",
       "      <td>376</td>\n",
       "      <td>0610b486422d4921ae7d2bf64640c50b</td>\n",
       "      <td>transaction</td>\n",
       "      <td>144</td>\n",
       "      <td>32.28</td>\n",
       "    </tr>\n",
       "    <tr>\n",
       "      <th>2</th>\n",
       "      <td>0610b486422d4921ae7d2bf64640c50b</td>\n",
       "      <td>55</td>\n",
       "      <td>F</td>\n",
       "      <td>112000.0</td>\n",
       "      <td>2017-07-15</td>\n",
       "      <td>376</td>\n",
       "      <td>0610b486422d4921ae7d2bf64640c50b</td>\n",
       "      <td>transaction</td>\n",
       "      <td>528</td>\n",
       "      <td>23.22</td>\n",
       "    </tr>\n",
       "    <tr>\n",
       "      <th>3</th>\n",
       "      <td>78afa995795e4d85b5d9ceeca43f5fef</td>\n",
       "      <td>75</td>\n",
       "      <td>F</td>\n",
       "      <td>100000.0</td>\n",
       "      <td>2017-05-09</td>\n",
       "      <td>443</td>\n",
       "      <td>78afa995795e4d85b5d9ceeca43f5fef</td>\n",
       "      <td>transaction</td>\n",
       "      <td>132</td>\n",
       "      <td>19.89</td>\n",
       "    </tr>\n",
       "    <tr>\n",
       "      <th>4</th>\n",
       "      <td>78afa995795e4d85b5d9ceeca43f5fef</td>\n",
       "      <td>75</td>\n",
       "      <td>F</td>\n",
       "      <td>100000.0</td>\n",
       "      <td>2017-05-09</td>\n",
       "      <td>443</td>\n",
       "      <td>78afa995795e4d85b5d9ceeca43f5fef</td>\n",
       "      <td>transaction</td>\n",
       "      <td>144</td>\n",
       "      <td>17.78</td>\n",
       "    </tr>\n",
       "  </tbody>\n",
       "</table>\n",
       "</div>"
      ],
      "text/plain": [
       "                                 id  age gender    income became_member_on  \\\n",
       "0  0610b486422d4921ae7d2bf64640c50b   55      F  112000.0       2017-07-15   \n",
       "1  0610b486422d4921ae7d2bf64640c50b   55      F  112000.0       2017-07-15   \n",
       "2  0610b486422d4921ae7d2bf64640c50b   55      F  112000.0       2017-07-15   \n",
       "3  78afa995795e4d85b5d9ceeca43f5fef   75      F  100000.0       2017-05-09   \n",
       "4  78afa995795e4d85b5d9ceeca43f5fef   75      F  100000.0       2017-05-09   \n",
       "\n",
       "   membership_duration                            person        event  time  \\\n",
       "0                  376  0610b486422d4921ae7d2bf64640c50b  transaction    18   \n",
       "1                  376  0610b486422d4921ae7d2bf64640c50b  transaction   144   \n",
       "2                  376  0610b486422d4921ae7d2bf64640c50b  transaction   528   \n",
       "3                  443  78afa995795e4d85b5d9ceeca43f5fef  transaction   132   \n",
       "4                  443  78afa995795e4d85b5d9ceeca43f5fef  transaction   144   \n",
       "\n",
       "   amount_spent  \n",
       "0         21.51  \n",
       "1         32.28  \n",
       "2         23.22  \n",
       "3         19.89  \n",
       "4         17.78  "
      ]
     },
     "execution_count": 14,
     "metadata": {},
     "output_type": "execute_result"
    }
   ],
   "source": [
    "transaction.head()"
   ]
  },
  {
   "cell_type": "code",
   "execution_count": 15,
   "id": "43cc10ff-f27a-4ee4-9d86-48e93cde1f55",
   "metadata": {
    "tags": []
   },
   "outputs": [],
   "source": [
    "transaction.drop('id', axis = 1, inplace = True)"
   ]
  },
  {
   "cell_type": "code",
   "execution_count": 16,
   "id": "db8f149c-4be8-4861-a7da-6612e29e9bc2",
   "metadata": {
    "tags": []
   },
   "outputs": [
    {
     "data": {
      "text/plain": [
       "8dbfa485249f409aa223a2130f40634a    36\n",
       "79d9d4f86aca4bed9290350fb43817c2    36\n",
       "94de646f7b6041228ca7dec82adb97d2    35\n",
       "b1f4ece7d49342628a9ed77aee2cde58    32\n",
       "5e60c6aa3b834e44b822ea43a3efea26    32\n",
       "                                    ..\n",
       "3157f795b27c49218a5869d850a62807     1\n",
       "54a637c5dd8b429d82815e71d3f4ac26     1\n",
       "6ac3a35e06d848e9b02ec09e74d1ff7b     1\n",
       "0e7642435a514809ab74563c86245c61     1\n",
       "41ebfd4601c44c69a53bb4359e2d3666     1\n",
       "Name: person, Length: 14492, dtype: int64"
      ]
     },
     "execution_count": 16,
     "metadata": {},
     "output_type": "execute_result"
    }
   ],
   "source": [
    "transaction['person'].value_counts()"
   ]
  },
  {
   "cell_type": "code",
   "execution_count": 17,
   "id": "9f01cfda-6e40-48a8-ab49-24dea7a4dc14",
   "metadata": {
    "tags": []
   },
   "outputs": [
    {
     "data": {
      "text/plain": [
       "73ceb3c59745462e9caa9cb2dec21925    6\n",
       "269dce9ba8004504ae3a587a7df9db13    6\n",
       "840cc4f0ccbb4ba7af0c511ec023ee85    6\n",
       "e7b245f7399746faac8b4184d500a21a    6\n",
       "828f238d7f554fff94d07de50faff45c    6\n",
       "                                   ..\n",
       "d17e1e62ec1d44239803e0aebe2c0949    1\n",
       "7378619969094009af10e2097b4a5f76    1\n",
       "e91dce4a4d0b454e80f5c90dc0eb55ee    1\n",
       "96fa841c065d482bad03b19a7acfe95d    1\n",
       "4d57a232827b47519527089f322ab1a2    1\n",
       "Name: person, Length: 14764, dtype: int64"
      ]
     },
     "execution_count": 17,
     "metadata": {},
     "output_type": "execute_result"
    }
   ],
   "source": [
    "complete_df['person'].value_counts()"
   ]
  },
  {
   "cell_type": "code",
   "execution_count": 18,
   "id": "b48da0e0-bc7b-436d-83cc-a91277892e70",
   "metadata": {
    "tags": []
   },
   "outputs": [],
   "source": [
    "transaction_offers = pd.merge(\n",
    "    transaction,\n",
    "    complete_df,\n",
    "    how = \"inner\",\n",
    "    on = [\"person\", \"age\", \"gender\", \"income\", \"became_member_on\", \"membership_duration\"],\n",
    "    indicator = True\n",
    ")"
   ]
  },
  {
   "cell_type": "code",
   "execution_count": 19,
   "id": "e8f62737-5a5d-4ef9-b150-e5bf01820a46",
   "metadata": {
    "tags": []
   },
   "outputs": [
    {
     "data": {
      "text/plain": [
       "(418321, 35)"
      ]
     },
     "execution_count": 19,
     "metadata": {},
     "output_type": "execute_result"
    }
   ],
   "source": [
    "transaction_offers.shape"
   ]
  },
  {
   "cell_type": "code",
   "execution_count": 20,
   "id": "c72df424-2da3-4116-9fbb-5b65fe5229db",
   "metadata": {
    "tags": []
   },
   "outputs": [
    {
     "data": {
      "text/html": [
       "<div>\n",
       "<style scoped>\n",
       "    .dataframe tbody tr th:only-of-type {\n",
       "        vertical-align: middle;\n",
       "    }\n",
       "\n",
       "    .dataframe tbody tr th {\n",
       "        vertical-align: top;\n",
       "    }\n",
       "\n",
       "    .dataframe thead th {\n",
       "        text-align: right;\n",
       "    }\n",
       "</style>\n",
       "<table border=\"1\" class=\"dataframe\">\n",
       "  <thead>\n",
       "    <tr style=\"text-align: right;\">\n",
       "      <th></th>\n",
       "      <th>age</th>\n",
       "      <th>gender</th>\n",
       "      <th>income</th>\n",
       "      <th>became_member_on</th>\n",
       "      <th>membership_duration</th>\n",
       "      <th>person</th>\n",
       "      <th>event</th>\n",
       "      <th>time</th>\n",
       "      <th>amount_spent</th>\n",
       "      <th>offer</th>\n",
       "      <th>...</th>\n",
       "      <th>time_viewed</th>\n",
       "      <th>offer_completed</th>\n",
       "      <th>time_completed</th>\n",
       "      <th>reward_received</th>\n",
       "      <th>received_viewed</th>\n",
       "      <th>viewed_completed</th>\n",
       "      <th>received_completed_diff</th>\n",
       "      <th>duration_diff</th>\n",
       "      <th>valid_complete</th>\n",
       "      <th>_merge</th>\n",
       "    </tr>\n",
       "  </thead>\n",
       "  <tbody>\n",
       "    <tr>\n",
       "      <th>0</th>\n",
       "      <td>55</td>\n",
       "      <td>F</td>\n",
       "      <td>112000.0</td>\n",
       "      <td>2017-07-15</td>\n",
       "      <td>376</td>\n",
       "      <td>0610b486422d4921ae7d2bf64640c50b</td>\n",
       "      <td>transaction</td>\n",
       "      <td>18</td>\n",
       "      <td>21.51</td>\n",
       "      <td>3</td>\n",
       "      <td>...</td>\n",
       "      <td>0.0</td>\n",
       "      <td>0</td>\n",
       "      <td>0.0</td>\n",
       "      <td>0.0</td>\n",
       "      <td>-504.0</td>\n",
       "      <td>0.0</td>\n",
       "      <td>-504.0</td>\n",
       "      <td>600.0</td>\n",
       "      <td>0</td>\n",
       "      <td>both</td>\n",
       "    </tr>\n",
       "    <tr>\n",
       "      <th>1</th>\n",
       "      <td>55</td>\n",
       "      <td>F</td>\n",
       "      <td>112000.0</td>\n",
       "      <td>2017-07-15</td>\n",
       "      <td>376</td>\n",
       "      <td>0610b486422d4921ae7d2bf64640c50b</td>\n",
       "      <td>transaction</td>\n",
       "      <td>18</td>\n",
       "      <td>21.51</td>\n",
       "      <td>4</td>\n",
       "      <td>...</td>\n",
       "      <td>0.0</td>\n",
       "      <td>1</td>\n",
       "      <td>528.0</td>\n",
       "      <td>5.0</td>\n",
       "      <td>-408.0</td>\n",
       "      <td>528.0</td>\n",
       "      <td>120.0</td>\n",
       "      <td>48.0</td>\n",
       "      <td>0</td>\n",
       "      <td>both</td>\n",
       "    </tr>\n",
       "    <tr>\n",
       "      <th>2</th>\n",
       "      <td>55</td>\n",
       "      <td>F</td>\n",
       "      <td>112000.0</td>\n",
       "      <td>2017-07-15</td>\n",
       "      <td>376</td>\n",
       "      <td>0610b486422d4921ae7d2bf64640c50b</td>\n",
       "      <td>transaction</td>\n",
       "      <td>144</td>\n",
       "      <td>32.28</td>\n",
       "      <td>3</td>\n",
       "      <td>...</td>\n",
       "      <td>0.0</td>\n",
       "      <td>0</td>\n",
       "      <td>0.0</td>\n",
       "      <td>0.0</td>\n",
       "      <td>-504.0</td>\n",
       "      <td>0.0</td>\n",
       "      <td>-504.0</td>\n",
       "      <td>600.0</td>\n",
       "      <td>0</td>\n",
       "      <td>both</td>\n",
       "    </tr>\n",
       "    <tr>\n",
       "      <th>3</th>\n",
       "      <td>55</td>\n",
       "      <td>F</td>\n",
       "      <td>112000.0</td>\n",
       "      <td>2017-07-15</td>\n",
       "      <td>376</td>\n",
       "      <td>0610b486422d4921ae7d2bf64640c50b</td>\n",
       "      <td>transaction</td>\n",
       "      <td>144</td>\n",
       "      <td>32.28</td>\n",
       "      <td>4</td>\n",
       "      <td>...</td>\n",
       "      <td>0.0</td>\n",
       "      <td>1</td>\n",
       "      <td>528.0</td>\n",
       "      <td>5.0</td>\n",
       "      <td>-408.0</td>\n",
       "      <td>528.0</td>\n",
       "      <td>120.0</td>\n",
       "      <td>48.0</td>\n",
       "      <td>0</td>\n",
       "      <td>both</td>\n",
       "    </tr>\n",
       "    <tr>\n",
       "      <th>4</th>\n",
       "      <td>55</td>\n",
       "      <td>F</td>\n",
       "      <td>112000.0</td>\n",
       "      <td>2017-07-15</td>\n",
       "      <td>376</td>\n",
       "      <td>0610b486422d4921ae7d2bf64640c50b</td>\n",
       "      <td>transaction</td>\n",
       "      <td>528</td>\n",
       "      <td>23.22</td>\n",
       "      <td>3</td>\n",
       "      <td>...</td>\n",
       "      <td>0.0</td>\n",
       "      <td>0</td>\n",
       "      <td>0.0</td>\n",
       "      <td>0.0</td>\n",
       "      <td>-504.0</td>\n",
       "      <td>0.0</td>\n",
       "      <td>-504.0</td>\n",
       "      <td>600.0</td>\n",
       "      <td>0</td>\n",
       "      <td>both</td>\n",
       "    </tr>\n",
       "  </tbody>\n",
       "</table>\n",
       "<p>5 rows × 35 columns</p>\n",
       "</div>"
      ],
      "text/plain": [
       "   age gender    income became_member_on  membership_duration  \\\n",
       "0   55      F  112000.0       2017-07-15                  376   \n",
       "1   55      F  112000.0       2017-07-15                  376   \n",
       "2   55      F  112000.0       2017-07-15                  376   \n",
       "3   55      F  112000.0       2017-07-15                  376   \n",
       "4   55      F  112000.0       2017-07-15                  376   \n",
       "\n",
       "                             person        event  time  amount_spent  offer  \\\n",
       "0  0610b486422d4921ae7d2bf64640c50b  transaction    18         21.51      3   \n",
       "1  0610b486422d4921ae7d2bf64640c50b  transaction    18         21.51      4   \n",
       "2  0610b486422d4921ae7d2bf64640c50b  transaction   144         32.28      3   \n",
       "3  0610b486422d4921ae7d2bf64640c50b  transaction   144         32.28      4   \n",
       "4  0610b486422d4921ae7d2bf64640c50b  transaction   528         23.22      3   \n",
       "\n",
       "   ... time_viewed  offer_completed  time_completed  reward_received  \\\n",
       "0  ...         0.0                0             0.0              0.0   \n",
       "1  ...         0.0                1           528.0              5.0   \n",
       "2  ...         0.0                0             0.0              0.0   \n",
       "3  ...         0.0                1           528.0              5.0   \n",
       "4  ...         0.0                0             0.0              0.0   \n",
       "\n",
       "   received_viewed viewed_completed  received_completed_diff  duration_diff  \\\n",
       "0           -504.0              0.0                   -504.0          600.0   \n",
       "1           -408.0            528.0                    120.0           48.0   \n",
       "2           -504.0              0.0                   -504.0          600.0   \n",
       "3           -408.0            528.0                    120.0           48.0   \n",
       "4           -504.0              0.0                   -504.0          600.0   \n",
       "\n",
       "   valid_complete  _merge  \n",
       "0               0    both  \n",
       "1               0    both  \n",
       "2               0    both  \n",
       "3               0    both  \n",
       "4               0    both  \n",
       "\n",
       "[5 rows x 35 columns]"
      ]
     },
     "execution_count": 20,
     "metadata": {},
     "output_type": "execute_result"
    }
   ],
   "source": [
    "transaction_offers.head()"
   ]
  },
  {
   "cell_type": "code",
   "execution_count": 22,
   "id": "9de5b3cc-d861-4940-af47-20ff670aaa21",
   "metadata": {
    "tags": []
   },
   "outputs": [],
   "source": [
    "transaction_offers.drop_duplicates(subset = 'id_o', keep = 'first', inplace = True)"
   ]
  },
  {
   "cell_type": "code",
   "execution_count": 23,
   "id": "a7cdc915-9640-47ad-9982-1e1eb8d66e40",
   "metadata": {
    "tags": []
   },
   "outputs": [
    {
     "data": {
      "text/plain": [
       "(47959, 35)"
      ]
     },
     "execution_count": 23,
     "metadata": {},
     "output_type": "execute_result"
    }
   ],
   "source": [
    "transaction_offers.shape"
   ]
  },
  {
   "cell_type": "code",
   "execution_count": 24,
   "id": "b9cd9e74-d68b-43f2-9746-06755120a3b0",
   "metadata": {
    "tags": []
   },
   "outputs": [
    {
     "data": {
      "text/plain": [
       "(49035, 31)"
      ]
     },
     "execution_count": 24,
     "metadata": {},
     "output_type": "execute_result"
    }
   ],
   "source": [
    "complete_df.shape"
   ]
  },
  {
   "cell_type": "code",
   "execution_count": 25,
   "id": "74cb8ebb-a105-4183-a5cb-f4f2430f472f",
   "metadata": {
    "tags": []
   },
   "outputs": [
    {
     "name": "stdout",
     "output_type": "stream",
     "text": [
      "<class 'pandas.core.frame.DataFrame'>\n",
      "Int64Index: 47959 entries, 0 to 418305\n",
      "Data columns (total 35 columns):\n",
      " #   Column                   Non-Null Count  Dtype   \n",
      "---  ------                   --------------  -----   \n",
      " 0   age                      47959 non-null  int64   \n",
      " 1   gender                   47959 non-null  object  \n",
      " 2   income                   47959 non-null  float64 \n",
      " 3   became_member_on         47959 non-null  object  \n",
      " 4   membership_duration      47959 non-null  int64   \n",
      " 5   person                   47959 non-null  object  \n",
      " 6   event                    47959 non-null  object  \n",
      " 7   time                     47959 non-null  int64   \n",
      " 8   amount_spent             47959 non-null  float64 \n",
      " 9   offer                    47959 non-null  int64   \n",
      " 10  offer_type               47959 non-null  object  \n",
      " 11  difficulty               47959 non-null  int64   \n",
      " 12  duration                 47959 non-null  int64   \n",
      " 13  duration_hr              47959 non-null  int64   \n",
      " 14  reward                   47959 non-null  int64   \n",
      " 15  channels                 47959 non-null  object  \n",
      " 16  web                      47959 non-null  int64   \n",
      " 17  email                    47959 non-null  int64   \n",
      " 18  social                   47959 non-null  int64   \n",
      " 19  mobile                   47959 non-null  int64   \n",
      " 20  offer_received           47959 non-null  int64   \n",
      " 21  time_received            47959 non-null  int64   \n",
      " 22  offer_id                 47959 non-null  object  \n",
      " 23  id_o                     47959 non-null  int64   \n",
      " 24  offer_viewed             47959 non-null  int64   \n",
      " 25  time_viewed              47959 non-null  float64 \n",
      " 26  offer_completed          47959 non-null  int64   \n",
      " 27  time_completed           47959 non-null  float64 \n",
      " 28  reward_received          47959 non-null  float64 \n",
      " 29  received_viewed          47959 non-null  float64 \n",
      " 30  viewed_completed         47959 non-null  float64 \n",
      " 31  received_completed_diff  47959 non-null  float64 \n",
      " 32  duration_diff            47959 non-null  float64 \n",
      " 33  valid_complete           47959 non-null  int64   \n",
      " 34  _merge                   47959 non-null  category\n",
      "dtypes: category(1), float64(9), int64(18), object(7)\n",
      "memory usage: 12.9+ MB\n"
     ]
    }
   ],
   "source": [
    "transaction_offers.info()"
   ]
  },
  {
   "cell_type": "code",
   "execution_count": 27,
   "id": "6f68f9e9-363c-487c-9467-c59d7c13ae03",
   "metadata": {
    "tags": []
   },
   "outputs": [],
   "source": [
    "transaction_offers.drop(['id_o', '_merge'], axis = 1, inplace = True)"
   ]
  },
  {
   "cell_type": "code",
   "execution_count": 28,
   "id": "a2355f78-928f-4129-aee4-aca57b3d5d3c",
   "metadata": {
    "tags": []
   },
   "outputs": [
    {
     "data": {
      "text/plain": [
       "discount         18934\n",
       "bogo             17602\n",
       "informational    11423\n",
       "Name: offer_type, dtype: int64"
      ]
     },
     "execution_count": 28,
     "metadata": {},
     "output_type": "execute_result"
    }
   ],
   "source": [
    "transaction_offers['offer_type'].value_counts()"
   ]
  },
  {
   "cell_type": "code",
   "execution_count": 29,
   "id": "3b622b33-3d38-4239-ab0f-c5601f18c571",
   "metadata": {
    "tags": []
   },
   "outputs": [
    {
     "data": {
      "text/plain": [
       "0    28741\n",
       "1    19218\n",
       "Name: valid_complete, dtype: int64"
      ]
     },
     "execution_count": 29,
     "metadata": {},
     "output_type": "execute_result"
    }
   ],
   "source": [
    "transaction_offers['valid_complete'].value_counts()"
   ]
  },
  {
   "cell_type": "code",
   "execution_count": 30,
   "id": "1d5c53a0-297f-4fa3-aa83-b8148ce954a8",
   "metadata": {
    "tags": []
   },
   "outputs": [
    {
     "data": {
      "text/plain": [
       "offer_id                        \n",
       "3f207df678b143eea3cee63160fa8bed    5891\n",
       "5a8bc65990b245e5a138643cd4eb9837    5532\n",
       "dtype: int64"
      ]
     },
     "execution_count": 30,
     "metadata": {},
     "output_type": "execute_result"
    }
   ],
   "source": [
    "transaction_offers[transaction_offers.offer_type == 'informational'][['offer_id']].value_counts()"
   ]
  },
  {
   "cell_type": "code",
   "execution_count": 31,
   "id": "a0ca05d1-c01d-407b-995a-6b5c4a917581",
   "metadata": {
    "tags": []
   },
   "outputs": [
    {
     "data": {
      "text/plain": [
       "3f207df678b143eea3cee63160fa8bed    6027\n",
       "5a8bc65990b245e5a138643cd4eb9837    5640\n",
       "Name: offer_id, dtype: int64"
      ]
     },
     "execution_count": 31,
     "metadata": {},
     "output_type": "execute_result"
    }
   ],
   "source": [
    "complete_df[complete_df.offer_type == 'informational']['offer_id'].value_counts()"
   ]
  },
  {
   "cell_type": "code",
   "execution_count": 210,
   "id": "672e738e-ffeb-4d21-83fe-d239ee29d57a",
   "metadata": {
    "tags": []
   },
   "outputs": [
    {
     "data": {
      "text/plain": [
       "Index(['age', 'gender', 'income', 'became_member_on', 'membership_duration',\n",
       "       'person', 'event', 'time', 'amount_spent', 'offer', 'offer_type',\n",
       "       'difficulty', 'duration', 'duration_hr', 'reward', 'channels', 'web',\n",
       "       'email', 'social', 'mobile', 'offer_received', 'time_received',\n",
       "       'offer_id', 'offer_viewed', 'time_viewed', 'offer_completed',\n",
       "       'time_completed', 'reward_received', 'received_viewed',\n",
       "       'viewed_completed', 'received_completed_diff', 'duration_diff',\n",
       "       'valid_complete', '_merge'],\n",
       "      dtype='object')"
      ]
     },
     "execution_count": 210,
     "metadata": {},
     "output_type": "execute_result"
    }
   ],
   "source": [
    "transaction_offers.columns"
   ]
  },
  {
   "cell_type": "code",
   "execution_count": 32,
   "id": "39365807-91a5-4664-8a67-e4581e9a7b68",
   "metadata": {
    "tags": []
   },
   "outputs": [
    {
     "data": {
      "text/html": [
       "<div>\n",
       "<style scoped>\n",
       "    .dataframe tbody tr th:only-of-type {\n",
       "        vertical-align: middle;\n",
       "    }\n",
       "\n",
       "    .dataframe tbody tr th {\n",
       "        vertical-align: top;\n",
       "    }\n",
       "\n",
       "    .dataframe thead th {\n",
       "        text-align: right;\n",
       "    }\n",
       "</style>\n",
       "<table border=\"1\" class=\"dataframe\">\n",
       "  <thead>\n",
       "    <tr style=\"text-align: right;\">\n",
       "      <th></th>\n",
       "      <th>age</th>\n",
       "      <th>gender</th>\n",
       "      <th>income</th>\n",
       "      <th>became_member_on</th>\n",
       "      <th>membership_duration</th>\n",
       "      <th>person</th>\n",
       "      <th>event</th>\n",
       "      <th>time</th>\n",
       "      <th>amount_spent</th>\n",
       "      <th>offer</th>\n",
       "      <th>...</th>\n",
       "      <th>offer_viewed</th>\n",
       "      <th>time_viewed</th>\n",
       "      <th>offer_completed</th>\n",
       "      <th>time_completed</th>\n",
       "      <th>reward_received</th>\n",
       "      <th>received_viewed</th>\n",
       "      <th>viewed_completed</th>\n",
       "      <th>received_completed_diff</th>\n",
       "      <th>duration_diff</th>\n",
       "      <th>valid_complete</th>\n",
       "    </tr>\n",
       "  </thead>\n",
       "  <tbody>\n",
       "    <tr>\n",
       "      <th>0</th>\n",
       "      <td>55</td>\n",
       "      <td>F</td>\n",
       "      <td>112000.0</td>\n",
       "      <td>2017-07-15</td>\n",
       "      <td>376</td>\n",
       "      <td>0610b486422d4921ae7d2bf64640c50b</td>\n",
       "      <td>transaction</td>\n",
       "      <td>18</td>\n",
       "      <td>21.51</td>\n",
       "      <td>3</td>\n",
       "      <td>...</td>\n",
       "      <td>0</td>\n",
       "      <td>0.0</td>\n",
       "      <td>0</td>\n",
       "      <td>0.0</td>\n",
       "      <td>0.0</td>\n",
       "      <td>-504.0</td>\n",
       "      <td>0.0</td>\n",
       "      <td>-504.0</td>\n",
       "      <td>600.0</td>\n",
       "      <td>0</td>\n",
       "    </tr>\n",
       "    <tr>\n",
       "      <th>1</th>\n",
       "      <td>55</td>\n",
       "      <td>F</td>\n",
       "      <td>112000.0</td>\n",
       "      <td>2017-07-15</td>\n",
       "      <td>376</td>\n",
       "      <td>0610b486422d4921ae7d2bf64640c50b</td>\n",
       "      <td>transaction</td>\n",
       "      <td>18</td>\n",
       "      <td>21.51</td>\n",
       "      <td>4</td>\n",
       "      <td>...</td>\n",
       "      <td>0</td>\n",
       "      <td>0.0</td>\n",
       "      <td>1</td>\n",
       "      <td>528.0</td>\n",
       "      <td>5.0</td>\n",
       "      <td>-408.0</td>\n",
       "      <td>528.0</td>\n",
       "      <td>120.0</td>\n",
       "      <td>48.0</td>\n",
       "      <td>0</td>\n",
       "    </tr>\n",
       "    <tr>\n",
       "      <th>6</th>\n",
       "      <td>75</td>\n",
       "      <td>F</td>\n",
       "      <td>100000.0</td>\n",
       "      <td>2017-05-09</td>\n",
       "      <td>443</td>\n",
       "      <td>78afa995795e4d85b5d9ceeca43f5fef</td>\n",
       "      <td>transaction</td>\n",
       "      <td>132</td>\n",
       "      <td>19.89</td>\n",
       "      <td>1</td>\n",
       "      <td>...</td>\n",
       "      <td>1</td>\n",
       "      <td>408.0</td>\n",
       "      <td>1</td>\n",
       "      <td>510.0</td>\n",
       "      <td>10.0</td>\n",
       "      <td>0.0</td>\n",
       "      <td>102.0</td>\n",
       "      <td>102.0</td>\n",
       "      <td>66.0</td>\n",
       "      <td>1</td>\n",
       "    </tr>\n",
       "    <tr>\n",
       "      <th>7</th>\n",
       "      <td>75</td>\n",
       "      <td>F</td>\n",
       "      <td>100000.0</td>\n",
       "      <td>2017-05-09</td>\n",
       "      <td>443</td>\n",
       "      <td>78afa995795e4d85b5d9ceeca43f5fef</td>\n",
       "      <td>transaction</td>\n",
       "      <td>132</td>\n",
       "      <td>19.89</td>\n",
       "      <td>4</td>\n",
       "      <td>...</td>\n",
       "      <td>1</td>\n",
       "      <td>6.0</td>\n",
       "      <td>1</td>\n",
       "      <td>132.0</td>\n",
       "      <td>5.0</td>\n",
       "      <td>6.0</td>\n",
       "      <td>126.0</td>\n",
       "      <td>132.0</td>\n",
       "      <td>36.0</td>\n",
       "      <td>1</td>\n",
       "    </tr>\n",
       "    <tr>\n",
       "      <th>8</th>\n",
       "      <td>75</td>\n",
       "      <td>F</td>\n",
       "      <td>100000.0</td>\n",
       "      <td>2017-05-09</td>\n",
       "      <td>443</td>\n",
       "      <td>78afa995795e4d85b5d9ceeca43f5fef</td>\n",
       "      <td>transaction</td>\n",
       "      <td>132</td>\n",
       "      <td>19.89</td>\n",
       "      <td>8</td>\n",
       "      <td>...</td>\n",
       "      <td>1</td>\n",
       "      <td>216.0</td>\n",
       "      <td>0</td>\n",
       "      <td>0.0</td>\n",
       "      <td>0.0</td>\n",
       "      <td>48.0</td>\n",
       "      <td>-216.0</td>\n",
       "      <td>-168.0</td>\n",
       "      <td>240.0</td>\n",
       "      <td>0</td>\n",
       "    </tr>\n",
       "  </tbody>\n",
       "</table>\n",
       "<p>5 rows × 33 columns</p>\n",
       "</div>"
      ],
      "text/plain": [
       "   age gender    income became_member_on  membership_duration  \\\n",
       "0   55      F  112000.0       2017-07-15                  376   \n",
       "1   55      F  112000.0       2017-07-15                  376   \n",
       "6   75      F  100000.0       2017-05-09                  443   \n",
       "7   75      F  100000.0       2017-05-09                  443   \n",
       "8   75      F  100000.0       2017-05-09                  443   \n",
       "\n",
       "                             person        event  time  amount_spent  offer  \\\n",
       "0  0610b486422d4921ae7d2bf64640c50b  transaction    18         21.51      3   \n",
       "1  0610b486422d4921ae7d2bf64640c50b  transaction    18         21.51      4   \n",
       "6  78afa995795e4d85b5d9ceeca43f5fef  transaction   132         19.89      1   \n",
       "7  78afa995795e4d85b5d9ceeca43f5fef  transaction   132         19.89      4   \n",
       "8  78afa995795e4d85b5d9ceeca43f5fef  transaction   132         19.89      8   \n",
       "\n",
       "   ... offer_viewed  time_viewed  offer_completed  time_completed  \\\n",
       "0  ...            0          0.0                0             0.0   \n",
       "1  ...            0          0.0                1           528.0   \n",
       "6  ...            1        408.0                1           510.0   \n",
       "7  ...            1          6.0                1           132.0   \n",
       "8  ...            1        216.0                0             0.0   \n",
       "\n",
       "   reward_received received_viewed  viewed_completed  received_completed_diff  \\\n",
       "0              0.0          -504.0               0.0                   -504.0   \n",
       "1              5.0          -408.0             528.0                    120.0   \n",
       "6             10.0             0.0             102.0                    102.0   \n",
       "7              5.0             6.0             126.0                    132.0   \n",
       "8              0.0            48.0            -216.0                   -168.0   \n",
       "\n",
       "   duration_diff  valid_complete  \n",
       "0          600.0               0  \n",
       "1           48.0               0  \n",
       "6           66.0               1  \n",
       "7           36.0               1  \n",
       "8          240.0               0  \n",
       "\n",
       "[5 rows x 33 columns]"
      ]
     },
     "execution_count": 32,
     "metadata": {},
     "output_type": "execute_result"
    }
   ],
   "source": [
    "transaction_offers.head()"
   ]
  },
  {
   "cell_type": "code",
   "execution_count": 212,
   "id": "c26ec7d7-39a6-4866-9464-18979daba8ab",
   "metadata": {
    "tags": []
   },
   "outputs": [],
   "source": [
    "# reward\tchannels\tdifficulty\tduration\toffer_type\tid\n",
    "# 1\t10\t[email, mobile, social]\t10\t7\tbogo\tae264e3637204a6fb9bb56bc8210ddfd\n",
    "# 2\t10\t[web, email, mobile, social]\t10\t5\tbogo\t4d5c57ea9a6940dd891ad53e9dbe8da0\n",
    "# 3\t0\t[web, email, mobile]\t0\t4\tinformational\t3f207df678b143eea3cee63160fa8bed\n",
    "# 4\t5\t[web, email, mobile]\t5\t7\tbogo\t9b98b8c7a33c4b65b9aebfe6a799e6d9\n",
    "# 5\t5\t[web, email]\t20\t10\tdiscount\t0b1e1539f2cc45b7b9fa7c272da2e1d7\n",
    "# 6\t3\t[web, email, mobile, social]\t7\t7\tdiscount\t2298d6c36e964ae4a3e7e9706d1fb8c2\n",
    "# 7\t2\t[web, email, mobile, social]\t10\t10\tdiscount\tfafdcd668e3743c1bb461111dcafc2a4\n",
    "# 8\t0\t[email, mobile, social]\t0\t3\tinformational\t5a8bc65990b245e5a138643cd4eb9837\n",
    "# 9\t5\t[web, email, mobile, social]\t5\t5\tbogo\tf19421c1d4aa40978ebb69ca19b0e20d\n",
    "# 10\t2\t[web, email, mobile]\t10\t7\tdiscount\t2906b810c7d4411798c6938adc9daaa5"
   ]
  },
  {
   "cell_type": "markdown",
   "id": "15c5b609-e3e0-40f8-8d39-8cb40a063459",
   "metadata": {},
   "source": [
    "> BOGO offers - Transaction time should be equal to the time the offer was completed."
   ]
  },
  {
   "cell_type": "code",
   "execution_count": 33,
   "id": "8a4238b3-733a-45dd-8987-f3aba3cbdce1",
   "metadata": {
    "tags": []
   },
   "outputs": [],
   "source": [
    "time_anomaly = transaction_offers[(transaction_offers.offer_type == 'bogo') & (transaction_offers.offer_completed == 1) & (transaction_offers.time != transaction_offers.time_completed)].index\n",
    "transaction_offers.drop(index = time_anomaly, inplace = True)"
   ]
  },
  {
   "cell_type": "markdown",
   "id": "050c1eb0-3329-4760-9c0f-0c10051d57c6",
   "metadata": {},
   "source": [
    "> Discount offers - Transaction time should be equal to the time the offer was completed."
   ]
  },
  {
   "cell_type": "code",
   "execution_count": 34,
   "id": "7338a3bb-bb4d-45a5-b3d3-6900527b0b9c",
   "metadata": {
    "tags": []
   },
   "outputs": [],
   "source": [
    "more_time_anomaly = transaction_offers[(transaction_offers.offer_type == 'discount') & (transaction_offers.offer_completed == 1) & (transaction_offers.time != transaction_offers.time_completed)].index\n",
    "transaction_offers.drop(index = more_time_anomaly, inplace = True)"
   ]
  },
  {
   "cell_type": "markdown",
   "id": "aa29ba34-5f1b-4445-b518-e1cdb222e199",
   "metadata": {},
   "source": [
    "> Informational offers - The transaction time should not be less than the time_received."
   ]
  },
  {
   "cell_type": "code",
   "execution_count": 35,
   "id": "f9ae8453-05c3-45f4-a910-3e5e3041701d",
   "metadata": {
    "tags": []
   },
   "outputs": [],
   "source": [
    "inconsistent = transaction_offers[(transaction_offers.offer_type == 'informational') & (transaction_offers.time < transaction_offers.time_received)].index\n",
    "transaction_offers.drop(index = inconsistent, inplace = True)"
   ]
  },
  {
   "cell_type": "code",
   "execution_count": 36,
   "id": "1f0c08b0-035b-4456-b549-2d183af47b1d",
   "metadata": {
    "tags": []
   },
   "outputs": [
    {
     "data": {
      "text/plain": [
       "(20936, 33)"
      ]
     },
     "execution_count": 36,
     "metadata": {},
     "output_type": "execute_result"
    }
   ],
   "source": [
    "transaction_offers.shape"
   ]
  },
  {
   "cell_type": "code",
   "execution_count": 37,
   "id": "50e7b6bb-122b-446c-bc83-85766ec321ee",
   "metadata": {
    "tags": []
   },
   "outputs": [
    {
     "data": {
      "text/plain": [
       "bogo             9354\n",
       "discount         8378\n",
       "informational    3204\n",
       "Name: offer_type, dtype: int64"
      ]
     },
     "execution_count": 37,
     "metadata": {},
     "output_type": "execute_result"
    }
   ],
   "source": [
    "transaction_offers['offer_type'].value_counts()"
   ]
  },
  {
   "cell_type": "code",
   "execution_count": 38,
   "id": "d1f5cf33-861f-4ad9-b30b-b2898d351356",
   "metadata": {
    "tags": []
   },
   "outputs": [
    {
     "data": {
      "text/plain": [
       "discount         19376\n",
       "bogo             17992\n",
       "informational    11667\n",
       "Name: offer_type, dtype: int64"
      ]
     },
     "execution_count": 38,
     "metadata": {},
     "output_type": "execute_result"
    }
   ],
   "source": [
    "complete_df['offer_type'].value_counts()"
   ]
  },
  {
   "cell_type": "code",
   "execution_count": 39,
   "id": "0683c921-322f-426f-ad69-8f4fa6a4288d",
   "metadata": {},
   "outputs": [],
   "source": [
    "# informational    69092\n",
    "# discount         15787\n",
    "# bogo             13160\n",
    "# Name: offer_type, dtype: int64"
   ]
  },
  {
   "cell_type": "code",
   "execution_count": 56,
   "id": "d2908389-b089-4b5c-9ba1-31b18537f8d2",
   "metadata": {
    "tags": []
   },
   "outputs": [
    {
     "data": {
      "text/html": [
       "<div>\n",
       "<style scoped>\n",
       "    .dataframe tbody tr th:only-of-type {\n",
       "        vertical-align: middle;\n",
       "    }\n",
       "\n",
       "    .dataframe tbody tr th {\n",
       "        vertical-align: top;\n",
       "    }\n",
       "\n",
       "    .dataframe thead th {\n",
       "        text-align: right;\n",
       "    }\n",
       "</style>\n",
       "<table border=\"1\" class=\"dataframe\">\n",
       "  <thead>\n",
       "    <tr style=\"text-align: right;\">\n",
       "      <th></th>\n",
       "      <th>person</th>\n",
       "      <th>offer</th>\n",
       "      <th>offer_id</th>\n",
       "      <th>time</th>\n",
       "      <th>duration</th>\n",
       "      <th>duration_hr</th>\n",
       "      <th>time_received</th>\n",
       "      <th>time_viewed</th>\n",
       "      <th>time_completed</th>\n",
       "      <th>amount_spent</th>\n",
       "    </tr>\n",
       "  </thead>\n",
       "  <tbody>\n",
       "    <tr>\n",
       "      <th>4</th>\n",
       "      <td>0610b486422d4921ae7d2bf64640c50b</td>\n",
       "      <td>3</td>\n",
       "      <td>3f207df678b143eea3cee63160fa8bed</td>\n",
       "      <td>528</td>\n",
       "      <td>4</td>\n",
       "      <td>96</td>\n",
       "      <td>504</td>\n",
       "      <td>0.0</td>\n",
       "      <td>0.0</td>\n",
       "      <td>23.22</td>\n",
       "    </tr>\n",
       "    <tr>\n",
       "      <th>14</th>\n",
       "      <td>78afa995795e4d85b5d9ceeca43f5fef</td>\n",
       "      <td>8</td>\n",
       "      <td>5a8bc65990b245e5a138643cd4eb9837</td>\n",
       "      <td>222</td>\n",
       "      <td>3</td>\n",
       "      <td>72</td>\n",
       "      <td>168</td>\n",
       "      <td>216.0</td>\n",
       "      <td>0.0</td>\n",
       "      <td>19.67</td>\n",
       "    </tr>\n",
       "    <tr>\n",
       "      <th>17</th>\n",
       "      <td>78afa995795e4d85b5d9ceeca43f5fef</td>\n",
       "      <td>8</td>\n",
       "      <td>5a8bc65990b245e5a138643cd4eb9837</td>\n",
       "      <td>240</td>\n",
       "      <td>3</td>\n",
       "      <td>72</td>\n",
       "      <td>168</td>\n",
       "      <td>216.0</td>\n",
       "      <td>0.0</td>\n",
       "      <td>29.72</td>\n",
       "    </tr>\n",
       "    <tr>\n",
       "      <th>20</th>\n",
       "      <td>78afa995795e4d85b5d9ceeca43f5fef</td>\n",
       "      <td>8</td>\n",
       "      <td>5a8bc65990b245e5a138643cd4eb9837</td>\n",
       "      <td>378</td>\n",
       "      <td>3</td>\n",
       "      <td>72</td>\n",
       "      <td>168</td>\n",
       "      <td>216.0</td>\n",
       "      <td>0.0</td>\n",
       "      <td>23.93</td>\n",
       "    </tr>\n",
       "    <tr>\n",
       "      <th>23</th>\n",
       "      <td>78afa995795e4d85b5d9ceeca43f5fef</td>\n",
       "      <td>8</td>\n",
       "      <td>5a8bc65990b245e5a138643cd4eb9837</td>\n",
       "      <td>510</td>\n",
       "      <td>3</td>\n",
       "      <td>72</td>\n",
       "      <td>168</td>\n",
       "      <td>216.0</td>\n",
       "      <td>0.0</td>\n",
       "      <td>21.72</td>\n",
       "    </tr>\n",
       "    <tr>\n",
       "      <th>...</th>\n",
       "      <td>...</td>\n",
       "      <td>...</td>\n",
       "      <td>...</td>\n",
       "      <td>...</td>\n",
       "      <td>...</td>\n",
       "      <td>...</td>\n",
       "      <td>...</td>\n",
       "      <td>...</td>\n",
       "      <td>...</td>\n",
       "      <td>...</td>\n",
       "    </tr>\n",
       "    <tr>\n",
       "      <th>520773</th>\n",
       "      <td>01d26f638c274aa0b965d24cefe3183f</td>\n",
       "      <td>8</td>\n",
       "      <td>5a8bc65990b245e5a138643cd4eb9837</td>\n",
       "      <td>672</td>\n",
       "      <td>3</td>\n",
       "      <td>72</td>\n",
       "      <td>336</td>\n",
       "      <td>396.0</td>\n",
       "      <td>0.0</td>\n",
       "      <td>4.16</td>\n",
       "    </tr>\n",
       "    <tr>\n",
       "      <th>520797</th>\n",
       "      <td>e4052622e5ba45a8b96b59aba68cf068</td>\n",
       "      <td>3</td>\n",
       "      <td>3f207df678b143eea3cee63160fa8bed</td>\n",
       "      <td>480</td>\n",
       "      <td>4</td>\n",
       "      <td>96</td>\n",
       "      <td>336</td>\n",
       "      <td>0.0</td>\n",
       "      <td>0.0</td>\n",
       "      <td>30.57</td>\n",
       "    </tr>\n",
       "    <tr>\n",
       "      <th>520800</th>\n",
       "      <td>e4052622e5ba45a8b96b59aba68cf068</td>\n",
       "      <td>3</td>\n",
       "      <td>3f207df678b143eea3cee63160fa8bed</td>\n",
       "      <td>486</td>\n",
       "      <td>4</td>\n",
       "      <td>96</td>\n",
       "      <td>336</td>\n",
       "      <td>0.0</td>\n",
       "      <td>0.0</td>\n",
       "      <td>19.47</td>\n",
       "    </tr>\n",
       "    <tr>\n",
       "      <th>520803</th>\n",
       "      <td>e4052622e5ba45a8b96b59aba68cf068</td>\n",
       "      <td>3</td>\n",
       "      <td>3f207df678b143eea3cee63160fa8bed</td>\n",
       "      <td>690</td>\n",
       "      <td>4</td>\n",
       "      <td>96</td>\n",
       "      <td>336</td>\n",
       "      <td>0.0</td>\n",
       "      <td>0.0</td>\n",
       "      <td>24.71</td>\n",
       "    </tr>\n",
       "    <tr>\n",
       "      <th>520804</th>\n",
       "      <td>e4052622e5ba45a8b96b59aba68cf068</td>\n",
       "      <td>3</td>\n",
       "      <td>3f207df678b143eea3cee63160fa8bed</td>\n",
       "      <td>690</td>\n",
       "      <td>4</td>\n",
       "      <td>96</td>\n",
       "      <td>576</td>\n",
       "      <td>0.0</td>\n",
       "      <td>0.0</td>\n",
       "      <td>24.71</td>\n",
       "    </tr>\n",
       "  </tbody>\n",
       "</table>\n",
       "<p>69092 rows × 10 columns</p>\n",
       "</div>"
      ],
      "text/plain": [
       "                                  person  offer  \\\n",
       "4       0610b486422d4921ae7d2bf64640c50b      3   \n",
       "14      78afa995795e4d85b5d9ceeca43f5fef      8   \n",
       "17      78afa995795e4d85b5d9ceeca43f5fef      8   \n",
       "20      78afa995795e4d85b5d9ceeca43f5fef      8   \n",
       "23      78afa995795e4d85b5d9ceeca43f5fef      8   \n",
       "...                                  ...    ...   \n",
       "520773  01d26f638c274aa0b965d24cefe3183f      8   \n",
       "520797  e4052622e5ba45a8b96b59aba68cf068      3   \n",
       "520800  e4052622e5ba45a8b96b59aba68cf068      3   \n",
       "520803  e4052622e5ba45a8b96b59aba68cf068      3   \n",
       "520804  e4052622e5ba45a8b96b59aba68cf068      3   \n",
       "\n",
       "                                offer_id  time  duration  duration_hr  \\\n",
       "4       3f207df678b143eea3cee63160fa8bed   528         4           96   \n",
       "14      5a8bc65990b245e5a138643cd4eb9837   222         3           72   \n",
       "17      5a8bc65990b245e5a138643cd4eb9837   240         3           72   \n",
       "20      5a8bc65990b245e5a138643cd4eb9837   378         3           72   \n",
       "23      5a8bc65990b245e5a138643cd4eb9837   510         3           72   \n",
       "...                                  ...   ...       ...          ...   \n",
       "520773  5a8bc65990b245e5a138643cd4eb9837   672         3           72   \n",
       "520797  3f207df678b143eea3cee63160fa8bed   480         4           96   \n",
       "520800  3f207df678b143eea3cee63160fa8bed   486         4           96   \n",
       "520803  3f207df678b143eea3cee63160fa8bed   690         4           96   \n",
       "520804  3f207df678b143eea3cee63160fa8bed   690         4           96   \n",
       "\n",
       "        time_received  time_viewed  time_completed  amount_spent  \n",
       "4                 504          0.0             0.0         23.22  \n",
       "14                168        216.0             0.0         19.67  \n",
       "17                168        216.0             0.0         29.72  \n",
       "20                168        216.0             0.0         23.93  \n",
       "23                168        216.0             0.0         21.72  \n",
       "...               ...          ...             ...           ...  \n",
       "520773            336        396.0             0.0          4.16  \n",
       "520797            336          0.0             0.0         30.57  \n",
       "520800            336          0.0             0.0         19.47  \n",
       "520803            336          0.0             0.0         24.71  \n",
       "520804            576          0.0             0.0         24.71  \n",
       "\n",
       "[69092 rows x 10 columns]"
      ]
     },
     "execution_count": 56,
     "metadata": {},
     "output_type": "execute_result"
    }
   ],
   "source": [
    "transaction_offers[transaction_offers.offer_type == 'informational'][['person', 'offer', 'offer_id', 'time', 'duration', 'duration_hr', 'time_received', 'time_viewed',  'time_completed', 'amount_spent']]"
   ]
  },
  {
   "cell_type": "code",
   "execution_count": null,
   "id": "91d069d2-1e20-44b6-bfe8-4fb5287c3aa9",
   "metadata": {},
   "outputs": [],
   "source": [
    "# informational should only have offer # 3 and 8\n",
    "# informational should have the same duration\n"
   ]
  },
  {
   "cell_type": "code",
   "execution_count": 79,
   "id": "76d17a40-b5cb-45de-a279-4f982286ff3b",
   "metadata": {
    "tags": []
   },
   "outputs": [],
   "source": [
    "# transaction_offers.to_csv('data/transaction_offers.csv', index = False)"
   ]
  },
  {
   "cell_type": "code",
   "execution_count": 80,
   "id": "e50b66c3-8564-4085-ac10-a9e84ed817c0",
   "metadata": {},
   "outputs": [
    {
     "data": {
      "text/html": [
       "<div>\n",
       "<style scoped>\n",
       "    .dataframe tbody tr th:only-of-type {\n",
       "        vertical-align: middle;\n",
       "    }\n",
       "\n",
       "    .dataframe tbody tr th {\n",
       "        vertical-align: top;\n",
       "    }\n",
       "\n",
       "    .dataframe thead th {\n",
       "        text-align: right;\n",
       "    }\n",
       "</style>\n",
       "<table border=\"1\" class=\"dataframe\">\n",
       "  <thead>\n",
       "    <tr style=\"text-align: right;\">\n",
       "      <th></th>\n",
       "      <th>age</th>\n",
       "      <th>gender</th>\n",
       "      <th>income</th>\n",
       "      <th>became_member_on</th>\n",
       "      <th>membership_duration</th>\n",
       "      <th>person</th>\n",
       "      <th>event</th>\n",
       "      <th>time</th>\n",
       "      <th>amount_spent</th>\n",
       "      <th>offer</th>\n",
       "      <th>...</th>\n",
       "      <th>offer_completed</th>\n",
       "      <th>time_completed</th>\n",
       "      <th>reward_received</th>\n",
       "      <th>received_viewed</th>\n",
       "      <th>viewed_completed</th>\n",
       "      <th>received_completed_diff</th>\n",
       "      <th>duration_diff</th>\n",
       "      <th>valid_complete</th>\n",
       "      <th>completed</th>\n",
       "      <th>label</th>\n",
       "    </tr>\n",
       "  </thead>\n",
       "  <tbody>\n",
       "    <tr>\n",
       "      <th>7</th>\n",
       "      <td>75</td>\n",
       "      <td>F</td>\n",
       "      <td>100000.0</td>\n",
       "      <td>2017-05-09</td>\n",
       "      <td>443</td>\n",
       "      <td>78afa995795e4d85b5d9ceeca43f5fef</td>\n",
       "      <td>transaction</td>\n",
       "      <td>132</td>\n",
       "      <td>19.89</td>\n",
       "      <td>4</td>\n",
       "      <td>...</td>\n",
       "      <td>1</td>\n",
       "      <td>132.0</td>\n",
       "      <td>5.0</td>\n",
       "      <td>6.0</td>\n",
       "      <td>126.0</td>\n",
       "      <td>132.0</td>\n",
       "      <td>36.0</td>\n",
       "      <td>1</td>\n",
       "      <td>1.0</td>\n",
       "      <td>bogo buyers</td>\n",
       "    </tr>\n",
       "    <tr>\n",
       "      <th>37</th>\n",
       "      <td>65</td>\n",
       "      <td>M</td>\n",
       "      <td>53000.0</td>\n",
       "      <td>2018-02-09</td>\n",
       "      <td>167</td>\n",
       "      <td>389bc3fa690240e798340f5a15918d5c</td>\n",
       "      <td>transaction</td>\n",
       "      <td>60</td>\n",
       "      <td>9.54</td>\n",
       "      <td>9</td>\n",
       "      <td>...</td>\n",
       "      <td>1</td>\n",
       "      <td>60.0</td>\n",
       "      <td>5.0</td>\n",
       "      <td>0.0</td>\n",
       "      <td>60.0</td>\n",
       "      <td>60.0</td>\n",
       "      <td>60.0</td>\n",
       "      <td>1</td>\n",
       "      <td>1.0</td>\n",
       "      <td>bogo buyers</td>\n",
       "    </tr>\n",
       "    <tr>\n",
       "      <th>45</th>\n",
       "      <td>58</td>\n",
       "      <td>M</td>\n",
       "      <td>51000.0</td>\n",
       "      <td>2017-11-11</td>\n",
       "      <td>257</td>\n",
       "      <td>2eeac8d8feae4a8cad5a6af0499a211d</td>\n",
       "      <td>transaction</td>\n",
       "      <td>216</td>\n",
       "      <td>2.32</td>\n",
       "      <td>3</td>\n",
       "      <td>...</td>\n",
       "      <td>0</td>\n",
       "      <td>0.0</td>\n",
       "      <td>0.0</td>\n",
       "      <td>0.0</td>\n",
       "      <td>0.0</td>\n",
       "      <td>0.0</td>\n",
       "      <td>96.0</td>\n",
       "      <td>0</td>\n",
       "      <td>0.0</td>\n",
       "      <td>buy without offer</td>\n",
       "    </tr>\n",
       "    <tr>\n",
       "      <th>46</th>\n",
       "      <td>58</td>\n",
       "      <td>M</td>\n",
       "      <td>51000.0</td>\n",
       "      <td>2017-11-11</td>\n",
       "      <td>257</td>\n",
       "      <td>2eeac8d8feae4a8cad5a6af0499a211d</td>\n",
       "      <td>transaction</td>\n",
       "      <td>216</td>\n",
       "      <td>2.32</td>\n",
       "      <td>6</td>\n",
       "      <td>...</td>\n",
       "      <td>0</td>\n",
       "      <td>0.0</td>\n",
       "      <td>0.0</td>\n",
       "      <td>0.0</td>\n",
       "      <td>-168.0</td>\n",
       "      <td>-168.0</td>\n",
       "      <td>336.0</td>\n",
       "      <td>0</td>\n",
       "      <td>0.0</td>\n",
       "      <td>buy without offer</td>\n",
       "    </tr>\n",
       "    <tr>\n",
       "      <th>57</th>\n",
       "      <td>61</td>\n",
       "      <td>F</td>\n",
       "      <td>57000.0</td>\n",
       "      <td>2017-09-11</td>\n",
       "      <td>318</td>\n",
       "      <td>aa4862eba776480b8bb9c68455b8c2e1</td>\n",
       "      <td>transaction</td>\n",
       "      <td>210</td>\n",
       "      <td>12.33</td>\n",
       "      <td>2</td>\n",
       "      <td>...</td>\n",
       "      <td>1</td>\n",
       "      <td>210.0</td>\n",
       "      <td>10.0</td>\n",
       "      <td>0.0</td>\n",
       "      <td>42.0</td>\n",
       "      <td>42.0</td>\n",
       "      <td>78.0</td>\n",
       "      <td>1</td>\n",
       "      <td>1.0</td>\n",
       "      <td>bogo buyers</td>\n",
       "    </tr>\n",
       "  </tbody>\n",
       "</table>\n",
       "<p>5 rows × 35 columns</p>\n",
       "</div>"
      ],
      "text/plain": [
       "    age gender    income became_member_on  membership_duration  \\\n",
       "7    75      F  100000.0       2017-05-09                  443   \n",
       "37   65      M   53000.0       2018-02-09                  167   \n",
       "45   58      M   51000.0       2017-11-11                  257   \n",
       "46   58      M   51000.0       2017-11-11                  257   \n",
       "57   61      F   57000.0       2017-09-11                  318   \n",
       "\n",
       "                              person        event  time  amount_spent  offer  \\\n",
       "7   78afa995795e4d85b5d9ceeca43f5fef  transaction   132         19.89      4   \n",
       "37  389bc3fa690240e798340f5a15918d5c  transaction    60          9.54      9   \n",
       "45  2eeac8d8feae4a8cad5a6af0499a211d  transaction   216          2.32      3   \n",
       "46  2eeac8d8feae4a8cad5a6af0499a211d  transaction   216          2.32      6   \n",
       "57  aa4862eba776480b8bb9c68455b8c2e1  transaction   210         12.33      2   \n",
       "\n",
       "    ... offer_completed  time_completed  reward_received  received_viewed  \\\n",
       "7   ...               1           132.0              5.0              6.0   \n",
       "37  ...               1            60.0              5.0              0.0   \n",
       "45  ...               0             0.0              0.0              0.0   \n",
       "46  ...               0             0.0              0.0              0.0   \n",
       "57  ...               1           210.0             10.0              0.0   \n",
       "\n",
       "    viewed_completed received_completed_diff  duration_diff  valid_complete  \\\n",
       "7              126.0                   132.0           36.0               1   \n",
       "37              60.0                    60.0           60.0               1   \n",
       "45               0.0                     0.0           96.0               0   \n",
       "46            -168.0                  -168.0          336.0               0   \n",
       "57              42.0                    42.0           78.0               1   \n",
       "\n",
       "    completed              label  \n",
       "7         1.0        bogo buyers  \n",
       "37        1.0        bogo buyers  \n",
       "45        0.0  buy without offer  \n",
       "46        0.0  buy without offer  \n",
       "57        1.0        bogo buyers  \n",
       "\n",
       "[5 rows x 35 columns]"
      ]
     },
     "execution_count": 80,
     "metadata": {},
     "output_type": "execute_result"
    }
   ],
   "source": [
    "transaction_offers.head()"
   ]
  },
  {
   "cell_type": "code",
   "execution_count": 81,
   "id": "51394f67-07b9-42eb-8b86-b50ef2fc01e2",
   "metadata": {
    "tags": []
   },
   "outputs": [],
   "source": [
    "# Transactions with no offer"
   ]
  },
  {
   "cell_type": "code",
   "execution_count": 82,
   "id": "75c765fc-a9cb-493a-b6b8-e976347b7fea",
   "metadata": {
    "tags": []
   },
   "outputs": [],
   "source": [
    "view_offer_before_receiving = transaction_offers[transaction_offers.time < transaction_offers.time_received]"
   ]
  },
  {
   "cell_type": "code",
   "execution_count": 83,
   "id": "e521438a-6db8-45c2-a0e8-d0586fc2d0c9",
   "metadata": {
    "tags": []
   },
   "outputs": [
    {
     "data": {
      "text/plain": [
       "0    10950\n",
       "Name: valid_complete, dtype: int64"
      ]
     },
     "execution_count": 83,
     "metadata": {},
     "output_type": "execute_result"
    }
   ],
   "source": [
    "view_offer_before_receiving['valid_complete'].value_counts()"
   ]
  },
  {
   "cell_type": "code",
   "execution_count": 84,
   "id": "d461f217-05e3-4b19-9d3b-cf9a23d3069b",
   "metadata": {
    "tags": []
   },
   "outputs": [],
   "source": [
    "# Completed Transactions With BOGO"
   ]
  },
  {
   "cell_type": "code",
   "execution_count": 85,
   "id": "c5b0e21a-9c9b-4918-a0b0-ad48450d72d4",
   "metadata": {
    "tags": []
   },
   "outputs": [],
   "source": [
    "transaction_viewed_complete_bogo_offer = transaction_offers[(transaction_offers.offer_type == 'bogo') & (transaction_offers.time == transaction_offers.time_completed) & (transaction_offers.valid_complete == 1)]"
   ]
  },
  {
   "cell_type": "code",
   "execution_count": 86,
   "id": "8ba36d0e-3d08-4019-9c4d-9b225b6d58ab",
   "metadata": {
    "tags": []
   },
   "outputs": [
    {
     "data": {
      "text/html": [
       "<div>\n",
       "<style scoped>\n",
       "    .dataframe tbody tr th:only-of-type {\n",
       "        vertical-align: middle;\n",
       "    }\n",
       "\n",
       "    .dataframe tbody tr th {\n",
       "        vertical-align: top;\n",
       "    }\n",
       "\n",
       "    .dataframe thead th {\n",
       "        text-align: right;\n",
       "    }\n",
       "</style>\n",
       "<table border=\"1\" class=\"dataframe\">\n",
       "  <thead>\n",
       "    <tr style=\"text-align: right;\">\n",
       "      <th></th>\n",
       "      <th>age</th>\n",
       "      <th>gender</th>\n",
       "      <th>income</th>\n",
       "      <th>became_member_on</th>\n",
       "      <th>membership_duration</th>\n",
       "      <th>person</th>\n",
       "      <th>event</th>\n",
       "      <th>time</th>\n",
       "      <th>amount_spent</th>\n",
       "      <th>offer</th>\n",
       "      <th>...</th>\n",
       "      <th>offer_completed</th>\n",
       "      <th>time_completed</th>\n",
       "      <th>reward_received</th>\n",
       "      <th>received_viewed</th>\n",
       "      <th>viewed_completed</th>\n",
       "      <th>received_completed_diff</th>\n",
       "      <th>duration_diff</th>\n",
       "      <th>valid_complete</th>\n",
       "      <th>completed</th>\n",
       "      <th>label</th>\n",
       "    </tr>\n",
       "  </thead>\n",
       "  <tbody>\n",
       "    <tr>\n",
       "      <th>7</th>\n",
       "      <td>75</td>\n",
       "      <td>F</td>\n",
       "      <td>100000.0</td>\n",
       "      <td>2017-05-09</td>\n",
       "      <td>443</td>\n",
       "      <td>78afa995795e4d85b5d9ceeca43f5fef</td>\n",
       "      <td>transaction</td>\n",
       "      <td>132</td>\n",
       "      <td>19.89</td>\n",
       "      <td>4</td>\n",
       "      <td>...</td>\n",
       "      <td>1</td>\n",
       "      <td>132.0</td>\n",
       "      <td>5.0</td>\n",
       "      <td>6.0</td>\n",
       "      <td>126.0</td>\n",
       "      <td>132.0</td>\n",
       "      <td>36.0</td>\n",
       "      <td>1</td>\n",
       "      <td>1.0</td>\n",
       "      <td>bogo buyers</td>\n",
       "    </tr>\n",
       "    <tr>\n",
       "      <th>37</th>\n",
       "      <td>65</td>\n",
       "      <td>M</td>\n",
       "      <td>53000.0</td>\n",
       "      <td>2018-02-09</td>\n",
       "      <td>167</td>\n",
       "      <td>389bc3fa690240e798340f5a15918d5c</td>\n",
       "      <td>transaction</td>\n",
       "      <td>60</td>\n",
       "      <td>9.54</td>\n",
       "      <td>9</td>\n",
       "      <td>...</td>\n",
       "      <td>1</td>\n",
       "      <td>60.0</td>\n",
       "      <td>5.0</td>\n",
       "      <td>0.0</td>\n",
       "      <td>60.0</td>\n",
       "      <td>60.0</td>\n",
       "      <td>60.0</td>\n",
       "      <td>1</td>\n",
       "      <td>1.0</td>\n",
       "      <td>bogo buyers</td>\n",
       "    </tr>\n",
       "    <tr>\n",
       "      <th>57</th>\n",
       "      <td>61</td>\n",
       "      <td>F</td>\n",
       "      <td>57000.0</td>\n",
       "      <td>2017-09-11</td>\n",
       "      <td>318</td>\n",
       "      <td>aa4862eba776480b8bb9c68455b8c2e1</td>\n",
       "      <td>transaction</td>\n",
       "      <td>210</td>\n",
       "      <td>12.33</td>\n",
       "      <td>2</td>\n",
       "      <td>...</td>\n",
       "      <td>1</td>\n",
       "      <td>210.0</td>\n",
       "      <td>10.0</td>\n",
       "      <td>0.0</td>\n",
       "      <td>42.0</td>\n",
       "      <td>42.0</td>\n",
       "      <td>78.0</td>\n",
       "      <td>1</td>\n",
       "      <td>1.0</td>\n",
       "      <td>bogo buyers</td>\n",
       "    </tr>\n",
       "    <tr>\n",
       "      <th>441</th>\n",
       "      <td>22</td>\n",
       "      <td>M</td>\n",
       "      <td>70000.0</td>\n",
       "      <td>2017-09-25</td>\n",
       "      <td>304</td>\n",
       "      <td>1e9420836d554513ab90eba98552d0a9</td>\n",
       "      <td>transaction</td>\n",
       "      <td>198</td>\n",
       "      <td>17.11</td>\n",
       "      <td>2</td>\n",
       "      <td>...</td>\n",
       "      <td>1</td>\n",
       "      <td>198.0</td>\n",
       "      <td>10.0</td>\n",
       "      <td>6.0</td>\n",
       "      <td>24.0</td>\n",
       "      <td>30.0</td>\n",
       "      <td>90.0</td>\n",
       "      <td>1</td>\n",
       "      <td>1.0</td>\n",
       "      <td>bogo buyers</td>\n",
       "    </tr>\n",
       "    <tr>\n",
       "      <th>528</th>\n",
       "      <td>69</td>\n",
       "      <td>F</td>\n",
       "      <td>57000.0</td>\n",
       "      <td>2016-08-14</td>\n",
       "      <td>711</td>\n",
       "      <td>102e9454054946fda62242d2e176fdce</td>\n",
       "      <td>transaction</td>\n",
       "      <td>6</td>\n",
       "      <td>19.88</td>\n",
       "      <td>2</td>\n",
       "      <td>...</td>\n",
       "      <td>1</td>\n",
       "      <td>6.0</td>\n",
       "      <td>10.0</td>\n",
       "      <td>0.0</td>\n",
       "      <td>6.0</td>\n",
       "      <td>6.0</td>\n",
       "      <td>114.0</td>\n",
       "      <td>1</td>\n",
       "      <td>1.0</td>\n",
       "      <td>bogo buyers</td>\n",
       "    </tr>\n",
       "    <tr>\n",
       "      <th>...</th>\n",
       "      <td>...</td>\n",
       "      <td>...</td>\n",
       "      <td>...</td>\n",
       "      <td>...</td>\n",
       "      <td>...</td>\n",
       "      <td>...</td>\n",
       "      <td>...</td>\n",
       "      <td>...</td>\n",
       "      <td>...</td>\n",
       "      <td>...</td>\n",
       "      <td>...</td>\n",
       "      <td>...</td>\n",
       "      <td>...</td>\n",
       "      <td>...</td>\n",
       "      <td>...</td>\n",
       "      <td>...</td>\n",
       "      <td>...</td>\n",
       "      <td>...</td>\n",
       "      <td>...</td>\n",
       "      <td>...</td>\n",
       "      <td>...</td>\n",
       "    </tr>\n",
       "    <tr>\n",
       "      <th>416816</th>\n",
       "      <td>51</td>\n",
       "      <td>M</td>\n",
       "      <td>79000.0</td>\n",
       "      <td>2018-02-08</td>\n",
       "      <td>168</td>\n",
       "      <td>d5d487cfdc5b456b84b7881ad5d3640b</td>\n",
       "      <td>transaction</td>\n",
       "      <td>0</td>\n",
       "      <td>17.50</td>\n",
       "      <td>9</td>\n",
       "      <td>...</td>\n",
       "      <td>1</td>\n",
       "      <td>0.0</td>\n",
       "      <td>5.0</td>\n",
       "      <td>54.0</td>\n",
       "      <td>-54.0</td>\n",
       "      <td>0.0</td>\n",
       "      <td>120.0</td>\n",
       "      <td>1</td>\n",
       "      <td>1.0</td>\n",
       "      <td>bogo buyers</td>\n",
       "    </tr>\n",
       "    <tr>\n",
       "      <th>416996</th>\n",
       "      <td>37</td>\n",
       "      <td>M</td>\n",
       "      <td>60000.0</td>\n",
       "      <td>2017-01-24</td>\n",
       "      <td>548</td>\n",
       "      <td>986d627671cc4bcf933079194b5f4f77</td>\n",
       "      <td>transaction</td>\n",
       "      <td>48</td>\n",
       "      <td>11.40</td>\n",
       "      <td>2</td>\n",
       "      <td>...</td>\n",
       "      <td>1</td>\n",
       "      <td>48.0</td>\n",
       "      <td>10.0</td>\n",
       "      <td>6.0</td>\n",
       "      <td>42.0</td>\n",
       "      <td>48.0</td>\n",
       "      <td>72.0</td>\n",
       "      <td>1</td>\n",
       "      <td>1.0</td>\n",
       "      <td>bogo buyers</td>\n",
       "    </tr>\n",
       "    <tr>\n",
       "      <th>417669</th>\n",
       "      <td>54</td>\n",
       "      <td>M</td>\n",
       "      <td>53000.0</td>\n",
       "      <td>2015-06-26</td>\n",
       "      <td>1126</td>\n",
       "      <td>cec1cdc6b77e41abbdce8903c5522e7e</td>\n",
       "      <td>transaction</td>\n",
       "      <td>84</td>\n",
       "      <td>19.70</td>\n",
       "      <td>9</td>\n",
       "      <td>...</td>\n",
       "      <td>1</td>\n",
       "      <td>84.0</td>\n",
       "      <td>5.0</td>\n",
       "      <td>30.0</td>\n",
       "      <td>54.0</td>\n",
       "      <td>84.0</td>\n",
       "      <td>36.0</td>\n",
       "      <td>1</td>\n",
       "      <td>1.0</td>\n",
       "      <td>bogo buyers</td>\n",
       "    </tr>\n",
       "    <tr>\n",
       "      <th>417852</th>\n",
       "      <td>39</td>\n",
       "      <td>F</td>\n",
       "      <td>54000.0</td>\n",
       "      <td>2016-09-21</td>\n",
       "      <td>673</td>\n",
       "      <td>122c0c2a3c2540848f8c3fdc37e97639</td>\n",
       "      <td>transaction</td>\n",
       "      <td>36</td>\n",
       "      <td>26.93</td>\n",
       "      <td>2</td>\n",
       "      <td>...</td>\n",
       "      <td>1</td>\n",
       "      <td>36.0</td>\n",
       "      <td>10.0</td>\n",
       "      <td>6.0</td>\n",
       "      <td>30.0</td>\n",
       "      <td>36.0</td>\n",
       "      <td>84.0</td>\n",
       "      <td>1</td>\n",
       "      <td>1.0</td>\n",
       "      <td>bogo buyers</td>\n",
       "    </tr>\n",
       "    <tr>\n",
       "      <th>417878</th>\n",
       "      <td>29</td>\n",
       "      <td>F</td>\n",
       "      <td>58000.0</td>\n",
       "      <td>2017-02-20</td>\n",
       "      <td>521</td>\n",
       "      <td>54bead4179c44b71acc4e8398181d183</td>\n",
       "      <td>transaction</td>\n",
       "      <td>318</td>\n",
       "      <td>21.76</td>\n",
       "      <td>4</td>\n",
       "      <td>...</td>\n",
       "      <td>1</td>\n",
       "      <td>318.0</td>\n",
       "      <td>5.0</td>\n",
       "      <td>132.0</td>\n",
       "      <td>18.0</td>\n",
       "      <td>150.0</td>\n",
       "      <td>18.0</td>\n",
       "      <td>1</td>\n",
       "      <td>1.0</td>\n",
       "      <td>bogo buyers</td>\n",
       "    </tr>\n",
       "  </tbody>\n",
       "</table>\n",
       "<p>2268 rows × 35 columns</p>\n",
       "</div>"
      ],
      "text/plain": [
       "        age gender    income became_member_on  membership_duration  \\\n",
       "7        75      F  100000.0       2017-05-09                  443   \n",
       "37       65      M   53000.0       2018-02-09                  167   \n",
       "57       61      F   57000.0       2017-09-11                  318   \n",
       "441      22      M   70000.0       2017-09-25                  304   \n",
       "528      69      F   57000.0       2016-08-14                  711   \n",
       "...     ...    ...       ...              ...                  ...   \n",
       "416816   51      M   79000.0       2018-02-08                  168   \n",
       "416996   37      M   60000.0       2017-01-24                  548   \n",
       "417669   54      M   53000.0       2015-06-26                 1126   \n",
       "417852   39      F   54000.0       2016-09-21                  673   \n",
       "417878   29      F   58000.0       2017-02-20                  521   \n",
       "\n",
       "                                  person        event  time  amount_spent  \\\n",
       "7       78afa995795e4d85b5d9ceeca43f5fef  transaction   132         19.89   \n",
       "37      389bc3fa690240e798340f5a15918d5c  transaction    60          9.54   \n",
       "57      aa4862eba776480b8bb9c68455b8c2e1  transaction   210         12.33   \n",
       "441     1e9420836d554513ab90eba98552d0a9  transaction   198         17.11   \n",
       "528     102e9454054946fda62242d2e176fdce  transaction     6         19.88   \n",
       "...                                  ...          ...   ...           ...   \n",
       "416816  d5d487cfdc5b456b84b7881ad5d3640b  transaction     0         17.50   \n",
       "416996  986d627671cc4bcf933079194b5f4f77  transaction    48         11.40   \n",
       "417669  cec1cdc6b77e41abbdce8903c5522e7e  transaction    84         19.70   \n",
       "417852  122c0c2a3c2540848f8c3fdc37e97639  transaction    36         26.93   \n",
       "417878  54bead4179c44b71acc4e8398181d183  transaction   318         21.76   \n",
       "\n",
       "        offer  ... offer_completed  time_completed  reward_received  \\\n",
       "7           4  ...               1           132.0              5.0   \n",
       "37          9  ...               1            60.0              5.0   \n",
       "57          2  ...               1           210.0             10.0   \n",
       "441         2  ...               1           198.0             10.0   \n",
       "528         2  ...               1             6.0             10.0   \n",
       "...       ...  ...             ...             ...              ...   \n",
       "416816      9  ...               1             0.0              5.0   \n",
       "416996      2  ...               1            48.0             10.0   \n",
       "417669      9  ...               1            84.0              5.0   \n",
       "417852      2  ...               1            36.0             10.0   \n",
       "417878      4  ...               1           318.0              5.0   \n",
       "\n",
       "        received_viewed  viewed_completed received_completed_diff  \\\n",
       "7                   6.0             126.0                   132.0   \n",
       "37                  0.0              60.0                    60.0   \n",
       "57                  0.0              42.0                    42.0   \n",
       "441                 6.0              24.0                    30.0   \n",
       "528                 0.0               6.0                     6.0   \n",
       "...                 ...               ...                     ...   \n",
       "416816             54.0             -54.0                     0.0   \n",
       "416996              6.0              42.0                    48.0   \n",
       "417669             30.0              54.0                    84.0   \n",
       "417852              6.0              30.0                    36.0   \n",
       "417878            132.0              18.0                   150.0   \n",
       "\n",
       "        duration_diff  valid_complete  completed        label  \n",
       "7                36.0               1        1.0  bogo buyers  \n",
       "37               60.0               1        1.0  bogo buyers  \n",
       "57               78.0               1        1.0  bogo buyers  \n",
       "441              90.0               1        1.0  bogo buyers  \n",
       "528             114.0               1        1.0  bogo buyers  \n",
       "...               ...             ...        ...          ...  \n",
       "416816          120.0               1        1.0  bogo buyers  \n",
       "416996           72.0               1        1.0  bogo buyers  \n",
       "417669           36.0               1        1.0  bogo buyers  \n",
       "417852           84.0               1        1.0  bogo buyers  \n",
       "417878           18.0               1        1.0  bogo buyers  \n",
       "\n",
       "[2268 rows x 35 columns]"
      ]
     },
     "execution_count": 86,
     "metadata": {},
     "output_type": "execute_result"
    }
   ],
   "source": [
    "transaction_viewed_complete_bogo_offer"
   ]
  },
  {
   "cell_type": "code",
   "execution_count": 87,
   "id": "b5d6b32f-08a6-4f51-b552-f4690473e333",
   "metadata": {
    "tags": []
   },
   "outputs": [],
   "source": [
    "# completed transactions with discount"
   ]
  },
  {
   "cell_type": "code",
   "execution_count": 88,
   "id": "7297e11b-0100-4471-867e-a35544ab8dd3",
   "metadata": {
    "tags": []
   },
   "outputs": [],
   "source": [
    "transaction_viewed_complete_discount_offer = transaction_offers[(transaction_offers.offer_type == 'discount') & (transaction_offers.time == transaction_offers.time_completed) & (transaction_offers.valid_complete == 1)]"
   ]
  },
  {
   "cell_type": "code",
   "execution_count": 89,
   "id": "89cfa30e-13c0-4a26-83ef-c009198fb3ba",
   "metadata": {
    "tags": []
   },
   "outputs": [],
   "source": [
    "# completed transactions after viewing informational offer"
   ]
  },
  {
   "cell_type": "code",
   "execution_count": 90,
   "id": "9ac6c758-d8ba-4f39-967d-79bd4f2501f1",
   "metadata": {
    "tags": []
   },
   "outputs": [],
   "source": [
    "transaction_from_informational = transaction_offers[(transaction_offers.offer_type == 'informational') & (transaction_offers.amount_spent > 0) & (transaction_offers.time >= transaction_offers.time_received) & (transaction_offers.offer_viewed == 1) ]"
   ]
  },
  {
   "cell_type": "code",
   "execution_count": 91,
   "id": "d87236b7-22f3-4090-a6fa-f369d5ba8d4d",
   "metadata": {
    "tags": []
   },
   "outputs": [
    {
     "data": {
      "text/html": [
       "<div>\n",
       "<style scoped>\n",
       "    .dataframe tbody tr th:only-of-type {\n",
       "        vertical-align: middle;\n",
       "    }\n",
       "\n",
       "    .dataframe tbody tr th {\n",
       "        vertical-align: top;\n",
       "    }\n",
       "\n",
       "    .dataframe thead th {\n",
       "        text-align: right;\n",
       "    }\n",
       "</style>\n",
       "<table border=\"1\" class=\"dataframe\">\n",
       "  <thead>\n",
       "    <tr style=\"text-align: right;\">\n",
       "      <th></th>\n",
       "      <th>age</th>\n",
       "      <th>gender</th>\n",
       "      <th>income</th>\n",
       "      <th>became_member_on</th>\n",
       "      <th>membership_duration</th>\n",
       "      <th>person</th>\n",
       "      <th>event</th>\n",
       "      <th>time</th>\n",
       "      <th>amount_spent</th>\n",
       "      <th>offer</th>\n",
       "      <th>...</th>\n",
       "      <th>offer_completed</th>\n",
       "      <th>time_completed</th>\n",
       "      <th>reward_received</th>\n",
       "      <th>received_viewed</th>\n",
       "      <th>viewed_completed</th>\n",
       "      <th>received_completed_diff</th>\n",
       "      <th>duration_diff</th>\n",
       "      <th>valid_complete</th>\n",
       "      <th>completed</th>\n",
       "      <th>label</th>\n",
       "    </tr>\n",
       "  </thead>\n",
       "  <tbody>\n",
       "    <tr>\n",
       "      <th>238</th>\n",
       "      <td>78</td>\n",
       "      <td>F</td>\n",
       "      <td>71000.0</td>\n",
       "      <td>2017-06-16</td>\n",
       "      <td>405</td>\n",
       "      <td>c27e0d6ab72c455a8bb66d980963de60</td>\n",
       "      <td>transaction</td>\n",
       "      <td>18</td>\n",
       "      <td>13.25</td>\n",
       "      <td>3</td>\n",
       "      <td>...</td>\n",
       "      <td>0</td>\n",
       "      <td>0.0</td>\n",
       "      <td>0.0</td>\n",
       "      <td>18.0</td>\n",
       "      <td>-18.0</td>\n",
       "      <td>0.0</td>\n",
       "      <td>96.0</td>\n",
       "      <td>0</td>\n",
       "      <td>1.0</td>\n",
       "      <td>informational buyers</td>\n",
       "    </tr>\n",
       "    <tr>\n",
       "      <th>423</th>\n",
       "      <td>53</td>\n",
       "      <td>O</td>\n",
       "      <td>52000.0</td>\n",
       "      <td>2017-09-16</td>\n",
       "      <td>313</td>\n",
       "      <td>d1ede868e29245ea91818a903fec04c6</td>\n",
       "      <td>transaction</td>\n",
       "      <td>24</td>\n",
       "      <td>1.72</td>\n",
       "      <td>8</td>\n",
       "      <td>...</td>\n",
       "      <td>0</td>\n",
       "      <td>0.0</td>\n",
       "      <td>0.0</td>\n",
       "      <td>0.0</td>\n",
       "      <td>0.0</td>\n",
       "      <td>0.0</td>\n",
       "      <td>72.0</td>\n",
       "      <td>0</td>\n",
       "      <td>1.0</td>\n",
       "      <td>informational buyers</td>\n",
       "    </tr>\n",
       "    <tr>\n",
       "      <th>825</th>\n",
       "      <td>54</td>\n",
       "      <td>F</td>\n",
       "      <td>80000.0</td>\n",
       "      <td>2017-02-07</td>\n",
       "      <td>534</td>\n",
       "      <td>57dd18ec5ddc46828afb81ec5977bef2</td>\n",
       "      <td>transaction</td>\n",
       "      <td>252</td>\n",
       "      <td>29.86</td>\n",
       "      <td>8</td>\n",
       "      <td>...</td>\n",
       "      <td>0</td>\n",
       "      <td>0.0</td>\n",
       "      <td>0.0</td>\n",
       "      <td>120.0</td>\n",
       "      <td>-288.0</td>\n",
       "      <td>-168.0</td>\n",
       "      <td>240.0</td>\n",
       "      <td>0</td>\n",
       "      <td>1.0</td>\n",
       "      <td>informational buyers</td>\n",
       "    </tr>\n",
       "    <tr>\n",
       "      <th>870</th>\n",
       "      <td>39</td>\n",
       "      <td>M</td>\n",
       "      <td>51000.0</td>\n",
       "      <td>2014-05-27</td>\n",
       "      <td>1521</td>\n",
       "      <td>be8a5d1981a2458d90b255ddc7e0d174</td>\n",
       "      <td>transaction</td>\n",
       "      <td>6</td>\n",
       "      <td>2.63</td>\n",
       "      <td>8</td>\n",
       "      <td>...</td>\n",
       "      <td>0</td>\n",
       "      <td>0.0</td>\n",
       "      <td>0.0</td>\n",
       "      <td>0.0</td>\n",
       "      <td>0.0</td>\n",
       "      <td>0.0</td>\n",
       "      <td>72.0</td>\n",
       "      <td>0</td>\n",
       "      <td>1.0</td>\n",
       "      <td>informational buyers</td>\n",
       "    </tr>\n",
       "    <tr>\n",
       "      <th>1404</th>\n",
       "      <td>75</td>\n",
       "      <td>M</td>\n",
       "      <td>52000.0</td>\n",
       "      <td>2015-11-29</td>\n",
       "      <td>970</td>\n",
       "      <td>a5a6ef2b78a04ddc9f374dd7c7f60bff</td>\n",
       "      <td>transaction</td>\n",
       "      <td>24</td>\n",
       "      <td>13.69</td>\n",
       "      <td>8</td>\n",
       "      <td>...</td>\n",
       "      <td>0</td>\n",
       "      <td>0.0</td>\n",
       "      <td>0.0</td>\n",
       "      <td>6.0</td>\n",
       "      <td>-6.0</td>\n",
       "      <td>0.0</td>\n",
       "      <td>72.0</td>\n",
       "      <td>0</td>\n",
       "      <td>1.0</td>\n",
       "      <td>informational buyers</td>\n",
       "    </tr>\n",
       "    <tr>\n",
       "      <th>...</th>\n",
       "      <td>...</td>\n",
       "      <td>...</td>\n",
       "      <td>...</td>\n",
       "      <td>...</td>\n",
       "      <td>...</td>\n",
       "      <td>...</td>\n",
       "      <td>...</td>\n",
       "      <td>...</td>\n",
       "      <td>...</td>\n",
       "      <td>...</td>\n",
       "      <td>...</td>\n",
       "      <td>...</td>\n",
       "      <td>...</td>\n",
       "      <td>...</td>\n",
       "      <td>...</td>\n",
       "      <td>...</td>\n",
       "      <td>...</td>\n",
       "      <td>...</td>\n",
       "      <td>...</td>\n",
       "      <td>...</td>\n",
       "      <td>...</td>\n",
       "    </tr>\n",
       "    <tr>\n",
       "      <th>417569</th>\n",
       "      <td>57</td>\n",
       "      <td>F</td>\n",
       "      <td>55000.0</td>\n",
       "      <td>2018-05-24</td>\n",
       "      <td>63</td>\n",
       "      <td>1fc56d7bf27d4d3888625d67fb2ea306</td>\n",
       "      <td>transaction</td>\n",
       "      <td>54</td>\n",
       "      <td>1.08</td>\n",
       "      <td>8</td>\n",
       "      <td>...</td>\n",
       "      <td>0</td>\n",
       "      <td>0.0</td>\n",
       "      <td>0.0</td>\n",
       "      <td>30.0</td>\n",
       "      <td>-30.0</td>\n",
       "      <td>0.0</td>\n",
       "      <td>72.0</td>\n",
       "      <td>0</td>\n",
       "      <td>1.0</td>\n",
       "      <td>informational buyers</td>\n",
       "    </tr>\n",
       "    <tr>\n",
       "      <th>417823</th>\n",
       "      <td>59</td>\n",
       "      <td>F</td>\n",
       "      <td>71000.0</td>\n",
       "      <td>2016-01-13</td>\n",
       "      <td>925</td>\n",
       "      <td>f88e91a11d8f405b9a47ad3741415b83</td>\n",
       "      <td>transaction</td>\n",
       "      <td>180</td>\n",
       "      <td>25.54</td>\n",
       "      <td>8</td>\n",
       "      <td>...</td>\n",
       "      <td>0</td>\n",
       "      <td>0.0</td>\n",
       "      <td>0.0</td>\n",
       "      <td>108.0</td>\n",
       "      <td>-108.0</td>\n",
       "      <td>0.0</td>\n",
       "      <td>72.0</td>\n",
       "      <td>0</td>\n",
       "      <td>1.0</td>\n",
       "      <td>informational buyers</td>\n",
       "    </tr>\n",
       "    <tr>\n",
       "      <th>417848</th>\n",
       "      <td>61</td>\n",
       "      <td>F</td>\n",
       "      <td>81000.0</td>\n",
       "      <td>2017-12-31</td>\n",
       "      <td>207</td>\n",
       "      <td>1b4df4b48bf64727a4c445909aea1251</td>\n",
       "      <td>transaction</td>\n",
       "      <td>414</td>\n",
       "      <td>19.88</td>\n",
       "      <td>3</td>\n",
       "      <td>...</td>\n",
       "      <td>0</td>\n",
       "      <td>0.0</td>\n",
       "      <td>0.0</td>\n",
       "      <td>0.0</td>\n",
       "      <td>0.0</td>\n",
       "      <td>0.0</td>\n",
       "      <td>96.0</td>\n",
       "      <td>0</td>\n",
       "      <td>1.0</td>\n",
       "      <td>informational buyers</td>\n",
       "    </tr>\n",
       "    <tr>\n",
       "      <th>417981</th>\n",
       "      <td>84</td>\n",
       "      <td>M</td>\n",
       "      <td>93000.0</td>\n",
       "      <td>2016-06-29</td>\n",
       "      <td>757</td>\n",
       "      <td>1966fa40d2f84620b2b1b9b64f8e0209</td>\n",
       "      <td>transaction</td>\n",
       "      <td>60</td>\n",
       "      <td>25.07</td>\n",
       "      <td>8</td>\n",
       "      <td>...</td>\n",
       "      <td>0</td>\n",
       "      <td>0.0</td>\n",
       "      <td>0.0</td>\n",
       "      <td>18.0</td>\n",
       "      <td>-18.0</td>\n",
       "      <td>0.0</td>\n",
       "      <td>72.0</td>\n",
       "      <td>0</td>\n",
       "      <td>1.0</td>\n",
       "      <td>informational buyers</td>\n",
       "    </tr>\n",
       "    <tr>\n",
       "      <th>418254</th>\n",
       "      <td>61</td>\n",
       "      <td>M</td>\n",
       "      <td>72000.0</td>\n",
       "      <td>2018-07-13</td>\n",
       "      <td>13</td>\n",
       "      <td>2cb4f97358b841b9a9773a7aa05a9d77</td>\n",
       "      <td>transaction</td>\n",
       "      <td>126</td>\n",
       "      <td>2.93</td>\n",
       "      <td>8</td>\n",
       "      <td>...</td>\n",
       "      <td>0</td>\n",
       "      <td>0.0</td>\n",
       "      <td>0.0</td>\n",
       "      <td>42.0</td>\n",
       "      <td>-42.0</td>\n",
       "      <td>0.0</td>\n",
       "      <td>72.0</td>\n",
       "      <td>0</td>\n",
       "      <td>1.0</td>\n",
       "      <td>informational buyers</td>\n",
       "    </tr>\n",
       "  </tbody>\n",
       "</table>\n",
       "<p>2423 rows × 35 columns</p>\n",
       "</div>"
      ],
      "text/plain": [
       "        age gender   income became_member_on  membership_duration  \\\n",
       "238      78      F  71000.0       2017-06-16                  405   \n",
       "423      53      O  52000.0       2017-09-16                  313   \n",
       "825      54      F  80000.0       2017-02-07                  534   \n",
       "870      39      M  51000.0       2014-05-27                 1521   \n",
       "1404     75      M  52000.0       2015-11-29                  970   \n",
       "...     ...    ...      ...              ...                  ...   \n",
       "417569   57      F  55000.0       2018-05-24                   63   \n",
       "417823   59      F  71000.0       2016-01-13                  925   \n",
       "417848   61      F  81000.0       2017-12-31                  207   \n",
       "417981   84      M  93000.0       2016-06-29                  757   \n",
       "418254   61      M  72000.0       2018-07-13                   13   \n",
       "\n",
       "                                  person        event  time  amount_spent  \\\n",
       "238     c27e0d6ab72c455a8bb66d980963de60  transaction    18         13.25   \n",
       "423     d1ede868e29245ea91818a903fec04c6  transaction    24          1.72   \n",
       "825     57dd18ec5ddc46828afb81ec5977bef2  transaction   252         29.86   \n",
       "870     be8a5d1981a2458d90b255ddc7e0d174  transaction     6          2.63   \n",
       "1404    a5a6ef2b78a04ddc9f374dd7c7f60bff  transaction    24         13.69   \n",
       "...                                  ...          ...   ...           ...   \n",
       "417569  1fc56d7bf27d4d3888625d67fb2ea306  transaction    54          1.08   \n",
       "417823  f88e91a11d8f405b9a47ad3741415b83  transaction   180         25.54   \n",
       "417848  1b4df4b48bf64727a4c445909aea1251  transaction   414         19.88   \n",
       "417981  1966fa40d2f84620b2b1b9b64f8e0209  transaction    60         25.07   \n",
       "418254  2cb4f97358b841b9a9773a7aa05a9d77  transaction   126          2.93   \n",
       "\n",
       "        offer  ... offer_completed  time_completed  reward_received  \\\n",
       "238         3  ...               0             0.0              0.0   \n",
       "423         8  ...               0             0.0              0.0   \n",
       "825         8  ...               0             0.0              0.0   \n",
       "870         8  ...               0             0.0              0.0   \n",
       "1404        8  ...               0             0.0              0.0   \n",
       "...       ...  ...             ...             ...              ...   \n",
       "417569      8  ...               0             0.0              0.0   \n",
       "417823      8  ...               0             0.0              0.0   \n",
       "417848      3  ...               0             0.0              0.0   \n",
       "417981      8  ...               0             0.0              0.0   \n",
       "418254      8  ...               0             0.0              0.0   \n",
       "\n",
       "        received_viewed  viewed_completed received_completed_diff  \\\n",
       "238                18.0             -18.0                     0.0   \n",
       "423                 0.0               0.0                     0.0   \n",
       "825               120.0            -288.0                  -168.0   \n",
       "870                 0.0               0.0                     0.0   \n",
       "1404                6.0              -6.0                     0.0   \n",
       "...                 ...               ...                     ...   \n",
       "417569             30.0             -30.0                     0.0   \n",
       "417823            108.0            -108.0                     0.0   \n",
       "417848              0.0               0.0                     0.0   \n",
       "417981             18.0             -18.0                     0.0   \n",
       "418254             42.0             -42.0                     0.0   \n",
       "\n",
       "        duration_diff  valid_complete  completed                 label  \n",
       "238              96.0               0        1.0  informational buyers  \n",
       "423              72.0               0        1.0  informational buyers  \n",
       "825             240.0               0        1.0  informational buyers  \n",
       "870              72.0               0        1.0  informational buyers  \n",
       "1404             72.0               0        1.0  informational buyers  \n",
       "...               ...             ...        ...                   ...  \n",
       "417569           72.0               0        1.0  informational buyers  \n",
       "417823           72.0               0        1.0  informational buyers  \n",
       "417848           96.0               0        1.0  informational buyers  \n",
       "417981           72.0               0        1.0  informational buyers  \n",
       "418254           72.0               0        1.0  informational buyers  \n",
       "\n",
       "[2423 rows x 35 columns]"
      ]
     },
     "execution_count": 91,
     "metadata": {},
     "output_type": "execute_result"
    }
   ],
   "source": [
    "transaction_from_informational"
   ]
  },
  {
   "cell_type": "code",
   "execution_count": 262,
   "id": "f0f1e24e-8162-4d71-96f4-2b57023a820a",
   "metadata": {
    "tags": []
   },
   "outputs": [],
   "source": [
    "# completed transactions without viewing the offer"
   ]
  },
  {
   "cell_type": "code",
   "execution_count": 92,
   "id": "015fc661-1a25-4613-98fa-d16a2e7abab7",
   "metadata": {
    "tags": []
   },
   "outputs": [],
   "source": [
    "transaction_without_view = transaction_offers[(transaction_offers.offer_type != 'informational') & (transaction_offers.valid_complete == 0) & (transaction_offers.offer_completed == 1) &(transaction_offers.time >= transaction_offers.time_received)]"
   ]
  },
  {
   "cell_type": "code",
   "execution_count": 93,
   "id": "25d887ed-418f-415a-9aa5-6b4a3f8cb937",
   "metadata": {
    "tags": []
   },
   "outputs": [],
   "source": [
    "transaction_offers.loc[(transaction_offers.offer_type == 'bogo') & (transaction_offers.time == transaction_offers.time_completed) & (transaction_offers.valid_complete == 1), 'completed'] = 1\n",
    "transaction_offers.loc[(transaction_offers.offer_type == 'discount') & (transaction_offers.time == transaction_offers.time_completed) & (transaction_offers.valid_complete == 1), 'completed'] = 1\n",
    "transaction_offers.loc[(transaction_offers.offer_type == 'informational') & (transaction_offers.amount_spent > 0) & (transaction_offers.time >= transaction_offers.time_received) & (transaction_offers.offer_viewed == 1), 'completed'] = 1"
   ]
  },
  {
   "cell_type": "code",
   "execution_count": 94,
   "id": "e0267328-68c3-4f9e-8dc4-ef98f8c5b24d",
   "metadata": {
    "tags": []
   },
   "outputs": [],
   "source": [
    "transaction_offers.loc[(transaction_offers.time < transaction_offers.time_received), 'label'] = 'buy without offer'\n",
    "transaction_offers.loc[(transaction_offers.offer_type != 'informational') & (transaction_offers.offer_viewed == 0) & (transaction_offers.offer_completed == 1) & (transaction_offers.time >= transaction_offers.time_received), 'label'] = 'buy without offer'\n",
    "transaction_offers.loc[(transaction_offers.offer_type != 'informational') & (transaction_offers.offer_viewed == 1) & (transaction_offers.offer_completed == 0)  & (transaction_offers.amount_spent > 0), 'label'] = 'buy without offer'\n",
    "transaction_offers.loc[(transaction_offers.offer_type != 'informational') & (transaction_offers.offer_viewed == 0) & (transaction_offers.offer_completed == 0)  & (transaction_offers.amount_spent > 0), 'label'] = 'buy without offer'\n",
    "transaction_offers.loc[(transaction_offers.offer_type == 'informational') & (transaction_offers.offer_viewed == 0) & (transaction_offers.amount_spent > 0), 'label'] = 'buy without offer'\n",
    "transaction_offers.loc[(transaction_offers.offer_type == 'bogo') & (transaction_offers.time == transaction_offers.time_completed) & (transaction_offers.valid_complete == 1), 'label'] = 'bogo buyers'\n",
    "transaction_offers.loc[(transaction_offers.offer_type == 'discount') & (transaction_offers.time == transaction_offers.time_completed) & (transaction_offers.valid_complete == 1), 'label'] = 'discount buyers'\n",
    "transaction_offers.loc[(transaction_offers.offer_type == 'informational') & (transaction_offers.amount_spent > 0) & (transaction_offers.time >= transaction_offers.time_received) & (transaction_offers.offer_viewed == 1), 'label'] = 'informational buyers'"
   ]
  },
  {
   "cell_type": "code",
   "execution_count": 95,
   "id": "4105c9c0-bc58-4ce8-950f-1bd2e3b22787",
   "metadata": {
    "tags": []
   },
   "outputs": [],
   "source": [
    "transaction_offers['completed'] = transaction_offers['completed'].fillna(0)"
   ]
  },
  {
   "cell_type": "code",
   "execution_count": 96,
   "id": "aa1bf565-cedf-4c60-8154-25c033fff134",
   "metadata": {
    "tags": []
   },
   "outputs": [
    {
     "data": {
      "text/plain": [
       "bogo             9354\n",
       "discount         8378\n",
       "informational    3204\n",
       "Name: offer_type, dtype: int64"
      ]
     },
     "execution_count": 96,
     "metadata": {},
     "output_type": "execute_result"
    }
   ],
   "source": [
    "transaction_offers['offer_type'].value_counts()"
   ]
  },
  {
   "cell_type": "code",
   "execution_count": 97,
   "id": "652b8692-431f-4713-844d-964f165a2df8",
   "metadata": {
    "tags": []
   },
   "outputs": [
    {
     "data": {
      "text/html": [
       "<div>\n",
       "<style scoped>\n",
       "    .dataframe tbody tr th:only-of-type {\n",
       "        vertical-align: middle;\n",
       "    }\n",
       "\n",
       "    .dataframe tbody tr th {\n",
       "        vertical-align: top;\n",
       "    }\n",
       "\n",
       "    .dataframe thead th {\n",
       "        text-align: right;\n",
       "    }\n",
       "</style>\n",
       "<table border=\"1\" class=\"dataframe\">\n",
       "  <thead>\n",
       "    <tr style=\"text-align: right;\">\n",
       "      <th></th>\n",
       "      <th>offer_viewed</th>\n",
       "      <th>offer_completed</th>\n",
       "      <th>amount_spent</th>\n",
       "      <th>completed</th>\n",
       "    </tr>\n",
       "  </thead>\n",
       "  <tbody>\n",
       "  </tbody>\n",
       "</table>\n",
       "</div>"
      ],
      "text/plain": [
       "Empty DataFrame\n",
       "Columns: [offer_viewed, offer_completed, amount_spent, completed]\n",
       "Index: []"
      ]
     },
     "execution_count": 97,
     "metadata": {},
     "output_type": "execute_result"
    }
   ],
   "source": [
    "transaction_offers[(transaction_offers.offer_viewed == 0) & (transaction_offers.completed == 1)][['offer_viewed', 'offer_completed', 'amount_spent', 'completed']]"
   ]
  },
  {
   "cell_type": "code",
   "execution_count": 98,
   "id": "f9cf45de-813d-4cc7-b4fb-3c2ab9822081",
   "metadata": {
    "tags": []
   },
   "outputs": [
    {
     "data": {
      "text/html": [
       "<div>\n",
       "<style scoped>\n",
       "    .dataframe tbody tr th:only-of-type {\n",
       "        vertical-align: middle;\n",
       "    }\n",
       "\n",
       "    .dataframe tbody tr th {\n",
       "        vertical-align: top;\n",
       "    }\n",
       "\n",
       "    .dataframe thead th {\n",
       "        text-align: right;\n",
       "    }\n",
       "</style>\n",
       "<table border=\"1\" class=\"dataframe\">\n",
       "  <thead>\n",
       "    <tr style=\"text-align: right;\">\n",
       "      <th></th>\n",
       "      <th>person</th>\n",
       "      <th>offer_type</th>\n",
       "      <th>offer_received</th>\n",
       "      <th>offer_viewed</th>\n",
       "      <th>offer_completed</th>\n",
       "      <th>time</th>\n",
       "      <th>time_viewed</th>\n",
       "      <th>time_received</th>\n",
       "      <th>time_completed</th>\n",
       "      <th>valid_complete</th>\n",
       "      <th>label</th>\n",
       "      <th>amount_spent</th>\n",
       "      <th>completed</th>\n",
       "    </tr>\n",
       "  </thead>\n",
       "  <tbody>\n",
       "    <tr>\n",
       "      <th>7</th>\n",
       "      <td>78afa995795e4d85b5d9ceeca43f5fef</td>\n",
       "      <td>bogo</td>\n",
       "      <td>1</td>\n",
       "      <td>1</td>\n",
       "      <td>1</td>\n",
       "      <td>132</td>\n",
       "      <td>6.0</td>\n",
       "      <td>0</td>\n",
       "      <td>132.0</td>\n",
       "      <td>1</td>\n",
       "      <td>bogo buyers</td>\n",
       "      <td>19.89</td>\n",
       "      <td>1.0</td>\n",
       "    </tr>\n",
       "    <tr>\n",
       "      <th>37</th>\n",
       "      <td>389bc3fa690240e798340f5a15918d5c</td>\n",
       "      <td>bogo</td>\n",
       "      <td>1</td>\n",
       "      <td>1</td>\n",
       "      <td>1</td>\n",
       "      <td>60</td>\n",
       "      <td>0.0</td>\n",
       "      <td>0</td>\n",
       "      <td>60.0</td>\n",
       "      <td>1</td>\n",
       "      <td>bogo buyers</td>\n",
       "      <td>9.54</td>\n",
       "      <td>1.0</td>\n",
       "    </tr>\n",
       "    <tr>\n",
       "      <th>45</th>\n",
       "      <td>2eeac8d8feae4a8cad5a6af0499a211d</td>\n",
       "      <td>informational</td>\n",
       "      <td>1</td>\n",
       "      <td>0</td>\n",
       "      <td>0</td>\n",
       "      <td>216</td>\n",
       "      <td>0.0</td>\n",
       "      <td>0</td>\n",
       "      <td>0.0</td>\n",
       "      <td>0</td>\n",
       "      <td>buy without offer</td>\n",
       "      <td>2.32</td>\n",
       "      <td>0.0</td>\n",
       "    </tr>\n",
       "    <tr>\n",
       "      <th>46</th>\n",
       "      <td>2eeac8d8feae4a8cad5a6af0499a211d</td>\n",
       "      <td>discount</td>\n",
       "      <td>1</td>\n",
       "      <td>1</td>\n",
       "      <td>0</td>\n",
       "      <td>216</td>\n",
       "      <td>168.0</td>\n",
       "      <td>168</td>\n",
       "      <td>0.0</td>\n",
       "      <td>0</td>\n",
       "      <td>buy without offer</td>\n",
       "      <td>2.32</td>\n",
       "      <td>0.0</td>\n",
       "    </tr>\n",
       "    <tr>\n",
       "      <th>57</th>\n",
       "      <td>aa4862eba776480b8bb9c68455b8c2e1</td>\n",
       "      <td>bogo</td>\n",
       "      <td>1</td>\n",
       "      <td>1</td>\n",
       "      <td>1</td>\n",
       "      <td>210</td>\n",
       "      <td>168.0</td>\n",
       "      <td>168</td>\n",
       "      <td>210.0</td>\n",
       "      <td>1</td>\n",
       "      <td>bogo buyers</td>\n",
       "      <td>12.33</td>\n",
       "      <td>1.0</td>\n",
       "    </tr>\n",
       "    <tr>\n",
       "      <th>...</th>\n",
       "      <td>...</td>\n",
       "      <td>...</td>\n",
       "      <td>...</td>\n",
       "      <td>...</td>\n",
       "      <td>...</td>\n",
       "      <td>...</td>\n",
       "      <td>...</td>\n",
       "      <td>...</td>\n",
       "      <td>...</td>\n",
       "      <td>...</td>\n",
       "      <td>...</td>\n",
       "      <td>...</td>\n",
       "      <td>...</td>\n",
       "    </tr>\n",
       "    <tr>\n",
       "      <th>418231</th>\n",
       "      <td>6d5f3a774f3d4714ab0c092238f3a1d7</td>\n",
       "      <td>bogo</td>\n",
       "      <td>1</td>\n",
       "      <td>1</td>\n",
       "      <td>0</td>\n",
       "      <td>60</td>\n",
       "      <td>402.0</td>\n",
       "      <td>336</td>\n",
       "      <td>0.0</td>\n",
       "      <td>0</td>\n",
       "      <td>buy without offer</td>\n",
       "      <td>3.92</td>\n",
       "      <td>0.0</td>\n",
       "    </tr>\n",
       "    <tr>\n",
       "      <th>418232</th>\n",
       "      <td>6d5f3a774f3d4714ab0c092238f3a1d7</td>\n",
       "      <td>discount</td>\n",
       "      <td>1</td>\n",
       "      <td>1</td>\n",
       "      <td>0</td>\n",
       "      <td>60</td>\n",
       "      <td>588.0</td>\n",
       "      <td>576</td>\n",
       "      <td>0.0</td>\n",
       "      <td>0</td>\n",
       "      <td>buy without offer</td>\n",
       "      <td>3.92</td>\n",
       "      <td>0.0</td>\n",
       "    </tr>\n",
       "    <tr>\n",
       "      <th>418254</th>\n",
       "      <td>2cb4f97358b841b9a9773a7aa05a9d77</td>\n",
       "      <td>informational</td>\n",
       "      <td>1</td>\n",
       "      <td>1</td>\n",
       "      <td>0</td>\n",
       "      <td>126</td>\n",
       "      <td>42.0</td>\n",
       "      <td>0</td>\n",
       "      <td>0.0</td>\n",
       "      <td>0</td>\n",
       "      <td>informational buyers</td>\n",
       "      <td>2.93</td>\n",
       "      <td>1.0</td>\n",
       "    </tr>\n",
       "    <tr>\n",
       "      <th>418273</th>\n",
       "      <td>01d26f638c274aa0b965d24cefe3183f</td>\n",
       "      <td>informational</td>\n",
       "      <td>1</td>\n",
       "      <td>0</td>\n",
       "      <td>0</td>\n",
       "      <td>204</td>\n",
       "      <td>0.0</td>\n",
       "      <td>168</td>\n",
       "      <td>0.0</td>\n",
       "      <td>0</td>\n",
       "      <td>buy without offer</td>\n",
       "      <td>3.30</td>\n",
       "      <td>0.0</td>\n",
       "    </tr>\n",
       "    <tr>\n",
       "      <th>418305</th>\n",
       "      <td>e4052622e5ba45a8b96b59aba68cf068</td>\n",
       "      <td>discount</td>\n",
       "      <td>1</td>\n",
       "      <td>1</td>\n",
       "      <td>1</td>\n",
       "      <td>54</td>\n",
       "      <td>6.0</td>\n",
       "      <td>0</td>\n",
       "      <td>54.0</td>\n",
       "      <td>1</td>\n",
       "      <td>discount buyers</td>\n",
       "      <td>21.55</td>\n",
       "      <td>1.0</td>\n",
       "    </tr>\n",
       "  </tbody>\n",
       "</table>\n",
       "<p>20936 rows × 13 columns</p>\n",
       "</div>"
      ],
      "text/plain": [
       "                                  person     offer_type  offer_received  \\\n",
       "7       78afa995795e4d85b5d9ceeca43f5fef           bogo               1   \n",
       "37      389bc3fa690240e798340f5a15918d5c           bogo               1   \n",
       "45      2eeac8d8feae4a8cad5a6af0499a211d  informational               1   \n",
       "46      2eeac8d8feae4a8cad5a6af0499a211d       discount               1   \n",
       "57      aa4862eba776480b8bb9c68455b8c2e1           bogo               1   \n",
       "...                                  ...            ...             ...   \n",
       "418231  6d5f3a774f3d4714ab0c092238f3a1d7           bogo               1   \n",
       "418232  6d5f3a774f3d4714ab0c092238f3a1d7       discount               1   \n",
       "418254  2cb4f97358b841b9a9773a7aa05a9d77  informational               1   \n",
       "418273  01d26f638c274aa0b965d24cefe3183f  informational               1   \n",
       "418305  e4052622e5ba45a8b96b59aba68cf068       discount               1   \n",
       "\n",
       "        offer_viewed  offer_completed  time  time_viewed  time_received  \\\n",
       "7                  1                1   132          6.0              0   \n",
       "37                 1                1    60          0.0              0   \n",
       "45                 0                0   216          0.0              0   \n",
       "46                 1                0   216        168.0            168   \n",
       "57                 1                1   210        168.0            168   \n",
       "...              ...              ...   ...          ...            ...   \n",
       "418231             1                0    60        402.0            336   \n",
       "418232             1                0    60        588.0            576   \n",
       "418254             1                0   126         42.0              0   \n",
       "418273             0                0   204          0.0            168   \n",
       "418305             1                1    54          6.0              0   \n",
       "\n",
       "        time_completed  valid_complete                 label  amount_spent  \\\n",
       "7                132.0               1           bogo buyers         19.89   \n",
       "37                60.0               1           bogo buyers          9.54   \n",
       "45                 0.0               0     buy without offer          2.32   \n",
       "46                 0.0               0     buy without offer          2.32   \n",
       "57               210.0               1           bogo buyers         12.33   \n",
       "...                ...             ...                   ...           ...   \n",
       "418231             0.0               0     buy without offer          3.92   \n",
       "418232             0.0               0     buy without offer          3.92   \n",
       "418254             0.0               0  informational buyers          2.93   \n",
       "418273             0.0               0     buy without offer          3.30   \n",
       "418305            54.0               1       discount buyers         21.55   \n",
       "\n",
       "        completed  \n",
       "7             1.0  \n",
       "37            1.0  \n",
       "45            0.0  \n",
       "46            0.0  \n",
       "57            1.0  \n",
       "...           ...  \n",
       "418231        0.0  \n",
       "418232        0.0  \n",
       "418254        1.0  \n",
       "418273        0.0  \n",
       "418305        1.0  \n",
       "\n",
       "[20936 rows x 13 columns]"
      ]
     },
     "execution_count": 98,
     "metadata": {},
     "output_type": "execute_result"
    }
   ],
   "source": [
    "transaction_offers[['person', 'offer_type', 'offer_received', 'offer_viewed', 'offer_completed', 'time', 'time_viewed', 'time_received', 'time_completed', 'valid_complete', 'label', 'amount_spent', 'completed']]"
   ]
  },
  {
   "cell_type": "code",
   "execution_count": 99,
   "id": "1b155401-8e11-43e4-a7fc-d88c3fa760cb",
   "metadata": {
    "tags": []
   },
   "outputs": [
    {
     "data": {
      "text/html": [
       "<div>\n",
       "<style scoped>\n",
       "    .dataframe tbody tr th:only-of-type {\n",
       "        vertical-align: middle;\n",
       "    }\n",
       "\n",
       "    .dataframe tbody tr th {\n",
       "        vertical-align: top;\n",
       "    }\n",
       "\n",
       "    .dataframe thead th {\n",
       "        text-align: right;\n",
       "    }\n",
       "</style>\n",
       "<table border=\"1\" class=\"dataframe\">\n",
       "  <thead>\n",
       "    <tr style=\"text-align: right;\">\n",
       "      <th></th>\n",
       "      <th>offer_type</th>\n",
       "      <th>offer_viewed</th>\n",
       "      <th>offer_completed</th>\n",
       "      <th>label</th>\n",
       "      <th>valid_complete</th>\n",
       "      <th>completed</th>\n",
       "      <th>amount_spent</th>\n",
       "    </tr>\n",
       "  </thead>\n",
       "  <tbody>\n",
       "  </tbody>\n",
       "</table>\n",
       "</div>"
      ],
      "text/plain": [
       "Empty DataFrame\n",
       "Columns: [offer_type, offer_viewed, offer_completed, label, valid_complete, completed, amount_spent]\n",
       "Index: []"
      ]
     },
     "execution_count": 99,
     "metadata": {},
     "output_type": "execute_result"
    }
   ],
   "source": [
    "transaction_offers[transaction_offers.label.isna()][['offer_type', 'offer_viewed', 'offer_completed', 'label', 'valid_complete', 'completed', 'amount_spent']]"
   ]
  },
  {
   "cell_type": "code",
   "execution_count": 100,
   "id": "94228234-b8f9-4590-bbab-a8f18ab689eb",
   "metadata": {
    "tags": []
   },
   "outputs": [],
   "source": [
    "# transaction_offers.to_csv('data/transaction_with_labels.csv', index = False)"
   ]
  },
  {
   "cell_type": "markdown",
   "id": "0639c1f9-1b5d-4843-81ce-b40e872d8620",
   "metadata": {},
   "source": [
    "Shows the outcome for the dataset where only the received and viewed offers are included."
   ]
  },
  {
   "cell_type": "markdown",
   "id": "873ddfd2-f548-4889-90a7-21723aef2d23",
   "metadata": {},
   "source": [
    "Shows the outcomes for all sent offers"
   ]
  },
  {
   "cell_type": "code",
   "execution_count": 105,
   "id": "908f49eb-fc78-4618-abe5-961b3b781770",
   "metadata": {
    "tags": []
   },
   "outputs": [
    {
     "data": {
      "image/png": "[encoded data removed]",
      "text/plain": [
       "<Figure size 640x480 with 1 Axes>"
      ]
     },
     "metadata": {},
     "output_type": "display_data"
    }
   ],
   "source": [
    "data = transaction_with_labels['completed'].value_counts()\n",
    "\n",
    "df = pd.DataFrame({'status': ['completed', 'not completed'], 'count': [data[0.0], data[1.0]]})\n",
    "\n",
    "fig, ax = plt.subplots()\n",
    "ax.bar(df['status'], df['count'], color=['green', 'red'])\n",
    "\n",
    "for i, count in enumerate(df['count']):\n",
    "    ax.text(i, count + 5, str(count), ha='center')\n",
    "\n",
    "ax.set_xlabel('Transaction Status')\n",
    "ax.set_ylabel('Number of Transactions')\n",
    "ax.set_title('Completed vs Not Completed Transactions')\n",
    "\n",
    "# plt.show()\n",
    "\n",
    "# plt.savefig(os.path.join('photos/outcomes.png'), dpi=300, format='png', bbox_inches='tight') \n",
    "\n"
   ]
  },
  {
   "cell_type": "markdown",
   "id": "894023fe-2f6d-47d3-944b-c425abc1e4ad",
   "metadata": {},
   "source": [
    "# Which offer was the most successful in terms of the number of completed transactions."
   ]
  },
  {
   "cell_type": "code",
   "execution_count": 106,
   "id": "0340a33c-ad75-46b5-bbf1-c9503e328a00",
   "metadata": {},
   "outputs": [
    {
     "data": {
      "image/png": "[encoded data removed]",
      "text/plain": [
       "<Figure size 640x480 with 1 Axes>"
      ]
     },
     "metadata": {},
     "output_type": "display_data"
    }
   ],
   "source": [
    "import pandas as pd\n",
    "import matplotlib.pyplot as plt\n",
    "\n",
    "# sample data\n",
    "data = {'Offer': transaction_with_labels['offer'],\n",
    "        'completed': transaction_with_labels['completed'],\n",
    "        'Offer Type': transaction_with_labels['offer_type']\n",
    "       }\n",
    "\n",
    "# create a pandas DataFrame\n",
    "df = pd.DataFrame(data)\n",
    "\n",
    "# count the number of completed offers for each offer type\n",
    "completed_counts = df.groupby('Offer')['completed'].sum()\n",
    "\n",
    "ax = completed_counts.plot(kind='bar', edgecolor='black')\n",
    "\n",
    "# add data labels to the bars\n",
    "for i, v in enumerate(completed_counts.values):\n",
    "    ax.text(i, v + 0.6, str(v), ha='center')\n",
    "\n",
    "# adjust the chart layout and formatting\n",
    "ax.set_xlabel('Offer Type')\n",
    "ax.set_ylabel('Number of Completed Offers')\n",
    "ax.set_title('Completed Offers')\n",
    "ax.spines['top'].set_visible(False)\n",
    "ax.spines['right'].set_visible(False)\n",
    "ax.grid(axis='y', linestyle='--', alpha=0.7)\n",
    "\n",
    "# plt.show()\n",
    "\n",
    "# plt.savefig(os.path.join('photos/completed_offers.png'), dpi=300, format='png', bbox_inches='tight') \n"
   ]
  },
  {
   "cell_type": "code",
   "execution_count": 107,
   "id": "eb5bddd1-428d-40b5-b1b7-c92528cc5474",
   "metadata": {
    "tags": []
   },
   "outputs": [
    {
     "data": {
      "image/png": "[encoded data removed]",
      "text/plain": [
       "<Figure size 640x480 with 1 Axes>"
      ]
     },
     "metadata": {},
     "output_type": "display_data"
    }
   ],
   "source": [
    "# create sample data\n",
    "data = {'offer': transaction_with_labels['offer_id'],\n",
    "        'offer_type': transaction_with_labels['offer_type'],\n",
    "        'completed': transaction_with_labels['completed']}\n",
    "\n",
    "# create a pandas DataFrame\n",
    "df = pd.DataFrame(data)\n",
    "\n",
    "# count the number of completed offers for each offer type\n",
    "completed_counts = df.groupby('offer_type')['completed'].sum()\n",
    "\n",
    "# set colors for each offer type\n",
    "colors = {'discount': 'red', 'bogo': 'green', 'informational': 'blue'}\n",
    "\n",
    "# plot the bar chart with different colors for each offer type\n",
    "ax = completed_counts.plot(kind='bar', color=[colors[i] for i in completed_counts.index], edgecolor='black')\n",
    "\n",
    "# add data labels to the bars\n",
    "for i, v in enumerate(completed_counts.values):\n",
    "    ax.text(i, v + 0.6, str(v), ha='center')\n",
    "\n",
    "# add a legend that shows the colors of each offer type\n",
    "handles = [plt.Rectangle((0,0),1,1, color=colors[label]) for label in completed_counts.index]\n",
    "labels = completed_counts.index\n",
    "plt.legend(handles, labels)\n",
    "\n",
    "# adjust the chart layout and formatting\n",
    "ax.set_xlabel('Offer Type')\n",
    "ax.set_ylabel('Number of Completed Offers')\n",
    "ax.set_title('Completed Offers by Type')\n",
    "ax.spines['top'].set_visible(False)\n",
    "ax.spines['right'].set_visible(False)\n",
    "ax.grid(axis='y', linestyle='--', alpha=0.7)\n",
    "\n",
    "# plt.show()\n",
    "\n",
    "# plt.savefig(os.path.join('photos/completed_offers_by_type.png'), dpi=300, format='png', bbox_inches='tight') # use format='svg' or 'pdf' for vectorial pictures\n",
    "\n"
   ]
  },
  {
   "cell_type": "code",
   "execution_count": 110,
   "id": "be342a52-f966-4262-98ad-0348648fa6f8",
   "metadata": {
    "tags": []
   },
   "outputs": [
    {
     "data": {
      "image/png": "[encoded data removed]",
      "text/plain": [
       "<Figure size 640x480 with 1 Axes>"
      ]
     },
     "metadata": {},
     "output_type": "display_data"
    }
   ],
   "source": [
    "data = transaction_with_labels['offer_type'].value_counts()\n",
    "\n",
    "df = pd.DataFrame({'status': ['informational', 'discount', 'bogo'], 'count': [data['informational'], data['discount'], data['bogo']]})\n",
    "\n",
    "fig, ax = plt.subplots()\n",
    "ax.bar(df['status'], df['count'], color=['green', 'red', 'blue'])\n",
    "\n",
    "for i, count in enumerate(df['count']):\n",
    "    ax.text(i, count + 5, str(count), ha='center')\n",
    "\n",
    "ax.set_xlabel('Offers Received')\n",
    "ax.set_ylabel('Count')\n",
    "ax.set_title('The Offers Received By Users')\n",
    "\n",
    "# plt.show()\n",
    "\n",
    "# plt.savefig(os.path.join('photos/offers_received.png'), dpi=300, format='png', bbox_inches='tight') "
   ]
  },
  {
   "cell_type": "code",
   "execution_count": 111,
   "id": "9f0eab22-01e8-4a93-98a5-12010f63f4ab",
   "metadata": {
    "tags": []
   },
   "outputs": [
    {
     "data": {
      "text/plain": [
       "bogo             9354\n",
       "discount         8378\n",
       "informational    3204\n",
       "Name: offer_type, dtype: int64"
      ]
     },
     "execution_count": 111,
     "metadata": {},
     "output_type": "execute_result"
    }
   ],
   "source": [
    "data = transaction_with_labels['offer_type'].value_counts()\n",
    "data"
   ]
  },
  {
   "cell_type": "code",
   "execution_count": 112,
   "id": "107c2d30-5142-4471-9d68-421712d9cc5a",
   "metadata": {
    "tags": []
   },
   "outputs": [
    {
     "data": {
      "text/plain": [
       "3204"
      ]
     },
     "execution_count": 112,
     "metadata": {},
     "output_type": "execute_result"
    }
   ],
   "source": [
    "data['informational']"
   ]
  },
  {
   "cell_type": "code",
   "execution_count": 115,
   "id": "6f3c44cc-4976-4047-8254-cb8130a0054e",
   "metadata": {
    "tags": []
   },
   "outputs": [
    {
     "data": {
      "image/png": "[encoded data removed]",
      "text/plain": [
       "<Figure size 640x480 with 1 Axes>"
      ]
     },
     "metadata": {},
     "output_type": "display_data"
    }
   ],
   "source": [
    "# create sample data\n",
    "data = {'gender': transaction_with_labels['gender'],\n",
    "        'completed': transaction_with_labels['offer_completed']}\n",
    "\n",
    "# create a pandas DataFrame\n",
    "df = pd.DataFrame(data)\n",
    "\n",
    "# count the number of completed offers for each offer type\n",
    "completed_counts = df.groupby('gender')['completed'].sum()\n",
    "\n",
    "# set colors for each offer type\n",
    "colors = {'M': 'green', 'F': 'blue', 'O': 'orange'}\n",
    "\n",
    "# plot the bar chart with different colors for each offer type\n",
    "ax = completed_counts.plot(kind='bar', color=[colors[i] for i in completed_counts.index], edgecolor='black')\n",
    "\n",
    "# add data labels to the bars\n",
    "for i, v in enumerate(completed_counts.values):\n",
    "    ax.text(i, v + 0.6, str(v), ha='center')\n",
    "\n",
    "# add a legend that shows the colors of each offer type\n",
    "handles = [plt.Rectangle((0,0),1,1, color=colors[label]) for label in completed_counts.index]\n",
    "labels = completed_counts.index\n",
    "plt.legend(handles, labels)\n",
    "\n",
    "# adjust the chart layout and formatting\n",
    "ax.set_xlabel('Gender')\n",
    "ax.set_ylabel('Number of Completed Offers')\n",
    "ax.set_title('Completed Offers by Gender')\n",
    "ax.spines['top'].set_visible(False)\n",
    "ax.spines['right'].set_visible(False)\n",
    "ax.grid(axis='y', linestyle='--', alpha=0.7)\n",
    "\n",
    "# plt.show()\n",
    "\n",
    "# plt.savefig(os.path.join('photos/completed_offers_by_gender.png'), dpi=300, format='png', bbox_inches='tight') # use format='svg' or 'pdf' for vectorial pictures\n",
    "\n"
   ]
  },
  {
   "cell_type": "code",
   "execution_count": 116,
   "id": "4ce989ba-87d7-4e32-8db5-9cdb7e6eba30",
   "metadata": {
    "tags": []
   },
   "outputs": [
    {
     "data": {
      "image/png": "[encoded data removed]",
      "text/plain": [
       "<Figure size 1600x800 with 2 Axes>"
      ]
     },
     "metadata": {},
     "output_type": "display_data"
    }
   ],
   "source": [
    "corr = transaction_with_labels[['age', 'income', 'membership_duration', 'offer', 'difficulty', 'duration', 'reward', 'completed', 'web', 'email', 'social', 'mobile', 'amount_spent']].corr()\n",
    "\n",
    "fig, ax = plt.subplots(figsize=(16, 8))\n",
    "\n",
    "\n",
    "sns.heatmap(corr, annot = True, cmap='coolwarm')\n",
    "\n",
    "\n",
    "# for i in range(len(corr.columns)):\n",
    "#     for j in range(i):\n",
    "#         if abs(corr.iloc[i, j]) > threshold:\n",
    "#             text = ax.text(j + 0.5, i + 0.5, \"{:.2f}\".format(corr.iloc[i, j]),\n",
    "#                            ha=\"center\", va=\"center\", color=\"black\", fontsize=10)\n",
    "\n",
    "plt.yticks(rotation=0)\n",
    "plt.xticks(rotation=90)\n",
    "\n",
    "plt.title('Correlation Heatmap')\n",
    "# plt.show()\n",
    "\n",
    "# plt.savefig(os.path.join('photos/correlation_heat_map.png'), dpi=300, format='png', bbox_inches='tight') # use format='svg' or 'pdf' for vectorial pictures\n"
   ]
  },
  {
   "cell_type": "code",
   "execution_count": 4,
   "id": "6a385148-22d6-4eb0-9beb-a388f5a5c361",
   "metadata": {
    "tags": []
   },
   "outputs": [
    {
     "data": {
      "image/png": "[encoded data removed]",
      "text/plain": [
       "<Figure size 640x480 with 1 Axes>"
      ]
     },
     "metadata": {},
     "output_type": "display_data"
    }
   ],
   "source": [
    "plt.hist(transaction_with_labels['age'][transaction_with_labels['completed'] == 1], bins=8, alpha=0.5, label='Offers Completed')\n",
    "plt.hist(transaction_with_labels['age'][transaction_with_labels['completed'] == 0], bins=8, alpha=0.5, label='Offers Not Completed')\n",
    "plt.legend(loc='upper right')\n",
    "\n",
    "# add labels and title\n",
    "plt.xlabel('Age')\n",
    "plt.ylabel('Count')\n",
    "plt.title('Completed & Uncompleted Offers by Age')\n",
    "\n",
    "plt.show()\n",
    "\n",
    "# plt.savefig(os.path.join('photos/completed_age.png'), dpi=300, format='png', bbox_inches='tight') # use format='svg' or 'pdf' for vectorial pictures\n"
   ]
  },
  {
   "cell_type": "code",
   "execution_count": 5,
   "id": "426c5489-e078-4d25-9894-eb7c7e54ab57",
   "metadata": {
    "tags": []
   },
   "outputs": [
    {
     "data": {
      "text/plain": [
       "count    80326.000000\n",
       "mean        53.819274\n",
       "std         17.421058\n",
       "min         18.000000\n",
       "25%         41.000000\n",
       "50%         55.000000\n",
       "75%         66.000000\n",
       "max        101.000000\n",
       "Name: age, dtype: float64"
      ]
     },
     "execution_count": 5,
     "metadata": {},
     "output_type": "execute_result"
    }
   ],
   "source": [
    "transaction_with_labels['age'][transaction_with_labels['completed'] == 1].describe()"
   ]
  },
  {
   "cell_type": "code",
   "execution_count": 6,
   "id": "d9b144ab-2805-43f3-8fd3-739b46bdc46a",
   "metadata": {
    "tags": []
   },
   "outputs": [
    {
     "data": {
      "text/plain": [
       "count    68347.000000\n",
       "mean        53.172356\n",
       "std         18.005742\n",
       "min         18.000000\n",
       "25%         40.000000\n",
       "50%         54.000000\n",
       "75%         66.000000\n",
       "max        101.000000\n",
       "Name: age, dtype: float64"
      ]
     },
     "execution_count": 6,
     "metadata": {},
     "output_type": "execute_result"
    }
   ],
   "source": [
    "transaction_with_labels['age'][transaction_with_labels['completed'] == 0].describe()"
   ]
  },
  {
   "cell_type": "code",
   "execution_count": 11,
   "id": "60c78255-d773-498e-8a8b-727fdf21475d",
   "metadata": {
    "tags": []
   },
   "outputs": [
    {
     "data": {
      "image/png": "[encoded data removed]",
      "text/plain": [
       "<Figure size 640x480 with 1 Axes>"
      ]
     },
     "metadata": {},
     "output_type": "display_data"
    }
   ],
   "source": [
    "plt.hist(transaction_with_labels['membership_duration'][transaction_with_labels['completed'] == 1], bins=8, alpha=0.5, label='Offers Completed')\n",
    "plt.hist(transaction_with_labels['membership_duration'][transaction_with_labels['completed'] == 0], bins=8, alpha=0.5, label='Offers Not Completed')\n",
    "plt.legend(loc='upper right')\n",
    "\n",
    "# add labels and title\n",
    "plt.xlabel('Membership Duration (Days)')\n",
    "plt.ylabel('Count')\n",
    "plt.title('Completed & Uncompleted Offers by Membership Duration')\n",
    "\n",
    "plt.show()\n",
    "\n",
    "# plt.savefig(os.path.join('photos/completed_membership_duration.png'), dpi=300, format='png', bbox_inches='tight') # use format='svg' or 'pdf' for vectorial pictures\n"
   ]
  },
  {
   "cell_type": "code",
   "execution_count": 11,
   "id": "126ff8c0-f698-4ab9-8161-f8188e806648",
   "metadata": {
    "tags": []
   },
   "outputs": [
    {
     "data": {
      "text/plain": [
       "count    80326.000000\n",
       "mean       621.047818\n",
       "std        423.335725\n",
       "min          0.000000\n",
       "25%        276.000000\n",
       "50%        547.000000\n",
       "75%        896.000000\n",
       "max       1823.000000\n",
       "Name: membership_duration, dtype: float64"
      ]
     },
     "execution_count": 11,
     "metadata": {},
     "output_type": "execute_result"
    }
   ],
   "source": [
    "transaction_with_labels['membership_duration'][transaction_with_labels['completed'] == 1].describe()"
   ]
  },
  {
   "cell_type": "code",
   "execution_count": 12,
   "id": "6f1df5d2-281d-4e6b-a37a-786d11382746",
   "metadata": {
    "tags": []
   },
   "outputs": [
    {
     "data": {
      "text/plain": [
       "count    68347.000000\n",
       "mean       627.822889\n",
       "std        441.977875\n",
       "min          0.000000\n",
       "25%        272.000000\n",
       "50%        546.000000\n",
       "75%        906.000000\n",
       "max       1823.000000\n",
       "Name: membership_duration, dtype: float64"
      ]
     },
     "execution_count": 12,
     "metadata": {},
     "output_type": "execute_result"
    }
   ],
   "source": [
    "transaction_with_labels['membership_duration'][transaction_with_labels['completed'] == 0].describe()"
   ]
  },
  {
   "cell_type": "code",
   "execution_count": 12,
   "id": "dbdb8ad6-4a17-4450-9035-d0cc40ac74ce",
   "metadata": {
    "tags": []
   },
   "outputs": [
    {
     "data": {
      "image/png": "[encoded data removed]",
      "text/plain": [
       "<Figure size 640x480 with 1 Axes>"
      ]
     },
     "metadata": {},
     "output_type": "display_data"
    }
   ],
   "source": [
    "plt.hist(transaction_with_labels['income'][transaction_with_labels['completed'] == 1], bins=8, alpha=0.5, label='Offers Completed')\n",
    "plt.hist(transaction_with_labels['income'][transaction_with_labels['completed'] == 0], bins=8, alpha=0.5, label='Offers Not Completed')\n",
    "plt.legend(loc='upper right')\n",
    "\n",
    "# add labels and title\n",
    "plt.xlabel('Income')\n",
    "plt.ylabel('Count')\n",
    "plt.title('Completed & Uncompleted Offers by User Income')\n",
    "\n",
    "plt.show()\n",
    "\n",
    "# plt.savefig(os.path.join('photos/completed_income.png'), dpi=300, format='png', bbox_inches='tight') # use format='svg' or 'pdf' for vectorial pictures\n"
   ]
  },
  {
   "cell_type": "code",
   "execution_count": 7,
   "id": "f9f7ebf0-184e-4438-b169-feac8ec0366c",
   "metadata": {
    "tags": []
   },
   "outputs": [
    {
     "data": {
      "text/plain": [
       "count     80326.000000\n",
       "mean      64127.032343\n",
       "std       20453.786816\n",
       "min       30000.000000\n",
       "25%       50000.000000\n",
       "50%       62000.000000\n",
       "75%       76000.000000\n",
       "max      120000.000000\n",
       "Name: income, dtype: float64"
      ]
     },
     "execution_count": 7,
     "metadata": {},
     "output_type": "execute_result"
    }
   ],
   "source": [
    "transaction_with_labels['income'][transaction_with_labels['completed'] == 1].describe()"
   ]
  },
  {
   "cell_type": "code",
   "execution_count": 10,
   "id": "e4365a72-91de-4762-a1e3-03816323d1b8",
   "metadata": {
    "tags": []
   },
   "outputs": [
    {
     "data": {
      "text/plain": [
       "count     68347.000000\n",
       "mean      62290.678450\n",
       "std       21144.166167\n",
       "min       30000.000000\n",
       "25%       46000.000000\n",
       "50%       60000.000000\n",
       "75%       74000.000000\n",
       "max      120000.000000\n",
       "Name: income, dtype: float64"
      ]
     },
     "execution_count": 10,
     "metadata": {},
     "output_type": "execute_result"
    }
   ],
   "source": [
    "transaction_with_labels['income'][transaction_with_labels['completed'] == 0].describe()"
   ]
  },
  {
   "cell_type": "code",
   "execution_count": 123,
   "id": "9b136218-756b-4b84-8398-060e891bf044",
   "metadata": {
    "tags": []
   },
   "outputs": [
    {
     "data": {
      "image/png": "[encoded data removed]",
      "text/plain": [
       "<Figure size 640x480 with 1 Axes>"
      ]
     },
     "metadata": {},
     "output_type": "display_data"
    }
   ],
   "source": [
    "import matplotlib.pyplot as plt\n",
    "\n",
    "# Sample data\n",
    "completed = transaction_with_labels['duration'][transaction_with_labels['completed'] == 1]\n",
    "not_completed = transaction_with_labels['duration'][transaction_with_labels['completed'] == 0]\n",
    "\n",
    "# Create a figure and axis object\n",
    "fig, ax = plt.subplots()\n",
    "\n",
    "# Add the boxplot for completed group\n",
    "ax.boxplot(completed, vert=False, positions=[0], widths=0.5)\n",
    "\n",
    "# Add the boxplot for not completed group\n",
    "ax.boxplot(not_completed, vert=False, positions=[1], widths=0.5)\n",
    "\n",
    "# Set axis labels and title\n",
    "ax.set_yticks([0, 1])\n",
    "ax.set_yticklabels(['Completed', 'Not Completed'])\n",
    "ax.set_xlabel('Duration')\n",
    "ax.set_title('Box and Whisker Plot of Duration by Completed and Not Completed Groups')\n",
    "\n",
    "# Show the plot\n",
    "# plt.show()\n",
    "\n",
    "\n",
    "plt.savefig(os.path.join('photos/completed_duration.png'), dpi=300, format='png', bbox_inches='tight') # use format='svg' or 'pdf' for vectorial pictures\n"
   ]
  },
  {
   "cell_type": "code",
   "execution_count": 122,
   "id": "e4a024e9-f8e2-4ff6-b9fc-2ce3e987b957",
   "metadata": {
    "tags": []
   },
   "outputs": [
    {
     "data": {
      "image/png": "[encoded data removed]",
      "text/plain": [
       "<Figure size 640x480 with 1 Axes>"
      ]
     },
     "metadata": {},
     "output_type": "display_data"
    }
   ],
   "source": [
    "# Sample data\n",
    "completed = transaction_with_labels['difficulty'][transaction_with_labels['completed'] == 1]\n",
    "not_completed = transaction_with_labels['difficulty'][transaction_with_labels['completed'] == 0]\n",
    "\n",
    "# Create a figure and axis object\n",
    "fig, ax = plt.subplots()\n",
    "\n",
    "# Add the boxplot for completed group\n",
    "ax.boxplot(completed, vert=False, positions=[0], widths=0.5)\n",
    "\n",
    "# Add the boxplot for not completed group\n",
    "ax.boxplot(not_completed, vert=False, positions=[1], widths=0.5)\n",
    "\n",
    "# Set axis labels and title\n",
    "ax.set_yticks([0, 1])\n",
    "ax.set_yticklabels(['Completed', 'Not Completed'])\n",
    "ax.set_xlabel('Difficulty')\n",
    "ax.set_title('Box and Whisker Plot of Difficulty by Completed and Not Completed Groups')\n",
    "\n",
    "# Show the plot\n",
    "plt.show()\n"
   ]
  },
  {
   "cell_type": "code",
   "execution_count": 121,
   "id": "eca7b841-c7e1-4f2f-b39e-c1ae3202477a",
   "metadata": {
    "tags": []
   },
   "outputs": [
    {
     "data": {
      "image/png": "[encoded data removed]",
      "text/plain": [
       "<Figure size 640x480 with 1 Axes>"
      ]
     },
     "metadata": {},
     "output_type": "display_data"
    }
   ],
   "source": [
    "# Sample data\n",
    "completed = transaction_with_labels['reward'][transaction_with_labels['completed'] == 1]\n",
    "not_completed = transaction_with_labels['reward'][transaction_with_labels['completed'] == 0]\n",
    "\n",
    "# Create a figure and axis object\n",
    "fig, ax = plt.subplots()\n",
    "\n",
    "# Add the boxplot for completed group\n",
    "ax.boxplot(completed, vert=False, positions=[0], widths=0.5)\n",
    "\n",
    "# Add the boxplot for not completed group\n",
    "ax.boxplot(not_completed, vert=False, positions=[1], widths=0.5)\n",
    "\n",
    "# Set axis labels and title\n",
    "ax.set_yticks([0, 1])\n",
    "ax.set_yticklabels(['Completed', 'Not Completed'])\n",
    "ax.set_xlabel('Reward')\n",
    "ax.set_title('Box and Whisker Plot of Difficulty by Completed and Not Completed Groups')\n",
    "\n",
    "# Show the plot\n",
    "plt.show()"
   ]
  },
  {
   "cell_type": "code",
   "execution_count": 120,
   "id": "9327d4b6-1153-4033-ac60-e1c0f68e0569",
   "metadata": {
    "tags": []
   },
   "outputs": [
    {
     "data": {
      "image/png": "[encoded data removed]",
      "text/plain": [
       "<Figure size 1200x800 with 2 Axes>"
      ]
     },
     "metadata": {},
     "output_type": "display_data"
    }
   ],
   "source": [
    "corr = transaction.corr()\n",
    "\n",
    "fig, ax = plt.subplots(figsize=(12, 8))\n",
    "\n",
    "threshold = 0.7\n",
    "\n",
    "sns.heatmap(corr, cmap='coolwarm', annot = True)\n",
    "\n",
    "\n",
    "for i in range(len(corr.columns)):\n",
    "    for j in range(i):\n",
    "        if abs(corr.iloc[i, j]) > threshold:\n",
    "            text = ax.text(j + 0.5, i + 0.5, \"{:.2f}\".format(corr.iloc[i, j]),\n",
    "                           ha=\"center\", va=\"center\", color=\"black\", fontsize=10)\n",
    "\n",
    "plt.yticks(rotation=0)\n",
    "plt.xticks(rotation=90)\n",
    "\n",
    "plt.title('Correlation Heatmap')\n",
    "# plt.show()\n",
    "\n",
    "# plt.savefig(os.path.join('photos/correlation_heat_map.png'), dpi=300, format='png', bbox_inches='tight') # use format='svg' or 'pdf' for vectorial pictures\n"
   ]
  },
  {
   "cell_type": "code",
   "execution_count": 119,
   "id": "5d5e2569-5960-48d2-bcd5-ec5c709e91fa",
   "metadata": {
    "tags": []
   },
   "outputs": [
    {
     "data": {
      "image/png": "[encoded data removed]",
      "text/plain": [
       "<Figure size 640x480 with 1 Axes>"
      ]
     },
     "metadata": {},
     "output_type": "display_data"
    }
   ],
   "source": [
    "# Create a bar chart with different colors for each value\n",
    "ax = transaction_with_labels.label.value_counts().plot(kind='bar', color=['blue', 'green', 'yellow', 'orange'], alpha=0.7)\n",
    "\n",
    "# Add annotations to the bars\n",
    "for i, v in enumerate(transaction_with_labels.label.value_counts()):\n",
    "    ax.annotate(str(v), xy=(i, v + 0.2), ha='center')\n",
    "\n",
    "# Add a title and axis labels\n",
    "ax.set_title('Number of Transactions by Label')\n",
    "ax.set_xlabel('Label')\n",
    "ax.set_ylabel('Count')\n",
    "\n",
    "# Show the plot\n",
    "# plt.show()\n",
    "\n",
    "# plt.savefig(os.path.join('photos/user_type.png'), dpi=300, format='png', bbox_inches='tight') # use format='svg' or 'pdf' for vectorial pictures\n"
   ]
  },
  {
   "cell_type": "code",
   "execution_count": 118,
   "id": "9cd01f8b-ad0d-42c3-9cd1-e3ab2470ded7",
   "metadata": {},
   "outputs": [
    {
     "data": {
      "image/png": "[encoded data removed]",
      "text/plain": [
       "<Figure size 640x480 with 1 Axes>"
      ]
     },
     "metadata": {},
     "output_type": "display_data"
    }
   ],
   "source": [
    "# create a crosstab table of counts by user type and gender\n",
    "user_gender_counts = pd.crosstab(transaction_with_labels['label'], transaction_with_labels['gender'])\n",
    "\n",
    "# plot the bar chart with different colors for each gender\n",
    "ax = user_gender_counts.plot(kind='bar', stacked=False, edgecolor='black')\n",
    "\n",
    "# adjust the chart layout and formatting\n",
    "ax.set_xlabel('Types of Users')\n",
    "ax.set_ylabel('Number of Transactions')\n",
    "ax.set_title('User Segmentation by Gender')\n",
    "ax.spines['top'].set_visible(False)\n",
    "ax.spines['right'].set_visible(False)\n",
    "ax.grid(axis='y', linestyle='--', alpha=0.7)\n",
    "\n",
    "# plt.show()\n",
    "\n",
    "# plt.savefig(os.path.join('photos/user_by_gender.png'), dpi=300, format='png', bbox_inches='tight') # use format='svg' or 'pdf' for vectorial pictures\n",
    "\n"
   ]
  },
  {
   "cell_type": "code",
   "execution_count": 117,
   "id": "2f43f644-1cfe-44d8-bedb-a60717d1ea53",
   "metadata": {
    "tags": []
   },
   "outputs": [
    {
     "data": {
      "image/png": "[encoded data removed]",
      "text/plain": [
       "<Figure size 640x480 with 1 Axes>"
      ]
     },
     "metadata": {},
     "output_type": "display_data"
    }
   ],
   "source": [
    "# create sample data\n",
    "data = {'user type': transaction_with_labels['label'],\n",
    "        'amount': transaction_with_labels['amount_spent']}\n",
    "\n",
    "# create a pandas DataFrame\n",
    "df = pd.DataFrame(data)\n",
    "\n",
    "# count the number of completed offers for each offer type\n",
    "amt_sum = df.groupby('user type')['amount'].sum()\n",
    "\n",
    "# set colors for each offer type\n",
    "colors = {'buy without offer': 'green', 'bogo buyers': 'blue', 'discount buyers': 'orange', 'informational buyers': 'yellow'}\n",
    "\n",
    "# plot the bar chart with different colors for each offer type\n",
    "ax = amt_sum.plot(kind='bar', color=[colors[i] for i in amt_sum.index], edgecolor='black')\n",
    "\n",
    "# add data labels to the bars\n",
    "for i, v in enumerate(amt_sum.values):\n",
    "    ax.text(i, v + 0.6, str(v), ha='center')\n",
    "\n",
    "# add a legend that shows the colors of each offer type\n",
    "handles = [plt.Rectangle((0,0),1,1, color=colors[label]) for label in amt_sum.index]\n",
    "labels = amt_sum.index\n",
    "plt.legend(handles, labels)\n",
    "\n",
    "# adjust the chart layout and formatting\n",
    "ax.set_xlabel('User Types')\n",
    "ax.set_ylabel('Amount Spent')\n",
    "ax.set_title('Amount Spent By Each User Type')\n",
    "ax.spines['top'].set_visible(False)\n",
    "ax.spines['right'].set_visible(False)\n",
    "ax.grid(axis='y', linestyle='--', alpha=0.7)\n",
    "\n",
    "# plt.show()\n",
    "\n",
    "# plt.savefig(os.path.join('photos/amount_spent.png'), dpi=300, format='png', bbox_inches='tight') # use format='svg' or 'pdf' for vectorial pictures\n"
   ]
  },
  {
   "cell_type": "code",
   "execution_count": null,
   "id": "482f114c-bedf-405f-bb37-7ecd9c887999",
   "metadata": {},
   "outputs": [],
   "source": []
  }
 ],
 "metadata": {
  "availableInstances": [
   {
    "_defaultOrder": 0,
    "_isFastLaunch": true,
    "category": "General purpose",
    "gpuNum": 0,
    "memoryGiB": 4,
    "name": "ml.t3.medium",
    "vcpuNum": 2
   },
   {
    "_defaultOrder": 1,
    "_isFastLaunch": false,
    "category": "General purpose",
    "gpuNum": 0,
    "memoryGiB": 8,
    "name": "ml.t3.large",
    "vcpuNum": 2
   },
   {
    "_defaultOrder": 2,
    "_isFastLaunch": false,
    "category": "General purpose",
    "gpuNum": 0,
    "memoryGiB": 16,
    "name": "ml.t3.xlarge",
    "vcpuNum": 4
   },
   {
    "_defaultOrder": 3,
    "_isFastLaunch": false,
    "category": "General purpose",
    "gpuNum": 0,
    "memoryGiB": 32,
    "name": "ml.t3.2xlarge",
    "vcpuNum": 8
   },
   {
    "_defaultOrder": 4,
    "_isFastLaunch": true,
    "category": "General purpose",
    "gpuNum": 0,
    "memoryGiB": 8,
    "name": "ml.m5.large",
    "vcpuNum": 2
   },
   {
    "_defaultOrder": 5,
    "_isFastLaunch": false,
    "category": "General purpose",
    "gpuNum": 0,
    "memoryGiB": 16,
    "name": "ml.m5.xlarge",
    "vcpuNum": 4
   },
   {
    "_defaultOrder": 6,
    "_isFastLaunch": false,
    "category": "General purpose",
    "gpuNum": 0,
    "memoryGiB": 32,
    "name": "ml.m5.2xlarge",
    "vcpuNum": 8
   },
   {
    "_defaultOrder": 7,
    "_isFastLaunch": false,
    "category": "General purpose",
    "gpuNum": 0,
    "memoryGiB": 64,
    "name": "ml.m5.4xlarge",
    "vcpuNum": 16
   },
   {
    "_defaultOrder": 8,
    "_isFastLaunch": false,
    "category": "General purpose",
    "gpuNum": 0,
    "memoryGiB": 128,
    "name": "ml.m5.8xlarge",
    "vcpuNum": 32
   },
   {
    "_defaultOrder": 9,
    "_isFastLaunch": false,
    "category": "General purpose",
    "gpuNum": 0,
    "memoryGiB": 192,
    "name": "ml.m5.12xlarge",
    "vcpuNum": 48
   },
   {
    "_defaultOrder": 10,
    "_isFastLaunch": false,
    "category": "General purpose",
    "gpuNum": 0,
    "memoryGiB": 256,
    "name": "ml.m5.16xlarge",
    "vcpuNum": 64
   },
   {
    "_defaultOrder": 11,
    "_isFastLaunch": false,
    "category": "General purpose",
    "gpuNum": 0,
    "memoryGiB": 384,
    "name": "ml.m5.24xlarge",
    "vcpuNum": 96
   },
   {
    "_defaultOrder": 12,
    "_isFastLaunch": false,
    "category": "General purpose",
    "gpuNum": 0,
    "memoryGiB": 8,
    "name": "ml.m5d.large",
    "vcpuNum": 2
   },
   {
    "_defaultOrder": 13,
    "_isFastLaunch": false,
    "category": "General purpose",
    "gpuNum": 0,
    "memoryGiB": 16,
    "name": "ml.m5d.xlarge",
    "vcpuNum": 4
   },
   {
    "_defaultOrder": 14,
    "_isFastLaunch": false,
    "category": "General purpose",
    "gpuNum": 0,
    "memoryGiB": 32,
    "name": "ml.m5d.2xlarge",
    "vcpuNum": 8
   },
   {
    "_defaultOrder": 15,
    "_isFastLaunch": false,
    "category": "General purpose",
    "gpuNum": 0,
    "memoryGiB": 64,
    "name": "ml.m5d.4xlarge",
    "vcpuNum": 16
   },
   {
    "_defaultOrder": 16,
    "_isFastLaunch": false,
    "category": "General purpose",
    "gpuNum": 0,
    "memoryGiB": 128,
    "name": "ml.m5d.8xlarge",
    "vcpuNum": 32
   },
   {
    "_defaultOrder": 17,
    "_isFastLaunch": false,
    "category": "General purpose",
    "gpuNum": 0,
    "memoryGiB": 192,
    "name": "ml.m5d.12xlarge",
    "vcpuNum": 48
   },
   {
    "_defaultOrder": 18,
    "_isFastLaunch": false,
    "category": "General purpose",
    "gpuNum": 0,
    "memoryGiB": 256,
    "name": "ml.m5d.16xlarge",
    "vcpuNum": 64
   },
   {
    "_defaultOrder": 19,
    "_isFastLaunch": false,
    "category": "General purpose",
    "gpuNum": 0,
    "memoryGiB": 384,
    "name": "ml.m5d.24xlarge",
    "vcpuNum": 96
   },
   {
    "_defaultOrder": 20,
    "_isFastLaunch": true,
    "category": "Compute optimized",
    "gpuNum": 0,
    "memoryGiB": 4,
    "name": "ml.c5.large",
    "vcpuNum": 2
   },
   {
    "_defaultOrder": 21,
    "_isFastLaunch": false,
    "category": "Compute optimized",
    "gpuNum": 0,
    "memoryGiB": 8,
    "name": "ml.c5.xlarge",
    "vcpuNum": 4
   },
   {
    "_defaultOrder": 22,
    "_isFastLaunch": false,
    "category": "Compute optimized",
    "gpuNum": 0,
    "memoryGiB": 16,
    "name": "ml.c5.2xlarge",
    "vcpuNum": 8
   },
   {
    "_defaultOrder": 23,
    "_isFastLaunch": false,
    "category": "Compute optimized",
    "gpuNum": 0,
    "memoryGiB": 32,
    "name": "ml.c5.4xlarge",
    "vcpuNum": 16
   },
   {
    "_defaultOrder": 24,
    "_isFastLaunch": false,
    "category": "Compute optimized",
    "gpuNum": 0,
    "memoryGiB": 72,
    "name": "ml.c5.9xlarge",
    "vcpuNum": 36
   },
   {
    "_defaultOrder": 25,
    "_isFastLaunch": false,
    "category": "Compute optimized",
    "gpuNum": 0,
    "memoryGiB": 96,
    "name": "ml.c5.12xlarge",
    "vcpuNum": 48
   },
   {
    "_defaultOrder": 26,
    "_isFastLaunch": false,
    "category": "Compute optimized",
    "gpuNum": 0,
    "memoryGiB": 144,
    "name": "ml.c5.18xlarge",
    "vcpuNum": 72
   },
   {
    "_defaultOrder": 27,
    "_isFastLaunch": false,
    "category": "Compute optimized",
    "gpuNum": 0,
    "memoryGiB": 192,
    "name": "ml.c5.24xlarge",
    "vcpuNum": 96
   },
   {
    "_defaultOrder": 28,
    "_isFastLaunch": true,
    "category": "Accelerated computing",
    "gpuNum": 1,
    "memoryGiB": 16,
    "name": "ml.g4dn.xlarge",
    "vcpuNum": 4
   },
   {
    "_defaultOrder": 29,
    "_isFastLaunch": false,
    "category": "Accelerated computing",
    "gpuNum": 1,
    "memoryGiB": 32,
    "name": "ml.g4dn.2xlarge",
    "vcpuNum": 8
   },
   {
    "_defaultOrder": 30,
    "_isFastLaunch": false,
    "category": "Accelerated computing",
    "gpuNum": 1,
    "memoryGiB": 64,
    "name": "ml.g4dn.4xlarge",
    "vcpuNum": 16
   },
   {
    "_defaultOrder": 31,
    "_isFastLaunch": false,
    "category": "Accelerated computing",
    "gpuNum": 1,
    "memoryGiB": 128,
    "name": "ml.g4dn.8xlarge",
    "vcpuNum": 32
   },
   {
    "_defaultOrder": 32,
    "_isFastLaunch": false,
    "category": "Accelerated computing",
    "gpuNum": 4,
    "memoryGiB": 192,
    "name": "ml.g4dn.12xlarge",
    "vcpuNum": 48
   },
   {
    "_defaultOrder": 33,
    "_isFastLaunch": false,
    "category": "Accelerated computing",
    "gpuNum": 1,
    "memoryGiB": 256,
    "name": "ml.g4dn.16xlarge",
    "vcpuNum": 64
   },
   {
    "_defaultOrder": 34,
    "_isFastLaunch": false,
    "category": "Accelerated computing",
    "gpuNum": 1,
    "memoryGiB": 61,
    "name": "ml.p3.2xlarge",
    "vcpuNum": 8
   },
   {
    "_defaultOrder": 35,
    "_isFastLaunch": false,
    "category": "Accelerated computing",
    "gpuNum": 4,
    "memoryGiB": 244,
    "name": "ml.p3.8xlarge",
    "vcpuNum": 32
   },
   {
    "_defaultOrder": 36,
    "_isFastLaunch": false,
    "category": "Accelerated computing",
    "gpuNum": 8,
    "memoryGiB": 488,
    "name": "ml.p3.16xlarge",
    "vcpuNum": 64
   },
   {
    "_defaultOrder": 37,
    "_isFastLaunch": false,
    "category": "Accelerated computing",
    "gpuNum": 8,
    "memoryGiB": 768,
    "name": "ml.p3dn.24xlarge",
    "vcpuNum": 96
   },
   {
    "_defaultOrder": 38,
    "_isFastLaunch": false,
    "category": "Memory Optimized",
    "gpuNum": 0,
    "memoryGiB": 16,
    "name": "ml.r5.large",
    "vcpuNum": 2
   },
   {
    "_defaultOrder": 39,
    "_isFastLaunch": false,
    "category": "Memory Optimized",
    "gpuNum": 0,
    "memoryGiB": 32,
    "name": "ml.r5.xlarge",
    "vcpuNum": 4
   },
   {
    "_defaultOrder": 40,
    "_isFastLaunch": false,
    "category": "Memory Optimized",
    "gpuNum": 0,
    "memoryGiB": 64,
    "name": "ml.r5.2xlarge",
    "vcpuNum": 8
   },
   {
    "_defaultOrder": 41,
    "_isFastLaunch": false,
    "category": "Memory Optimized",
    "gpuNum": 0,
    "memoryGiB": 128,
    "name": "ml.r5.4xlarge",
    "vcpuNum": 16
   },
   {
    "_defaultOrder": 42,
    "_isFastLaunch": false,
    "category": "Memory Optimized",
    "gpuNum": 0,
    "memoryGiB": 256,
    "name": "ml.r5.8xlarge",
    "vcpuNum": 32
   },
   {
    "_defaultOrder": 43,
    "_isFastLaunch": false,
    "category": "Memory Optimized",
    "gpuNum": 0,
    "memoryGiB": 384,
    "name": "ml.r5.12xlarge",
    "vcpuNum": 48
   },
   {
    "_defaultOrder": 44,
    "_isFastLaunch": false,
    "category": "Memory Optimized",
    "gpuNum": 0,
    "memoryGiB": 512,
    "name": "ml.r5.16xlarge",
    "vcpuNum": 64
   },
   {
    "_defaultOrder": 45,
    "_isFastLaunch": false,
    "category": "Memory Optimized",
    "gpuNum": 0,
    "memoryGiB": 768,
    "name": "ml.r5.24xlarge",
    "vcpuNum": 96
   },
   {
    "_defaultOrder": 46,
    "_isFastLaunch": false,
    "category": "Accelerated computing",
    "gpuNum": 1,
    "memoryGiB": 16,
    "name": "ml.g5.xlarge",
    "vcpuNum": 4
   },
   {
    "_defaultOrder": 47,
    "_isFastLaunch": false,
    "category": "Accelerated computing",
    "gpuNum": 1,
    "memoryGiB": 32,
    "name": "ml.g5.2xlarge",
    "vcpuNum": 8
   },
   {
    "_defaultOrder": 48,
    "_isFastLaunch": false,
    "category": "Accelerated computing",
    "gpuNum": 1,
    "memoryGiB": 64,
    "name": "ml.g5.4xlarge",
    "vcpuNum": 16
   },
   {
    "_defaultOrder": 49,
    "_isFastLaunch": false,
    "category": "Accelerated computing",
    "gpuNum": 1,
    "memoryGiB": 128,
    "name": "ml.g5.8xlarge",
    "vcpuNum": 32
   },
   {
    "_defaultOrder": 50,
    "_isFastLaunch": false,
    "category": "Accelerated computing",
    "gpuNum": 1,
    "memoryGiB": 256,
    "name": "ml.g5.16xlarge",
    "vcpuNum": 64
   },
   {
    "_defaultOrder": 51,
    "_isFastLaunch": false,
    "category": "Accelerated computing",
    "gpuNum": 4,
    "memoryGiB": 192,
    "name": "ml.g5.12xlarge",
    "vcpuNum": 48
   },
   {
    "_defaultOrder": 52,
    "_isFastLaunch": false,
    "category": "Accelerated computing",
    "gpuNum": 4,
    "memoryGiB": 384,
    "name": "ml.g5.24xlarge",
    "vcpuNum": 96
   },
   {
    "_defaultOrder": 53,
    "_isFastLaunch": false,
    "category": "Accelerated computing",
    "gpuNum": 8,
    "memoryGiB": 768,
    "name": "ml.g5.48xlarge",
    "vcpuNum": 192
   }
  ],
  "instance_type": "ml.t3.medium",
  "kernelspec": {
   "display_name": "Python 3 (Data Science)",
   "language": "python",
   "name": "python3__SAGEMAKER_INTERNAL__arn:aws:sagemaker:us-east-1:081325390199:image/datascience-1.0"
  },
  "language_info": {
   "codemirror_mode": {
    "name": "ipython",
    "version": 3
   },
   "file_extension": ".py",
   "mimetype": "text/x-python",
   "name": "python",
   "nbconvert_exporter": "python",
   "pygments_lexer": "ipython3",
   "version": "3.7.10"
  }
 },
 "nbformat": 4,
 "nbformat_minor": 5
}
