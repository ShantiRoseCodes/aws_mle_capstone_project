{
 "cells": [
  {
   "cell_type": "markdown",
   "metadata": {},
   "source": [
    "# What Influences The Success of Starbucks App Promotions?"
   ]
  },
  {
   "cell_type": "markdown",
   "metadata": {},
   "source": [
    "## INTRODUCTION\n",
    "\n",
    "Starbucks Corporation, the most popular coffee chain in the world, has an estimated revenue of over $26.5 billion (2019) and around 33,833 store locations in 70 countries (2021). Since the opening of the first Starbucks in 1971, its growth over the last 50 years clearly shows its success in fulfilling its mission to *\"inspire and nurture the human spirit - one person, one cup, and one neighbourhood at a time.\"* [Starbucks Marketing Strategy](https://www.studysmarter.co.uk/explanations/business-studies/business-case-studies/starbucks-marketing-strategy/)\n",
    "\n",
    "The success of Starbucks stems from its efficient use of its marketing mix, delivering the right product with the right price at the right place with the reinforcement of the right promotions delivered across various channels. \n",
    "\n",
    "Starbucks is well-known for offering the right product due to its very uniform quality of food, beverage, and service. Enter any Starbucks establishment and you will always get what you expect from this trademark brand. This is probably one of the reasons behind its ability to foster long-term customer relationships and patronage. \n",
    "\n",
    "In addition to the appeal of consistency, Starbucks is able to add a dose of uniqueness in the design of its store across different locations, like the Starbucks branch in Japan that resembles a traditional tea house or the one in Bangkok that resembles a Thai farmhouse. Aside from these cultural adaptations, Starbucks has a pricing system that draws in their target demographic in each country. \n",
    "\n",
    "Starbucks has a very strong promotion strategy that do not only include traditional channels like billboards, newspapers, and magazines. It believes in using the word of mouth and the power of Instagram by encouraging its customers to post pictures of their products witht he promise of rewards. It also encourages customer loyalty and purchases through the launch of Starbucks Rewards. Coupled with a mobile app that provides recommendations based on purchase history and a convenient \"order and pay\" system that allows customers to pay in advance before picking up their beverage, it is no wonder that Starbucks has captured a following of this magnitude.\n",
    "\n",
    "Due to its intriguing success, the Starbucks Reward system has been chosen as a project for the Udacity Nanodegree in Machine Learning Engineering Capstone Project. The data provided for this project simulates the offers sent out to the users of its mobile app as well as their response to these offers. \n",
    "\n",
    "In the simulation, Starbucks sends out an offer to its users. This can be an informational advertisement about a new drink or product or an actual offer that allows the user to redeem a discount or a BOGO (a buy one get one free) promotion after purchasing a minimum amount within a set duration.\n",
    "\n",
    "The objective of the study is to track patterns in customer response based on their demographic in order to optimise the distribution of Starbucks promotions by using completed orders as the metric of success. Although it may seem straightforward, there is a degree of challenge in finding out whether the customer was actually aware of the promotion during the completion of the promotion. It is quite possible that the  customer has reached the target amount within the prescribed duration without even viewing the offer. In this case, the promotion cannot be classified as successful in encouraging customer purchase as the customer would have made the same transaction without the reinforcement of this promotion."
   ]
  },
  {
   "cell_type": "markdown",
   "metadata": {},
   "source": [
    "## DOMAIN BACKGROUND\n",
    "\n",
    "Consumer behaviour, an important aspect of marketing, is the study of an individual's buying habits and response to products that allow businesses to find gaps in the market that they can use to innovate or incorporate to their business models. It involves looking into the the psychological, personal, and social factors that affect customer behaviour.\n",
    "\n",
    "In this project, the aim is to define factors that affect a customer's response to the Starbucks promotions generated on their mobile applications. The consumer behaviour model that will be considered here is a black-box model which will be based on the customer's external-stimulus response, wherein we will be looking into the informational messages, promotions, price, and the channels by which the advertisement was sent to find out how the customer will respond to the offer. We will also be looking into the personal factors that affect this behaviour by looking into the affects of age, gender, and income to the outcome. "
   ]
  },
  {
   "cell_type": "markdown",
   "metadata": {},
   "source": [
    "## PROBLEM STATEMENT\n",
    "\n",
    "In the simulation of the Starbucks rewards mobile app used in this project, the user is sent an offer once every few days. This offer can be an advertisement for a drink or an actual offer that could either be a discount or a BOGO (buy one get one free). Not all users receive the same offer and some users may not receive an offer during certain weeks. \n",
    "\n",
    "Each offer comes with a minimum spend that entitles the user to the discount as well as a validity period before the offer expires. By combining transactinal data and user demographic, the aim of this machine learning project is to create a model that predicts whether the user wil be converted by the offer or promotion. It also aims to identify the important factors that influence the result. \n",
    "\n",
    "As it is possible for the user to complete the minimum requirement to avail of the promotion without viewing the offer, the challenge is to separate the users who have viewd the promotion before completing it and those who have not. The reason for this is that the main aim of this project is to see how the offer influences the user. "
   ]
  },
  {
   "cell_type": "markdown",
   "metadata": {},
   "source": [
    "## DATASETS AND INPUTS\n",
    "\n",
    "The datasets used for this project consist of offer details, customer demographic and transactional data|. Each of these datasets are contained in a json file. A description and example of each dataset can be found below. "
   ]
  },
  {
   "cell_type": "markdown",
   "metadata": {},
   "source": [
    "### porfolio.json\n",
    "\n",
    "The dataset contains offer ids and metadata about each offer.\n",
    "\n",
    "* id (string) - offer id\n",
    "* offer_type (string) - type of offer ie BOGO, discount, informational\n",
    "* difficulty (int) - minimum required spend to complete an offer\n",
    "* reward (int) - reward given for completing an offer\n",
    "* duration (int) - time for offer to be open, in days\n",
    "* channels (list of strings) - identifies the channel/channels where the offer was sent (email, social, mobile, web)"
   ]
  },
  {
   "cell_type": "markdown",
   "metadata": {},
   "source": [
    "### profile.json\n",
    "\n",
    "The dataset contains details on the customer's demographic.\n",
    "\n",
    "* age (int) - age of the customer\n",
    "* became_member_on (int) - date when customer created an app account\n",
    "* gender (str) - gender of the customer (note some entries contain 'O' for other rather than M or F)\n",
    "* id (str) - customer id\n",
    "* income (float) - customer's income"
   ]
  },
  {
   "cell_type": "markdown",
   "metadata": {},
   "source": [
    "### transcript.json\n",
    "This dataset contains customer transactions and defines when the customer receives, views, and completes the offer. \n",
    "\n",
    "* event (str) - record description (transaction, offer received, offer viewed, offer completed)\n",
    "* person (str) - customer id\n",
    "* time (int) - time in hours since start of test. The data begins at time t=0\n",
    "* value - (dict of strings) - consists of an offer id for offer received and viewed, an offer id and reward for offer completed, and the amount spent for transactions.  "
   ]
  },
  {
   "cell_type": "markdown",
   "metadata": {},
   "source": [
    "TODO:\n",
    "* The datasets and inputs — data or inputs being used for the problem;\n",
    "* A solution statement — the solution proposed for the problem given;\n",
    "* A benchmark model — some simple or historical model or result to compare the defined solution to;\n",
    "* A set of evaluation metrics — functional representations for how the solution can be measured;\n",
    "* An outline of the project design — how the solution will be developed and results obtained."
   ]
  },
  {
   "cell_type": "markdown",
   "metadata": {},
   "source": [
    "## REFERENCE:\n",
    "\n",
    "* Fontanella, C. (2022, August 18). [A beginner's Guide to Customer Behavior Analysis. HubSpot Blog.](https://blog.hubspot.com/service/customer-behavior-analysis#:~:text=Customer%20behavior%20refers%20to%20an,enticing%20products%20and%20service%20offers) Retrieved February 26, 2023. \n",
    "* [Starbucks Marketing Strategy.]( https://www.studysmarter.co.uk/explanations/business-studies/business-case-studies/starbucks-marketing-strategy/) (n.d.). StudySmarter UK. Retrieved 27 February 2023.\n",
    "* [The 10 Largest Coffee Companies In The World – Zippia.](https://www.zippia.com/advice/largest-coffee-companies/) (2022, September 14). Retrived 27 February 2023. \n",
    "* [What is Consumer Research? on JSTOR.](https://www.jstor.org/stable/2489249) (n.d.). Retrieved 28 February 2023\n",
    "* [What Is Consumer Behavior in Marketing? - Factors, Model & Definition.](https://study.com/academy/lesson/what-is-consumer-behavior-in-marketing-factors-model-definition.html) (n.d.). study.com. Retrieved February 28, 2023."
   ]
  },
  {
   "cell_type": "code",
   "execution_count": null,
   "metadata": {},
   "outputs": [],
   "source": []
  }
 ],
 "metadata": {
  "kernelspec": {
   "display_name": "Python 3",
   "language": "python",
   "name": "python3"
  },
  "language_info": {
   "codemirror_mode": {
    "name": "ipython",
    "version": 3
   },
   "file_extension": ".py",
   "mimetype": "text/x-python",
   "name": "python",
   "nbconvert_exporter": "python",
   "pygments_lexer": "ipython3",
   "version": "3.9.6"
  },
  "vscode": {
   "interpreter": {
    "hash": "31f2aee4e71d21fbe5cf8b01ff0e069b9275f58929596ceb00d14d90e3e16cd6"
   }
  }
 },
 "nbformat": 4,
 "nbformat_minor": 2
}
