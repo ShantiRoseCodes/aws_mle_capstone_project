{
 "cells": [
  {
   "cell_type": "code",
   "execution_count": 2,
   "id": "8a0737ba-fe5f-4324-ac7b-f81cc63af292",
   "metadata": {
    "tags": []
   },
   "outputs": [
    {
     "name": "stdout",
     "output_type": "stream",
     "text": [
      "Requirement already satisfied: lightgbm in /opt/conda/lib/python3.7/site-packages (3.3.5)\n",
      "Requirement already satisfied: wheel in /opt/conda/lib/python3.7/site-packages (from lightgbm) (0.40.0)\n",
      "Requirement already satisfied: scipy in /opt/conda/lib/python3.7/site-packages (from lightgbm) (1.4.1)\n",
      "Requirement already satisfied: scikit-learn!=0.22.0 in /opt/conda/lib/python3.7/site-packages (from lightgbm) (0.22.1)\n",
      "Requirement already satisfied: numpy in /opt/conda/lib/python3.7/site-packages (from lightgbm) (1.21.6)\n",
      "Requirement already satisfied: joblib>=0.11 in /opt/conda/lib/python3.7/site-packages (from scikit-learn!=0.22.0->lightgbm) (1.2.0)\n",
      "\u001b[33mWARNING: Running pip as the 'root' user can result in broken permissions and conflicting behaviour with the system package manager. It is recommended to use a virtual environment instead: https://pip.pypa.io/warnings/venv\u001b[0m\u001b[33m\n",
      "\u001b[0m"
     ]
    }
   ],
   "source": [
    "!pip install lightgbm\n"
   ]
  },
  {
   "cell_type": "code",
   "execution_count": 61,
   "id": "253febc8-2098-48c3-ac85-21bd80b1b098",
   "metadata": {
    "tags": []
   },
   "outputs": [],
   "source": [
    "import pandas as pd\n",
    "import numpy as np\n",
    "import math\n",
    "import json\n",
    "import seaborn as sns\n",
    "import matplotlib.pyplot as plt\n",
    "import os\n",
    "import lightgbm as lgb\n",
    "from sklearn.metrics import f1_score, confusion_matrix\n",
    "from sklearn.ensemble import RandomForestClassifier"
   ]
  },
  {
   "cell_type": "code",
   "execution_count": 4,
   "id": "49d20db8-968b-4477-971f-01a3b8a86d5e",
   "metadata": {},
   "outputs": [],
   "source": [
    "user_type = pd.read_csv('data/transaction_with_labels.csv')"
   ]
  },
  {
   "cell_type": "code",
   "execution_count": 5,
   "id": "08903000-a8bc-40a5-abf5-b636602cfdd8",
   "metadata": {
    "tags": []
   },
   "outputs": [
    {
     "data": {
      "text/html": [
       "<div>\n",
       "<style scoped>\n",
       "    .dataframe tbody tr th:only-of-type {\n",
       "        vertical-align: middle;\n",
       "    }\n",
       "\n",
       "    .dataframe tbody tr th {\n",
       "        vertical-align: top;\n",
       "    }\n",
       "\n",
       "    .dataframe thead th {\n",
       "        text-align: right;\n",
       "    }\n",
       "</style>\n",
       "<table border=\"1\" class=\"dataframe\">\n",
       "  <thead>\n",
       "    <tr style=\"text-align: right;\">\n",
       "      <th></th>\n",
       "      <th>offer_type</th>\n",
       "      <th>offer_received</th>\n",
       "      <th>offer_viewed</th>\n",
       "      <th>received_viewed</th>\n",
       "      <th>amount_spent</th>\n",
       "    </tr>\n",
       "  </thead>\n",
       "  <tbody>\n",
       "    <tr>\n",
       "      <th>14</th>\n",
       "      <td>informational</td>\n",
       "      <td>1</td>\n",
       "      <td>1</td>\n",
       "      <td>18.0</td>\n",
       "      <td>13.25</td>\n",
       "    </tr>\n",
       "    <tr>\n",
       "      <th>28</th>\n",
       "      <td>informational</td>\n",
       "      <td>1</td>\n",
       "      <td>1</td>\n",
       "      <td>0.0</td>\n",
       "      <td>1.72</td>\n",
       "    </tr>\n",
       "    <tr>\n",
       "      <th>41</th>\n",
       "      <td>informational</td>\n",
       "      <td>1</td>\n",
       "      <td>1</td>\n",
       "      <td>120.0</td>\n",
       "      <td>29.86</td>\n",
       "    </tr>\n",
       "    <tr>\n",
       "      <th>44</th>\n",
       "      <td>informational</td>\n",
       "      <td>1</td>\n",
       "      <td>1</td>\n",
       "      <td>0.0</td>\n",
       "      <td>2.63</td>\n",
       "    </tr>\n",
       "    <tr>\n",
       "      <th>59</th>\n",
       "      <td>informational</td>\n",
       "      <td>1</td>\n",
       "      <td>1</td>\n",
       "      <td>6.0</td>\n",
       "      <td>13.69</td>\n",
       "    </tr>\n",
       "    <tr>\n",
       "      <th>...</th>\n",
       "      <td>...</td>\n",
       "      <td>...</td>\n",
       "      <td>...</td>\n",
       "      <td>...</td>\n",
       "      <td>...</td>\n",
       "    </tr>\n",
       "    <tr>\n",
       "      <th>20895</th>\n",
       "      <td>informational</td>\n",
       "      <td>1</td>\n",
       "      <td>1</td>\n",
       "      <td>30.0</td>\n",
       "      <td>1.08</td>\n",
       "    </tr>\n",
       "    <tr>\n",
       "      <th>20908</th>\n",
       "      <td>informational</td>\n",
       "      <td>1</td>\n",
       "      <td>1</td>\n",
       "      <td>108.0</td>\n",
       "      <td>25.54</td>\n",
       "    </tr>\n",
       "    <tr>\n",
       "      <th>20909</th>\n",
       "      <td>informational</td>\n",
       "      <td>1</td>\n",
       "      <td>1</td>\n",
       "      <td>0.0</td>\n",
       "      <td>19.88</td>\n",
       "    </tr>\n",
       "    <tr>\n",
       "      <th>20917</th>\n",
       "      <td>informational</td>\n",
       "      <td>1</td>\n",
       "      <td>1</td>\n",
       "      <td>18.0</td>\n",
       "      <td>25.07</td>\n",
       "    </tr>\n",
       "    <tr>\n",
       "      <th>20933</th>\n",
       "      <td>informational</td>\n",
       "      <td>1</td>\n",
       "      <td>1</td>\n",
       "      <td>42.0</td>\n",
       "      <td>2.93</td>\n",
       "    </tr>\n",
       "  </tbody>\n",
       "</table>\n",
       "<p>2423 rows × 5 columns</p>\n",
       "</div>"
      ],
      "text/plain": [
       "          offer_type  offer_received  offer_viewed  received_viewed  \\\n",
       "14     informational               1             1             18.0   \n",
       "28     informational               1             1              0.0   \n",
       "41     informational               1             1            120.0   \n",
       "44     informational               1             1              0.0   \n",
       "59     informational               1             1              6.0   \n",
       "...              ...             ...           ...              ...   \n",
       "20895  informational               1             1             30.0   \n",
       "20908  informational               1             1            108.0   \n",
       "20909  informational               1             1              0.0   \n",
       "20917  informational               1             1             18.0   \n",
       "20933  informational               1             1             42.0   \n",
       "\n",
       "       amount_spent  \n",
       "14            13.25  \n",
       "28             1.72  \n",
       "41            29.86  \n",
       "44             2.63  \n",
       "59            13.69  \n",
       "...             ...  \n",
       "20895          1.08  \n",
       "20908         25.54  \n",
       "20909         19.88  \n",
       "20917         25.07  \n",
       "20933          2.93  \n",
       "\n",
       "[2423 rows x 5 columns]"
      ]
     },
     "execution_count": 5,
     "metadata": {},
     "output_type": "execute_result"
    }
   ],
   "source": [
    "user_type[(user_type.offer_type == 'informational') & (user_type.offer_received == 1) & (user_type.offer_viewed == 1)][['offer_type', 'offer_received', 'offer_viewed', 'received_viewed', 'amount_spent']]"
   ]
  },
  {
   "cell_type": "code",
   "execution_count": 91,
   "id": "a72244d6-8fb1-41c9-830e-dbd026afadd9",
   "metadata": {
    "tags": []
   },
   "outputs": [
    {
     "data": {
      "text/plain": [
       "Index(['age', 'income', 'membership_duration', 'difficulty', 'duration',\n",
       "       'reward', 'web', 'email', 'social', 'mobile', 'label', 'gender = _F',\n",
       "       'gender = _M', 'gender = _O'],\n",
       "      dtype='object')"
      ]
     },
     "execution_count": 91,
     "metadata": {},
     "output_type": "execute_result"
    }
   ],
   "source": [
    "user_type.columns"
   ]
  },
  {
   "cell_type": "code",
   "execution_count": null,
   "id": "5a84f006-b513-4bd0-a598-49c7ecf8cbcb",
   "metadata": {
    "tags": []
   },
   "outputs": [],
   "source": [
    "user_type.drop(['became_member_on', 'event', 'time', 'offer_received',\n",
    "       'time_received', 'offer_id', 'offer_viewed', 'time_viewed',\n",
    "       'offer_completed', 'time_completed', 'reward_received', 'offer',\n",
    "       'offer_type', 'channels', 'duration_hr', 'received_viewed',\n",
    "       'viewed_completed', 'received_completed_diff', 'duration_diff', 'person', 'valid_complete', 'amount_spent', 'completed'], axis = 1, inplace = True)"
   ]
  },
  {
   "cell_type": "code",
   "execution_count": 7,
   "id": "56abcafc-bebd-445f-a439-3bc065dcb4c2",
   "metadata": {
    "tags": []
   },
   "outputs": [
    {
     "data": {
      "text/html": [
       "<div>\n",
       "<style scoped>\n",
       "    .dataframe tbody tr th:only-of-type {\n",
       "        vertical-align: middle;\n",
       "    }\n",
       "\n",
       "    .dataframe tbody tr th {\n",
       "        vertical-align: top;\n",
       "    }\n",
       "\n",
       "    .dataframe thead th {\n",
       "        text-align: right;\n",
       "    }\n",
       "</style>\n",
       "<table border=\"1\" class=\"dataframe\">\n",
       "  <thead>\n",
       "    <tr style=\"text-align: right;\">\n",
       "      <th></th>\n",
       "      <th>age</th>\n",
       "      <th>gender</th>\n",
       "      <th>income</th>\n",
       "      <th>membership_duration</th>\n",
       "      <th>difficulty</th>\n",
       "      <th>duration</th>\n",
       "      <th>reward</th>\n",
       "      <th>web</th>\n",
       "      <th>email</th>\n",
       "      <th>social</th>\n",
       "      <th>mobile</th>\n",
       "      <th>label</th>\n",
       "    </tr>\n",
       "  </thead>\n",
       "  <tbody>\n",
       "    <tr>\n",
       "      <th>0</th>\n",
       "      <td>55</td>\n",
       "      <td>F</td>\n",
       "      <td>112000.0</td>\n",
       "      <td>376</td>\n",
       "      <td>0</td>\n",
       "      <td>4</td>\n",
       "      <td>0</td>\n",
       "      <td>1</td>\n",
       "      <td>1</td>\n",
       "      <td>0</td>\n",
       "      <td>1</td>\n",
       "      <td>buy without offer</td>\n",
       "    </tr>\n",
       "    <tr>\n",
       "      <th>1</th>\n",
       "      <td>55</td>\n",
       "      <td>F</td>\n",
       "      <td>112000.0</td>\n",
       "      <td>376</td>\n",
       "      <td>0</td>\n",
       "      <td>4</td>\n",
       "      <td>0</td>\n",
       "      <td>1</td>\n",
       "      <td>1</td>\n",
       "      <td>0</td>\n",
       "      <td>1</td>\n",
       "      <td>buy without offer</td>\n",
       "    </tr>\n",
       "    <tr>\n",
       "      <th>2</th>\n",
       "      <td>55</td>\n",
       "      <td>F</td>\n",
       "      <td>112000.0</td>\n",
       "      <td>376</td>\n",
       "      <td>5</td>\n",
       "      <td>7</td>\n",
       "      <td>5</td>\n",
       "      <td>1</td>\n",
       "      <td>1</td>\n",
       "      <td>0</td>\n",
       "      <td>1</td>\n",
       "      <td>buy without offer</td>\n",
       "    </tr>\n",
       "    <tr>\n",
       "      <th>3</th>\n",
       "      <td>55</td>\n",
       "      <td>F</td>\n",
       "      <td>112000.0</td>\n",
       "      <td>376</td>\n",
       "      <td>0</td>\n",
       "      <td>4</td>\n",
       "      <td>0</td>\n",
       "      <td>1</td>\n",
       "      <td>1</td>\n",
       "      <td>0</td>\n",
       "      <td>1</td>\n",
       "      <td>buy without offer</td>\n",
       "    </tr>\n",
       "    <tr>\n",
       "      <th>4</th>\n",
       "      <td>75</td>\n",
       "      <td>F</td>\n",
       "      <td>100000.0</td>\n",
       "      <td>443</td>\n",
       "      <td>5</td>\n",
       "      <td>7</td>\n",
       "      <td>5</td>\n",
       "      <td>1</td>\n",
       "      <td>1</td>\n",
       "      <td>0</td>\n",
       "      <td>1</td>\n",
       "      <td>bogo buyers</td>\n",
       "    </tr>\n",
       "    <tr>\n",
       "      <th>...</th>\n",
       "      <td>...</td>\n",
       "      <td>...</td>\n",
       "      <td>...</td>\n",
       "      <td>...</td>\n",
       "      <td>...</td>\n",
       "      <td>...</td>\n",
       "      <td>...</td>\n",
       "      <td>...</td>\n",
       "      <td>...</td>\n",
       "      <td>...</td>\n",
       "      <td>...</td>\n",
       "      <td>...</td>\n",
       "    </tr>\n",
       "    <tr>\n",
       "      <th>148668</th>\n",
       "      <td>62</td>\n",
       "      <td>F</td>\n",
       "      <td>82000.0</td>\n",
       "      <td>369</td>\n",
       "      <td>0</td>\n",
       "      <td>4</td>\n",
       "      <td>0</td>\n",
       "      <td>1</td>\n",
       "      <td>1</td>\n",
       "      <td>0</td>\n",
       "      <td>1</td>\n",
       "      <td>buy without offer</td>\n",
       "    </tr>\n",
       "    <tr>\n",
       "      <th>148669</th>\n",
       "      <td>62</td>\n",
       "      <td>F</td>\n",
       "      <td>82000.0</td>\n",
       "      <td>369</td>\n",
       "      <td>0</td>\n",
       "      <td>4</td>\n",
       "      <td>0</td>\n",
       "      <td>1</td>\n",
       "      <td>1</td>\n",
       "      <td>0</td>\n",
       "      <td>1</td>\n",
       "      <td>buy without offer</td>\n",
       "    </tr>\n",
       "    <tr>\n",
       "      <th>148670</th>\n",
       "      <td>62</td>\n",
       "      <td>F</td>\n",
       "      <td>82000.0</td>\n",
       "      <td>369</td>\n",
       "      <td>0</td>\n",
       "      <td>4</td>\n",
       "      <td>0</td>\n",
       "      <td>1</td>\n",
       "      <td>1</td>\n",
       "      <td>0</td>\n",
       "      <td>1</td>\n",
       "      <td>buy without offer</td>\n",
       "    </tr>\n",
       "    <tr>\n",
       "      <th>148671</th>\n",
       "      <td>62</td>\n",
       "      <td>F</td>\n",
       "      <td>82000.0</td>\n",
       "      <td>369</td>\n",
       "      <td>0</td>\n",
       "      <td>4</td>\n",
       "      <td>0</td>\n",
       "      <td>1</td>\n",
       "      <td>1</td>\n",
       "      <td>0</td>\n",
       "      <td>1</td>\n",
       "      <td>buy without offer</td>\n",
       "    </tr>\n",
       "    <tr>\n",
       "      <th>148672</th>\n",
       "      <td>62</td>\n",
       "      <td>F</td>\n",
       "      <td>82000.0</td>\n",
       "      <td>369</td>\n",
       "      <td>0</td>\n",
       "      <td>4</td>\n",
       "      <td>0</td>\n",
       "      <td>1</td>\n",
       "      <td>1</td>\n",
       "      <td>0</td>\n",
       "      <td>1</td>\n",
       "      <td>buy without offer</td>\n",
       "    </tr>\n",
       "  </tbody>\n",
       "</table>\n",
       "<p>148673 rows × 12 columns</p>\n",
       "</div>"
      ],
      "text/plain": [
       "        age gender    income  membership_duration  difficulty  duration  \\\n",
       "0        55      F  112000.0                  376           0         4   \n",
       "1        55      F  112000.0                  376           0         4   \n",
       "2        55      F  112000.0                  376           5         7   \n",
       "3        55      F  112000.0                  376           0         4   \n",
       "4        75      F  100000.0                  443           5         7   \n",
       "...     ...    ...       ...                  ...         ...       ...   \n",
       "148668   62      F   82000.0                  369           0         4   \n",
       "148669   62      F   82000.0                  369           0         4   \n",
       "148670   62      F   82000.0                  369           0         4   \n",
       "148671   62      F   82000.0                  369           0         4   \n",
       "148672   62      F   82000.0                  369           0         4   \n",
       "\n",
       "        reward  web  email  social  mobile              label  \n",
       "0            0    1      1       0       1  buy without offer  \n",
       "1            0    1      1       0       1  buy without offer  \n",
       "2            5    1      1       0       1  buy without offer  \n",
       "3            0    1      1       0       1  buy without offer  \n",
       "4            5    1      1       0       1        bogo buyers  \n",
       "...        ...  ...    ...     ...     ...                ...  \n",
       "148668       0    1      1       0       1  buy without offer  \n",
       "148669       0    1      1       0       1  buy without offer  \n",
       "148670       0    1      1       0       1  buy without offer  \n",
       "148671       0    1      1       0       1  buy without offer  \n",
       "148672       0    1      1       0       1  buy without offer  \n",
       "\n",
       "[148673 rows x 12 columns]"
      ]
     },
     "execution_count": 7,
     "metadata": {},
     "output_type": "execute_result"
    }
   ],
   "source": [
    "user_type"
   ]
  },
  {
   "cell_type": "code",
   "execution_count": 8,
   "id": "e8d4da18-165b-4c34-9827-a0757a14fd25",
   "metadata": {
    "tags": []
   },
   "outputs": [],
   "source": [
    "def _transform_column_into_dummies(dataframe, names_of_column):\n",
    "    \n",
    "    to_concat = [dataframe]\n",
    "    \n",
    "    for name in names_of_column:\n",
    "        dummies = pd.get_dummies(dataframe[name], prefix=f\"{name} = \")\n",
    "        to_concat.append(dummies)\n",
    "    \n",
    "    dataframe = pd.concat(to_concat, axis=1)\n",
    "    \n",
    "    dataframe = dataframe.drop(names_of_column, axis=1)\n",
    "    \n",
    "    return dataframe\n",
    "\n",
    "user_type = _transform_column_into_dummies(user_type, ['gender'])"
   ]
  },
  {
   "cell_type": "code",
   "execution_count": 9,
   "id": "a55e4096-6168-4d4c-9a27-62617f114a26",
   "metadata": {
    "tags": []
   },
   "outputs": [],
   "source": [
    "from sklearn.preprocessing import LabelEncoder"
   ]
  },
  {
   "cell_type": "code",
   "execution_count": 10,
   "id": "7ec9c31c-9635-4f80-b70e-73ccfcd89c95",
   "metadata": {
    "tags": []
   },
   "outputs": [],
   "source": [
    "le_label = LabelEncoder()\n",
    "user_type['label'] = le_label.fit_transform(user_type['label'])"
   ]
  },
  {
   "cell_type": "code",
   "execution_count": 11,
   "id": "9e6165be-289a-45fa-bd10-cece2290ab19",
   "metadata": {
    "tags": []
   },
   "outputs": [
    {
     "data": {
      "text/plain": [
       "0        0\n",
       "1        0\n",
       "2        1\n",
       "3        1\n",
       "4        0\n",
       "        ..\n",
       "20931    1\n",
       "20932    1\n",
       "20933    3\n",
       "20934    1\n",
       "20935    2\n",
       "Name: label, Length: 20936, dtype: int64"
      ]
     },
     "execution_count": 11,
     "metadata": {},
     "output_type": "execute_result"
    }
   ],
   "source": [
    "user_type['label']"
   ]
  },
  {
   "cell_type": "code",
   "execution_count": 12,
   "id": "7f539e92-87fb-42d8-95fe-3e12dfd7088f",
   "metadata": {
    "tags": []
   },
   "outputs": [],
   "source": [
    "user_types = le_label.inverse_transform(user_type['label'])"
   ]
  },
  {
   "cell_type": "code",
   "execution_count": 13,
   "id": "8901a257-1d75-4f7a-9490-c7bc422ced49",
   "metadata": {
    "tags": []
   },
   "outputs": [],
   "source": [
    "labels = pd.DataFrame({'label': user_type['label'], 'decoded': user_types})"
   ]
  },
  {
   "cell_type": "code",
   "execution_count": 14,
   "id": "700f7d0c-2780-4834-9370-95f01bfefd36",
   "metadata": {
    "tags": []
   },
   "outputs": [
    {
     "data": {
      "text/plain": [
       "array(['bogo buyers', 'buy without offer', 'discount buyers',\n",
       "       'informational buyers'], dtype=object)"
      ]
     },
     "execution_count": 14,
     "metadata": {},
     "output_type": "execute_result"
    }
   ],
   "source": [
    "labels['decoded'].unique()"
   ]
  },
  {
   "cell_type": "code",
   "execution_count": 15,
   "id": "ebd79149-a47d-4de9-bb51-02b3aee34527",
   "metadata": {
    "tags": []
   },
   "outputs": [
    {
     "data": {
      "text/plain": [
       "array([0, 1, 2, 3])"
      ]
     },
     "execution_count": 15,
     "metadata": {},
     "output_type": "execute_result"
    }
   ],
   "source": [
    "labels['label'].unique()"
   ]
  },
  {
   "cell_type": "code",
   "execution_count": 16,
   "id": "decce1c2-8c9a-4bed-98c9-dd6044bdece0",
   "metadata": {
    "tags": []
   },
   "outputs": [],
   "source": [
    "X = user_type.drop('label', axis = 1)\n",
    "y = user_type['label']"
   ]
  },
  {
   "cell_type": "code",
   "execution_count": 17,
   "id": "aecee943-3ae7-463e-8f48-a93f7ff62919",
   "metadata": {
    "tags": []
   },
   "outputs": [],
   "source": [
    "from sklearn.model_selection import train_test_split\n",
    "\n",
    "X_train, X_test, y_train, y_test = train_test_split(X, y, test_size=0.2, random_state=1, shuffle = True)\n",
    "\n",
    "X_train, X_val, y_train, y_val = train_test_split(X_train, y_train, test_size=0.25, random_state=1, shuffle = True) # 0.25 x 0.8 = 0.2"
   ]
  },
  {
   "cell_type": "code",
   "execution_count": 18,
   "id": "9c822b72-3f05-400c-ad01-820678d1930e",
   "metadata": {},
   "outputs": [],
   "source": [
    "from sklearn import tree\n",
    "tree_clf = tree.DecisionTreeClassifier()\n",
    "tree_clf = tree_clf.fit(X_train, y_train)"
   ]
  },
  {
   "cell_type": "code",
   "execution_count": 19,
   "id": "31565ef8-6383-45f9-ac14-a7f70028fb36",
   "metadata": {
    "tags": []
   },
   "outputs": [
    {
     "data": {
      "text/plain": [
       "array([0, 1, 2, 3])"
      ]
     },
     "execution_count": 19,
     "metadata": {},
     "output_type": "execute_result"
    }
   ],
   "source": [
    "tree_clf.classes_"
   ]
  },
  {
   "cell_type": "code",
   "execution_count": 20,
   "id": "8334c76f-f878-4c3a-bb38-3debccdcd231",
   "metadata": {
    "tags": []
   },
   "outputs": [],
   "source": [
    "tree_pred = tree_clf.predict(X_val)"
   ]
  },
  {
   "cell_type": "code",
   "execution_count": 21,
   "id": "bcffdee5-ee0e-422d-8931-f7cf90c9ba75",
   "metadata": {
    "tags": []
   },
   "outputs": [],
   "source": [
    "tree_proba = tree_clf.predict_proba(X_val)"
   ]
  },
  {
   "cell_type": "code",
   "execution_count": 23,
   "id": "bc8faf40-1ade-46bc-96b0-0e402c886f0f",
   "metadata": {
    "tags": []
   },
   "outputs": [],
   "source": [
    "tree_f1 = f1_score(tree_pred, y_val, average = 'weighted')"
   ]
  },
  {
   "cell_type": "code",
   "execution_count": 24,
   "id": "802e2e2f-4453-47a5-b7f6-24592324ac78",
   "metadata": {
    "tags": []
   },
   "outputs": [
    {
     "name": "stdout",
     "output_type": "stream",
     "text": [
      "0.7509878682019612\n"
     ]
    }
   ],
   "source": [
    "print(tree_f1)"
   ]
  },
  {
   "cell_type": "code",
   "execution_count": 25,
   "id": "6cf1ee8f-df72-4e7a-be86-f1557777b425",
   "metadata": {
    "tags": []
   },
   "outputs": [
    {
     "name": "stdout",
     "output_type": "stream",
     "text": [
      "Feature ranking:\n",
      "1. feature 2 age (0.259718)\n",
      "2. feature 4 income (0.245271)\n",
      "3. feature 1 membership_duration (0.195866)\n",
      "4. feature 0 difficulty (0.141952)\n",
      "5. feature 5 duration (0.062129)\n",
      "6. feature 8 reward (0.030899)\n",
      "7. feature 6 web (0.022869)\n",
      "8. feature 11 email (0.014028)\n",
      "9. feature 10 social (0.008505)\n",
      "10. feature 3 mobile (0.008186)\n",
      "11. feature 9 gender = _F (0.007223)\n",
      "12. feature 12 gender = _M (0.003354)\n",
      "13. feature 7 gender = _O (0.000000)\n"
     ]
    },
    {
     "data": {
      "image/png": "[encoded data removed]",
      "text/plain": [
       "<Figure size 640x480 with 1 Axes>"
      ]
     },
     "metadata": {},
     "output_type": "display_data"
    }
   ],
   "source": [
    "# get feature importances\n",
    "tree_importances = tree_clf.feature_importances_\n",
    "\n",
    "# sort feature importances in descending order\n",
    "indices = np.argsort(tree_importances)[::-1]\n",
    "\n",
    "# print out the feature ranking\n",
    "print(\"Feature ranking:\")\n",
    "for f in range(X.shape[1]):\n",
    "    print(\"%d. feature %d %s (%f)\" % (f + 1, indices[f], X.columns[f], tree_importances[indices[f]]))\n",
    "\n",
    "# plot the feature importances\n",
    "plt.title(\"Feature importances\")\n",
    "plt.bar(range(X.shape[1]), tree_importances[indices])\n",
    "plt.xticks(range(X.shape[1]), indices)\n",
    "plt.show()"
   ]
  },
  {
   "cell_type": "code",
   "execution_count": 27,
   "id": "c9693e2e-aa36-431b-9eeb-0d06140475c2",
   "metadata": {
    "tags": []
   },
   "outputs": [
    {
     "data": {
      "image/png": "[encoded data removed]",
      "text/plain": [
       "<Figure size 640x480 with 2 Axes>"
      ]
     },
     "metadata": {},
     "output_type": "display_data"
    }
   ],
   "source": [
    "# Compute the confusion matrix\n",
    "tree_cm = confusion_matrix(y_val, tree_pred)\n",
    "\n",
    "# Visualize the confusion matrix as a heatmap\n",
    "fig, ax = plt.subplots()\n",
    "im = ax.imshow(tree_cm, interpolation='nearest', cmap=plt.cm.Blues)\n",
    "ax.set(xticks=np.arange(tree_cm.shape[1]),\n",
    "       yticks=np.arange(tree_cm.shape[0]),\n",
    "       xticklabels=['bogo', 'no offer', 'discount', 'info'],\n",
    "       yticklabels=['bogo', 'no offer', 'discount', 'info'],\n",
    "       xlabel='Predicted label',\n",
    "       ylabel='True label')\n",
    "\n",
    "# Add colorbar\n",
    "cbar = ax.figure.colorbar(im, ax=ax)\n",
    "\n",
    "# Loop over data to add annotations\n",
    "for i in range(tree_cm.shape[0]):\n",
    "    for j in range(tree_cm.shape[1]):\n",
    "        ax.text(j, i, tree_cm[i, j], ha=\"center\", va=\"center\", color=\"white\")\n",
    "\n",
    "fig.tight_layout()\n",
    "plt.show()"
   ]
  },
  {
   "cell_type": "code",
   "execution_count": 28,
   "id": "85411679-9de6-465c-bcc0-d8e430326718",
   "metadata": {},
   "outputs": [],
   "source": [
    "forest_clf = RandomForestClassifier(max_depth=2, random_state=0)\n",
    "forest_clf = forest_clf.fit(X_train, y_train)"
   ]
  },
  {
   "cell_type": "code",
   "execution_count": 29,
   "id": "6583d1d8-70cc-4e51-a82c-5133bc9cd8a3",
   "metadata": {
    "tags": []
   },
   "outputs": [],
   "source": [
    "forest_pred = forest_clf.predict(X_val)"
   ]
  },
  {
   "cell_type": "code",
   "execution_count": 30,
   "id": "5d2c7172-c40a-436d-8060-dcb2fff9bb58",
   "metadata": {
    "tags": []
   },
   "outputs": [],
   "source": [
    "forest_f1 = f1_score(forest_pred, y_val, average = \"weighted\")"
   ]
  },
  {
   "cell_type": "code",
   "execution_count": 31,
   "id": "f68e4da7-5076-4420-8f08-d17a6850285c",
   "metadata": {
    "tags": []
   },
   "outputs": [
    {
     "name": "stdout",
     "output_type": "stream",
     "text": [
      "0.8426401748435064\n"
     ]
    }
   ],
   "source": [
    "print(forest_f1)"
   ]
  },
  {
   "cell_type": "code",
   "execution_count": 33,
   "id": "1ae9ce93-5004-4922-ad61-1b7caaa52992",
   "metadata": {
    "tags": []
   },
   "outputs": [
    {
     "data": {
      "image/png": "[encoded data removed]",
      "text/plain": [
       "<Figure size 640x480 with 2 Axes>"
      ]
     },
     "metadata": {},
     "output_type": "display_data"
    }
   ],
   "source": [
    "# Compute the confusion matrix\n",
    "forest_cm = confusion_matrix(y_val, forest_pred)\n",
    "\n",
    "# Visualize the confusion matrix as a heatmap\n",
    "fig, ax = plt.subplots()\n",
    "im = ax.imshow(tree_cm, interpolation='nearest', cmap=plt.cm.Blues)\n",
    "ax.set(xticks=np.arange(forest_cm.shape[1]),\n",
    "       yticks=np.arange(forest_cm.shape[0]),\n",
    "       xticklabels=['bogo', 'no offer', 'discount', 'info'],\n",
    "       yticklabels=['bogo', 'no offer', 'discount', 'info'],\n",
    "       xlabel='Predicted label',\n",
    "       ylabel='True label')\n",
    "\n",
    "# Add colorbar\n",
    "cbar = ax.figure.colorbar(im, ax=ax)\n",
    "\n",
    "# Loop over data to add annotations\n",
    "for i in range(forest_cm.shape[0]):\n",
    "    for j in range(forest_cm.shape[1]):\n",
    "        ax.text(j, i, forest_cm[i, j], ha=\"center\", va=\"center\", color=\"white\")\n",
    "\n",
    "fig.tight_layout()\n",
    "plt.show()"
   ]
  },
  {
   "cell_type": "code",
   "execution_count": 34,
   "id": "28cafe8b-b1e7-45ca-9e62-b94b0f7cc173",
   "metadata": {
    "tags": []
   },
   "outputs": [
    {
     "name": "stdout",
     "output_type": "stream",
     "text": [
      "Feature ranking:\n",
      "1. feature 4 age (0.283364)\n",
      "2. feature 5 income (0.257761)\n",
      "3. feature 3 membership_duration (0.234630)\n",
      "4. feature 1 difficulty (0.097992)\n",
      "5. feature 6 duration (0.047045)\n",
      "6. feature 2 reward (0.031239)\n",
      "7. feature 8 web (0.017431)\n",
      "8. feature 9 email (0.016229)\n",
      "9. feature 10 social (0.007582)\n",
      "10. feature 11 mobile (0.006337)\n",
      "11. feature 0 gender = _F (0.000382)\n",
      "12. feature 12 gender = _M (0.000009)\n",
      "13. feature 7 gender = _O (0.000000)\n"
     ]
    },
    {
     "data": {
      "image/png": "[encoded data removed]",
      "text/plain": [
       "<Figure size 640x480 with 1 Axes>"
      ]
     },
     "metadata": {},
     "output_type": "display_data"
    }
   ],
   "source": [
    "# get feature importances\n",
    "forest_importances = forest_clf.feature_importances_\n",
    "\n",
    "# sort feature importances in descending order\n",
    "indices = np.argsort(forest_importances)[::-1]\n",
    "\n",
    "# print out the feature ranking\n",
    "print(\"Feature ranking:\")\n",
    "for f in range(X.shape[1]):\n",
    "    print(\"%d. feature %d %s (%f)\" % (f + 1, indices[f], X.columns[f], forest_importances[indices[f]]))\n",
    "\n",
    "# plot the feature importances\n",
    "plt.title(\"Feature importances\")\n",
    "plt.bar(range(X.shape[1]), forest_importances[indices])\n",
    "plt.xticks(range(X.shape[1]), indices)\n",
    "plt.show()\n"
   ]
  },
  {
   "cell_type": "code",
   "execution_count": 37,
   "id": "a39acd76-b099-4b1e-a1d6-b62160f2a246",
   "metadata": {
    "tags": []
   },
   "outputs": [],
   "source": [
    "lgb_clf = lgb.LGBMClassifier()\n",
    "lgb_clf = lgb_clf.fit(X_train, y_train)"
   ]
  },
  {
   "cell_type": "code",
   "execution_count": 38,
   "id": "f1ba59d9-921f-45a8-b467-297e5907ac3b",
   "metadata": {
    "tags": []
   },
   "outputs": [],
   "source": [
    "lgb_pred = lgb_clf.predict(X_val)"
   ]
  },
  {
   "cell_type": "code",
   "execution_count": 39,
   "id": "cff297db-8f43-4af8-867c-f5a7135999de",
   "metadata": {
    "tags": []
   },
   "outputs": [],
   "source": [
    "lgb_f1 = f1_score(lgb_pred, y_val, average = \"weighted\")"
   ]
  },
  {
   "cell_type": "code",
   "execution_count": 40,
   "id": "cb83e8f4-b88a-45de-830a-fc33091f20c6",
   "metadata": {
    "tags": []
   },
   "outputs": [
    {
     "name": "stdout",
     "output_type": "stream",
     "text": [
      "0.8207744367514276\n"
     ]
    }
   ],
   "source": [
    "print(lgb_f1)"
   ]
  },
  {
   "cell_type": "code",
   "execution_count": 42,
   "id": "7e94de76-685f-4a34-9969-4d8f9e162aa5",
   "metadata": {
    "tags": []
   },
   "outputs": [
    {
     "data": {
      "image/png": "[encoded data removed]",
      "text/plain": [
       "<Figure size 640x480 with 2 Axes>"
      ]
     },
     "metadata": {},
     "output_type": "display_data"
    }
   ],
   "source": [
    "# Compute the confusion matrix\n",
    "lgb_cm = confusion_matrix(y_val, lgb_pred)\n",
    "\n",
    "# Visualize the confusion matrix as a heatmap\n",
    "fig, ax = plt.subplots()\n",
    "im = ax.imshow(lgb_cm, interpolation='nearest', cmap=plt.cm.Blues)\n",
    "ax.set(xticks=np.arange(lgb_cm.shape[1]),\n",
    "       yticks=np.arange(lgb_cm.shape[0]),\n",
    "       xticklabels=['bogo', 'no offer', 'discount', 'info'],\n",
    "       yticklabels=['bogo', 'no offer', 'discount', 'info'],\n",
    "       xlabel='Predicted label',\n",
    "       ylabel='True label')\n",
    "\n",
    "# Add colorbar\n",
    "cbar = ax.figure.colorbar(im, ax=ax)\n",
    "\n",
    "# Loop over data to add annotations\n",
    "for i in range(lgb_cm.shape[0]):\n",
    "    for j in range(lgb_cm.shape[1]):\n",
    "        ax.text(j, i, lgb_cm[i, j], ha=\"center\", va=\"center\", color=\"white\")\n",
    "\n",
    "fig.tight_layout()\n",
    "plt.show()"
   ]
  },
  {
   "cell_type": "code",
   "execution_count": 43,
   "id": "ed530d82-0619-46ca-b19e-4e1ede30b554",
   "metadata": {
    "tags": []
   },
   "outputs": [
    {
     "name": "stdout",
     "output_type": "stream",
     "text": [
      "Feature ranking:\n",
      "1. feature 2 age (4098.000000)\n",
      "2. feature 1 income (3048.000000)\n",
      "3. feature 0 membership_duration (2855.000000)\n",
      "4. feature 3 difficulty (526.000000)\n",
      "5. feature 4 duration (357.000000)\n",
      "6. feature 5 reward (297.000000)\n",
      "7. feature 8 web (245.000000)\n",
      "8. feature 11 email (218.000000)\n",
      "9. feature 10 social (208.000000)\n",
      "10. feature 6 mobile (80.000000)\n",
      "11. feature 12 gender = _F (50.000000)\n",
      "12. feature 9 gender = _M (18.000000)\n",
      "13. feature 7 gender = _O (0.000000)\n"
     ]
    },
    {
     "data": {
      "image/png": "[encoded data removed]",
      "text/plain": [
       "<Figure size 640x480 with 1 Axes>"
      ]
     },
     "metadata": {},
     "output_type": "display_data"
    }
   ],
   "source": [
    "# get feature importances\n",
    "lgb_importances = lgb_clf.feature_importances_\n",
    "\n",
    "# sort feature importances in descending order\n",
    "indices = np.argsort(lgb_importances)[::-1]\n",
    "\n",
    "# print out the feature ranking\n",
    "print(\"Feature ranking:\")\n",
    "for f in range(X.shape[1]):\n",
    "    print(\"%d. feature %d %s (%f)\" % (f + 1, indices[f], X.columns[f], lgb_importances[indices[f]]))\n",
    "\n",
    "# plot the feature importances\n",
    "plt.title(\"Feature importances\")\n",
    "plt.bar(range(X.shape[1]), lgb_importances[indices])\n",
    "plt.xticks(range(X.shape[1]), indices)\n",
    "plt.show()"
   ]
  },
  {
   "cell_type": "code",
   "execution_count": 48,
   "id": "e8e78f27-0e13-42a4-921b-ba374ce110ab",
   "metadata": {
    "tags": []
   },
   "outputs": [],
   "source": [
    "from sklearn.preprocessing import StandardScaler\n",
    "from sklearn.model_selection import StratifiedKFold, cross_val_score\n",
    "from sklearn.pipeline import Pipeline"
   ]
  },
  {
   "cell_type": "code",
   "execution_count": 49,
   "id": "2566b8d5-e2eb-4882-b037-90516d298d3d",
   "metadata": {},
   "outputs": [],
   "source": [
    "models = []\n",
    "models.append(('DT', tree.DecisionTreeClassifier()))\n",
    "models.append(('RF', RandomForestClassifier()))\n",
    "models.append(('LGBM', lgb.LGBMClassifier()))"
   ]
  },
  {
   "cell_type": "code",
   "execution_count": 50,
   "id": "b2ff217f-f946-47f5-89c4-5622cc96643f",
   "metadata": {
    "tags": []
   },
   "outputs": [
    {
     "name": "stdout",
     "output_type": "stream",
     "text": [
      "[0.75018084 0.75298501 0.74762238 0.74660143 0.76383142 0.74047729\n",
      " 0.73646855 0.77478536 0.75021532 0.74504383] DT: 0.750821 (0.010599)\n",
      "[0.79992746 0.77689687 0.81051854 0.78876035 0.80905555 0.79795422\n",
      " 0.80614609 0.80913039 0.779773   0.79557567] RF: 0.797374 (0.011566)\n",
      "[0.79463725 0.79349725 0.8163661  0.80603795 0.80417958 0.812584\n",
      " 0.81123295 0.81763935 0.79184064 0.79198643] LGBM: 0.804000 (0.009794)\n"
     ]
    }
   ],
   "source": [
    "f1_results = []\n",
    "f1_names = []\n",
    "scoring = 'f1_weighted'\n",
    "cv = StratifiedKFold(n_splits=10, shuffle=True, random_state=1)\n",
    "\n",
    "for name, model in models:\n",
    "    trans = StandardScaler()\n",
    "    pipeline = Pipeline(steps=[('t', trans), ('m', model)])\n",
    "    cv_results = cross_val_score(pipeline, \n",
    "                                    X_train, \n",
    "                                    y_train, \n",
    "                                    scoring = scoring, \n",
    "                                    cv = cv)\n",
    "    f1_results.append(abs(cv_results))\n",
    "    f1_names.append(name)\n",
    "    msg = \"%s: %f (%f)\" % (name, abs(cv_results.mean()), cv_results.std())\n",
    "    print(abs(cv_results), msg)"
   ]
  },
  {
   "cell_type": "code",
   "execution_count": 54,
   "id": "86d49c74-d04d-4ed6-bd18-36889561f1b0",
   "metadata": {
    "tags": []
   },
   "outputs": [
    {
     "data": {
      "image/png": "[encoded data removed]",
      "text/plain": [
       "<Figure size 800x400 with 1 Axes>"
      ]
     },
     "metadata": {},
     "output_type": "display_data"
    }
   ],
   "source": [
    "fig = plt.figure(figsize=(8,4))\n",
    "fig.suptitle('KFold Cross Validation F1 Scores', color = 'black')\n",
    "ax = fig.add_subplot(111)\n",
    "\n",
    "plt.boxplot(f1_results, vert = True, patch_artist = True, manage_ticks = True,\n",
    "            medianprops = {\"color\":'black'}, \n",
    "            whiskerprops = {\"color\": 'black'}, \n",
    "            capprops = {\"color\": 'black'}, \n",
    "            boxprops = {\"color\": 'black'}, \n",
    "            flierprops = {\"marker\":'o', \n",
    "                          \"markerfacecolor\":'b', \n",
    "                          \"markersize\": 12})\n",
    "\n",
    "ax.set_xticklabels(f1_names)\n",
    "\n",
    "plt.show()\n",
    "\n",
    "# plt.savefig(os.path.join('photos/kfold_f1_weighted.png'), dpi=300, format='png', bbox_inches='tight') \n"
   ]
  },
  {
   "cell_type": "code",
   "execution_count": 78,
   "id": "308fd5ea-e347-4bb7-b112-a8bf740ebc81",
   "metadata": {
    "tags": []
   },
   "outputs": [],
   "source": [
    "params = {'max_depth': [24,26,28],\n",
    "          'num_leaves': [80, 90, 100],\n",
    "          'min_data_in_leaf': [200, 500, 900]}"
   ]
  },
  {
   "cell_type": "code",
   "execution_count": 79,
   "id": "c9e6aa78-67d3-44e7-9fce-edbcdbdb7c72",
   "metadata": {
    "tags": []
   },
   "outputs": [
    {
     "name": "stdout",
     "output_type": "stream",
     "text": [
      "Fitting 10 folds for each of 10 candidates, totalling 100 fits\n",
      "[LightGBM] [Warning] min_data_in_leaf is set=900, min_child_samples=20 will be ignored. Current value: min_data_in_leaf=900\n"
     ]
    },
    {
     "name": "stderr",
     "output_type": "stream",
     "text": [
      "[Parallel(n_jobs=1)]: Using backend SequentialBackend with 1 concurrent workers.\n"
     ]
    },
    {
     "name": "stdout",
     "output_type": "stream",
     "text": [
      "[LightGBM] [Warning] min_data_in_leaf is set=900, min_child_samples=20 will be ignored. Current value: min_data_in_leaf=900\n",
      "[LightGBM] [Warning] min_data_in_leaf is set=900, min_child_samples=20 will be ignored. Current value: min_data_in_leaf=900\n",
      "[LightGBM] [Warning] min_data_in_leaf is set=900, min_child_samples=20 will be ignored. Current value: min_data_in_leaf=900\n",
      "[LightGBM] [Warning] min_data_in_leaf is set=900, min_child_samples=20 will be ignored. Current value: min_data_in_leaf=900\n",
      "[LightGBM] [Warning] min_data_in_leaf is set=900, min_child_samples=20 will be ignored. Current value: min_data_in_leaf=900\n",
      "[LightGBM] [Warning] min_data_in_leaf is set=900, min_child_samples=20 will be ignored. Current value: min_data_in_leaf=900\n",
      "[LightGBM] [Warning] min_data_in_leaf is set=900, min_child_samples=20 will be ignored. Current value: min_data_in_leaf=900\n",
      "[LightGBM] [Warning] min_data_in_leaf is set=900, min_child_samples=20 will be ignored. Current value: min_data_in_leaf=900\n",
      "[LightGBM] [Warning] min_data_in_leaf is set=900, min_child_samples=20 will be ignored. Current value: min_data_in_leaf=900\n",
      "[LightGBM] [Warning] min_data_in_leaf is set=900, min_child_samples=20 will be ignored. Current value: min_data_in_leaf=900\n",
      "[LightGBM] [Warning] min_data_in_leaf is set=900, min_child_samples=20 will be ignored. Current value: min_data_in_leaf=900\n",
      "[LightGBM] [Warning] min_data_in_leaf is set=900, min_child_samples=20 will be ignored. Current value: min_data_in_leaf=900\n",
      "[LightGBM] [Warning] min_data_in_leaf is set=900, min_child_samples=20 will be ignored. Current value: min_data_in_leaf=900\n",
      "[LightGBM] [Warning] min_data_in_leaf is set=900, min_child_samples=20 will be ignored. Current value: min_data_in_leaf=900\n",
      "[LightGBM] [Warning] min_data_in_leaf is set=900, min_child_samples=20 will be ignored. Current value: min_data_in_leaf=900\n",
      "[LightGBM] [Warning] min_data_in_leaf is set=900, min_child_samples=20 will be ignored. Current value: min_data_in_leaf=900\n",
      "[LightGBM] [Warning] min_data_in_leaf is set=900, min_child_samples=20 will be ignored. Current value: min_data_in_leaf=900\n",
      "[LightGBM] [Warning] min_data_in_leaf is set=900, min_child_samples=20 will be ignored. Current value: min_data_in_leaf=900\n",
      "[LightGBM] [Warning] min_data_in_leaf is set=200, min_child_samples=20 will be ignored. Current value: min_data_in_leaf=200\n",
      "[LightGBM] [Warning] min_data_in_leaf is set=200, min_child_samples=20 will be ignored. Current value: min_data_in_leaf=200\n",
      "[LightGBM] [Warning] min_data_in_leaf is set=200, min_child_samples=20 will be ignored. Current value: min_data_in_leaf=200\n",
      "[LightGBM] [Warning] min_data_in_leaf is set=200, min_child_samples=20 will be ignored. Current value: min_data_in_leaf=200\n",
      "[LightGBM] [Warning] min_data_in_leaf is set=200, min_child_samples=20 will be ignored. Current value: min_data_in_leaf=200\n",
      "[LightGBM] [Warning] min_data_in_leaf is set=200, min_child_samples=20 will be ignored. Current value: min_data_in_leaf=200\n",
      "[LightGBM] [Warning] min_data_in_leaf is set=200, min_child_samples=20 will be ignored. Current value: min_data_in_leaf=200\n",
      "[LightGBM] [Warning] min_data_in_leaf is set=200, min_child_samples=20 will be ignored. Current value: min_data_in_leaf=200\n",
      "[LightGBM] [Warning] min_data_in_leaf is set=200, min_child_samples=20 will be ignored. Current value: min_data_in_leaf=200\n",
      "[LightGBM] [Warning] min_data_in_leaf is set=200, min_child_samples=20 will be ignored. Current value: min_data_in_leaf=200\n",
      "[LightGBM] [Warning] min_data_in_leaf is set=900, min_child_samples=20 will be ignored. Current value: min_data_in_leaf=900\n",
      "[LightGBM] [Warning] min_data_in_leaf is set=900, min_child_samples=20 will be ignored. Current value: min_data_in_leaf=900\n",
      "[LightGBM] [Warning] min_data_in_leaf is set=900, min_child_samples=20 will be ignored. Current value: min_data_in_leaf=900\n",
      "[LightGBM] [Warning] min_data_in_leaf is set=900, min_child_samples=20 will be ignored. Current value: min_data_in_leaf=900\n",
      "[LightGBM] [Warning] min_data_in_leaf is set=900, min_child_samples=20 will be ignored. Current value: min_data_in_leaf=900\n",
      "[LightGBM] [Warning] min_data_in_leaf is set=900, min_child_samples=20 will be ignored. Current value: min_data_in_leaf=900\n",
      "[LightGBM] [Warning] min_data_in_leaf is set=900, min_child_samples=20 will be ignored. Current value: min_data_in_leaf=900\n",
      "[LightGBM] [Warning] min_data_in_leaf is set=900, min_child_samples=20 will be ignored. Current value: min_data_in_leaf=900\n",
      "[LightGBM] [Warning] min_data_in_leaf is set=900, min_child_samples=20 will be ignored. Current value: min_data_in_leaf=900\n",
      "[LightGBM] [Warning] min_data_in_leaf is set=900, min_child_samples=20 will be ignored. Current value: min_data_in_leaf=900\n",
      "[LightGBM] [Warning] min_data_in_leaf is set=500, min_child_samples=20 will be ignored. Current value: min_data_in_leaf=500\n",
      "[LightGBM] [Warning] min_data_in_leaf is set=500, min_child_samples=20 will be ignored. Current value: min_data_in_leaf=500\n",
      "[LightGBM] [Warning] min_data_in_leaf is set=500, min_child_samples=20 will be ignored. Current value: min_data_in_leaf=500\n",
      "[LightGBM] [Warning] min_data_in_leaf is set=500, min_child_samples=20 will be ignored. Current value: min_data_in_leaf=500\n",
      "[LightGBM] [Warning] min_data_in_leaf is set=500, min_child_samples=20 will be ignored. Current value: min_data_in_leaf=500\n",
      "[LightGBM] [Warning] min_data_in_leaf is set=500, min_child_samples=20 will be ignored. Current value: min_data_in_leaf=500\n",
      "[LightGBM] [Warning] min_data_in_leaf is set=500, min_child_samples=20 will be ignored. Current value: min_data_in_leaf=500\n",
      "[LightGBM] [Warning] min_data_in_leaf is set=500, min_child_samples=20 will be ignored. Current value: min_data_in_leaf=500\n",
      "[LightGBM] [Warning] min_data_in_leaf is set=500, min_child_samples=20 will be ignored. Current value: min_data_in_leaf=500\n",
      "[LightGBM] [Warning] min_data_in_leaf is set=500, min_child_samples=20 will be ignored. Current value: min_data_in_leaf=500\n",
      "[LightGBM] [Warning] min_data_in_leaf is set=500, min_child_samples=20 will be ignored. Current value: min_data_in_leaf=500\n",
      "[LightGBM] [Warning] min_data_in_leaf is set=500, min_child_samples=20 will be ignored. Current value: min_data_in_leaf=500\n",
      "[LightGBM] [Warning] min_data_in_leaf is set=500, min_child_samples=20 will be ignored. Current value: min_data_in_leaf=500\n",
      "[LightGBM] [Warning] min_data_in_leaf is set=500, min_child_samples=20 will be ignored. Current value: min_data_in_leaf=500\n",
      "[LightGBM] [Warning] min_data_in_leaf is set=500, min_child_samples=20 will be ignored. Current value: min_data_in_leaf=500\n",
      "[LightGBM] [Warning] min_data_in_leaf is set=500, min_child_samples=20 will be ignored. Current value: min_data_in_leaf=500\n",
      "[LightGBM] [Warning] min_data_in_leaf is set=500, min_child_samples=20 will be ignored. Current value: min_data_in_leaf=500\n",
      "[LightGBM] [Warning] min_data_in_leaf is set=500, min_child_samples=20 will be ignored. Current value: min_data_in_leaf=500\n",
      "[LightGBM] [Warning] min_data_in_leaf is set=500, min_child_samples=20 will be ignored. Current value: min_data_in_leaf=500\n",
      "[LightGBM] [Warning] min_data_in_leaf is set=500, min_child_samples=20 will be ignored. Current value: min_data_in_leaf=500\n",
      "[LightGBM] [Warning] min_data_in_leaf is set=900, min_child_samples=20 will be ignored. Current value: min_data_in_leaf=900\n",
      "[LightGBM] [Warning] min_data_in_leaf is set=900, min_child_samples=20 will be ignored. Current value: min_data_in_leaf=900\n",
      "[LightGBM] [Warning] min_data_in_leaf is set=900, min_child_samples=20 will be ignored. Current value: min_data_in_leaf=900\n",
      "[LightGBM] [Warning] min_data_in_leaf is set=900, min_child_samples=20 will be ignored. Current value: min_data_in_leaf=900\n",
      "[LightGBM] [Warning] min_data_in_leaf is set=900, min_child_samples=20 will be ignored. Current value: min_data_in_leaf=900\n",
      "[LightGBM] [Warning] min_data_in_leaf is set=900, min_child_samples=20 will be ignored. Current value: min_data_in_leaf=900\n",
      "[LightGBM] [Warning] min_data_in_leaf is set=900, min_child_samples=20 will be ignored. Current value: min_data_in_leaf=900\n",
      "[LightGBM] [Warning] min_data_in_leaf is set=900, min_child_samples=20 will be ignored. Current value: min_data_in_leaf=900\n",
      "[LightGBM] [Warning] min_data_in_leaf is set=900, min_child_samples=20 will be ignored. Current value: min_data_in_leaf=900\n",
      "[LightGBM] [Warning] min_data_in_leaf is set=900, min_child_samples=20 will be ignored. Current value: min_data_in_leaf=900\n",
      "[LightGBM] [Warning] min_data_in_leaf is set=200, min_child_samples=20 will be ignored. Current value: min_data_in_leaf=200\n",
      "[LightGBM] [Warning] min_data_in_leaf is set=200, min_child_samples=20 will be ignored. Current value: min_data_in_leaf=200\n",
      "[LightGBM] [Warning] min_data_in_leaf is set=200, min_child_samples=20 will be ignored. Current value: min_data_in_leaf=200\n",
      "[LightGBM] [Warning] min_data_in_leaf is set=200, min_child_samples=20 will be ignored. Current value: min_data_in_leaf=200\n",
      "[LightGBM] [Warning] min_data_in_leaf is set=200, min_child_samples=20 will be ignored. Current value: min_data_in_leaf=200\n",
      "[LightGBM] [Warning] min_data_in_leaf is set=200, min_child_samples=20 will be ignored. Current value: min_data_in_leaf=200\n",
      "[LightGBM] [Warning] min_data_in_leaf is set=200, min_child_samples=20 will be ignored. Current value: min_data_in_leaf=200\n",
      "[LightGBM] [Warning] min_data_in_leaf is set=200, min_child_samples=20 will be ignored. Current value: min_data_in_leaf=200\n",
      "[LightGBM] [Warning] min_data_in_leaf is set=200, min_child_samples=20 will be ignored. Current value: min_data_in_leaf=200\n",
      "[LightGBM] [Warning] min_data_in_leaf is set=200, min_child_samples=20 will be ignored. Current value: min_data_in_leaf=200\n",
      "[LightGBM] [Warning] min_data_in_leaf is set=200, min_child_samples=20 will be ignored. Current value: min_data_in_leaf=200\n",
      "[LightGBM] [Warning] min_data_in_leaf is set=200, min_child_samples=20 will be ignored. Current value: min_data_in_leaf=200\n",
      "[LightGBM] [Warning] min_data_in_leaf is set=200, min_child_samples=20 will be ignored. Current value: min_data_in_leaf=200\n",
      "[LightGBM] [Warning] min_data_in_leaf is set=200, min_child_samples=20 will be ignored. Current value: min_data_in_leaf=200\n",
      "[LightGBM] [Warning] min_data_in_leaf is set=200, min_child_samples=20 will be ignored. Current value: min_data_in_leaf=200\n",
      "[LightGBM] [Warning] min_data_in_leaf is set=200, min_child_samples=20 will be ignored. Current value: min_data_in_leaf=200\n",
      "[LightGBM] [Warning] min_data_in_leaf is set=200, min_child_samples=20 will be ignored. Current value: min_data_in_leaf=200\n",
      "[LightGBM] [Warning] min_data_in_leaf is set=200, min_child_samples=20 will be ignored. Current value: min_data_in_leaf=200\n",
      "[LightGBM] [Warning] min_data_in_leaf is set=200, min_child_samples=20 will be ignored. Current value: min_data_in_leaf=200\n",
      "[LightGBM] [Warning] min_data_in_leaf is set=200, min_child_samples=20 will be ignored. Current value: min_data_in_leaf=200\n",
      "[LightGBM] [Warning] min_data_in_leaf is set=900, min_child_samples=20 will be ignored. Current value: min_data_in_leaf=900\n",
      "[LightGBM] [Warning] min_data_in_leaf is set=900, min_child_samples=20 will be ignored. Current value: min_data_in_leaf=900\n",
      "[LightGBM] [Warning] min_data_in_leaf is set=900, min_child_samples=20 will be ignored. Current value: min_data_in_leaf=900\n",
      "[LightGBM] [Warning] min_data_in_leaf is set=900, min_child_samples=20 will be ignored. Current value: min_data_in_leaf=900\n",
      "[LightGBM] [Warning] min_data_in_leaf is set=900, min_child_samples=20 will be ignored. Current value: min_data_in_leaf=900\n",
      "[LightGBM] [Warning] min_data_in_leaf is set=900, min_child_samples=20 will be ignored. Current value: min_data_in_leaf=900\n",
      "[LightGBM] [Warning] min_data_in_leaf is set=900, min_child_samples=20 will be ignored. Current value: min_data_in_leaf=900\n",
      "[LightGBM] [Warning] min_data_in_leaf is set=900, min_child_samples=20 will be ignored. Current value: min_data_in_leaf=900\n",
      "[LightGBM] [Warning] min_data_in_leaf is set=900, min_child_samples=20 will be ignored. Current value: min_data_in_leaf=900\n",
      "[LightGBM] [Warning] min_data_in_leaf is set=900, min_child_samples=20 will be ignored. Current value: min_data_in_leaf=900\n",
      "[LightGBM] [Warning] min_data_in_leaf is set=200, min_child_samples=20 will be ignored. Current value: min_data_in_leaf=200\n",
      "Best parameters: {'num_leaves': 100, 'min_data_in_leaf': 200, 'max_depth': 28}\n",
      "Best F1 Score:  0.80599093248161\n"
     ]
    },
    {
     "name": "stderr",
     "output_type": "stream",
     "text": [
      "[Parallel(n_jobs=1)]: Done 100 out of 100 | elapsed:   12.4s finished\n"
     ]
    }
   ],
   "source": [
    "from sklearn.model_selection import RandomizedSearchCV\n",
    "import lightgbm as lgb\n",
    "lgb = lgb.LGBMClassifier()\n",
    "\n",
    "clf = RandomizedSearchCV(estimator=lgb, \n",
    "                         param_distributions=params,\n",
    "                         n_iter = 10,\n",
    "                         scoring='f1_weighted',\n",
    "                         cv = 10,\n",
    "                         verbose=1)\n",
    "clf.fit(X_val, y_val)\n",
    "print(\"Best parameters:\", clf.best_params_)\n",
    "print(\"Best F1 Score: \", (clf.best_score_))"
   ]
  },
  {
   "cell_type": "code",
   "execution_count": null,
   "id": "5ec73d82-da46-4719-b6ea-db7256ed6aeb",
   "metadata": {},
   "outputs": [],
   "source": [
    "# Best parameters: {'num_leaves': 256, 'min_data_in_leaf': 300, 'max_depth': 9}\n",
    "# Best F1 Score:  0.8093846535417842\n",
    "# Best parameters: {'num_leaves': 512, 'min_data_in_leaf': 500, 'max_depth': 14}\n",
    "# Best F1 Score:  0.8053094260508817\n",
    "# Best parameters: {'num_leaves': 70, 'min_data_in_leaf': 500, 'max_depth': 14}\n",
    "# Best F1 Score:  0.8053094260508817\n",
    "# Best parameters: {'num_leaves': 70, 'min_data_in_leaf': 500, 'max_depth': 16}\n",
    "# Best F1 Score:  0.8053094260508817\n",
    "# Best parameters: {'num_leaves': 80, 'min_data_in_leaf': 200, 'max_depth': 16}\n",
    "# Best F1 Score:  0.80599093248161\n",
    "# Best parameters: {'num_leaves': 80, 'min_data_in_leaf': 200, 'max_depth': 16}\n",
    "# Best F1 Score:  0.80599093248161\n",
    "# Best parameters: {'num_leaves': 80, 'min_data_in_leaf': 200, 'max_depth': 22}\n",
    "# Best F1 Score:  0.80599093248161\n",
    "# Best parameters: {'num_leaves': 100, 'min_data_in_leaf': 200, 'max_depth': 26}\n",
    "# Best F1 Score:  0.80599093248161\n",
    "# Best parameters: {'num_leaves': 100, 'min_data_in_leaf': 200, 'max_depth': 28}\n",
    "# Best F1 Score:  0.80599093248161"
   ]
  },
  {
   "cell_type": "code",
   "execution_count": 146,
   "id": "bca8911c-a81f-4298-85a8-d1159b095541",
   "metadata": {
    "tags": []
   },
   "outputs": [
    {
     "data": {
      "image/png": "[encoded data removed]",
      "text/plain": [
       "<Figure size 640x480 with 1 Axes>"
      ]
     },
     "metadata": {},
     "output_type": "display_data"
    }
   ],
   "source": [
    "import matplotlib.pyplot as plt\n",
    "\n",
    "best_recall = [0.809, 0.805, 0.805, 0.805, 0.806, 0.806, 0.806, 0.806, 0.806]\n",
    "runs = [1, 2, 3, 4, 5, 6, 7, 8, 9]\n",
    "\n",
    "# Create a figure and axis object\n",
    "fig, ax = plt.subplots()\n",
    "\n",
    "# Plot the line graph\n",
    "ax.plot(runs, best_recall, '-o', color='blue', linewidth=2, markersize=8)\n",
    "\n",
    "# Add text annotation for the highest value\n",
    "max_recall = max(best_recall)\n",
    "max_run = runs[best_recall.index(max_recall)]\n",
    "ax.annotate(f'Max Recall: {max_recall:.3f}', xy=(max_run, max_recall), xytext=(max_run-0.5, max_recall+0.01),\n",
    "            arrowprops=dict(facecolor='black', arrowstyle='->'))\n",
    "\n",
    "# Set axis labels and title\n",
    "ax.set_xlabel('Run Number')\n",
    "ax.set_ylabel('Best F1 Score')\n",
    "\n",
    "# Show the plot\n",
    "plt.show()"
   ]
  },
  {
   "cell_type": "code",
   "execution_count": 147,
   "id": "8c6f5f28-2d14-403f-b6b9-8f31166e2059",
   "metadata": {},
   "outputs": [
    {
     "name": "stdout",
     "output_type": "stream",
     "text": [
      "[LightGBM] [Warning] min_data_in_leaf is set=300, min_child_samples=20 will be ignored. Current value: min_data_in_leaf=300\n"
     ]
    },
    {
     "data": {
      "text/plain": [
       "LGBMClassifier(boosting_type='gbdt', class_weight=None, colsample_bytree=1.0,\n",
       "               importance_type='split', learning_rate=0.1, max_depth=9,\n",
       "               min_child_samples=20, min_child_weight=0.001,\n",
       "               min_data_in_leaf=300, min_split_gain=0.0, n_estimators=100,\n",
       "               n_jobs=-1, num_leaves=256, objective=None, random_state=None,\n",
       "               reg_alpha=0.0, reg_lambda=0.0, silent='warn', subsample=1.0,\n",
       "               subsample_for_bin=200000, subsample_freq=0)"
      ]
     },
     "execution_count": 147,
     "metadata": {},
     "output_type": "execute_result"
    }
   ],
   "source": [
    "import lightgbm as lgb\n",
    "best_lgb = lgb.LGBMClassifier(num_leaves = 256, min_data_in_leaf = 300, max_depth = 9)\n",
    "best_lgb.fit(X_train, y_train)"
   ]
  },
  {
   "cell_type": "code",
   "execution_count": 83,
   "id": "4410d907-c552-4ad2-bdf2-7057e9d54231",
   "metadata": {
    "tags": []
   },
   "outputs": [],
   "source": [
    "best_pred = best_lgb.predict(X_test)"
   ]
  },
  {
   "cell_type": "code",
   "execution_count": 84,
   "id": "f624a148-99c6-4a19-9d73-e8c1f3c1d996",
   "metadata": {
    "tags": []
   },
   "outputs": [
    {
     "data": {
      "text/plain": [
       "array([1, 3, 3, ..., 2, 0, 1])"
      ]
     },
     "execution_count": 84,
     "metadata": {},
     "output_type": "execute_result"
    }
   ],
   "source": [
    "best_pred"
   ]
  },
  {
   "cell_type": "code",
   "execution_count": 85,
   "id": "cffd1399-c861-407b-9bf5-87adf4bfae7a",
   "metadata": {
    "tags": []
   },
   "outputs": [],
   "source": [
    "best_pred_df = pd.DataFrame({'actual': y_test, 'predicted': best_pred})\n"
   ]
  },
  {
   "cell_type": "code",
   "execution_count": 86,
   "id": "c25600b2-b47c-4b15-b62d-e76f20864bed",
   "metadata": {
    "tags": []
   },
   "outputs": [],
   "source": [
    "best_pred_df = pd.merge(left = best_pred_df, right = X_test, how = \"inner\" , left_on = best_pred_df.index, right_on=X_test.index)"
   ]
  },
  {
   "cell_type": "code",
   "execution_count": 89,
   "id": "ac0f544a-6294-4cfe-8136-2e5e9e68dfcf",
   "metadata": {
    "tags": []
   },
   "outputs": [
    {
     "data": {
      "text/html": [
       "<div>\n",
       "<style scoped>\n",
       "    .dataframe tbody tr th:only-of-type {\n",
       "        vertical-align: middle;\n",
       "    }\n",
       "\n",
       "    .dataframe tbody tr th {\n",
       "        vertical-align: top;\n",
       "    }\n",
       "\n",
       "    .dataframe thead th {\n",
       "        text-align: right;\n",
       "    }\n",
       "</style>\n",
       "<table border=\"1\" class=\"dataframe\">\n",
       "  <thead>\n",
       "    <tr style=\"text-align: right;\">\n",
       "      <th></th>\n",
       "      <th>key_0</th>\n",
       "      <th>actual</th>\n",
       "      <th>predicted</th>\n",
       "      <th>age</th>\n",
       "      <th>income</th>\n",
       "      <th>membership_duration</th>\n",
       "      <th>difficulty</th>\n",
       "      <th>duration</th>\n",
       "      <th>reward</th>\n",
       "      <th>web</th>\n",
       "      <th>email</th>\n",
       "      <th>social</th>\n",
       "      <th>mobile</th>\n",
       "      <th>gender = _F</th>\n",
       "      <th>gender = _M</th>\n",
       "      <th>gender = _O</th>\n",
       "    </tr>\n",
       "  </thead>\n",
       "  <tbody>\n",
       "    <tr>\n",
       "      <th>0</th>\n",
       "      <td>4127</td>\n",
       "      <td>1</td>\n",
       "      <td>1</td>\n",
       "      <td>31</td>\n",
       "      <td>51000.0</td>\n",
       "      <td>41</td>\n",
       "      <td>5</td>\n",
       "      <td>5</td>\n",
       "      <td>5</td>\n",
       "      <td>1</td>\n",
       "      <td>1</td>\n",
       "      <td>1</td>\n",
       "      <td>1</td>\n",
       "      <td>0</td>\n",
       "      <td>1</td>\n",
       "      <td>0</td>\n",
       "    </tr>\n",
       "    <tr>\n",
       "      <th>1</th>\n",
       "      <td>7935</td>\n",
       "      <td>3</td>\n",
       "      <td>3</td>\n",
       "      <td>49</td>\n",
       "      <td>99000.0</td>\n",
       "      <td>985</td>\n",
       "      <td>0</td>\n",
       "      <td>3</td>\n",
       "      <td>0</td>\n",
       "      <td>0</td>\n",
       "      <td>1</td>\n",
       "      <td>1</td>\n",
       "      <td>1</td>\n",
       "      <td>1</td>\n",
       "      <td>0</td>\n",
       "      <td>0</td>\n",
       "    </tr>\n",
       "    <tr>\n",
       "      <th>2</th>\n",
       "      <td>391</td>\n",
       "      <td>1</td>\n",
       "      <td>3</td>\n",
       "      <td>70</td>\n",
       "      <td>92000.0</td>\n",
       "      <td>259</td>\n",
       "      <td>0</td>\n",
       "      <td>4</td>\n",
       "      <td>0</td>\n",
       "      <td>1</td>\n",
       "      <td>1</td>\n",
       "      <td>0</td>\n",
       "      <td>1</td>\n",
       "      <td>1</td>\n",
       "      <td>0</td>\n",
       "      <td>0</td>\n",
       "    </tr>\n",
       "    <tr>\n",
       "      <th>3</th>\n",
       "      <td>6319</td>\n",
       "      <td>1</td>\n",
       "      <td>1</td>\n",
       "      <td>37</td>\n",
       "      <td>45000.0</td>\n",
       "      <td>91</td>\n",
       "      <td>5</td>\n",
       "      <td>5</td>\n",
       "      <td>5</td>\n",
       "      <td>1</td>\n",
       "      <td>1</td>\n",
       "      <td>1</td>\n",
       "      <td>1</td>\n",
       "      <td>1</td>\n",
       "      <td>0</td>\n",
       "      <td>0</td>\n",
       "    </tr>\n",
       "    <tr>\n",
       "      <th>4</th>\n",
       "      <td>11693</td>\n",
       "      <td>1</td>\n",
       "      <td>0</td>\n",
       "      <td>92</td>\n",
       "      <td>65000.0</td>\n",
       "      <td>866</td>\n",
       "      <td>10</td>\n",
       "      <td>5</td>\n",
       "      <td>10</td>\n",
       "      <td>1</td>\n",
       "      <td>1</td>\n",
       "      <td>1</td>\n",
       "      <td>1</td>\n",
       "      <td>1</td>\n",
       "      <td>0</td>\n",
       "      <td>0</td>\n",
       "    </tr>\n",
       "    <tr>\n",
       "      <th>...</th>\n",
       "      <td>...</td>\n",
       "      <td>...</td>\n",
       "      <td>...</td>\n",
       "      <td>...</td>\n",
       "      <td>...</td>\n",
       "      <td>...</td>\n",
       "      <td>...</td>\n",
       "      <td>...</td>\n",
       "      <td>...</td>\n",
       "      <td>...</td>\n",
       "      <td>...</td>\n",
       "      <td>...</td>\n",
       "      <td>...</td>\n",
       "      <td>...</td>\n",
       "      <td>...</td>\n",
       "      <td>...</td>\n",
       "    </tr>\n",
       "    <tr>\n",
       "      <th>4183</th>\n",
       "      <td>10354</td>\n",
       "      <td>3</td>\n",
       "      <td>3</td>\n",
       "      <td>51</td>\n",
       "      <td>63000.0</td>\n",
       "      <td>1530</td>\n",
       "      <td>0</td>\n",
       "      <td>3</td>\n",
       "      <td>0</td>\n",
       "      <td>0</td>\n",
       "      <td>1</td>\n",
       "      <td>1</td>\n",
       "      <td>1</td>\n",
       "      <td>0</td>\n",
       "      <td>1</td>\n",
       "      <td>0</td>\n",
       "    </tr>\n",
       "    <tr>\n",
       "      <th>4184</th>\n",
       "      <td>12784</td>\n",
       "      <td>1</td>\n",
       "      <td>1</td>\n",
       "      <td>72</td>\n",
       "      <td>47000.0</td>\n",
       "      <td>96</td>\n",
       "      <td>0</td>\n",
       "      <td>4</td>\n",
       "      <td>0</td>\n",
       "      <td>1</td>\n",
       "      <td>1</td>\n",
       "      <td>0</td>\n",
       "      <td>1</td>\n",
       "      <td>0</td>\n",
       "      <td>1</td>\n",
       "      <td>0</td>\n",
       "    </tr>\n",
       "    <tr>\n",
       "      <th>4185</th>\n",
       "      <td>3442</td>\n",
       "      <td>2</td>\n",
       "      <td>2</td>\n",
       "      <td>53</td>\n",
       "      <td>75000.0</td>\n",
       "      <td>700</td>\n",
       "      <td>10</td>\n",
       "      <td>10</td>\n",
       "      <td>2</td>\n",
       "      <td>1</td>\n",
       "      <td>1</td>\n",
       "      <td>1</td>\n",
       "      <td>1</td>\n",
       "      <td>1</td>\n",
       "      <td>0</td>\n",
       "      <td>0</td>\n",
       "    </tr>\n",
       "    <tr>\n",
       "      <th>4186</th>\n",
       "      <td>18783</td>\n",
       "      <td>0</td>\n",
       "      <td>0</td>\n",
       "      <td>88</td>\n",
       "      <td>78000.0</td>\n",
       "      <td>970</td>\n",
       "      <td>5</td>\n",
       "      <td>5</td>\n",
       "      <td>5</td>\n",
       "      <td>1</td>\n",
       "      <td>1</td>\n",
       "      <td>1</td>\n",
       "      <td>1</td>\n",
       "      <td>1</td>\n",
       "      <td>0</td>\n",
       "      <td>0</td>\n",
       "    </tr>\n",
       "    <tr>\n",
       "      <th>4187</th>\n",
       "      <td>874</td>\n",
       "      <td>0</td>\n",
       "      <td>1</td>\n",
       "      <td>59</td>\n",
       "      <td>90000.0</td>\n",
       "      <td>344</td>\n",
       "      <td>10</td>\n",
       "      <td>5</td>\n",
       "      <td>10</td>\n",
       "      <td>1</td>\n",
       "      <td>1</td>\n",
       "      <td>1</td>\n",
       "      <td>1</td>\n",
       "      <td>1</td>\n",
       "      <td>0</td>\n",
       "      <td>0</td>\n",
       "    </tr>\n",
       "  </tbody>\n",
       "</table>\n",
       "<p>4188 rows × 16 columns</p>\n",
       "</div>"
      ],
      "text/plain": [
       "      key_0  actual  predicted  age   income  membership_duration  difficulty  \\\n",
       "0      4127       1          1   31  51000.0                   41           5   \n",
       "1      7935       3          3   49  99000.0                  985           0   \n",
       "2       391       1          3   70  92000.0                  259           0   \n",
       "3      6319       1          1   37  45000.0                   91           5   \n",
       "4     11693       1          0   92  65000.0                  866          10   \n",
       "...     ...     ...        ...  ...      ...                  ...         ...   \n",
       "4183  10354       3          3   51  63000.0                 1530           0   \n",
       "4184  12784       1          1   72  47000.0                   96           0   \n",
       "4185   3442       2          2   53  75000.0                  700          10   \n",
       "4186  18783       0          0   88  78000.0                  970           5   \n",
       "4187    874       0          1   59  90000.0                  344          10   \n",
       "\n",
       "      duration  reward  web  email  social  mobile  gender = _F  gender = _M  \\\n",
       "0            5       5    1      1       1       1            0            1   \n",
       "1            3       0    0      1       1       1            1            0   \n",
       "2            4       0    1      1       0       1            1            0   \n",
       "3            5       5    1      1       1       1            1            0   \n",
       "4            5      10    1      1       1       1            1            0   \n",
       "...        ...     ...  ...    ...     ...     ...          ...          ...   \n",
       "4183         3       0    0      1       1       1            0            1   \n",
       "4184         4       0    1      1       0       1            0            1   \n",
       "4185        10       2    1      1       1       1            1            0   \n",
       "4186         5       5    1      1       1       1            1            0   \n",
       "4187         5      10    1      1       1       1            1            0   \n",
       "\n",
       "      gender = _O  \n",
       "0               0  \n",
       "1               0  \n",
       "2               0  \n",
       "3               0  \n",
       "4               0  \n",
       "...           ...  \n",
       "4183            0  \n",
       "4184            0  \n",
       "4185            0  \n",
       "4186            0  \n",
       "4187            0  \n",
       "\n",
       "[4188 rows x 16 columns]"
      ]
     },
     "execution_count": 89,
     "metadata": {},
     "output_type": "execute_result"
    }
   ],
   "source": [
    "best_pred_df"
   ]
  },
  {
   "cell_type": "code",
   "execution_count": 87,
   "id": "5db1289a-e509-4b7d-a560-b16f8608d36c",
   "metadata": {
    "tags": []
   },
   "outputs": [
    {
     "data": {
      "text/plain": [
       "(4188, 16)"
      ]
     },
     "execution_count": 87,
     "metadata": {},
     "output_type": "execute_result"
    }
   ],
   "source": [
    "best_pred_df.shape"
   ]
  },
  {
   "cell_type": "code",
   "execution_count": 88,
   "id": "90a5b68e-054f-46ae-af9d-37b998412d30",
   "metadata": {
    "tags": []
   },
   "outputs": [],
   "source": [
    "# best_pred_df.to_csv('usertype_results.csv', index = False)"
   ]
  },
  {
   "cell_type": "code",
   "execution_count": 92,
   "id": "8b2c8e99-52e5-4398-9607-c6fe2aa7b158",
   "metadata": {
    "tags": []
   },
   "outputs": [],
   "source": [
    "best_pred_df = pd.read_csv('usertype_results.csv')"
   ]
  },
  {
   "cell_type": "code",
   "execution_count": 93,
   "id": "c4d68930-93cd-4803-b3a6-faaf209ad598",
   "metadata": {
    "tags": []
   },
   "outputs": [
    {
     "data": {
      "text/html": [
       "<div>\n",
       "<style scoped>\n",
       "    .dataframe tbody tr th:only-of-type {\n",
       "        vertical-align: middle;\n",
       "    }\n",
       "\n",
       "    .dataframe tbody tr th {\n",
       "        vertical-align: top;\n",
       "    }\n",
       "\n",
       "    .dataframe thead th {\n",
       "        text-align: right;\n",
       "    }\n",
       "</style>\n",
       "<table border=\"1\" class=\"dataframe\">\n",
       "  <thead>\n",
       "    <tr style=\"text-align: right;\">\n",
       "      <th></th>\n",
       "      <th>key_0</th>\n",
       "      <th>actual</th>\n",
       "      <th>predicted</th>\n",
       "      <th>age</th>\n",
       "      <th>income</th>\n",
       "      <th>membership_duration</th>\n",
       "      <th>difficulty</th>\n",
       "      <th>duration</th>\n",
       "      <th>reward</th>\n",
       "      <th>web</th>\n",
       "      <th>email</th>\n",
       "      <th>social</th>\n",
       "      <th>mobile</th>\n",
       "      <th>gender = _F</th>\n",
       "      <th>gender = _M</th>\n",
       "      <th>gender = _O</th>\n",
       "    </tr>\n",
       "  </thead>\n",
       "  <tbody>\n",
       "    <tr>\n",
       "      <th>0</th>\n",
       "      <td>4127</td>\n",
       "      <td>1</td>\n",
       "      <td>1</td>\n",
       "      <td>31</td>\n",
       "      <td>51000.0</td>\n",
       "      <td>41</td>\n",
       "      <td>5</td>\n",
       "      <td>5</td>\n",
       "      <td>5</td>\n",
       "      <td>1</td>\n",
       "      <td>1</td>\n",
       "      <td>1</td>\n",
       "      <td>1</td>\n",
       "      <td>0</td>\n",
       "      <td>1</td>\n",
       "      <td>0</td>\n",
       "    </tr>\n",
       "    <tr>\n",
       "      <th>1</th>\n",
       "      <td>7935</td>\n",
       "      <td>3</td>\n",
       "      <td>3</td>\n",
       "      <td>49</td>\n",
       "      <td>99000.0</td>\n",
       "      <td>985</td>\n",
       "      <td>0</td>\n",
       "      <td>3</td>\n",
       "      <td>0</td>\n",
       "      <td>0</td>\n",
       "      <td>1</td>\n",
       "      <td>1</td>\n",
       "      <td>1</td>\n",
       "      <td>1</td>\n",
       "      <td>0</td>\n",
       "      <td>0</td>\n",
       "    </tr>\n",
       "    <tr>\n",
       "      <th>2</th>\n",
       "      <td>391</td>\n",
       "      <td>1</td>\n",
       "      <td>3</td>\n",
       "      <td>70</td>\n",
       "      <td>92000.0</td>\n",
       "      <td>259</td>\n",
       "      <td>0</td>\n",
       "      <td>4</td>\n",
       "      <td>0</td>\n",
       "      <td>1</td>\n",
       "      <td>1</td>\n",
       "      <td>0</td>\n",
       "      <td>1</td>\n",
       "      <td>1</td>\n",
       "      <td>0</td>\n",
       "      <td>0</td>\n",
       "    </tr>\n",
       "    <tr>\n",
       "      <th>3</th>\n",
       "      <td>6319</td>\n",
       "      <td>1</td>\n",
       "      <td>1</td>\n",
       "      <td>37</td>\n",
       "      <td>45000.0</td>\n",
       "      <td>91</td>\n",
       "      <td>5</td>\n",
       "      <td>5</td>\n",
       "      <td>5</td>\n",
       "      <td>1</td>\n",
       "      <td>1</td>\n",
       "      <td>1</td>\n",
       "      <td>1</td>\n",
       "      <td>1</td>\n",
       "      <td>0</td>\n",
       "      <td>0</td>\n",
       "    </tr>\n",
       "    <tr>\n",
       "      <th>4</th>\n",
       "      <td>11693</td>\n",
       "      <td>1</td>\n",
       "      <td>0</td>\n",
       "      <td>92</td>\n",
       "      <td>65000.0</td>\n",
       "      <td>866</td>\n",
       "      <td>10</td>\n",
       "      <td>5</td>\n",
       "      <td>10</td>\n",
       "      <td>1</td>\n",
       "      <td>1</td>\n",
       "      <td>1</td>\n",
       "      <td>1</td>\n",
       "      <td>1</td>\n",
       "      <td>0</td>\n",
       "      <td>0</td>\n",
       "    </tr>\n",
       "    <tr>\n",
       "      <th>...</th>\n",
       "      <td>...</td>\n",
       "      <td>...</td>\n",
       "      <td>...</td>\n",
       "      <td>...</td>\n",
       "      <td>...</td>\n",
       "      <td>...</td>\n",
       "      <td>...</td>\n",
       "      <td>...</td>\n",
       "      <td>...</td>\n",
       "      <td>...</td>\n",
       "      <td>...</td>\n",
       "      <td>...</td>\n",
       "      <td>...</td>\n",
       "      <td>...</td>\n",
       "      <td>...</td>\n",
       "      <td>...</td>\n",
       "    </tr>\n",
       "    <tr>\n",
       "      <th>4183</th>\n",
       "      <td>10354</td>\n",
       "      <td>3</td>\n",
       "      <td>3</td>\n",
       "      <td>51</td>\n",
       "      <td>63000.0</td>\n",
       "      <td>1530</td>\n",
       "      <td>0</td>\n",
       "      <td>3</td>\n",
       "      <td>0</td>\n",
       "      <td>0</td>\n",
       "      <td>1</td>\n",
       "      <td>1</td>\n",
       "      <td>1</td>\n",
       "      <td>0</td>\n",
       "      <td>1</td>\n",
       "      <td>0</td>\n",
       "    </tr>\n",
       "    <tr>\n",
       "      <th>4184</th>\n",
       "      <td>12784</td>\n",
       "      <td>1</td>\n",
       "      <td>1</td>\n",
       "      <td>72</td>\n",
       "      <td>47000.0</td>\n",
       "      <td>96</td>\n",
       "      <td>0</td>\n",
       "      <td>4</td>\n",
       "      <td>0</td>\n",
       "      <td>1</td>\n",
       "      <td>1</td>\n",
       "      <td>0</td>\n",
       "      <td>1</td>\n",
       "      <td>0</td>\n",
       "      <td>1</td>\n",
       "      <td>0</td>\n",
       "    </tr>\n",
       "    <tr>\n",
       "      <th>4185</th>\n",
       "      <td>3442</td>\n",
       "      <td>2</td>\n",
       "      <td>2</td>\n",
       "      <td>53</td>\n",
       "      <td>75000.0</td>\n",
       "      <td>700</td>\n",
       "      <td>10</td>\n",
       "      <td>10</td>\n",
       "      <td>2</td>\n",
       "      <td>1</td>\n",
       "      <td>1</td>\n",
       "      <td>1</td>\n",
       "      <td>1</td>\n",
       "      <td>1</td>\n",
       "      <td>0</td>\n",
       "      <td>0</td>\n",
       "    </tr>\n",
       "    <tr>\n",
       "      <th>4186</th>\n",
       "      <td>18783</td>\n",
       "      <td>0</td>\n",
       "      <td>0</td>\n",
       "      <td>88</td>\n",
       "      <td>78000.0</td>\n",
       "      <td>970</td>\n",
       "      <td>5</td>\n",
       "      <td>5</td>\n",
       "      <td>5</td>\n",
       "      <td>1</td>\n",
       "      <td>1</td>\n",
       "      <td>1</td>\n",
       "      <td>1</td>\n",
       "      <td>1</td>\n",
       "      <td>0</td>\n",
       "      <td>0</td>\n",
       "    </tr>\n",
       "    <tr>\n",
       "      <th>4187</th>\n",
       "      <td>874</td>\n",
       "      <td>0</td>\n",
       "      <td>1</td>\n",
       "      <td>59</td>\n",
       "      <td>90000.0</td>\n",
       "      <td>344</td>\n",
       "      <td>10</td>\n",
       "      <td>5</td>\n",
       "      <td>10</td>\n",
       "      <td>1</td>\n",
       "      <td>1</td>\n",
       "      <td>1</td>\n",
       "      <td>1</td>\n",
       "      <td>1</td>\n",
       "      <td>0</td>\n",
       "      <td>0</td>\n",
       "    </tr>\n",
       "  </tbody>\n",
       "</table>\n",
       "<p>4188 rows × 16 columns</p>\n",
       "</div>"
      ],
      "text/plain": [
       "      key_0  actual  predicted  age   income  membership_duration  difficulty  \\\n",
       "0      4127       1          1   31  51000.0                   41           5   \n",
       "1      7935       3          3   49  99000.0                  985           0   \n",
       "2       391       1          3   70  92000.0                  259           0   \n",
       "3      6319       1          1   37  45000.0                   91           5   \n",
       "4     11693       1          0   92  65000.0                  866          10   \n",
       "...     ...     ...        ...  ...      ...                  ...         ...   \n",
       "4183  10354       3          3   51  63000.0                 1530           0   \n",
       "4184  12784       1          1   72  47000.0                   96           0   \n",
       "4185   3442       2          2   53  75000.0                  700          10   \n",
       "4186  18783       0          0   88  78000.0                  970           5   \n",
       "4187    874       0          1   59  90000.0                  344          10   \n",
       "\n",
       "      duration  reward  web  email  social  mobile  gender = _F  gender = _M  \\\n",
       "0            5       5    1      1       1       1            0            1   \n",
       "1            3       0    0      1       1       1            1            0   \n",
       "2            4       0    1      1       0       1            1            0   \n",
       "3            5       5    1      1       1       1            1            0   \n",
       "4            5      10    1      1       1       1            1            0   \n",
       "...        ...     ...  ...    ...     ...     ...          ...          ...   \n",
       "4183         3       0    0      1       1       1            0            1   \n",
       "4184         4       0    1      1       0       1            0            1   \n",
       "4185        10       2    1      1       1       1            1            0   \n",
       "4186         5       5    1      1       1       1            1            0   \n",
       "4187         5      10    1      1       1       1            1            0   \n",
       "\n",
       "      gender = _O  \n",
       "0               0  \n",
       "1               0  \n",
       "2               0  \n",
       "3               0  \n",
       "4               0  \n",
       "...           ...  \n",
       "4183            0  \n",
       "4184            0  \n",
       "4185            0  \n",
       "4186            0  \n",
       "4187            0  \n",
       "\n",
       "[4188 rows x 16 columns]"
      ]
     },
     "execution_count": 93,
     "metadata": {},
     "output_type": "execute_result"
    }
   ],
   "source": [
    "best_pred_df"
   ]
  },
  {
   "cell_type": "code",
   "execution_count": 101,
   "id": "ea1bf3f9-1942-4582-8d86-4cff47aa9bc0",
   "metadata": {
    "tags": []
   },
   "outputs": [],
   "source": [
    "# Create age groups by rounding down to the nearest 20\n",
    "# best_pred_df['age_group'] = (best_pred_df['age'] // 20) * 20\n",
    "\n",
    "# # Create a list of unique age groups in the DataFrame, sorted in ascending order\n",
    "# age_groups = sorted(best_pred_df['age_group'].unique())\n",
    "\n",
    "# # Create a dictionary to map predicted values to labels for the pie charts\n",
    "# labels_dict = {0: 'BOGO Buyers', 1: 'Buy Without Offers', 2: 'Discount Buyers', 3: 'Informational Buyers'}\n",
    "\n",
    "# # Create a pie chart for each age group and predicted value\n",
    "# for age_group in age_groups:\n",
    "#     # Get the subset of the DataFrame for the current age group\n",
    "#     subset = best_pred_df[best_pred_df['age_group'] == age_group]\n",
    "    \n",
    "#     # Count the number of occurrences of each predicted value in the subset\n",
    "#     counts = subset['predicted'].value_counts()\n",
    "    \n",
    "#     # Create a pie chart\n",
    "#     plt.figure()\n",
    "#     plt.pie(counts, labels=[labels_dict.get(x, '') for x in counts.index], autopct='%1.1f%%')\n",
    "#     plt.title('Age Group: {} - {}'.format(age_group, age_group+19))\n",
    "#     plt.axis('equal')\n",
    "#     plt.savefig(os.path.join(f'photos/result_user_types_{age_group}.png'), dpi=300, format='png', bbox_inches='tight') # use format='svg' or 'pdf' for vectorial pictures\n",
    "\n",
    "# plt.show()"
   ]
  },
  {
   "cell_type": "code",
   "execution_count": 105,
   "id": "3896bcc0-55d0-4cd5-ab49-ca6e154ef9dc",
   "metadata": {
    "tags": []
   },
   "outputs": [],
   "source": [
    "# # Define the minimum and maximum income values\n",
    "# min_income = min(best_pred_df['income'])\n",
    "# max_income = max(best_pred_df['income'])\n",
    "\n",
    "# # Define the number of income groups\n",
    "# num_income_groups = 6\n",
    "\n",
    "# # Calculate the income range for each group\n",
    "# income_range = (max_income - min_income) / num_income_groups\n",
    "\n",
    "# # Create income groups by rounding down to the nearest income range\n",
    "# best_pred_df['income_group'] = (best_pred_df['income'] // income_range) * income_range\n",
    "\n",
    "# # Create a list of unique income groups in the DataFrame, sorted in ascending order\n",
    "# income_groups = sorted(best_pred_df['income_group'].unique())\n",
    "\n",
    "# # Create a dictionary to map predicted values to labels for the pie charts\n",
    "# labels_dict = {0: 'BOGO Buyers', 1: 'Buy Without Offers', 2: 'Discount Buyers', 3: 'Informational Buyers'}\n",
    "\n",
    "# # Create a pie chart for each income group and predicted value\n",
    "# for income_group in income_groups:\n",
    "#     # Get the subset of the DataFrame for the current income group\n",
    "#     subset = best_pred_df[best_pred_df['income_group'] == income_group]\n",
    "    \n",
    "#     # Count the number of occurrences of each predicted value in the subset\n",
    "#     counts = subset['predicted'].value_counts()\n",
    "    \n",
    "#     # Create a pie chart\n",
    "#     plt.figure()\n",
    "#     plt.pie(counts, labels=[labels_dict.get(x, '') for x in counts.index], autopct='%1.1f%%')\n",
    "#     plt.title('Income Group: {} - {}'.format(income_group, income_group+income_range))\n",
    "#     plt.axis('equal')\n",
    "#     plt.savefig(os.path.join(f'photos/result_user_types_{income_group}.png'), dpi=300, format='png', bbox_inches='tight') # use format='svg' or 'pdf' for vectorial pictures\n",
    "\n",
    "\n",
    "# plt.show()\n"
   ]
  },
  {
   "cell_type": "code",
   "execution_count": 106,
   "id": "7a969f36-00e1-4f48-8515-37a053fd666f",
   "metadata": {
    "tags": []
   },
   "outputs": [
    {
     "data": {
      "text/plain": [
       "30000.0"
      ]
     },
     "execution_count": 106,
     "metadata": {},
     "output_type": "execute_result"
    }
   ],
   "source": [
    "min(best_pred_df['income'])"
   ]
  },
  {
   "cell_type": "code",
   "execution_count": 107,
   "id": "d8506b52-e0a0-487e-ae52-ebb9661b7a80",
   "metadata": {
    "tags": []
   },
   "outputs": [
    {
     "data": {
      "text/plain": [
       "120000.0"
      ]
     },
     "execution_count": 107,
     "metadata": {},
     "output_type": "execute_result"
    }
   ],
   "source": [
    "max(best_pred_df['income'])"
   ]
  },
  {
   "cell_type": "code",
   "execution_count": 108,
   "id": "e21a0e53-e921-41dd-a7be-e3dbe27160f6",
   "metadata": {
    "tags": []
   },
   "outputs": [
    {
     "data": {
      "text/plain": [
       "0"
      ]
     },
     "execution_count": 108,
     "metadata": {},
     "output_type": "execute_result"
    }
   ],
   "source": [
    "min(best_pred_df['membership_duration'])"
   ]
  },
  {
   "cell_type": "code",
   "execution_count": 109,
   "id": "f3fbf011-c8fc-4562-aa75-0c0a1310cbf2",
   "metadata": {
    "tags": []
   },
   "outputs": [
    {
     "data": {
      "text/plain": [
       "1819"
      ]
     },
     "execution_count": 109,
     "metadata": {},
     "output_type": "execute_result"
    }
   ],
   "source": [
    "max(best_pred_df['membership_duration'])"
   ]
  },
  {
   "cell_type": "code",
   "execution_count": 121,
   "id": "fc052f38-1417-416d-bcef-ab3b77026dbd",
   "metadata": {
    "tags": []
   },
   "outputs": [],
   "source": [
    "# # Define the minimum and maximum membership duration values\n",
    "# min_duration = min(best_pred_df['membership_duration'])\n",
    "# max_duration = max(best_pred_df['membership_duration'])\n",
    "\n",
    "# # Define the number of membership duration groups\n",
    "# num_duration_groups = 6\n",
    "\n",
    "# # Calculate the membership duration range for each group\n",
    "# duration_range = (max_duration - min_duration) / num_duration_groups\n",
    "\n",
    "# # Create membership duration groups by rounding down to the nearest income range\n",
    "# best_pred_df['duration_group'] = (best_pred_df['membership_duration'] // duration_range) * duration_range\n",
    "\n",
    "# # Create a list of unique duration groups in the DataFrame, sorted in ascending order\n",
    "# duration_groups = sorted(best_pred_df['duration_group'].unique())\n",
    "\n",
    "# # Create a dictionary to map predicted values to labels for the pie charts\n",
    "# labels_dict = {0: 'BOGO Buyers', 1: 'Buy Without Offers', 2: 'Discount Buyers', 3: 'Informational Buyers'}\n",
    "\n",
    "# # Create a pie chart for each duration group and predicted value\n",
    "# for duration_group in duration_groups:\n",
    "#     # Get the subset of the DataFrame for the current income group\n",
    "#     subset = best_pred_df[best_pred_df['duration_group'] == duration_group]\n",
    "    \n",
    "#     # Count the number of occurrences of each predicted value in the subset\n",
    "#     counts = subset['predicted'].value_counts()\n",
    "    \n",
    "#     # Create a pie chart\n",
    "#     plt.figure()\n",
    "#     plt.pie(counts, labels=[labels_dict.get(x, '') for x in counts.index], autopct='%1.1f%%')\n",
    "#     plt.title('Duration Group: {} - {}'.format(round(duration_group), (round(duration_group+duration_range)-1)))\n",
    "#     plt.axis('equal')\n",
    "#     # plt.savefig(os.path.join(f'photos/result_user_types_duration_{duration_group}.png'), dpi=300, format='png', bbox_inches='tight') # use format='svg' or 'pdf' for vectorial pictures\n",
    "\n",
    "\n",
    "# plt.show()"
   ]
  },
  {
   "cell_type": "code",
   "execution_count": 125,
   "id": "7f2ba49b-cad7-4132-89c6-d8762d26248e",
   "metadata": {
    "tags": []
   },
   "outputs": [],
   "source": [
    "# Create a dictionary to map predicted values to labels for the pie charts\n",
    "labels_dict = {0: 'BOGO Buyers', 1: 'Buy Without Offers', 2: 'Discount Buyers', 3: 'Informational Buyers'}\n",
    "\n",
    "# Round off the membership duration column to the nearest integer\n",
    "best_pred_df['membership_duration'] = best_pred_df['membership_duration'].round()\n",
    "\n",
    "# Define the minimum and maximum membership duration values\n",
    "min_duration = min(best_pred_df['membership_duration'])\n",
    "max_duration = max(best_pred_df['membership_duration'])\n",
    "\n",
    "# Define the number of membership duration groups\n",
    "num_duration_groups = 6\n",
    "\n",
    "# Calculate the membership duration range for each group\n",
    "duration_range = (max_duration - min_duration) / num_duration_groups\n",
    "\n",
    "# Create membership duration groups by rounding down to the nearest income range\n",
    "best_pred_df['duration_group'] = (best_pred_df['membership_duration'] // duration_range) * duration_range\n",
    "\n",
    "# Create a list of unique duration groups in the DataFrame, sorted in ascending order\n",
    "duration_groups = sorted(best_pred_df['duration_group'].unique())\n",
    "\n",
    "# Create a pie chart for each duration group and predicted value\n",
    "for duration_group in duration_groups:\n",
    "    # Get the subset of the DataFrame for the current duration group\n",
    "    subset = best_pred_df[best_pred_df['duration_group'] == duration_group]\n",
    "    \n",
    "    # Count the number of occurrences of each predicted value in the subset\n",
    "    counts = subset['predicted'].value_counts()\n",
    "    \n",
    "    # Round off the title values to the nearest integer\n",
    "    duration_group_title = round(duration_group)\n",
    "    duration_group_range_title = round(duration_group + duration_range)\n",
    "    \n",
    "    # Create a pie chart\n",
    "    plt.figure()\n",
    "    plt.pie(counts, labels=[labels_dict.get(x, '') for x in counts.index], autopct='%1.1f%%')\n",
    "    plt.title('Duration Group: {} - {}'.format(duration_group_title, duration_group_range_title))\n",
    "    plt.axis('equal')\n",
    "    # plt.savefig(os.path.join(f'photos/result_user_types_duration_{duration_group}.png'), dpi=300, format='png', bbox_inches='tight') # use format='svg' or 'pdf' for vectorial pictures\n",
    "\n",
    "\n",
    "plt.show()\n",
    "\n"
   ]
  },
  {
   "cell_type": "code",
   "execution_count": 128,
   "id": "68bcb6c7-5a54-4e6e-b6e9-abe3ce765458",
   "metadata": {
    "tags": []
   },
   "outputs": [],
   "source": [
    "# Create a dictionary to map predicted values to labels for the pie charts\n",
    "labels_dict = {0: 'BOGO Buyers', 1: 'Buy Without Offers', 2: 'Discount Buyers', 3: 'Informational Buyers'}\n",
    "\n",
    "# Group the data by predicted value and sum the male, female, and other columns\n",
    "counts = best_pred_df.groupby('predicted')[['gender = _M', 'gender = _F', 'gender = _O']].sum()\n",
    "\n",
    "# Create a stacked bar chart\n",
    "counts.plot(kind='bar')\n",
    "\n",
    "# Set the title and axis labels\n",
    "plt.title('Number of Users by Predicted User Type and Gender')\n",
    "plt.xlabel('Predicted User Type')\n",
    "plt.ylabel('Count')\n",
    "\n",
    "# Set the legend for the chart\n",
    "plt.legend(title='Gender', labels=['Male', 'Female', 'Other'])\n",
    "\n",
    "# plt.show()\n",
    "\n",
    "plt.savefig(os.path.join(f'photos/result_user_types_gender.png'), dpi=300, format='png', bbox_inches='tight') # use format='svg' or 'pdf' for vectorial pictures\n",
    "\n"
   ]
  },
  {
   "cell_type": "code",
   "execution_count": 137,
   "id": "eb20fe79-980a-4f4c-8eb9-904a444b4133",
   "metadata": {
    "tags": []
   },
   "outputs": [],
   "source": [
    "# Map predicted values to labels\n",
    "# Create a dictionary to map predicted values to labels for the pie charts\n",
    "labels_dict = {0: 'BOGO', 2: 'Discount', 3: 'Info'}\n",
    "best_pred_df['predicted_label'] = best_pred_df['predicted'].map(labels_dict)\n",
    "\n",
    "# Create box and whisker plots\n",
    "# sns.boxplot(x='predicted_label', y='duration', data=best_pred_df)\n",
    "# plt.title('Duration')\n",
    "# plt.xlabel('User Type')\n",
    "# plt.ylabel('Duration')\n",
    "# # plt.show()\n",
    "# plt.savefig(os.path.join(f'photos/user_duration.png'), dpi=300, format='png', bbox_inches='tight') # use format='svg' or 'pdf' for vectorial pictures\n",
    "\n",
    "\n",
    "# sns.boxplot(x='predicted_label', y='difficulty', data=best_pred_df)\n",
    "# plt.title('Difficulty')\n",
    "# plt.xlabel('User Type')\n",
    "# plt.ylabel('Difficulty')\n",
    "# # plt.show()\n",
    "# plt.savefig(os.path.join(f'photos/user_difficulty.png'), dpi=300, format='png', bbox_inches='tight') # use format='svg' or 'pdf' for vectorial pictures\n",
    "\n",
    "\n",
    "# sns.boxplot(x='predicted_label', y='reward', data=best_pred_df)\n",
    "# plt.title('Reward')\n",
    "# plt.xlabel('User Type')\n",
    "# plt.ylabel('Reward')\n",
    "# # plt.show()\n",
    "# plt.savefig(os.path.join(f'photos/user_reward.png'), dpi=300, format='png', bbox_inches='tight') # use format='svg' or 'pdf' for vectorial pictures\n"
   ]
  },
  {
   "cell_type": "code",
   "execution_count": 138,
   "id": "359374f2-bbcf-48cc-b0d9-7233a22779b6",
   "metadata": {
    "tags": []
   },
   "outputs": [
    {
     "data": {
      "text/plain": [
       "Index(['key_0', 'actual', 'predicted', 'age', 'income', 'membership_duration',\n",
       "       'difficulty', 'duration', 'reward', 'web', 'email', 'social', 'mobile',\n",
       "       'gender = _F', 'gender = _M', 'gender = _O', 'age_group',\n",
       "       'income_group', 'duration_group', 'predicted_label'],\n",
       "      dtype='object')"
      ]
     },
     "execution_count": 138,
     "metadata": {},
     "output_type": "execute_result"
    }
   ],
   "source": [
    "best_pred_df.columns"
   ]
  },
  {
   "cell_type": "code",
   "execution_count": 139,
   "id": "88b52733-88bd-4a32-9120-8d237659ffc3",
   "metadata": {
    "tags": []
   },
   "outputs": [
    {
     "name": "stdout",
     "output_type": "stream",
     "text": [
      "0.8055389792331826\n"
     ]
    }
   ],
   "source": [
    "best_f1 = f1_score(y_test, best_pred, average = 'weighted')\n",
    "print(best_f1)"
   ]
  },
  {
   "cell_type": "code",
   "execution_count": 141,
   "id": "cf16869f-9832-4635-83c1-af9572796917",
   "metadata": {
    "tags": []
   },
   "outputs": [
    {
     "data": {
      "image/png": "[encoded data removed]",
      "text/plain": [
       "<Figure size 640x480 with 2 Axes>"
      ]
     },
     "metadata": {},
     "output_type": "display_data"
    }
   ],
   "source": [
    "# Compute the confusion matrix\n",
    "best_cm = confusion_matrix(y_test, best_pred)\n",
    "\n",
    "# Visualize the confusion matrix as a heatmap\n",
    "fig, ax = plt.subplots()\n",
    "im = ax.imshow(best_cm, interpolation='nearest', cmap=plt.cm.Blues)\n",
    "ax.set(xticks=np.arange(best_cm.shape[1]),\n",
    "       yticks=np.arange(best_cm.shape[0]),\n",
    "       xticklabels=['bogo', 'no offer', 'discount', 'info'],\n",
    "       yticklabels=['bogo', 'no offer', 'discount', 'info'],\n",
    "       xlabel='Predicted label',\n",
    "       ylabel='True label')\n",
    "\n",
    "# Add colorbar\n",
    "cbar = ax.figure.colorbar(im, ax=ax)\n",
    "\n",
    "# Loop over data to add annotations\n",
    "for i in range(best_cm.shape[0]):\n",
    "    for j in range(best_cm.shape[1]):\n",
    "        ax.text(j, i, best_cm[i, j], ha=\"center\", va=\"center\", color=\"white\")\n",
    "\n",
    "fig.tight_layout()\n",
    "plt.show()"
   ]
  },
  {
   "cell_type": "code",
   "execution_count": 143,
   "id": "7ad10691-5898-447d-9d01-1a96d0a4d714",
   "metadata": {
    "tags": []
   },
   "outputs": [
    {
     "name": "stdout",
     "output_type": "stream",
     "text": [
      "Feature ranking:\n",
      "1. feature 2 age (3221.000000)\n",
      "2. feature 1 income (2632.000000)\n",
      "3. feature 0 membership_duration (1760.000000)\n",
      "4. feature 3 difficulty (740.000000)\n",
      "5. feature 4 duration (558.000000)\n",
      "6. feature 8 reward (410.000000)\n",
      "7. feature 11 web (356.000000)\n",
      "8. feature 5 email (320.000000)\n",
      "9. feature 10 social (138.000000)\n",
      "10. feature 6 mobile (25.000000)\n",
      "11. feature 9 gender = _F (2.000000)\n",
      "12. feature 12 gender = _M (0.000000)\n",
      "13. feature 7 gender = _O (0.000000)\n"
     ]
    },
    {
     "data": {
      "image/png": "[encoded data removed]",
      "text/plain": [
       "<Figure size 640x480 with 1 Axes>"
      ]
     },
     "metadata": {},
     "output_type": "display_data"
    }
   ],
   "source": [
    "# get feature importances\n",
    "best_importances = best_lgb.feature_importances_\n",
    "\n",
    "# sort feature importances in descending order\n",
    "indices = np.argsort(best_importances)[::-1]\n",
    "\n",
    "# print out the feature ranking\n",
    "print(\"Feature ranking:\")\n",
    "for f in range(X.shape[1]):\n",
    "    print(\"%d. feature %d %s (%f)\" % (f + 1, indices[f], X.columns[f], best_importances[indices[f]]))\n",
    "\n",
    "# plot the feature importances\n",
    "plt.title(\"Feature importances\")\n",
    "plt.bar(range(X.shape[1]), best_importances[indices])\n",
    "plt.xticks(range(X.shape[1]), indices)\n",
    "plt.show()"
   ]
  },
  {
   "cell_type": "code",
   "execution_count": null,
   "id": "c0b19c87-09b8-47f9-b8b6-a77acfbe0a8f",
   "metadata": {},
   "outputs": [],
   "source": []
  }
 ],
 "metadata": {
  "availableInstances": [
   {
    "_defaultOrder": 0,
    "_isFastLaunch": true,
    "category": "General purpose",
    "gpuNum": 0,
    "memoryGiB": 4,
    "name": "ml.t3.medium",
    "vcpuNum": 2
   },
   {
    "_defaultOrder": 1,
    "_isFastLaunch": false,
    "category": "General purpose",
    "gpuNum": 0,
    "memoryGiB": 8,
    "name": "ml.t3.large",
    "vcpuNum": 2
   },
   {
    "_defaultOrder": 2,
    "_isFastLaunch": false,
    "category": "General purpose",
    "gpuNum": 0,
    "memoryGiB": 16,
    "name": "ml.t3.xlarge",
    "vcpuNum": 4
   },
   {
    "_defaultOrder": 3,
    "_isFastLaunch": false,
    "category": "General purpose",
    "gpuNum": 0,
    "memoryGiB": 32,
    "name": "ml.t3.2xlarge",
    "vcpuNum": 8
   },
   {
    "_defaultOrder": 4,
    "_isFastLaunch": true,
    "category": "General purpose",
    "gpuNum": 0,
    "memoryGiB": 8,
    "name": "ml.m5.large",
    "vcpuNum": 2
   },
   {
    "_defaultOrder": 5,
    "_isFastLaunch": false,
    "category": "General purpose",
    "gpuNum": 0,
    "memoryGiB": 16,
    "name": "ml.m5.xlarge",
    "vcpuNum": 4
   },
   {
    "_defaultOrder": 6,
    "_isFastLaunch": false,
    "category": "General purpose",
    "gpuNum": 0,
    "memoryGiB": 32,
    "name": "ml.m5.2xlarge",
    "vcpuNum": 8
   },
   {
    "_defaultOrder": 7,
    "_isFastLaunch": false,
    "category": "General purpose",
    "gpuNum": 0,
    "memoryGiB": 64,
    "name": "ml.m5.4xlarge",
    "vcpuNum": 16
   },
   {
    "_defaultOrder": 8,
    "_isFastLaunch": false,
    "category": "General purpose",
    "gpuNum": 0,
    "memoryGiB": 128,
    "name": "ml.m5.8xlarge",
    "vcpuNum": 32
   },
   {
    "_defaultOrder": 9,
    "_isFastLaunch": false,
    "category": "General purpose",
    "gpuNum": 0,
    "memoryGiB": 192,
    "name": "ml.m5.12xlarge",
    "vcpuNum": 48
   },
   {
    "_defaultOrder": 10,
    "_isFastLaunch": false,
    "category": "General purpose",
    "gpuNum": 0,
    "memoryGiB": 256,
    "name": "ml.m5.16xlarge",
    "vcpuNum": 64
   },
   {
    "_defaultOrder": 11,
    "_isFastLaunch": false,
    "category": "General purpose",
    "gpuNum": 0,
    "memoryGiB": 384,
    "name": "ml.m5.24xlarge",
    "vcpuNum": 96
   },
   {
    "_defaultOrder": 12,
    "_isFastLaunch": false,
    "category": "General purpose",
    "gpuNum": 0,
    "memoryGiB": 8,
    "name": "ml.m5d.large",
    "vcpuNum": 2
   },
   {
    "_defaultOrder": 13,
    "_isFastLaunch": false,
    "category": "General purpose",
    "gpuNum": 0,
    "memoryGiB": 16,
    "name": "ml.m5d.xlarge",
    "vcpuNum": 4
   },
   {
    "_defaultOrder": 14,
    "_isFastLaunch": false,
    "category": "General purpose",
    "gpuNum": 0,
    "memoryGiB": 32,
    "name": "ml.m5d.2xlarge",
    "vcpuNum": 8
   },
   {
    "_defaultOrder": 15,
    "_isFastLaunch": false,
    "category": "General purpose",
    "gpuNum": 0,
    "memoryGiB": 64,
    "name": "ml.m5d.4xlarge",
    "vcpuNum": 16
   },
   {
    "_defaultOrder": 16,
    "_isFastLaunch": false,
    "category": "General purpose",
    "gpuNum": 0,
    "memoryGiB": 128,
    "name": "ml.m5d.8xlarge",
    "vcpuNum": 32
   },
   {
    "_defaultOrder": 17,
    "_isFastLaunch": false,
    "category": "General purpose",
    "gpuNum": 0,
    "memoryGiB": 192,
    "name": "ml.m5d.12xlarge",
    "vcpuNum": 48
   },
   {
    "_defaultOrder": 18,
    "_isFastLaunch": false,
    "category": "General purpose",
    "gpuNum": 0,
    "memoryGiB": 256,
    "name": "ml.m5d.16xlarge",
    "vcpuNum": 64
   },
   {
    "_defaultOrder": 19,
    "_isFastLaunch": false,
    "category": "General purpose",
    "gpuNum": 0,
    "memoryGiB": 384,
    "name": "ml.m5d.24xlarge",
    "vcpuNum": 96
   },
   {
    "_defaultOrder": 20,
    "_isFastLaunch": true,
    "category": "Compute optimized",
    "gpuNum": 0,
    "memoryGiB": 4,
    "name": "ml.c5.large",
    "vcpuNum": 2
   },
   {
    "_defaultOrder": 21,
    "_isFastLaunch": false,
    "category": "Compute optimized",
    "gpuNum": 0,
    "memoryGiB": 8,
    "name": "ml.c5.xlarge",
    "vcpuNum": 4
   },
   {
    "_defaultOrder": 22,
    "_isFastLaunch": false,
    "category": "Compute optimized",
    "gpuNum": 0,
    "memoryGiB": 16,
    "name": "ml.c5.2xlarge",
    "vcpuNum": 8
   },
   {
    "_defaultOrder": 23,
    "_isFastLaunch": false,
    "category": "Compute optimized",
    "gpuNum": 0,
    "memoryGiB": 32,
    "name": "ml.c5.4xlarge",
    "vcpuNum": 16
   },
   {
    "_defaultOrder": 24,
    "_isFastLaunch": false,
    "category": "Compute optimized",
    "gpuNum": 0,
    "memoryGiB": 72,
    "name": "ml.c5.9xlarge",
    "vcpuNum": 36
   },
   {
    "_defaultOrder": 25,
    "_isFastLaunch": false,
    "category": "Compute optimized",
    "gpuNum": 0,
    "memoryGiB": 96,
    "name": "ml.c5.12xlarge",
    "vcpuNum": 48
   },
   {
    "_defaultOrder": 26,
    "_isFastLaunch": false,
    "category": "Compute optimized",
    "gpuNum": 0,
    "memoryGiB": 144,
    "name": "ml.c5.18xlarge",
    "vcpuNum": 72
   },
   {
    "_defaultOrder": 27,
    "_isFastLaunch": false,
    "category": "Compute optimized",
    "gpuNum": 0,
    "memoryGiB": 192,
    "name": "ml.c5.24xlarge",
    "vcpuNum": 96
   },
   {
    "_defaultOrder": 28,
    "_isFastLaunch": true,
    "category": "Accelerated computing",
    "gpuNum": 1,
    "memoryGiB": 16,
    "name": "ml.g4dn.xlarge",
    "vcpuNum": 4
   },
   {
    "_defaultOrder": 29,
    "_isFastLaunch": false,
    "category": "Accelerated computing",
    "gpuNum": 1,
    "memoryGiB": 32,
    "name": "ml.g4dn.2xlarge",
    "vcpuNum": 8
   },
   {
    "_defaultOrder": 30,
    "_isFastLaunch": false,
    "category": "Accelerated computing",
    "gpuNum": 1,
    "memoryGiB": 64,
    "name": "ml.g4dn.4xlarge",
    "vcpuNum": 16
   },
   {
    "_defaultOrder": 31,
    "_isFastLaunch": false,
    "category": "Accelerated computing",
    "gpuNum": 1,
    "memoryGiB": 128,
    "name": "ml.g4dn.8xlarge",
    "vcpuNum": 32
   },
   {
    "_defaultOrder": 32,
    "_isFastLaunch": false,
    "category": "Accelerated computing",
    "gpuNum": 4,
    "memoryGiB": 192,
    "name": "ml.g4dn.12xlarge",
    "vcpuNum": 48
   },
   {
    "_defaultOrder": 33,
    "_isFastLaunch": false,
    "category": "Accelerated computing",
    "gpuNum": 1,
    "memoryGiB": 256,
    "name": "ml.g4dn.16xlarge",
    "vcpuNum": 64
   },
   {
    "_defaultOrder": 34,
    "_isFastLaunch": false,
    "category": "Accelerated computing",
    "gpuNum": 1,
    "memoryGiB": 61,
    "name": "ml.p3.2xlarge",
    "vcpuNum": 8
   },
   {
    "_defaultOrder": 35,
    "_isFastLaunch": false,
    "category": "Accelerated computing",
    "gpuNum": 4,
    "memoryGiB": 244,
    "name": "ml.p3.8xlarge",
    "vcpuNum": 32
   },
   {
    "_defaultOrder": 36,
    "_isFastLaunch": false,
    "category": "Accelerated computing",
    "gpuNum": 8,
    "memoryGiB": 488,
    "name": "ml.p3.16xlarge",
    "vcpuNum": 64
   },
   {
    "_defaultOrder": 37,
    "_isFastLaunch": false,
    "category": "Accelerated computing",
    "gpuNum": 8,
    "memoryGiB": 768,
    "name": "ml.p3dn.24xlarge",
    "vcpuNum": 96
   },
   {
    "_defaultOrder": 38,
    "_isFastLaunch": false,
    "category": "Memory Optimized",
    "gpuNum": 0,
    "memoryGiB": 16,
    "name": "ml.r5.large",
    "vcpuNum": 2
   },
   {
    "_defaultOrder": 39,
    "_isFastLaunch": false,
    "category": "Memory Optimized",
    "gpuNum": 0,
    "memoryGiB": 32,
    "name": "ml.r5.xlarge",
    "vcpuNum": 4
   },
   {
    "_defaultOrder": 40,
    "_isFastLaunch": false,
    "category": "Memory Optimized",
    "gpuNum": 0,
    "memoryGiB": 64,
    "name": "ml.r5.2xlarge",
    "vcpuNum": 8
   },
   {
    "_defaultOrder": 41,
    "_isFastLaunch": false,
    "category": "Memory Optimized",
    "gpuNum": 0,
    "memoryGiB": 128,
    "name": "ml.r5.4xlarge",
    "vcpuNum": 16
   },
   {
    "_defaultOrder": 42,
    "_isFastLaunch": false,
    "category": "Memory Optimized",
    "gpuNum": 0,
    "memoryGiB": 256,
    "name": "ml.r5.8xlarge",
    "vcpuNum": 32
   },
   {
    "_defaultOrder": 43,
    "_isFastLaunch": false,
    "category": "Memory Optimized",
    "gpuNum": 0,
    "memoryGiB": 384,
    "name": "ml.r5.12xlarge",
    "vcpuNum": 48
   },
   {
    "_defaultOrder": 44,
    "_isFastLaunch": false,
    "category": "Memory Optimized",
    "gpuNum": 0,
    "memoryGiB": 512,
    "name": "ml.r5.16xlarge",
    "vcpuNum": 64
   },
   {
    "_defaultOrder": 45,
    "_isFastLaunch": false,
    "category": "Memory Optimized",
    "gpuNum": 0,
    "memoryGiB": 768,
    "name": "ml.r5.24xlarge",
    "vcpuNum": 96
   },
   {
    "_defaultOrder": 46,
    "_isFastLaunch": false,
    "category": "Accelerated computing",
    "gpuNum": 1,
    "memoryGiB": 16,
    "name": "ml.g5.xlarge",
    "vcpuNum": 4
   },
   {
    "_defaultOrder": 47,
    "_isFastLaunch": false,
    "category": "Accelerated computing",
    "gpuNum": 1,
    "memoryGiB": 32,
    "name": "ml.g5.2xlarge",
    "vcpuNum": 8
   },
   {
    "_defaultOrder": 48,
    "_isFastLaunch": false,
    "category": "Accelerated computing",
    "gpuNum": 1,
    "memoryGiB": 64,
    "name": "ml.g5.4xlarge",
    "vcpuNum": 16
   },
   {
    "_defaultOrder": 49,
    "_isFastLaunch": false,
    "category": "Accelerated computing",
    "gpuNum": 1,
    "memoryGiB": 128,
    "name": "ml.g5.8xlarge",
    "vcpuNum": 32
   },
   {
    "_defaultOrder": 50,
    "_isFastLaunch": false,
    "category": "Accelerated computing",
    "gpuNum": 1,
    "memoryGiB": 256,
    "name": "ml.g5.16xlarge",
    "vcpuNum": 64
   },
   {
    "_defaultOrder": 51,
    "_isFastLaunch": false,
    "category": "Accelerated computing",
    "gpuNum": 4,
    "memoryGiB": 192,
    "name": "ml.g5.12xlarge",
    "vcpuNum": 48
   },
   {
    "_defaultOrder": 52,
    "_isFastLaunch": false,
    "category": "Accelerated computing",
    "gpuNum": 4,
    "memoryGiB": 384,
    "name": "ml.g5.24xlarge",
    "vcpuNum": 96
   },
   {
    "_defaultOrder": 53,
    "_isFastLaunch": false,
    "category": "Accelerated computing",
    "gpuNum": 8,
    "memoryGiB": 768,
    "name": "ml.g5.48xlarge",
    "vcpuNum": 192
   }
  ],
  "instance_type": "ml.t3.xlarge",
  "kernelspec": {
   "display_name": "Python 3 (Data Science)",
   "language": "python",
   "name": "python3__SAGEMAKER_INTERNAL__arn:aws:sagemaker:us-east-1:081325390199:image/datascience-1.0"
  },
  "language_info": {
   "codemirror_mode": {
    "name": "ipython",
    "version": 3
   },
   "file_extension": ".py",
   "mimetype": "text/x-python",
   "name": "python",
   "nbconvert_exporter": "python",
   "pygments_lexer": "ipython3",
   "version": "3.7.10"
  }
 },
 "nbformat": 4,
 "nbformat_minor": 5
}
