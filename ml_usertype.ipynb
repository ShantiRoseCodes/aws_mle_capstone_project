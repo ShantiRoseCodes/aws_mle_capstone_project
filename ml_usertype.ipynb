{
 "cells": [
  {
   "cell_type": "code",
   "execution_count": 3,
   "id": "8a0737ba-fe5f-4324-ac7b-f81cc63af292",
   "metadata": {
    "tags": []
   },
   "outputs": [
    {
     "name": "stdout",
     "output_type": "stream",
     "text": [
      "Collecting lightgbm\n",
      "  Using cached lightgbm-3.3.5-py3-none-manylinux1_x86_64.whl (2.0 MB)\n",
      "Requirement already satisfied: numpy in /opt/conda/lib/python3.7/site-packages (from lightgbm) (1.21.6)\n",
      "Requirement already satisfied: scipy in /opt/conda/lib/python3.7/site-packages (from lightgbm) (1.4.1)\n",
      "Requirement already satisfied: wheel in /opt/conda/lib/python3.7/site-packages (from lightgbm) (0.38.4)\n",
      "Requirement already satisfied: scikit-learn!=0.22.0 in /opt/conda/lib/python3.7/site-packages (from lightgbm) (0.22.1)\n",
      "Requirement already satisfied: joblib>=0.11 in /opt/conda/lib/python3.7/site-packages (from scikit-learn!=0.22.0->lightgbm) (1.2.0)\n",
      "Installing collected packages: lightgbm\n",
      "Successfully installed lightgbm-3.3.5\n",
      "\u001b[33mWARNING: Running pip as the 'root' user can result in broken permissions and conflicting behaviour with the system package manager. It is recommended to use a virtual environment instead: https://pip.pypa.io/warnings/venv\u001b[0m\u001b[33m\n",
      "\u001b[0m\n",
      "\u001b[1m[\u001b[0m\u001b[34;49mnotice\u001b[0m\u001b[1;39;49m]\u001b[0m\u001b[39;49m A new release of pip is available: \u001b[0m\u001b[31;49m23.0\u001b[0m\u001b[39;49m -> \u001b[0m\u001b[32;49m23.0.1\u001b[0m\n",
      "\u001b[1m[\u001b[0m\u001b[34;49mnotice\u001b[0m\u001b[1;39;49m]\u001b[0m\u001b[39;49m To update, run: \u001b[0m\u001b[32;49mpip install --upgrade pip\u001b[0m\n"
     ]
    }
   ],
   "source": [
    "!pip install lightgbm\n"
   ]
  },
  {
   "cell_type": "code",
   "execution_count": 3,
   "id": "253febc8-2098-48c3-ac85-21bd80b1b098",
   "metadata": {
    "tags": []
   },
   "outputs": [],
   "source": [
    "import pandas as pd\n",
    "import numpy as np\n",
    "import math\n",
    "import json\n",
    "import seaborn as sns\n",
    "import matplotlib.pyplot as plt\n",
    "import os\n",
    "# import lightgbm as lgb\n",
    "from sklearn.metrics import f1_score, confusion_matrix\n",
    "from sklearn.ensemble import RandomForestClassifier"
   ]
  },
  {
   "cell_type": "code",
   "execution_count": 3,
   "id": "49d20db8-968b-4477-971f-01a3b8a86d5e",
   "metadata": {},
   "outputs": [],
   "source": [
    "user_type = pd.read_csv('data/transaction_with_labels.csv')"
   ]
  },
  {
   "cell_type": "code",
   "execution_count": 4,
   "id": "08903000-a8bc-40a5-abf5-b636602cfdd8",
   "metadata": {
    "tags": []
   },
   "outputs": [
    {
     "data": {
      "text/html": [
       "<div>\n",
       "<style scoped>\n",
       "    .dataframe tbody tr th:only-of-type {\n",
       "        vertical-align: middle;\n",
       "    }\n",
       "\n",
       "    .dataframe tbody tr th {\n",
       "        vertical-align: top;\n",
       "    }\n",
       "\n",
       "    .dataframe thead th {\n",
       "        text-align: right;\n",
       "    }\n",
       "</style>\n",
       "<table border=\"1\" class=\"dataframe\">\n",
       "  <thead>\n",
       "    <tr style=\"text-align: right;\">\n",
       "      <th></th>\n",
       "      <th>offer_type</th>\n",
       "      <th>offer_received</th>\n",
       "      <th>offer_viewed</th>\n",
       "      <th>received_viewed</th>\n",
       "      <th>amount_spent</th>\n",
       "    </tr>\n",
       "  </thead>\n",
       "  <tbody>\n",
       "    <tr>\n",
       "      <th>5</th>\n",
       "      <td>informational</td>\n",
       "      <td>1</td>\n",
       "      <td>1</td>\n",
       "      <td>48.0</td>\n",
       "      <td>19.89</td>\n",
       "    </tr>\n",
       "    <tr>\n",
       "      <th>6</th>\n",
       "      <td>informational</td>\n",
       "      <td>1</td>\n",
       "      <td>1</td>\n",
       "      <td>48.0</td>\n",
       "      <td>17.78</td>\n",
       "    </tr>\n",
       "    <tr>\n",
       "      <th>7</th>\n",
       "      <td>informational</td>\n",
       "      <td>1</td>\n",
       "      <td>1</td>\n",
       "      <td>48.0</td>\n",
       "      <td>19.67</td>\n",
       "    </tr>\n",
       "    <tr>\n",
       "      <th>8</th>\n",
       "      <td>informational</td>\n",
       "      <td>1</td>\n",
       "      <td>1</td>\n",
       "      <td>48.0</td>\n",
       "      <td>29.72</td>\n",
       "    </tr>\n",
       "    <tr>\n",
       "      <th>9</th>\n",
       "      <td>informational</td>\n",
       "      <td>1</td>\n",
       "      <td>1</td>\n",
       "      <td>48.0</td>\n",
       "      <td>23.93</td>\n",
       "    </tr>\n",
       "    <tr>\n",
       "      <th>...</th>\n",
       "      <td>...</td>\n",
       "      <td>...</td>\n",
       "      <td>...</td>\n",
       "      <td>...</td>\n",
       "      <td>...</td>\n",
       "    </tr>\n",
       "    <tr>\n",
       "      <th>148650</th>\n",
       "      <td>informational</td>\n",
       "      <td>1</td>\n",
       "      <td>1</td>\n",
       "      <td>60.0</td>\n",
       "      <td>5.93</td>\n",
       "    </tr>\n",
       "    <tr>\n",
       "      <th>148652</th>\n",
       "      <td>informational</td>\n",
       "      <td>1</td>\n",
       "      <td>1</td>\n",
       "      <td>60.0</td>\n",
       "      <td>1.74</td>\n",
       "    </tr>\n",
       "    <tr>\n",
       "      <th>148654</th>\n",
       "      <td>informational</td>\n",
       "      <td>1</td>\n",
       "      <td>1</td>\n",
       "      <td>60.0</td>\n",
       "      <td>2.16</td>\n",
       "    </tr>\n",
       "    <tr>\n",
       "      <th>148656</th>\n",
       "      <td>informational</td>\n",
       "      <td>1</td>\n",
       "      <td>1</td>\n",
       "      <td>60.0</td>\n",
       "      <td>6.61</td>\n",
       "    </tr>\n",
       "    <tr>\n",
       "      <th>148658</th>\n",
       "      <td>informational</td>\n",
       "      <td>1</td>\n",
       "      <td>1</td>\n",
       "      <td>60.0</td>\n",
       "      <td>4.16</td>\n",
       "    </tr>\n",
       "  </tbody>\n",
       "</table>\n",
       "<p>91987 rows × 5 columns</p>\n",
       "</div>"
      ],
      "text/plain": [
       "           offer_type  offer_received  offer_viewed  received_viewed  \\\n",
       "5       informational               1             1             48.0   \n",
       "6       informational               1             1             48.0   \n",
       "7       informational               1             1             48.0   \n",
       "8       informational               1             1             48.0   \n",
       "9       informational               1             1             48.0   \n",
       "...               ...             ...           ...              ...   \n",
       "148650  informational               1             1             60.0   \n",
       "148652  informational               1             1             60.0   \n",
       "148654  informational               1             1             60.0   \n",
       "148656  informational               1             1             60.0   \n",
       "148658  informational               1             1             60.0   \n",
       "\n",
       "        amount_spent  \n",
       "5              19.89  \n",
       "6              17.78  \n",
       "7              19.67  \n",
       "8              29.72  \n",
       "9              23.93  \n",
       "...              ...  \n",
       "148650          5.93  \n",
       "148652          1.74  \n",
       "148654          2.16  \n",
       "148656          6.61  \n",
       "148658          4.16  \n",
       "\n",
       "[91987 rows x 5 columns]"
      ]
     },
     "execution_count": 4,
     "metadata": {},
     "output_type": "execute_result"
    }
   ],
   "source": [
    "user_type[(user_type.offer_type == 'informational') & (user_type.offer_received == 1) & (user_type.offer_viewed == 1)][['offer_type', 'offer_received', 'offer_viewed', 'received_viewed', 'amount_spent']]"
   ]
  },
  {
   "cell_type": "code",
   "execution_count": 5,
   "id": "a72244d6-8fb1-41c9-830e-dbd026afadd9",
   "metadata": {
    "tags": []
   },
   "outputs": [
    {
     "data": {
      "text/plain": [
       "Index(['age', 'gender', 'income', 'became_member_on', 'membership_duration',\n",
       "       'person', 'event', 'time', 'amount_spent', 'offer_received',\n",
       "       'time_received', 'offer_id', 'offer_viewed', 'time_viewed',\n",
       "       'offer_completed', 'time_completed', 'reward_received', 'offer',\n",
       "       'offer_type', 'difficulty', 'duration', 'reward', 'channels', 'web',\n",
       "       'email', 'social', 'mobile', 'duration_hr', 'received_viewed',\n",
       "       'viewed_completed', 'received_completed_diff', 'duration_diff',\n",
       "       'valid_complete', 'completed', 'label'],\n",
       "      dtype='object')"
      ]
     },
     "execution_count": 5,
     "metadata": {},
     "output_type": "execute_result"
    }
   ],
   "source": [
    "user_type.columns"
   ]
  },
  {
   "cell_type": "code",
   "execution_count": 6,
   "id": "5a84f006-b513-4bd0-a598-49c7ecf8cbcb",
   "metadata": {
    "tags": []
   },
   "outputs": [],
   "source": [
    "user_type.drop(['became_member_on', 'event', 'time', 'offer_received',\n",
    "       'time_received', 'offer_id', 'offer_viewed', 'time_viewed',\n",
    "       'offer_completed', 'time_completed', 'reward_received', 'offer',\n",
    "       'offer_type', 'channels', 'duration_hr', 'received_viewed',\n",
    "       'viewed_completed', 'received_completed_diff', 'duration_diff', 'person', 'valid_complete', 'amount_spent', 'completed'], axis = 1, inplace = True)"
   ]
  },
  {
   "cell_type": "code",
   "execution_count": 7,
   "id": "56abcafc-bebd-445f-a439-3bc065dcb4c2",
   "metadata": {
    "tags": []
   },
   "outputs": [
    {
     "data": {
      "text/html": [
       "<div>\n",
       "<style scoped>\n",
       "    .dataframe tbody tr th:only-of-type {\n",
       "        vertical-align: middle;\n",
       "    }\n",
       "\n",
       "    .dataframe tbody tr th {\n",
       "        vertical-align: top;\n",
       "    }\n",
       "\n",
       "    .dataframe thead th {\n",
       "        text-align: right;\n",
       "    }\n",
       "</style>\n",
       "<table border=\"1\" class=\"dataframe\">\n",
       "  <thead>\n",
       "    <tr style=\"text-align: right;\">\n",
       "      <th></th>\n",
       "      <th>age</th>\n",
       "      <th>gender</th>\n",
       "      <th>income</th>\n",
       "      <th>membership_duration</th>\n",
       "      <th>difficulty</th>\n",
       "      <th>duration</th>\n",
       "      <th>reward</th>\n",
       "      <th>web</th>\n",
       "      <th>email</th>\n",
       "      <th>social</th>\n",
       "      <th>mobile</th>\n",
       "      <th>label</th>\n",
       "    </tr>\n",
       "  </thead>\n",
       "  <tbody>\n",
       "    <tr>\n",
       "      <th>0</th>\n",
       "      <td>55</td>\n",
       "      <td>F</td>\n",
       "      <td>112000.0</td>\n",
       "      <td>376</td>\n",
       "      <td>0</td>\n",
       "      <td>4</td>\n",
       "      <td>0</td>\n",
       "      <td>1</td>\n",
       "      <td>1</td>\n",
       "      <td>0</td>\n",
       "      <td>1</td>\n",
       "      <td>buy without offer</td>\n",
       "    </tr>\n",
       "    <tr>\n",
       "      <th>1</th>\n",
       "      <td>55</td>\n",
       "      <td>F</td>\n",
       "      <td>112000.0</td>\n",
       "      <td>376</td>\n",
       "      <td>0</td>\n",
       "      <td>4</td>\n",
       "      <td>0</td>\n",
       "      <td>1</td>\n",
       "      <td>1</td>\n",
       "      <td>0</td>\n",
       "      <td>1</td>\n",
       "      <td>buy without offer</td>\n",
       "    </tr>\n",
       "    <tr>\n",
       "      <th>2</th>\n",
       "      <td>55</td>\n",
       "      <td>F</td>\n",
       "      <td>112000.0</td>\n",
       "      <td>376</td>\n",
       "      <td>5</td>\n",
       "      <td>7</td>\n",
       "      <td>5</td>\n",
       "      <td>1</td>\n",
       "      <td>1</td>\n",
       "      <td>0</td>\n",
       "      <td>1</td>\n",
       "      <td>buy without offer</td>\n",
       "    </tr>\n",
       "    <tr>\n",
       "      <th>3</th>\n",
       "      <td>55</td>\n",
       "      <td>F</td>\n",
       "      <td>112000.0</td>\n",
       "      <td>376</td>\n",
       "      <td>0</td>\n",
       "      <td>4</td>\n",
       "      <td>0</td>\n",
       "      <td>1</td>\n",
       "      <td>1</td>\n",
       "      <td>0</td>\n",
       "      <td>1</td>\n",
       "      <td>buy without offer</td>\n",
       "    </tr>\n",
       "    <tr>\n",
       "      <th>4</th>\n",
       "      <td>75</td>\n",
       "      <td>F</td>\n",
       "      <td>100000.0</td>\n",
       "      <td>443</td>\n",
       "      <td>5</td>\n",
       "      <td>7</td>\n",
       "      <td>5</td>\n",
       "      <td>1</td>\n",
       "      <td>1</td>\n",
       "      <td>0</td>\n",
       "      <td>1</td>\n",
       "      <td>bogo buyers</td>\n",
       "    </tr>\n",
       "    <tr>\n",
       "      <th>...</th>\n",
       "      <td>...</td>\n",
       "      <td>...</td>\n",
       "      <td>...</td>\n",
       "      <td>...</td>\n",
       "      <td>...</td>\n",
       "      <td>...</td>\n",
       "      <td>...</td>\n",
       "      <td>...</td>\n",
       "      <td>...</td>\n",
       "      <td>...</td>\n",
       "      <td>...</td>\n",
       "      <td>...</td>\n",
       "    </tr>\n",
       "    <tr>\n",
       "      <th>148668</th>\n",
       "      <td>62</td>\n",
       "      <td>F</td>\n",
       "      <td>82000.0</td>\n",
       "      <td>369</td>\n",
       "      <td>0</td>\n",
       "      <td>4</td>\n",
       "      <td>0</td>\n",
       "      <td>1</td>\n",
       "      <td>1</td>\n",
       "      <td>0</td>\n",
       "      <td>1</td>\n",
       "      <td>buy without offer</td>\n",
       "    </tr>\n",
       "    <tr>\n",
       "      <th>148669</th>\n",
       "      <td>62</td>\n",
       "      <td>F</td>\n",
       "      <td>82000.0</td>\n",
       "      <td>369</td>\n",
       "      <td>0</td>\n",
       "      <td>4</td>\n",
       "      <td>0</td>\n",
       "      <td>1</td>\n",
       "      <td>1</td>\n",
       "      <td>0</td>\n",
       "      <td>1</td>\n",
       "      <td>buy without offer</td>\n",
       "    </tr>\n",
       "    <tr>\n",
       "      <th>148670</th>\n",
       "      <td>62</td>\n",
       "      <td>F</td>\n",
       "      <td>82000.0</td>\n",
       "      <td>369</td>\n",
       "      <td>0</td>\n",
       "      <td>4</td>\n",
       "      <td>0</td>\n",
       "      <td>1</td>\n",
       "      <td>1</td>\n",
       "      <td>0</td>\n",
       "      <td>1</td>\n",
       "      <td>buy without offer</td>\n",
       "    </tr>\n",
       "    <tr>\n",
       "      <th>148671</th>\n",
       "      <td>62</td>\n",
       "      <td>F</td>\n",
       "      <td>82000.0</td>\n",
       "      <td>369</td>\n",
       "      <td>0</td>\n",
       "      <td>4</td>\n",
       "      <td>0</td>\n",
       "      <td>1</td>\n",
       "      <td>1</td>\n",
       "      <td>0</td>\n",
       "      <td>1</td>\n",
       "      <td>buy without offer</td>\n",
       "    </tr>\n",
       "    <tr>\n",
       "      <th>148672</th>\n",
       "      <td>62</td>\n",
       "      <td>F</td>\n",
       "      <td>82000.0</td>\n",
       "      <td>369</td>\n",
       "      <td>0</td>\n",
       "      <td>4</td>\n",
       "      <td>0</td>\n",
       "      <td>1</td>\n",
       "      <td>1</td>\n",
       "      <td>0</td>\n",
       "      <td>1</td>\n",
       "      <td>buy without offer</td>\n",
       "    </tr>\n",
       "  </tbody>\n",
       "</table>\n",
       "<p>148673 rows × 12 columns</p>\n",
       "</div>"
      ],
      "text/plain": [
       "        age gender    income  membership_duration  difficulty  duration  \\\n",
       "0        55      F  112000.0                  376           0         4   \n",
       "1        55      F  112000.0                  376           0         4   \n",
       "2        55      F  112000.0                  376           5         7   \n",
       "3        55      F  112000.0                  376           0         4   \n",
       "4        75      F  100000.0                  443           5         7   \n",
       "...     ...    ...       ...                  ...         ...       ...   \n",
       "148668   62      F   82000.0                  369           0         4   \n",
       "148669   62      F   82000.0                  369           0         4   \n",
       "148670   62      F   82000.0                  369           0         4   \n",
       "148671   62      F   82000.0                  369           0         4   \n",
       "148672   62      F   82000.0                  369           0         4   \n",
       "\n",
       "        reward  web  email  social  mobile              label  \n",
       "0            0    1      1       0       1  buy without offer  \n",
       "1            0    1      1       0       1  buy without offer  \n",
       "2            5    1      1       0       1  buy without offer  \n",
       "3            0    1      1       0       1  buy without offer  \n",
       "4            5    1      1       0       1        bogo buyers  \n",
       "...        ...  ...    ...     ...     ...                ...  \n",
       "148668       0    1      1       0       1  buy without offer  \n",
       "148669       0    1      1       0       1  buy without offer  \n",
       "148670       0    1      1       0       1  buy without offer  \n",
       "148671       0    1      1       0       1  buy without offer  \n",
       "148672       0    1      1       0       1  buy without offer  \n",
       "\n",
       "[148673 rows x 12 columns]"
      ]
     },
     "execution_count": 7,
     "metadata": {},
     "output_type": "execute_result"
    }
   ],
   "source": [
    "user_type"
   ]
  },
  {
   "cell_type": "code",
   "execution_count": 8,
   "id": "e8d4da18-165b-4c34-9827-a0757a14fd25",
   "metadata": {
    "tags": []
   },
   "outputs": [],
   "source": [
    "def _transform_column_into_dummies(dataframe, names_of_column):\n",
    "    \n",
    "    to_concat = [dataframe]\n",
    "    \n",
    "    for name in names_of_column:\n",
    "        dummies = pd.get_dummies(dataframe[name], prefix=f\"{name} = \")\n",
    "        to_concat.append(dummies)\n",
    "    \n",
    "    dataframe = pd.concat(to_concat, axis=1)\n",
    "    \n",
    "    dataframe = dataframe.drop(names_of_column, axis=1)\n",
    "    \n",
    "    return dataframe\n",
    "\n",
    "user_type = _transform_column_into_dummies(user_type, ['gender'])"
   ]
  },
  {
   "cell_type": "code",
   "execution_count": 9,
   "id": "a55e4096-6168-4d4c-9a27-62617f114a26",
   "metadata": {
    "tags": []
   },
   "outputs": [],
   "source": [
    "from sklearn.preprocessing import LabelEncoder"
   ]
  },
  {
   "cell_type": "code",
   "execution_count": 10,
   "id": "7ec9c31c-9635-4f80-b70e-73ccfcd89c95",
   "metadata": {
    "tags": []
   },
   "outputs": [],
   "source": [
    "le_label = LabelEncoder()\n",
    "user_type['label'] = le_label.fit_transform(user_type['label'])"
   ]
  },
  {
   "cell_type": "code",
   "execution_count": 11,
   "id": "9e6165be-289a-45fa-bd10-cece2290ab19",
   "metadata": {
    "tags": []
   },
   "outputs": [
    {
     "data": {
      "text/plain": [
       "0         1\n",
       "1         1\n",
       "2         1\n",
       "3         1\n",
       "4         0\n",
       "         ..\n",
       "148668    1\n",
       "148669    1\n",
       "148670    1\n",
       "148671    1\n",
       "148672    1\n",
       "Name: label, Length: 148673, dtype: int64"
      ]
     },
     "execution_count": 11,
     "metadata": {},
     "output_type": "execute_result"
    }
   ],
   "source": [
    "user_type['label']"
   ]
  },
  {
   "cell_type": "code",
   "execution_count": 12,
   "id": "7f539e92-87fb-42d8-95fe-3e12dfd7088f",
   "metadata": {
    "tags": []
   },
   "outputs": [],
   "source": [
    "user_types = le_label.inverse_transform(user_type['label'])"
   ]
  },
  {
   "cell_type": "code",
   "execution_count": 13,
   "id": "8901a257-1d75-4f7a-9490-c7bc422ced49",
   "metadata": {
    "tags": []
   },
   "outputs": [],
   "source": [
    "labels = pd.DataFrame({'label': user_type['label'], 'decoded': user_types})"
   ]
  },
  {
   "cell_type": "code",
   "execution_count": 14,
   "id": "700f7d0c-2780-4834-9370-95f01bfefd36",
   "metadata": {
    "tags": []
   },
   "outputs": [
    {
     "data": {
      "text/plain": [
       "array(['buy without offer', 'bogo buyers', 'informational buyers',\n",
       "       'discount buyers'], dtype=object)"
      ]
     },
     "execution_count": 14,
     "metadata": {},
     "output_type": "execute_result"
    }
   ],
   "source": [
    "labels['decoded'].unique()"
   ]
  },
  {
   "cell_type": "code",
   "execution_count": 15,
   "id": "ebd79149-a47d-4de9-bb51-02b3aee34527",
   "metadata": {
    "tags": []
   },
   "outputs": [
    {
     "data": {
      "text/plain": [
       "array([1, 0, 3, 2])"
      ]
     },
     "execution_count": 15,
     "metadata": {},
     "output_type": "execute_result"
    }
   ],
   "source": [
    "labels['label'].unique()"
   ]
  },
  {
   "cell_type": "code",
   "execution_count": 16,
   "id": "decce1c2-8c9a-4bed-98c9-dd6044bdece0",
   "metadata": {
    "tags": []
   },
   "outputs": [],
   "source": [
    "X = user_type.drop('label', axis = 1)\n",
    "y = user_type['label']"
   ]
  },
  {
   "cell_type": "code",
   "execution_count": 17,
   "id": "aecee943-3ae7-463e-8f48-a93f7ff62919",
   "metadata": {
    "tags": []
   },
   "outputs": [],
   "source": [
    "from sklearn.model_selection import train_test_split\n",
    "\n",
    "X_train, X_test, y_train, y_test = train_test_split(X, y, test_size=0.2, random_state=1, shuffle = True)\n",
    "\n",
    "X_train, X_val, y_train, y_val = train_test_split(X_train, y_train, test_size=0.25, random_state=1, shuffle = True) # 0.25 x 0.8 = 0.2"
   ]
  },
  {
   "cell_type": "code",
   "execution_count": 18,
   "id": "9c822b72-3f05-400c-ad01-820678d1930e",
   "metadata": {},
   "outputs": [],
   "source": [
    "from sklearn import tree\n",
    "tree_clf = tree.DecisionTreeClassifier()\n",
    "tree_clf = tree_clf.fit(X_train, y_train)"
   ]
  },
  {
   "cell_type": "code",
   "execution_count": 19,
   "id": "31565ef8-6383-45f9-ac14-a7f70028fb36",
   "metadata": {
    "tags": []
   },
   "outputs": [
    {
     "data": {
      "text/plain": [
       "array([0, 1, 2, 3])"
      ]
     },
     "execution_count": 19,
     "metadata": {},
     "output_type": "execute_result"
    }
   ],
   "source": [
    "tree_clf.classes_"
   ]
  },
  {
   "cell_type": "code",
   "execution_count": 20,
   "id": "8334c76f-f878-4c3a-bb38-3debccdcd231",
   "metadata": {
    "tags": []
   },
   "outputs": [],
   "source": [
    "tree_pred = tree_clf.predict(X_val)"
   ]
  },
  {
   "cell_type": "code",
   "execution_count": 23,
   "id": "bcffdee5-ee0e-422d-8931-f7cf90c9ba75",
   "metadata": {
    "tags": []
   },
   "outputs": [],
   "source": [
    "tree_proba = tree_clf.predict_proba(X_val)"
   ]
  },
  {
   "cell_type": "code",
   "execution_count": 24,
   "id": "bc8faf40-1ade-46bc-96b0-0e402c886f0f",
   "metadata": {
    "tags": []
   },
   "outputs": [],
   "source": [
    "tree_f1 = f1_score(tree_pred, y_val, average = 'weighted')"
   ]
  },
  {
   "cell_type": "code",
   "execution_count": 25,
   "id": "802e2e2f-4453-47a5-b7f6-24592324ac78",
   "metadata": {
    "tags": []
   },
   "outputs": [
    {
     "name": "stdout",
     "output_type": "stream",
     "text": [
      "0.7717056202247666\n"
     ]
    }
   ],
   "source": [
    "print(tree_f1)"
   ]
  },
  {
   "cell_type": "code",
   "execution_count": 26,
   "id": "6cf1ee8f-df72-4e7a-be86-f1557777b425",
   "metadata": {
    "tags": []
   },
   "outputs": [
    {
     "name": "stdout",
     "output_type": "stream",
     "text": [
      "Feature ranking:\n",
      "1. feature 5 age (0.368314)\n",
      "2. feature 2 income (0.228225)\n",
      "3. feature 1 membership_duration (0.140089)\n",
      "4. feature 0 difficulty (0.134784)\n",
      "5. feature 9 duration (0.043425)\n",
      "6. feature 4 reward (0.038585)\n",
      "7. feature 8 web (0.017781)\n",
      "8. feature 10 email (0.012961)\n",
      "9. feature 11 social (0.012257)\n",
      "10. feature 12 mobile (0.002516)\n",
      "11. feature 3 gender = _F (0.000573)\n",
      "12. feature 6 gender = _M (0.000490)\n",
      "13. feature 7 gender = _O (0.000000)\n"
     ]
    },
    {
     "data": {
      "image/png": "[encoded data removed]",
      "text/plain": [
       "<Figure size 640x480 with 1 Axes>"
      ]
     },
     "metadata": {},
     "output_type": "display_data"
    }
   ],
   "source": [
    "# get feature importances\n",
    "tree_importances = tree_clf.feature_importances_\n",
    "\n",
    "# sort feature importances in descending order\n",
    "indices = np.argsort(tree_importances)[::-1]\n",
    "\n",
    "# print out the feature ranking\n",
    "print(\"Feature ranking:\")\n",
    "for f in range(X.shape[1]):\n",
    "    print(\"%d. feature %d %s (%f)\" % (f + 1, indices[f], X.columns[f], tree_importances[indices[f]]))\n",
    "\n",
    "# plot the feature importances\n",
    "plt.title(\"Feature importances\")\n",
    "plt.bar(range(X.shape[1]), tree_importances[indices])\n",
    "plt.xticks(range(X.shape[1]), indices)\n",
    "plt.show()"
   ]
  },
  {
   "cell_type": "code",
   "execution_count": 27,
   "id": "c9693e2e-aa36-431b-9eeb-0d06140475c2",
   "metadata": {
    "tags": []
   },
   "outputs": [
    {
     "data": {
      "image/png": "[encoded data removed]",
      "text/plain": [
       "<Figure size 640x480 with 2 Axes>"
      ]
     },
     "metadata": {},
     "output_type": "display_data"
    }
   ],
   "source": [
    "# Compute the confusion matrix\n",
    "tree_cm = confusion_matrix(y_test, tree_pred)\n",
    "\n",
    "# Visualize the confusion matrix as a heatmap\n",
    "fig, ax = plt.subplots()\n",
    "im = ax.imshow(tree_cm, interpolation='nearest', cmap=plt.cm.Blues)\n",
    "ax.set(xticks=np.arange(tree_cm.shape[1]),\n",
    "       yticks=np.arange(tree_cm.shape[0]),\n",
    "       xticklabels=['bogo', 'no offer', 'discount', 'info'],\n",
    "       yticklabels=['bogo', 'no offer', 'discount', 'info'],\n",
    "       xlabel='Predicted label',\n",
    "       ylabel='True label')\n",
    "\n",
    "# Add colorbar\n",
    "cbar = ax.figure.colorbar(im, ax=ax)\n",
    "\n",
    "# Loop over data to add annotations\n",
    "for i in range(tree_cm.shape[0]):\n",
    "    for j in range(tree_cm.shape[1]):\n",
    "        ax.text(j, i, tree_cm[i, j], ha=\"center\", va=\"center\", color=\"white\")\n",
    "\n",
    "fig.tight_layout()\n",
    "plt.show()"
   ]
  },
  {
   "cell_type": "code",
   "execution_count": 95,
   "id": "85411679-9de6-465c-bcc0-d8e430326718",
   "metadata": {},
   "outputs": [],
   "source": [
    "forest_clf = RandomForestClassifier(max_depth=2, random_state=0)\n",
    "forest_clf = forest_clf.fit(X_train, y_train)"
   ]
  },
  {
   "cell_type": "code",
   "execution_count": 96,
   "id": "6583d1d8-70cc-4e51-a82c-5133bc9cd8a3",
   "metadata": {
    "tags": []
   },
   "outputs": [],
   "source": [
    "forest_pred = forest_clf.predict(X_val)"
   ]
  },
  {
   "cell_type": "code",
   "execution_count": 97,
   "id": "5d2c7172-c40a-436d-8060-dcb2fff9bb58",
   "metadata": {
    "tags": []
   },
   "outputs": [],
   "source": [
    "forest_f1 = f1_score(forest_pred, y_val, average = \"weighted\")"
   ]
  },
  {
   "cell_type": "code",
   "execution_count": 98,
   "id": "f68e4da7-5076-4420-8f08-d17a6850285c",
   "metadata": {
    "tags": []
   },
   "outputs": [
    {
     "name": "stdout",
     "output_type": "stream",
     "text": [
      "0.6536167519674068\n"
     ]
    }
   ],
   "source": [
    "print(forest_f1)"
   ]
  },
  {
   "cell_type": "code",
   "execution_count": 99,
   "id": "1ae9ce93-5004-4922-ad61-1b7caaa52992",
   "metadata": {
    "tags": []
   },
   "outputs": [
    {
     "data": {
      "image/png": "[encoded data removed]",
      "text/plain": [
       "<Figure size 640x480 with 2 Axes>"
      ]
     },
     "metadata": {},
     "output_type": "display_data"
    }
   ],
   "source": [
    "# Compute the confusion matrix\n",
    "forest_cm = confusion_matrix(y_test, forest_pred)\n",
    "\n",
    "# Visualize the confusion matrix as a heatmap\n",
    "fig, ax = plt.subplots()\n",
    "im = ax.imshow(tree_cm, interpolation='nearest', cmap=plt.cm.Blues)\n",
    "ax.set(xticks=np.arange(forest_cm.shape[1]),\n",
    "       yticks=np.arange(forest_cm.shape[0]),\n",
    "       xticklabels=['bogo', 'no offer', 'discount', 'info'],\n",
    "       yticklabels=['bogo', 'no offer', 'discount', 'info'],\n",
    "       xlabel='Predicted label',\n",
    "       ylabel='True label')\n",
    "\n",
    "# Add colorbar\n",
    "cbar = ax.figure.colorbar(im, ax=ax)\n",
    "\n",
    "# Loop over data to add annotations\n",
    "for i in range(forest_cm.shape[0]):\n",
    "    for j in range(forest_cm.shape[1]):\n",
    "        ax.text(j, i, forest_cm[i, j], ha=\"center\", va=\"center\", color=\"white\")\n",
    "\n",
    "fig.tight_layout()\n",
    "plt.show()"
   ]
  },
  {
   "cell_type": "code",
   "execution_count": 100,
   "id": "28cafe8b-b1e7-45ca-9e62-b94b0f7cc173",
   "metadata": {
    "tags": []
   },
   "outputs": [
    {
     "name": "stdout",
     "output_type": "stream",
     "text": [
      "Feature ranking:\n",
      "1. feature 5 age (0.290664)\n",
      "2. feature 4 income (0.268262)\n",
      "3. feature 3 membership_duration (0.214339)\n",
      "4. feature 8 difficulty (0.115609)\n",
      "5. feature 6 duration (0.074392)\n",
      "6. feature 9 reward (0.020484)\n",
      "7. feature 1 web (0.012284)\n",
      "8. feature 0 email (0.002538)\n",
      "9. feature 2 social (0.001120)\n",
      "10. feature 10 mobile (0.000137)\n",
      "11. feature 11 gender = _F (0.000098)\n",
      "12. feature 12 gender = _M (0.000072)\n",
      "13. feature 7 gender = _O (0.000000)\n"
     ]
    },
    {
     "data": {
      "image/png": "[encoded data removed]",
      "text/plain": [
       "<Figure size 640x480 with 1 Axes>"
      ]
     },
     "metadata": {},
     "output_type": "display_data"
    }
   ],
   "source": [
    "# get feature importances\n",
    "forest_importances = forest_clf.feature_importances_\n",
    "\n",
    "# sort feature importances in descending order\n",
    "indices = np.argsort(forest_importances)[::-1]\n",
    "\n",
    "# print out the feature ranking\n",
    "print(\"Feature ranking:\")\n",
    "for f in range(X.shape[1]):\n",
    "    print(\"%d. feature %d %s (%f)\" % (f + 1, indices[f], X.columns[f], forest_importances[indices[f]]))\n",
    "\n",
    "# plot the feature importances\n",
    "plt.title(\"Feature importances\")\n",
    "plt.bar(range(X.shape[1]), forest_importances[indices])\n",
    "plt.xticks(range(X.shape[1]), indices)\n",
    "plt.show()\n"
   ]
  },
  {
   "cell_type": "code",
   "execution_count": 101,
   "id": "a39acd76-b099-4b1e-a1d6-b62160f2a246",
   "metadata": {
    "tags": []
   },
   "outputs": [],
   "source": [
    "lgb_clf = lgb.LGBMClassifier()\n",
    "lgb_clf = lgb_clf.fit(X_train, y_train)"
   ]
  },
  {
   "cell_type": "code",
   "execution_count": 102,
   "id": "f1ba59d9-921f-45a8-b467-297e5907ac3b",
   "metadata": {
    "tags": []
   },
   "outputs": [],
   "source": [
    "lgb_pred = lgb_clf.predict(X_val)"
   ]
  },
  {
   "cell_type": "code",
   "execution_count": 103,
   "id": "cff297db-8f43-4af8-867c-f5a7135999de",
   "metadata": {
    "tags": []
   },
   "outputs": [],
   "source": [
    "lgb_f1 = f1_score(lgb_pred, y_val, average = \"weighted\")"
   ]
  },
  {
   "cell_type": "code",
   "execution_count": 104,
   "id": "cb83e8f4-b88a-45de-830a-fc33091f20c6",
   "metadata": {
    "tags": []
   },
   "outputs": [
    {
     "name": "stdout",
     "output_type": "stream",
     "text": [
      "0.7018644582952969\n"
     ]
    }
   ],
   "source": [
    "print(lgb_f1)"
   ]
  },
  {
   "cell_type": "code",
   "execution_count": 105,
   "id": "7e94de76-685f-4a34-9969-4d8f9e162aa5",
   "metadata": {
    "tags": []
   },
   "outputs": [
    {
     "data": {
      "image/png": "[encoded data removed]",
      "text/plain": [
       "<Figure size 640x480 with 2 Axes>"
      ]
     },
     "metadata": {},
     "output_type": "display_data"
    }
   ],
   "source": [
    "# Compute the confusion matrix\n",
    "lgb_cm = confusion_matrix(y_test, lgb_pred)\n",
    "\n",
    "# Visualize the confusion matrix as a heatmap\n",
    "fig, ax = plt.subplots()\n",
    "im = ax.imshow(lgb_cm, interpolation='nearest', cmap=plt.cm.Blues)\n",
    "ax.set(xticks=np.arange(lgb_cm.shape[1]),\n",
    "       yticks=np.arange(lgb_cm.shape[0]),\n",
    "       xticklabels=['bogo', 'no offer', 'discount', 'info'],\n",
    "       yticklabels=['bogo', 'no offer', 'discount', 'info'],\n",
    "       xlabel='Predicted label',\n",
    "       ylabel='True label')\n",
    "\n",
    "# Add colorbar\n",
    "cbar = ax.figure.colorbar(im, ax=ax)\n",
    "\n",
    "# Loop over data to add annotations\n",
    "for i in range(lgb_cm.shape[0]):\n",
    "    for j in range(lgb_cm.shape[1]):\n",
    "        ax.text(j, i, lgb_cm[i, j], ha=\"center\", va=\"center\", color=\"white\")\n",
    "\n",
    "fig.tight_layout()\n",
    "plt.show()"
   ]
  },
  {
   "cell_type": "code",
   "execution_count": 106,
   "id": "ed530d82-0619-46ca-b19e-4e1ede30b554",
   "metadata": {
    "tags": []
   },
   "outputs": [
    {
     "name": "stdout",
     "output_type": "stream",
     "text": [
      "Feature ranking:\n",
      "1. feature 2 age (3961.000000)\n",
      "2. feature 1 income (3166.000000)\n",
      "3. feature 0 membership_duration (3103.000000)\n",
      "4. feature 3 difficulty (346.000000)\n",
      "5. feature 4 duration (314.000000)\n",
      "6. feature 10 reward (273.000000)\n",
      "7. feature 5 web (255.000000)\n",
      "8. feature 8 email (239.000000)\n",
      "9. feature 11 social (131.000000)\n",
      "10. feature 12 mobile (97.000000)\n",
      "11. feature 6 gender = _F (90.000000)\n",
      "12. feature 9 gender = _M (25.000000)\n",
      "13. feature 7 gender = _O (0.000000)\n"
     ]
    },
    {
     "data": {
      "image/png": "[encoded data removed]",
      "text/plain": [
       "<Figure size 640x480 with 1 Axes>"
      ]
     },
     "metadata": {},
     "output_type": "display_data"
    }
   ],
   "source": [
    "# get feature importances\n",
    "lgb_importances = lgb_clf.feature_importances_\n",
    "\n",
    "# sort feature importances in descending order\n",
    "indices = np.argsort(lgb_importances)[::-1]\n",
    "\n",
    "# print out the feature ranking\n",
    "print(\"Feature ranking:\")\n",
    "for f in range(X.shape[1]):\n",
    "    print(\"%d. feature %d %s (%f)\" % (f + 1, indices[f], X.columns[f], lgb_importances[indices[f]]))\n",
    "\n",
    "# plot the feature importances\n",
    "plt.title(\"Feature importances\")\n",
    "plt.bar(range(X.shape[1]), lgb_importances[indices])\n",
    "plt.xticks(range(X.shape[1]), indices)\n",
    "plt.show()"
   ]
  },
  {
   "cell_type": "code",
   "execution_count": 51,
   "id": "e8e78f27-0e13-42a4-921b-ba374ce110ab",
   "metadata": {
    "tags": []
   },
   "outputs": [],
   "source": [
    "from sklearn.preprocessing import StandardScaler\n",
    "from sklearn.model_selection import StratifiedKFold, cross_val_score\n",
    "from sklearn.pipeline import Pipeline"
   ]
  },
  {
   "cell_type": "code",
   "execution_count": 52,
   "id": "2566b8d5-e2eb-4882-b037-90516d298d3d",
   "metadata": {},
   "outputs": [],
   "source": [
    "models = []\n",
    "models.append(('DT', tree.DecisionTreeClassifier()))\n",
    "models.append(('RF', RandomForestClassifier()))\n",
    "models.append(('LGBM', lgb.LGBMClassifier()))"
   ]
  },
  {
   "cell_type": "code",
   "execution_count": 53,
   "id": "9ee3a80f-fbea-4cb7-a408-1a8783d5179c",
   "metadata": {
    "tags": []
   },
   "outputs": [
    {
     "data": {
      "text/html": [
       "<div>\n",
       "<style scoped>\n",
       "    .dataframe tbody tr th:only-of-type {\n",
       "        vertical-align: middle;\n",
       "    }\n",
       "\n",
       "    .dataframe tbody tr th {\n",
       "        vertical-align: top;\n",
       "    }\n",
       "\n",
       "    .dataframe thead th {\n",
       "        text-align: right;\n",
       "    }\n",
       "</style>\n",
       "<table border=\"1\" class=\"dataframe\">\n",
       "  <thead>\n",
       "    <tr style=\"text-align: right;\">\n",
       "      <th></th>\n",
       "      <th>age</th>\n",
       "      <th>income</th>\n",
       "      <th>membership_duration</th>\n",
       "      <th>difficulty</th>\n",
       "      <th>duration</th>\n",
       "      <th>reward</th>\n",
       "      <th>web</th>\n",
       "      <th>email</th>\n",
       "      <th>social</th>\n",
       "      <th>mobile</th>\n",
       "      <th>gender = _F</th>\n",
       "      <th>gender = _M</th>\n",
       "      <th>gender = _O</th>\n",
       "    </tr>\n",
       "  </thead>\n",
       "  <tbody>\n",
       "    <tr>\n",
       "      <th>114666</th>\n",
       "      <td>72</td>\n",
       "      <td>50000.0</td>\n",
       "      <td>230</td>\n",
       "      <td>0</td>\n",
       "      <td>3</td>\n",
       "      <td>0</td>\n",
       "      <td>0</td>\n",
       "      <td>1</td>\n",
       "      <td>1</td>\n",
       "      <td>1</td>\n",
       "      <td>0</td>\n",
       "      <td>1</td>\n",
       "      <td>0</td>\n",
       "    </tr>\n",
       "    <tr>\n",
       "      <th>1769</th>\n",
       "      <td>83</td>\n",
       "      <td>54000.0</td>\n",
       "      <td>353</td>\n",
       "      <td>0</td>\n",
       "      <td>3</td>\n",
       "      <td>0</td>\n",
       "      <td>0</td>\n",
       "      <td>1</td>\n",
       "      <td>1</td>\n",
       "      <td>1</td>\n",
       "      <td>0</td>\n",
       "      <td>1</td>\n",
       "      <td>0</td>\n",
       "    </tr>\n",
       "    <tr>\n",
       "      <th>108084</th>\n",
       "      <td>69</td>\n",
       "      <td>67000.0</td>\n",
       "      <td>565</td>\n",
       "      <td>0</td>\n",
       "      <td>3</td>\n",
       "      <td>0</td>\n",
       "      <td>0</td>\n",
       "      <td>1</td>\n",
       "      <td>1</td>\n",
       "      <td>1</td>\n",
       "      <td>0</td>\n",
       "      <td>1</td>\n",
       "      <td>0</td>\n",
       "    </tr>\n",
       "    <tr>\n",
       "      <th>19214</th>\n",
       "      <td>53</td>\n",
       "      <td>34000.0</td>\n",
       "      <td>978</td>\n",
       "      <td>0</td>\n",
       "      <td>3</td>\n",
       "      <td>0</td>\n",
       "      <td>0</td>\n",
       "      <td>1</td>\n",
       "      <td>1</td>\n",
       "      <td>1</td>\n",
       "      <td>0</td>\n",
       "      <td>1</td>\n",
       "      <td>0</td>\n",
       "    </tr>\n",
       "    <tr>\n",
       "      <th>98045</th>\n",
       "      <td>23</td>\n",
       "      <td>33000.0</td>\n",
       "      <td>991</td>\n",
       "      <td>10</td>\n",
       "      <td>7</td>\n",
       "      <td>2</td>\n",
       "      <td>1</td>\n",
       "      <td>1</td>\n",
       "      <td>0</td>\n",
       "      <td>1</td>\n",
       "      <td>1</td>\n",
       "      <td>0</td>\n",
       "      <td>0</td>\n",
       "    </tr>\n",
       "    <tr>\n",
       "      <th>...</th>\n",
       "      <td>...</td>\n",
       "      <td>...</td>\n",
       "      <td>...</td>\n",
       "      <td>...</td>\n",
       "      <td>...</td>\n",
       "      <td>...</td>\n",
       "      <td>...</td>\n",
       "      <td>...</td>\n",
       "      <td>...</td>\n",
       "      <td>...</td>\n",
       "      <td>...</td>\n",
       "      <td>...</td>\n",
       "      <td>...</td>\n",
       "    </tr>\n",
       "    <tr>\n",
       "      <th>131665</th>\n",
       "      <td>80</td>\n",
       "      <td>61000.0</td>\n",
       "      <td>215</td>\n",
       "      <td>0</td>\n",
       "      <td>4</td>\n",
       "      <td>0</td>\n",
       "      <td>1</td>\n",
       "      <td>1</td>\n",
       "      <td>0</td>\n",
       "      <td>1</td>\n",
       "      <td>0</td>\n",
       "      <td>1</td>\n",
       "      <td>0</td>\n",
       "    </tr>\n",
       "    <tr>\n",
       "      <th>143976</th>\n",
       "      <td>40</td>\n",
       "      <td>37000.0</td>\n",
       "      <td>361</td>\n",
       "      <td>0</td>\n",
       "      <td>3</td>\n",
       "      <td>0</td>\n",
       "      <td>0</td>\n",
       "      <td>1</td>\n",
       "      <td>1</td>\n",
       "      <td>1</td>\n",
       "      <td>0</td>\n",
       "      <td>1</td>\n",
       "      <td>0</td>\n",
       "    </tr>\n",
       "    <tr>\n",
       "      <th>79796</th>\n",
       "      <td>68</td>\n",
       "      <td>39000.0</td>\n",
       "      <td>778</td>\n",
       "      <td>0</td>\n",
       "      <td>3</td>\n",
       "      <td>0</td>\n",
       "      <td>0</td>\n",
       "      <td>1</td>\n",
       "      <td>1</td>\n",
       "      <td>1</td>\n",
       "      <td>0</td>\n",
       "      <td>1</td>\n",
       "      <td>0</td>\n",
       "    </tr>\n",
       "    <tr>\n",
       "      <th>90823</th>\n",
       "      <td>59</td>\n",
       "      <td>48000.0</td>\n",
       "      <td>1085</td>\n",
       "      <td>0</td>\n",
       "      <td>3</td>\n",
       "      <td>0</td>\n",
       "      <td>0</td>\n",
       "      <td>1</td>\n",
       "      <td>1</td>\n",
       "      <td>1</td>\n",
       "      <td>0</td>\n",
       "      <td>0</td>\n",
       "      <td>1</td>\n",
       "    </tr>\n",
       "    <tr>\n",
       "      <th>77955</th>\n",
       "      <td>37</td>\n",
       "      <td>33000.0</td>\n",
       "      <td>646</td>\n",
       "      <td>0</td>\n",
       "      <td>3</td>\n",
       "      <td>0</td>\n",
       "      <td>0</td>\n",
       "      <td>1</td>\n",
       "      <td>1</td>\n",
       "      <td>1</td>\n",
       "      <td>1</td>\n",
       "      <td>0</td>\n",
       "      <td>0</td>\n",
       "    </tr>\n",
       "  </tbody>\n",
       "</table>\n",
       "<p>89203 rows × 13 columns</p>\n",
       "</div>"
      ],
      "text/plain": [
       "        age   income  membership_duration  difficulty  duration  reward  web  \\\n",
       "114666   72  50000.0                  230           0         3       0    0   \n",
       "1769     83  54000.0                  353           0         3       0    0   \n",
       "108084   69  67000.0                  565           0         3       0    0   \n",
       "19214    53  34000.0                  978           0         3       0    0   \n",
       "98045    23  33000.0                  991          10         7       2    1   \n",
       "...     ...      ...                  ...         ...       ...     ...  ...   \n",
       "131665   80  61000.0                  215           0         4       0    1   \n",
       "143976   40  37000.0                  361           0         3       0    0   \n",
       "79796    68  39000.0                  778           0         3       0    0   \n",
       "90823    59  48000.0                 1085           0         3       0    0   \n",
       "77955    37  33000.0                  646           0         3       0    0   \n",
       "\n",
       "        email  social  mobile  gender = _F  gender = _M  gender = _O  \n",
       "114666      1       1       1            0            1            0  \n",
       "1769        1       1       1            0            1            0  \n",
       "108084      1       1       1            0            1            0  \n",
       "19214       1       1       1            0            1            0  \n",
       "98045       1       0       1            1            0            0  \n",
       "...       ...     ...     ...          ...          ...          ...  \n",
       "131665      1       0       1            0            1            0  \n",
       "143976      1       1       1            0            1            0  \n",
       "79796       1       1       1            0            1            0  \n",
       "90823       1       1       1            0            0            1  \n",
       "77955       1       1       1            1            0            0  \n",
       "\n",
       "[89203 rows x 13 columns]"
      ]
     },
     "execution_count": 53,
     "metadata": {},
     "output_type": "execute_result"
    }
   ],
   "source": [
    "X_train"
   ]
  },
  {
   "cell_type": "code",
   "execution_count": 54,
   "id": "78b010e2-4ee0-4731-8068-df3fc043e07a",
   "metadata": {
    "tags": []
   },
   "outputs": [
    {
     "data": {
      "text/plain": [
       "114666    3\n",
       "1769      1\n",
       "108084    3\n",
       "19214     3\n",
       "98045     2\n",
       "         ..\n",
       "131665    1\n",
       "143976    3\n",
       "79796     1\n",
       "90823     3\n",
       "77955     3\n",
       "Name: label, Length: 89203, dtype: int64"
      ]
     },
     "execution_count": 54,
     "metadata": {},
     "output_type": "execute_result"
    }
   ],
   "source": [
    "y_train"
   ]
  },
  {
   "cell_type": "code",
   "execution_count": 55,
   "id": "b2ff217f-f946-47f5-89c4-5622cc96643f",
   "metadata": {
    "tags": []
   },
   "outputs": [
    {
     "name": "stdout",
     "output_type": "stream",
     "text": [
      "[0.78247508 0.77750571 0.76938126 0.77677906 0.77482885 0.76517126\n",
      " 0.7748894  0.77078486 0.77323705 0.77347329] DT: 0.773853 (0.004512)\n",
      "[0.78634236 0.78657309 0.77587944 0.78570109 0.77733072 0.7759713\n",
      " 0.78018463 0.7751598  0.77892144 0.78247084] RF: 0.780453 (0.004300)\n",
      "[0.69859386 0.70208058 0.69884833 0.7010827  0.6947414  0.68615276\n",
      " 0.69665351 0.68607724 0.69893126 0.69695048] LGBM: 0.696011 (0.005335)\n"
     ]
    }
   ],
   "source": [
    "f1_results = []\n",
    "f1_names = []\n",
    "scoring = 'f1_weighted'\n",
    "cv = StratifiedKFold(n_splits=10, shuffle=True, random_state=1)\n",
    "\n",
    "for name, model in models:\n",
    "    trans = StandardScaler()\n",
    "    pipeline = Pipeline(steps=[('t', trans), ('m', model)])\n",
    "    cv_results = cross_val_score(pipeline, \n",
    "                                    X_train, \n",
    "                                    y_train, \n",
    "                                    scoring = scoring, \n",
    "                                    cv = cv)\n",
    "    f1_results.append(abs(cv_results))\n",
    "    f1_names.append(name)\n",
    "    msg = \"%s: %f (%f)\" % (name, abs(cv_results.mean()), cv_results.std())\n",
    "    print(abs(cv_results), msg)"
   ]
  },
  {
   "cell_type": "code",
   "execution_count": 70,
   "id": "86d49c74-d04d-4ed6-bd18-36889561f1b0",
   "metadata": {
    "tags": []
   },
   "outputs": [
    {
     "data": {
      "text/plain": [
       "<Figure size 640x480 with 0 Axes>"
      ]
     },
     "metadata": {},
     "output_type": "display_data"
    },
    {
     "data": {
      "image/png": "[encoded data removed]",
      "text/plain": [
       "<Figure size 800x400 with 1 Axes>"
      ]
     },
     "metadata": {},
     "output_type": "display_data"
    },
    {
     "data": {
      "image/png": "[encoded data removed]",
      "text/plain": [
       "<Figure size 800x400 with 1 Axes>"
      ]
     },
     "metadata": {},
     "output_type": "display_data"
    }
   ],
   "source": [
    "fig = plt.figure(figsize=(8,4))\n",
    "fig.suptitle('KFold Cross Validation F1 Scores', color = 'black')\n",
    "ax = fig.add_subplot(111)\n",
    "\n",
    "plt.boxplot(f1_results, vert = True, patch_artist = True, manage_ticks = True,\n",
    "            medianprops = {\"color\":'black'}, \n",
    "            whiskerprops = {\"color\": 'black'}, \n",
    "            capprops = {\"color\": 'black'}, \n",
    "            boxprops = {\"color\": 'black'}, \n",
    "            flierprops = {\"marker\":'o', \n",
    "                          \"markerfacecolor\":'b', \n",
    "                          \"markersize\": 12})\n",
    "\n",
    "ax.set_xticklabels(f1_names)\n",
    "\n",
    "plt.show()\n",
    "\n",
    "# plt.savefig(os.path.join('photos/kfold_f1_weighted.png'), dpi=300, format='png', bbox_inches='tight') \n"
   ]
  },
  {
   "cell_type": "code",
   "execution_count": 24,
   "id": "308fd5ea-e347-4bb7-b112-a8bf740ebc81",
   "metadata": {
    "tags": []
   },
   "outputs": [
    {
     "data": {
      "text/html": [
       "<div>\n",
       "<style scoped>\n",
       "    .dataframe tbody tr th:only-of-type {\n",
       "        vertical-align: middle;\n",
       "    }\n",
       "\n",
       "    .dataframe tbody tr th {\n",
       "        vertical-align: top;\n",
       "    }\n",
       "\n",
       "    .dataframe thead th {\n",
       "        text-align: right;\n",
       "    }\n",
       "</style>\n",
       "<table border=\"1\" class=\"dataframe\">\n",
       "  <thead>\n",
       "    <tr style=\"text-align: right;\">\n",
       "      <th></th>\n",
       "      <th>0</th>\n",
       "    </tr>\n",
       "  </thead>\n",
       "  <tbody>\n",
       "    <tr>\n",
       "      <th>bootstrap</th>\n",
       "      <td>True</td>\n",
       "    </tr>\n",
       "    <tr>\n",
       "      <th>ccp_alpha</th>\n",
       "      <td>0.0</td>\n",
       "    </tr>\n",
       "    <tr>\n",
       "      <th>class_weight</th>\n",
       "      <td>None</td>\n",
       "    </tr>\n",
       "    <tr>\n",
       "      <th>criterion</th>\n",
       "      <td>gini</td>\n",
       "    </tr>\n",
       "    <tr>\n",
       "      <th>max_depth</th>\n",
       "      <td>None</td>\n",
       "    </tr>\n",
       "    <tr>\n",
       "      <th>max_features</th>\n",
       "      <td>auto</td>\n",
       "    </tr>\n",
       "    <tr>\n",
       "      <th>max_leaf_nodes</th>\n",
       "      <td>None</td>\n",
       "    </tr>\n",
       "    <tr>\n",
       "      <th>max_samples</th>\n",
       "      <td>None</td>\n",
       "    </tr>\n",
       "    <tr>\n",
       "      <th>min_impurity_decrease</th>\n",
       "      <td>0.0</td>\n",
       "    </tr>\n",
       "    <tr>\n",
       "      <th>min_impurity_split</th>\n",
       "      <td>None</td>\n",
       "    </tr>\n",
       "    <tr>\n",
       "      <th>min_samples_leaf</th>\n",
       "      <td>1</td>\n",
       "    </tr>\n",
       "    <tr>\n",
       "      <th>min_samples_split</th>\n",
       "      <td>2</td>\n",
       "    </tr>\n",
       "    <tr>\n",
       "      <th>min_weight_fraction_leaf</th>\n",
       "      <td>0.0</td>\n",
       "    </tr>\n",
       "    <tr>\n",
       "      <th>n_estimators</th>\n",
       "      <td>100</td>\n",
       "    </tr>\n",
       "    <tr>\n",
       "      <th>n_jobs</th>\n",
       "      <td>None</td>\n",
       "    </tr>\n",
       "    <tr>\n",
       "      <th>oob_score</th>\n",
       "      <td>False</td>\n",
       "    </tr>\n",
       "    <tr>\n",
       "      <th>random_state</th>\n",
       "      <td>None</td>\n",
       "    </tr>\n",
       "    <tr>\n",
       "      <th>verbose</th>\n",
       "      <td>0</td>\n",
       "    </tr>\n",
       "    <tr>\n",
       "      <th>warm_start</th>\n",
       "      <td>False</td>\n",
       "    </tr>\n",
       "  </tbody>\n",
       "</table>\n",
       "</div>"
      ],
      "text/plain": [
       "                              0\n",
       "bootstrap                  True\n",
       "ccp_alpha                   0.0\n",
       "class_weight               None\n",
       "criterion                  gini\n",
       "max_depth                  None\n",
       "max_features               auto\n",
       "max_leaf_nodes             None\n",
       "max_samples                None\n",
       "min_impurity_decrease       0.0\n",
       "min_impurity_split         None\n",
       "min_samples_leaf              1\n",
       "min_samples_split             2\n",
       "min_weight_fraction_leaf    0.0\n",
       "n_estimators                100\n",
       "n_jobs                     None\n",
       "oob_score                 False\n",
       "random_state               None\n",
       "verbose                       0\n",
       "warm_start                False"
      ]
     },
     "execution_count": 24,
     "metadata": {},
     "output_type": "execute_result"
    }
   ],
   "source": [
    "#Show default parameters of Random Forest Classifier\n",
    "rfc = RandomForestClassifier()\n",
    "params = rfc.get_params()\n",
    "params_df = pd.DataFrame(params, index=[0])\n",
    "params_df.T"
   ]
  },
  {
   "cell_type": "code",
   "execution_count": 25,
   "id": "ad374034-2f5e-4d8d-92c5-b9657221f9f0",
   "metadata": {
    "tags": []
   },
   "outputs": [],
   "source": [
    "params = {'bootstrap': [True], \n",
    "          'max_depth': [21, 22, 23],\n",
    "          'max_features': ['auto', 'sqrt'], \n",
    "          'min_samples_leaf': [5, 6],\n",
    "          'min_samples_split': [8, 9],\n",
    "          'n_estimators': [2400, 2600, 2800]}"
   ]
  },
  {
   "cell_type": "code",
   "execution_count": 26,
   "id": "c9e6aa78-67d3-44e7-9fce-edbcdbdb7c72",
   "metadata": {
    "tags": []
   },
   "outputs": [
    {
     "name": "stdout",
     "output_type": "stream",
     "text": [
      "Fitting 10 folds for each of 10 candidates, totalling 100 fits\n"
     ]
    },
    {
     "name": "stderr",
     "output_type": "stream",
     "text": [
      "[Parallel(n_jobs=1)]: Using backend SequentialBackend with 1 concurrent workers.\n",
      "[Parallel(n_jobs=1)]: Done 100 out of 100 | elapsed: 118.5min finished\n"
     ]
    },
    {
     "name": "stdout",
     "output_type": "stream",
     "text": [
      "Best parameters: {'n_estimators': 2600, 'min_samples_split': 9, 'min_samples_leaf': 5, 'max_features': 'auto', 'max_depth': 22, 'bootstrap': True}\n",
      "Best F1 Score:  0.7210746416223268\n"
     ]
    }
   ],
   "source": [
    "from sklearn.model_selection import RandomizedSearchCV\n",
    "clf = RandomizedSearchCV(estimator=rfc, \n",
    "                         param_distributions=params,\n",
    "                         n_iter = 10,\n",
    "                         scoring='f1_weighted',\n",
    "                         cv = 10,\n",
    "                         verbose=1)\n",
    "clf.fit(X_val, y_val)\n",
    "print(\"Best parameters:\", clf.best_params_)\n",
    "print(\"Best F1 Score: \", (clf.best_score_))"
   ]
  },
  {
   "cell_type": "code",
   "execution_count": null,
   "id": "5ec73d82-da46-4719-b6ea-db7256ed6aeb",
   "metadata": {},
   "outputs": [],
   "source": [
    "# Best parameters: {'n_estimators': 1200, 'min_samples_split': 6, 'min_samples_leaf': 4, 'max_features': 'sqrt', 'max_depth': 8, 'bootstrap': True}\n",
    "# Best F1 Score:  0.6567192957084993\n",
    "# Done 100 out of 100 | elapsed: 39.3min finished\n",
    "# Best parameters: {'n_estimators': 1400, 'min_samples_split': 6, 'min_samples_leaf': 4, 'max_features': 'auto', 'max_depth': 10, 'bootstrap': True}\n",
    "# Best F1 Score:  0.6639897886058146\n",
    "#  Done 100 out of 100 | elapsed: 60.2min finished\n",
    "# Best parameters: {'n_estimators': 1800, 'min_samples_split': 6, 'min_samples_leaf': 5, 'max_features': 'auto', 'max_depth': 14, 'bootstrap': True}\n",
    "# Best F1 Score:  0.6955699849546477\n",
    "# 101.5min finished\n",
    "# Best parameters: {'n_estimators': 2000, 'min_samples_split': 7, 'min_samples_leaf': 5, 'max_features': 'auto', 'max_depth': 18, 'bootstrap': True}\n",
    "# Best F1 Score:  0.715171630237237\n",
    "#  elapsed: 106.8min finished\n",
    "# Best parameters: {'n_estimators': 2000, 'min_samples_split': 8, 'min_samples_leaf': 5, 'max_features': 'auto', 'max_depth': 20, 'bootstrap': True}\n",
    "# Best F1 Score:  0.7182621544156161\n",
    "# Best parameters: {'n_estimators': 2400, 'min_samples_split': 8, 'min_samples_leaf': 5, 'max_features': 'auto', 'max_depth': 21, 'bootstrap': True}\n",
    "# Best F1 Score:  0.7203899362990696\n",
    "# elapsed: 141.4min finished\n",
    "# Best parameters: {'n_estimators': 2400, 'min_samples_split': 8, 'min_samples_leaf': 5, 'max_features': 'sqrt', 'max_depth': 23, 'bootstrap': True}\n",
    "# Best F1 Score:  0.7213919813019442\n",
    "# Best parameters: {'n_estimators': 2600, 'min_samples_split': 9, 'min_samples_leaf': 5, 'max_features': 'auto', 'max_depth': 22, 'bootstrap': True}\n",
    "# Best F1 Score:  0.7210746416223268"
   ]
  },
  {
   "cell_type": "code",
   "execution_count": 2,
   "id": "bca8911c-a81f-4298-85a8-d1159b095541",
   "metadata": {
    "tags": []
   },
   "outputs": [
    {
     "data": {
      "image/png": "[encoded data removed]",
      "text/plain": [
       "<Figure size 640x480 with 1 Axes>"
      ]
     },
     "metadata": {},
     "output_type": "display_data"
    }
   ],
   "source": [
    "import matplotlib.pyplot as plt\n",
    "\n",
    "best_recall = [0.654, 0.657, 0.664, 0.696, 0.715, 0.718, 0.720, 0.721, 0.721]\n",
    "runs = [1, 2, 3, 4, 5, 6, 7, 8, 9]\n",
    "\n",
    "# Create a figure and axis object\n",
    "fig, ax = plt.subplots()\n",
    "\n",
    "# Plot the line graph\n",
    "ax.plot(runs, best_recall, '-o', color='blue', linewidth=2, markersize=8)\n",
    "\n",
    "# Add text annotation for the highest value\n",
    "max_recall = max(best_recall)\n",
    "max_run = runs[best_recall.index(max_recall)]\n",
    "ax.annotate(f'Max Recall: {max_recall:.3f}', xy=(max_run, max_recall), xytext=(max_run-0.5, max_recall+0.01),\n",
    "            arrowprops=dict(facecolor='black', arrowstyle='->'))\n",
    "\n",
    "# Set axis labels and title\n",
    "ax.set_xlabel('Run Number')\n",
    "ax.set_ylabel('Best F1 Score')\n",
    "\n",
    "# Show the plot\n",
    "plt.show()"
   ]
  },
  {
   "cell_type": "code",
   "execution_count": 21,
   "id": "8c6f5f28-2d14-403f-b6b9-8f31166e2059",
   "metadata": {},
   "outputs": [
    {
     "data": {
      "text/plain": [
       "RandomForestClassifier(bootstrap=True, ccp_alpha=0.0, class_weight=None,\n",
       "                       criterion='gini', max_depth=23, max_features='sqrt',\n",
       "                       max_leaf_nodes=None, max_samples=None,\n",
       "                       min_impurity_decrease=0.0, min_impurity_split=None,\n",
       "                       min_samples_leaf=5, min_samples_split=8,\n",
       "                       min_weight_fraction_leaf=0.0, n_estimators=2400,\n",
       "                       n_jobs=None, oob_score=False, random_state=None,\n",
       "                       verbose=0, warm_start=False)"
      ]
     },
     "execution_count": 21,
     "metadata": {},
     "output_type": "execute_result"
    }
   ],
   "source": [
    "best_rf = RandomForestClassifier(n_estimators = 2400, \n",
    "                       min_samples_split = 8, \n",
    "                       min_samples_leaf = 5, \n",
    "                       max_features = 'sqrt', \n",
    "                       max_depth = 23, \n",
    "                       bootstrap = True)\n",
    "\n",
    "best_rf.fit(X_train, y_train)"
   ]
  },
  {
   "cell_type": "code",
   "execution_count": 22,
   "id": "4410d907-c552-4ad2-bdf2-7057e9d54231",
   "metadata": {
    "tags": []
   },
   "outputs": [],
   "source": [
    "best_pred = best_rf.predict(X_test)"
   ]
  },
  {
   "cell_type": "code",
   "execution_count": 24,
   "id": "f624a148-99c6-4a19-9d73-e8c1f3c1d996",
   "metadata": {
    "tags": []
   },
   "outputs": [
    {
     "data": {
      "text/plain": [
       "array([3, 1, 3, ..., 1, 3, 3])"
      ]
     },
     "execution_count": 24,
     "metadata": {},
     "output_type": "execute_result"
    }
   ],
   "source": [
    "best_pred"
   ]
  },
  {
   "cell_type": "code",
   "execution_count": 37,
   "id": "c3d3d39b-41a6-4d98-a30c-7779d5c47821",
   "metadata": {
    "tags": []
   },
   "outputs": [
    {
     "data": {
      "text/plain": [
       "(29735, 2)"
      ]
     },
     "execution_count": 37,
     "metadata": {},
     "output_type": "execute_result"
    }
   ],
   "source": [
    "best_pred_df.shape"
   ]
  },
  {
   "cell_type": "code",
   "execution_count": 38,
   "id": "0288c5a1-38be-43fb-abe1-ab629a8468bd",
   "metadata": {
    "tags": []
   },
   "outputs": [
    {
     "data": {
      "text/plain": [
       "(29735, 13)"
      ]
     },
     "execution_count": 38,
     "metadata": {},
     "output_type": "execute_result"
    }
   ],
   "source": [
    "X_test.shape"
   ]
  },
  {
   "cell_type": "code",
   "execution_count": 40,
   "id": "cffd1399-c861-407b-9bf5-87adf4bfae7a",
   "metadata": {
    "tags": []
   },
   "outputs": [],
   "source": [
    "best_pred_df = pd.DataFrame({'actual': y_test, 'predicted': best_pred})\n"
   ]
  },
  {
   "cell_type": "code",
   "execution_count": 43,
   "id": "c25600b2-b47c-4b15-b62d-e76f20864bed",
   "metadata": {
    "tags": []
   },
   "outputs": [],
   "source": [
    "best_pred_df = pd.merge(left = best_pred_df, right = X_test, how = \"inner\" , left_on = best_pred_df.index, right_on=X_test.index)"
   ]
  },
  {
   "cell_type": "code",
   "execution_count": 44,
   "id": "5db1289a-e509-4b7d-a560-b16f8608d36c",
   "metadata": {
    "tags": []
   },
   "outputs": [
    {
     "data": {
      "text/plain": [
       "(29735, 16)"
      ]
     },
     "execution_count": 44,
     "metadata": {},
     "output_type": "execute_result"
    }
   ],
   "source": [
    "best_pred_df.shape"
   ]
  },
  {
   "cell_type": "code",
   "execution_count": 47,
   "id": "90a5b68e-054f-46ae-af9d-37b998412d30",
   "metadata": {
    "tags": []
   },
   "outputs": [],
   "source": [
    "# best_pred_df.to_csv('usertype_results.csv', index = False)"
   ]
  },
  {
   "cell_type": "code",
   "execution_count": 4,
   "id": "8b2c8e99-52e5-4398-9607-c6fe2aa7b158",
   "metadata": {
    "tags": []
   },
   "outputs": [],
   "source": [
    "best_pred_df = pd.read_csv('usertype_results.csv')"
   ]
  },
  {
   "cell_type": "code",
   "execution_count": 5,
   "id": "c4d68930-93cd-4803-b3a6-faaf209ad598",
   "metadata": {
    "tags": []
   },
   "outputs": [
    {
     "data": {
      "text/html": [
       "<div>\n",
       "<style scoped>\n",
       "    .dataframe tbody tr th:only-of-type {\n",
       "        vertical-align: middle;\n",
       "    }\n",
       "\n",
       "    .dataframe tbody tr th {\n",
       "        vertical-align: top;\n",
       "    }\n",
       "\n",
       "    .dataframe thead th {\n",
       "        text-align: right;\n",
       "    }\n",
       "</style>\n",
       "<table border=\"1\" class=\"dataframe\">\n",
       "  <thead>\n",
       "    <tr style=\"text-align: right;\">\n",
       "      <th></th>\n",
       "      <th>key_0</th>\n",
       "      <th>actual</th>\n",
       "      <th>predicted</th>\n",
       "      <th>age</th>\n",
       "      <th>income</th>\n",
       "      <th>membership_duration</th>\n",
       "      <th>difficulty</th>\n",
       "      <th>duration</th>\n",
       "      <th>reward</th>\n",
       "      <th>web</th>\n",
       "      <th>email</th>\n",
       "      <th>social</th>\n",
       "      <th>mobile</th>\n",
       "      <th>gender = _F</th>\n",
       "      <th>gender = _M</th>\n",
       "      <th>gender = _O</th>\n",
       "    </tr>\n",
       "  </thead>\n",
       "  <tbody>\n",
       "    <tr>\n",
       "      <th>0</th>\n",
       "      <td>39279</td>\n",
       "      <td>3</td>\n",
       "      <td>3</td>\n",
       "      <td>76</td>\n",
       "      <td>53000.0</td>\n",
       "      <td>1403</td>\n",
       "      <td>0</td>\n",
       "      <td>4</td>\n",
       "      <td>0</td>\n",
       "      <td>1</td>\n",
       "      <td>1</td>\n",
       "      <td>0</td>\n",
       "      <td>1</td>\n",
       "      <td>1</td>\n",
       "      <td>0</td>\n",
       "      <td>0</td>\n",
       "    </tr>\n",
       "    <tr>\n",
       "      <th>1</th>\n",
       "      <td>23756</td>\n",
       "      <td>1</td>\n",
       "      <td>1</td>\n",
       "      <td>39</td>\n",
       "      <td>74000.0</td>\n",
       "      <td>935</td>\n",
       "      <td>0</td>\n",
       "      <td>3</td>\n",
       "      <td>0</td>\n",
       "      <td>0</td>\n",
       "      <td>1</td>\n",
       "      <td>1</td>\n",
       "      <td>1</td>\n",
       "      <td>0</td>\n",
       "      <td>1</td>\n",
       "      <td>0</td>\n",
       "    </tr>\n",
       "    <tr>\n",
       "      <th>2</th>\n",
       "      <td>142514</td>\n",
       "      <td>3</td>\n",
       "      <td>3</td>\n",
       "      <td>49</td>\n",
       "      <td>31000.0</td>\n",
       "      <td>126</td>\n",
       "      <td>0</td>\n",
       "      <td>3</td>\n",
       "      <td>0</td>\n",
       "      <td>0</td>\n",
       "      <td>1</td>\n",
       "      <td>1</td>\n",
       "      <td>1</td>\n",
       "      <td>1</td>\n",
       "      <td>0</td>\n",
       "      <td>0</td>\n",
       "    </tr>\n",
       "    <tr>\n",
       "      <th>3</th>\n",
       "      <td>10020</td>\n",
       "      <td>1</td>\n",
       "      <td>3</td>\n",
       "      <td>51</td>\n",
       "      <td>66000.0</td>\n",
       "      <td>245</td>\n",
       "      <td>0</td>\n",
       "      <td>4</td>\n",
       "      <td>0</td>\n",
       "      <td>1</td>\n",
       "      <td>1</td>\n",
       "      <td>0</td>\n",
       "      <td>1</td>\n",
       "      <td>0</td>\n",
       "      <td>1</td>\n",
       "      <td>0</td>\n",
       "    </tr>\n",
       "    <tr>\n",
       "      <th>4</th>\n",
       "      <td>73339</td>\n",
       "      <td>1</td>\n",
       "      <td>1</td>\n",
       "      <td>21</td>\n",
       "      <td>39000.0</td>\n",
       "      <td>1072</td>\n",
       "      <td>0</td>\n",
       "      <td>4</td>\n",
       "      <td>0</td>\n",
       "      <td>1</td>\n",
       "      <td>1</td>\n",
       "      <td>0</td>\n",
       "      <td>1</td>\n",
       "      <td>0</td>\n",
       "      <td>1</td>\n",
       "      <td>0</td>\n",
       "    </tr>\n",
       "    <tr>\n",
       "      <th>...</th>\n",
       "      <td>...</td>\n",
       "      <td>...</td>\n",
       "      <td>...</td>\n",
       "      <td>...</td>\n",
       "      <td>...</td>\n",
       "      <td>...</td>\n",
       "      <td>...</td>\n",
       "      <td>...</td>\n",
       "      <td>...</td>\n",
       "      <td>...</td>\n",
       "      <td>...</td>\n",
       "      <td>...</td>\n",
       "      <td>...</td>\n",
       "      <td>...</td>\n",
       "      <td>...</td>\n",
       "      <td>...</td>\n",
       "    </tr>\n",
       "    <tr>\n",
       "      <th>29730</th>\n",
       "      <td>65042</td>\n",
       "      <td>3</td>\n",
       "      <td>3</td>\n",
       "      <td>71</td>\n",
       "      <td>75000.0</td>\n",
       "      <td>487</td>\n",
       "      <td>0</td>\n",
       "      <td>3</td>\n",
       "      <td>0</td>\n",
       "      <td>0</td>\n",
       "      <td>1</td>\n",
       "      <td>1</td>\n",
       "      <td>1</td>\n",
       "      <td>0</td>\n",
       "      <td>1</td>\n",
       "      <td>0</td>\n",
       "    </tr>\n",
       "    <tr>\n",
       "      <th>29731</th>\n",
       "      <td>26572</td>\n",
       "      <td>1</td>\n",
       "      <td>3</td>\n",
       "      <td>66</td>\n",
       "      <td>51000.0</td>\n",
       "      <td>434</td>\n",
       "      <td>0</td>\n",
       "      <td>3</td>\n",
       "      <td>0</td>\n",
       "      <td>0</td>\n",
       "      <td>1</td>\n",
       "      <td>1</td>\n",
       "      <td>1</td>\n",
       "      <td>0</td>\n",
       "      <td>1</td>\n",
       "      <td>0</td>\n",
       "    </tr>\n",
       "    <tr>\n",
       "      <th>29732</th>\n",
       "      <td>8675</td>\n",
       "      <td>1</td>\n",
       "      <td>1</td>\n",
       "      <td>88</td>\n",
       "      <td>71000.0</td>\n",
       "      <td>488</td>\n",
       "      <td>20</td>\n",
       "      <td>10</td>\n",
       "      <td>5</td>\n",
       "      <td>1</td>\n",
       "      <td>1</td>\n",
       "      <td>0</td>\n",
       "      <td>0</td>\n",
       "      <td>1</td>\n",
       "      <td>0</td>\n",
       "      <td>0</td>\n",
       "    </tr>\n",
       "    <tr>\n",
       "      <th>29733</th>\n",
       "      <td>48818</td>\n",
       "      <td>3</td>\n",
       "      <td>3</td>\n",
       "      <td>36</td>\n",
       "      <td>70000.0</td>\n",
       "      <td>900</td>\n",
       "      <td>0</td>\n",
       "      <td>3</td>\n",
       "      <td>0</td>\n",
       "      <td>0</td>\n",
       "      <td>1</td>\n",
       "      <td>1</td>\n",
       "      <td>1</td>\n",
       "      <td>1</td>\n",
       "      <td>0</td>\n",
       "      <td>0</td>\n",
       "    </tr>\n",
       "    <tr>\n",
       "      <th>29734</th>\n",
       "      <td>107325</td>\n",
       "      <td>3</td>\n",
       "      <td>3</td>\n",
       "      <td>28</td>\n",
       "      <td>48000.0</td>\n",
       "      <td>880</td>\n",
       "      <td>0</td>\n",
       "      <td>3</td>\n",
       "      <td>0</td>\n",
       "      <td>0</td>\n",
       "      <td>1</td>\n",
       "      <td>1</td>\n",
       "      <td>1</td>\n",
       "      <td>0</td>\n",
       "      <td>1</td>\n",
       "      <td>0</td>\n",
       "    </tr>\n",
       "  </tbody>\n",
       "</table>\n",
       "<p>29735 rows × 16 columns</p>\n",
       "</div>"
      ],
      "text/plain": [
       "        key_0  actual  predicted  age   income  membership_duration  \\\n",
       "0       39279       3          3   76  53000.0                 1403   \n",
       "1       23756       1          1   39  74000.0                  935   \n",
       "2      142514       3          3   49  31000.0                  126   \n",
       "3       10020       1          3   51  66000.0                  245   \n",
       "4       73339       1          1   21  39000.0                 1072   \n",
       "...       ...     ...        ...  ...      ...                  ...   \n",
       "29730   65042       3          3   71  75000.0                  487   \n",
       "29731   26572       1          3   66  51000.0                  434   \n",
       "29732    8675       1          1   88  71000.0                  488   \n",
       "29733   48818       3          3   36  70000.0                  900   \n",
       "29734  107325       3          3   28  48000.0                  880   \n",
       "\n",
       "       difficulty  duration  reward  web  email  social  mobile  gender = _F  \\\n",
       "0               0         4       0    1      1       0       1            1   \n",
       "1               0         3       0    0      1       1       1            0   \n",
       "2               0         3       0    0      1       1       1            1   \n",
       "3               0         4       0    1      1       0       1            0   \n",
       "4               0         4       0    1      1       0       1            0   \n",
       "...           ...       ...     ...  ...    ...     ...     ...          ...   \n",
       "29730           0         3       0    0      1       1       1            0   \n",
       "29731           0         3       0    0      1       1       1            0   \n",
       "29732          20        10       5    1      1       0       0            1   \n",
       "29733           0         3       0    0      1       1       1            1   \n",
       "29734           0         3       0    0      1       1       1            0   \n",
       "\n",
       "       gender = _M  gender = _O  \n",
       "0                0            0  \n",
       "1                1            0  \n",
       "2                0            0  \n",
       "3                1            0  \n",
       "4                1            0  \n",
       "...            ...          ...  \n",
       "29730            1            0  \n",
       "29731            1            0  \n",
       "29732            0            0  \n",
       "29733            0            0  \n",
       "29734            1            0  \n",
       "\n",
       "[29735 rows x 16 columns]"
      ]
     },
     "execution_count": 5,
     "metadata": {},
     "output_type": "execute_result"
    }
   ],
   "source": [
    "best_pred_df"
   ]
  },
  {
   "cell_type": "code",
   "execution_count": 54,
   "id": "ea1bf3f9-1942-4582-8d86-4cff47aa9bc0",
   "metadata": {
    "tags": []
   },
   "outputs": [],
   "source": [
    "# Create age groups by rounding down to the nearest 20\n",
    "best_pred_df['age_group'] = (best_pred_df['age'] // 20) * 20\n",
    "\n",
    "# Create a list of unique age groups in the DataFrame, sorted in ascending order\n",
    "age_groups = sorted(best_pred_df['age_group'].unique())\n",
    "\n",
    "# Create a dictionary to map predicted values to labels for the pie charts\n",
    "labels_dict = {0: 'BOGO Buyers', 1: 'Buy Without Offers', 2: 'Discount Buyers', 3: 'Informational Buyers'}\n",
    "\n",
    "# Create a pie chart for each age group and predicted value\n",
    "for age_group in age_groups:\n",
    "    # Get the subset of the DataFrame for the current age group\n",
    "    subset = best_pred_df[best_pred_df['age_group'] == age_group]\n",
    "    \n",
    "    # Count the number of occurrences of each predicted value in the subset\n",
    "    counts = subset['predicted'].value_counts()\n",
    "    \n",
    "    # Create a pie chart\n",
    "    plt.figure()\n",
    "    plt.pie(counts, labels=[labels_dict.get(x, '') for x in counts.index], autopct='%1.1f%%')\n",
    "    plt.title('Age Group: {} - {}'.format(age_group, age_group+19))\n",
    "    plt.axis('equal')\n",
    "    # plt.savefig(os.path.join(f'photos/result_user_types_{age_group}.png'), dpi=300, format='png', bbox_inches='tight') # use format='svg' or 'pdf' for vectorial pictures\n",
    "\n",
    "plt.show()"
   ]
  },
  {
   "cell_type": "code",
   "execution_count": 63,
   "id": "3896bcc0-55d0-4cd5-ab49-ca6e154ef9dc",
   "metadata": {
    "tags": []
   },
   "outputs": [],
   "source": [
    "# Define the minimum and maximum income values\n",
    "min_income = min(best_pred_df['income'])\n",
    "max_income = max(best_pred_df['income'])\n",
    "\n",
    "# Define the number of income groups\n",
    "num_income_groups = 6\n",
    "\n",
    "# Calculate the income range for each group\n",
    "income_range = (max_income - min_income) / num_income_groups\n",
    "\n",
    "# Create income groups by rounding down to the nearest income range\n",
    "best_pred_df['income_group'] = (best_pred_df['income'] // income_range) * income_range\n",
    "\n",
    "# Create a list of unique income groups in the DataFrame, sorted in ascending order\n",
    "income_groups = sorted(best_pred_df['income_group'].unique())\n",
    "\n",
    "# Create a dictionary to map predicted values to labels for the pie charts\n",
    "labels_dict = {0: 'BOGO Buyers', 1: 'Buy Without Offers', 2: 'Discount Buyers', 3: 'Informational Buyers'}\n",
    "\n",
    "# Create a pie chart for each income group and predicted value\n",
    "for income_group in income_groups:\n",
    "    # Get the subset of the DataFrame for the current income group\n",
    "    subset = best_pred_df[best_pred_df['income_group'] == income_group]\n",
    "    \n",
    "    # Count the number of occurrences of each predicted value in the subset\n",
    "    counts = subset['predicted'].value_counts()\n",
    "    \n",
    "    # Create a pie chart\n",
    "    plt.figure()\n",
    "    plt.pie(counts, labels=[labels_dict.get(x, '') for x in counts.index], autopct='%1.1f%%')\n",
    "    plt.title('Income Group: {} - {}'.format(income_group, income_group+income_range))\n",
    "    plt.axis('equal')\n",
    "    # plt.savefig(os.path.join(f'photos/result_user_types_{income_group}.png'), dpi=300, format='png', bbox_inches='tight') # use format='svg' or 'pdf' for vectorial pictures\n",
    "\n",
    "\n",
    "# plt.show()\n"
   ]
  },
  {
   "cell_type": "code",
   "execution_count": 55,
   "id": "7a969f36-00e1-4f48-8515-37a053fd666f",
   "metadata": {
    "tags": []
   },
   "outputs": [
    {
     "data": {
      "text/plain": [
       "30000.0"
      ]
     },
     "execution_count": 55,
     "metadata": {},
     "output_type": "execute_result"
    }
   ],
   "source": [
    "min(best_pred_df['income'])"
   ]
  },
  {
   "cell_type": "code",
   "execution_count": 56,
   "id": "d8506b52-e0a0-487e-ae52-ebb9661b7a80",
   "metadata": {
    "tags": []
   },
   "outputs": [
    {
     "data": {
      "text/plain": [
       "120000.0"
      ]
     },
     "execution_count": 56,
     "metadata": {},
     "output_type": "execute_result"
    }
   ],
   "source": [
    "max(best_pred_df['income'])"
   ]
  },
  {
   "cell_type": "code",
   "execution_count": 64,
   "id": "e21a0e53-e921-41dd-a7be-e3dbe27160f6",
   "metadata": {
    "tags": []
   },
   "outputs": [
    {
     "data": {
      "text/plain": [
       "0"
      ]
     },
     "execution_count": 64,
     "metadata": {},
     "output_type": "execute_result"
    }
   ],
   "source": [
    "min(best_pred_df['membership_duration'])"
   ]
  },
  {
   "cell_type": "code",
   "execution_count": 65,
   "id": "f3fbf011-c8fc-4562-aa75-0c0a1310cbf2",
   "metadata": {
    "tags": []
   },
   "outputs": [
    {
     "data": {
      "text/plain": [
       "1823"
      ]
     },
     "execution_count": 65,
     "metadata": {},
     "output_type": "execute_result"
    }
   ],
   "source": [
    "max(best_pred_df['membership_duration'])"
   ]
  },
  {
   "cell_type": "code",
   "execution_count": 69,
   "id": "fc052f38-1417-416d-bcef-ab3b77026dbd",
   "metadata": {
    "tags": []
   },
   "outputs": [],
   "source": [
    "# Define the minimum and maximum membership duration values\n",
    "min_duration = min(best_pred_df['membership_duration'])\n",
    "max_duration = max(best_pred_df['membership_duration'])\n",
    "\n",
    "# Define the number of membership duration groups\n",
    "num_duration_groups = 6\n",
    "\n",
    "# Calculate the membership duration range for each group\n",
    "duration_range = (max_duration - min_duration) / num_duration_groups\n",
    "\n",
    "# Create membership duration groups by rounding down to the nearest income range\n",
    "best_pred_df['duration_group'] = (best_pred_df['membership_duration'] // duration_range) * duration_range\n",
    "\n",
    "# Create a list of unique duration groups in the DataFrame, sorted in ascending order\n",
    "duration_groups = sorted(best_pred_df['duration_group'].unique())\n",
    "\n",
    "# Create a dictionary to map predicted values to labels for the pie charts\n",
    "labels_dict = {0: 'BOGO Buyers', 1: 'Buy Without Offers', 2: 'Discount Buyers', 3: 'Informational Buyers'}\n",
    "\n",
    "# Create a pie chart for each duration group and predicted value\n",
    "for duration_group in duration_groups:\n",
    "    # Get the subset of the DataFrame for the current income group\n",
    "    subset = best_pred_df[best_pred_df['duration_group'] == duration_group]\n",
    "    \n",
    "    # Count the number of occurrences of each predicted value in the subset\n",
    "    counts = subset['predicted'].value_counts()\n",
    "    \n",
    "    # Create a pie chart\n",
    "    plt.figure()\n",
    "    plt.pie(counts, labels=[labels_dict.get(x, '') for x in counts.index], autopct='%1.1f%%')\n",
    "    plt.title('Duration Group: {} - {}'.format(duration_group, duration_group+duration_range))\n",
    "    plt.axis('equal')\n",
    "    # plt.savefig(os.path.join(f'photos/result_user_types_duration_{duration_group}.png'), dpi=300, format='png', bbox_inches='tight') # use format='svg' or 'pdf' for vectorial pictures\n",
    "\n",
    "\n",
    "# plt.show()"
   ]
  },
  {
   "cell_type": "code",
   "execution_count": 83,
   "id": "7f2ba49b-cad7-4132-89c6-d8762d26248e",
   "metadata": {
    "tags": []
   },
   "outputs": [],
   "source": [
    "# Create a dictionary to map predicted values to labels for the pie charts\n",
    "labels_dict = {0: 'BOGO Buyers', 1: 'Buy Without Offers', 2: 'Discount Buyers', 3: 'Informational Buyers'}\n",
    "\n",
    "# Round off the membership duration column to the nearest integer\n",
    "best_pred_df['membership_duration'] = best_pred_df['membership_duration'].round()\n",
    "\n",
    "# Define the minimum and maximum membership duration values\n",
    "min_duration = min(best_pred_df['membership_duration'])\n",
    "max_duration = max(best_pred_df['membership_duration'])\n",
    "\n",
    "# Define the number of membership duration groups\n",
    "num_duration_groups = 6\n",
    "\n",
    "# Calculate the membership duration range for each group\n",
    "duration_range = (max_duration - min_duration) / num_duration_groups\n",
    "\n",
    "# Create membership duration groups by rounding down to the nearest income range\n",
    "best_pred_df['duration_group'] = (best_pred_df['membership_duration'] // duration_range) * duration_range\n",
    "\n",
    "# Create a list of unique duration groups in the DataFrame, sorted in ascending order\n",
    "duration_groups = sorted(best_pred_df['duration_group'].unique())\n",
    "\n",
    "# Create a pie chart for each duration group and predicted value\n",
    "for duration_group in duration_groups:\n",
    "    # Get the subset of the DataFrame for the current duration group\n",
    "    subset = best_pred_df[best_pred_df['duration_group'] == duration_group]\n",
    "    \n",
    "    # Count the number of occurrences of each predicted value in the subset\n",
    "    counts = subset['predicted'].value_counts()\n",
    "    \n",
    "    # Round off the title values to the nearest integer\n",
    "    duration_group_title = round(duration_group)\n",
    "    duration_group_range_title = round(duration_group + duration_range)\n",
    "    \n",
    "    # Create a pie chart\n",
    "    plt.figure()\n",
    "    plt.pie(counts, labels=[labels_dict.get(x, '') for x in counts.index], autopct='%1.1f%%')\n",
    "    plt.title('Duration Group: {} - {}'.format(duration_group_title, duration_group_range_title))\n",
    "    plt.axis('equal')\n",
    "    # plt.savefig(os.path.join(f'photos/result_user_types_duration_{duration_group}.png'), dpi=300, format='png', bbox_inches='tight') # use format='svg' or 'pdf' for vectorial pictures\n",
    "\n",
    "\n",
    "plt.show()\n",
    "\n"
   ]
  },
  {
   "cell_type": "code",
   "execution_count": 13,
   "id": "68bcb6c7-5a54-4e6e-b6e9-abe3ce765458",
   "metadata": {
    "tags": []
   },
   "outputs": [],
   "source": [
    "# Create a dictionary to map predicted values to labels for the pie charts\n",
    "labels_dict = {0: 'BOGO Buyers', 1: 'Buy Without Offers', 2: 'Discount Buyers', 3: 'Informational Buyers'}\n",
    "\n",
    "# Group the data by predicted value and sum the male, female, and other columns\n",
    "counts = best_pred_df.groupby('predicted')[['gender = _M', 'gender = _F', 'gender = _O']].sum()\n",
    "\n",
    "# Create a stacked bar chart\n",
    "counts.plot(kind='bar')\n",
    "\n",
    "# Set the title and axis labels\n",
    "plt.title('Number of Users by Predicted User Type and Gender')\n",
    "plt.xlabel('Predicted User Type')\n",
    "plt.ylabel('Count')\n",
    "\n",
    "# Set the legend for the chart\n",
    "plt.legend(title='Gender', labels=['Male', 'Female', 'Other'])\n",
    "\n",
    "# plt.show()\n",
    "\n",
    "# plt.savefig(os.path.join(f'photos/result_user_types_gender.png'), dpi=300, format='png', bbox_inches='tight') # use format='svg' or 'pdf' for vectorial pictures\n",
    "\n"
   ]
  },
  {
   "cell_type": "code",
   "execution_count": 22,
   "id": "eb20fe79-980a-4f4c-8eb9-904a444b4133",
   "metadata": {
    "tags": []
   },
   "outputs": [],
   "source": [
    "# Map predicted values to labels\n",
    "# Create a dictionary to map predicted values to labels for the pie charts\n",
    "labels_dict = {0: 'BOGO', 2: 'Discount', 3: 'Info'}\n",
    "best_pred_df['predicted_label'] = best_pred_df['predicted'].map(labels_dict)\n",
    "\n",
    "# Create box and whisker plots\n",
    "# sns.boxplot(x='predicted_label', y='duration', data=best_pred_df)\n",
    "# plt.title('Duration')\n",
    "# plt.xlabel('User Type')\n",
    "# plt.ylabel('Duration')\n",
    "# # plt.show()\n",
    "# plt.savefig(os.path.join(f'photos/user_duration.png'), dpi=300, format='png', bbox_inches='tight') # use format='svg' or 'pdf' for vectorial pictures\n",
    "\n",
    "\n",
    "# sns.boxplot(x='predicted_label', y='difficulty', data=best_pred_df)\n",
    "# plt.title('Difficulty')\n",
    "# plt.xlabel('User Type')\n",
    "# plt.ylabel('Difficulty')\n",
    "# # plt.show()\n",
    "# plt.savefig(os.path.join(f'photos/user_difficulty.png'), dpi=300, format='png', bbox_inches='tight') # use format='svg' or 'pdf' for vectorial pictures\n",
    "\n",
    "\n",
    "# sns.boxplot(x='predicted_label', y='reward', data=best_pred_df)\n",
    "# plt.title('Reward')\n",
    "# plt.xlabel('User Type')\n",
    "# plt.ylabel('Reward')\n",
    "# # plt.show()\n",
    "# plt.savefig(os.path.join(f'photos/user_reward.png'), dpi=300, format='png', bbox_inches='tight') # use format='svg' or 'pdf' for vectorial pictures\n"
   ]
  },
  {
   "cell_type": "code",
   "execution_count": 71,
   "id": "359374f2-bbcf-48cc-b0d9-7233a22779b6",
   "metadata": {
    "tags": []
   },
   "outputs": [
    {
     "data": {
      "text/plain": [
       "Index(['key_0', 'actual', 'predicted', 'age', 'income', 'membership_duration',\n",
       "       'difficulty', 'duration', 'reward', 'web', 'email', 'social', 'mobile',\n",
       "       'gender = _F', 'gender = _M', 'gender = _O', 'age_group',\n",
       "       'income_group', 'duration_group'],\n",
       "      dtype='object')"
      ]
     },
     "execution_count": 71,
     "metadata": {},
     "output_type": "execute_result"
    }
   ],
   "source": [
    "best_pred_df.columns"
   ]
  },
  {
   "cell_type": "code",
   "execution_count": 23,
   "id": "88b52733-88bd-4a32-9120-8d237659ffc3",
   "metadata": {
    "tags": []
   },
   "outputs": [
    {
     "name": "stdout",
     "output_type": "stream",
     "text": [
      "0.7754927483020427\n"
     ]
    }
   ],
   "source": [
    "best_f1 = f1_score(y_test, best_pred, average = 'weighted')\n",
    "print(best_f1)"
   ]
  },
  {
   "cell_type": "code",
   "execution_count": 34,
   "id": "cf16869f-9832-4635-83c1-af9572796917",
   "metadata": {
    "tags": []
   },
   "outputs": [
    {
     "data": {
      "image/png": "[encoded data removed]",
      "text/plain": [
       "<Figure size 640x480 with 2 Axes>"
      ]
     },
     "metadata": {},
     "output_type": "display_data"
    }
   ],
   "source": [
    "# Compute the confusion matrix\n",
    "best_cm = confusion_matrix(y_test, best_pred)\n",
    "\n",
    "# Visualize the confusion matrix as a heatmap\n",
    "fig, ax = plt.subplots()\n",
    "im = ax.imshow(best_cm, interpolation='nearest', cmap=plt.cm.Blues)\n",
    "ax.set(xticks=np.arange(best_cm.shape[1]),\n",
    "       yticks=np.arange(best_cm.shape[0]),\n",
    "       xticklabels=['bogo', 'no offer', 'discount', 'info'],\n",
    "       yticklabels=['bogo', 'no offer', 'discount', 'info'],\n",
    "       xlabel='Predicted label',\n",
    "       ylabel='True label')\n",
    "\n",
    "# Add colorbar\n",
    "cbar = ax.figure.colorbar(im, ax=ax)\n",
    "\n",
    "# Loop over data to add annotations\n",
    "for i in range(best_cm.shape[0]):\n",
    "    for j in range(best_cm.shape[1]):\n",
    "        ax.text(j, i, best_cm[i, j], ha=\"center\", va=\"center\", color=\"white\")\n",
    "\n",
    "fig.tight_layout()\n",
    "plt.show()"
   ]
  },
  {
   "cell_type": "code",
   "execution_count": 35,
   "id": "7ad10691-5898-447d-9d01-1a96d0a4d714",
   "metadata": {
    "tags": []
   },
   "outputs": [
    {
     "name": "stdout",
     "output_type": "stream",
     "text": [
      "Feature ranking:\n",
      "1. feature 5 age (0.180973)\n",
      "2. feature 2 income (0.177840)\n",
      "3. feature 4 membership_duration (0.152427)\n",
      "4. feature 3 difficulty (0.133604)\n",
      "5. feature 1 duration (0.130295)\n",
      "6. feature 0 reward (0.129032)\n",
      "7. feature 6 web (0.041689)\n",
      "8. feature 8 email (0.040847)\n",
      "9. feature 9 social (0.009654)\n",
      "10. feature 10 mobile (0.001462)\n",
      "11. feature 11 gender = _F (0.001429)\n",
      "12. feature 12 gender = _M (0.000749)\n",
      "13. feature 7 gender = _O (0.000000)\n"
     ]
    },
    {
     "data": {
      "image/png": "[encoded data removed]",
      "text/plain": [
       "<Figure size 640x480 with 1 Axes>"
      ]
     },
     "metadata": {},
     "output_type": "display_data"
    }
   ],
   "source": [
    "# get feature importances\n",
    "best_importances = best_rf.feature_importances_\n",
    "\n",
    "# sort feature importances in descending order\n",
    "indices = np.argsort(best_importances)[::-1]\n",
    "\n",
    "# print out the feature ranking\n",
    "print(\"Feature ranking:\")\n",
    "for f in range(X.shape[1]):\n",
    "    print(\"%d. feature %d %s (%f)\" % (f + 1, indices[f], X.columns[f], best_importances[indices[f]]))\n",
    "\n",
    "# plot the feature importances\n",
    "plt.title(\"Feature importances\")\n",
    "plt.bar(range(X.shape[1]), best_importances[indices])\n",
    "plt.xticks(range(X.shape[1]), indices)\n",
    "plt.show()"
   ]
  },
  {
   "cell_type": "code",
   "execution_count": null,
   "id": "c0b19c87-09b8-47f9-b8b6-a77acfbe0a8f",
   "metadata": {},
   "outputs": [],
   "source": []
  }
 ],
 "metadata": {
  "availableInstances": [
   {
    "_defaultOrder": 0,
    "_isFastLaunch": true,
    "category": "General purpose",
    "gpuNum": 0,
    "memoryGiB": 4,
    "name": "ml.t3.medium",
    "vcpuNum": 2
   },
   {
    "_defaultOrder": 1,
    "_isFastLaunch": false,
    "category": "General purpose",
    "gpuNum": 0,
    "memoryGiB": 8,
    "name": "ml.t3.large",
    "vcpuNum": 2
   },
   {
    "_defaultOrder": 2,
    "_isFastLaunch": false,
    "category": "General purpose",
    "gpuNum": 0,
    "memoryGiB": 16,
    "name": "ml.t3.xlarge",
    "vcpuNum": 4
   },
   {
    "_defaultOrder": 3,
    "_isFastLaunch": false,
    "category": "General purpose",
    "gpuNum": 0,
    "memoryGiB": 32,
    "name": "ml.t3.2xlarge",
    "vcpuNum": 8
   },
   {
    "_defaultOrder": 4,
    "_isFastLaunch": true,
    "category": "General purpose",
    "gpuNum": 0,
    "memoryGiB": 8,
    "name": "ml.m5.large",
    "vcpuNum": 2
   },
   {
    "_defaultOrder": 5,
    "_isFastLaunch": false,
    "category": "General purpose",
    "gpuNum": 0,
    "memoryGiB": 16,
    "name": "ml.m5.xlarge",
    "vcpuNum": 4
   },
   {
    "_defaultOrder": 6,
    "_isFastLaunch": false,
    "category": "General purpose",
    "gpuNum": 0,
    "memoryGiB": 32,
    "name": "ml.m5.2xlarge",
    "vcpuNum": 8
   },
   {
    "_defaultOrder": 7,
    "_isFastLaunch": false,
    "category": "General purpose",
    "gpuNum": 0,
    "memoryGiB": 64,
    "name": "ml.m5.4xlarge",
    "vcpuNum": 16
   },
   {
    "_defaultOrder": 8,
    "_isFastLaunch": false,
    "category": "General purpose",
    "gpuNum": 0,
    "memoryGiB": 128,
    "name": "ml.m5.8xlarge",
    "vcpuNum": 32
   },
   {
    "_defaultOrder": 9,
    "_isFastLaunch": false,
    "category": "General purpose",
    "gpuNum": 0,
    "memoryGiB": 192,
    "name": "ml.m5.12xlarge",
    "vcpuNum": 48
   },
   {
    "_defaultOrder": 10,
    "_isFastLaunch": false,
    "category": "General purpose",
    "gpuNum": 0,
    "memoryGiB": 256,
    "name": "ml.m5.16xlarge",
    "vcpuNum": 64
   },
   {
    "_defaultOrder": 11,
    "_isFastLaunch": false,
    "category": "General purpose",
    "gpuNum": 0,
    "memoryGiB": 384,
    "name": "ml.m5.24xlarge",
    "vcpuNum": 96
   },
   {
    "_defaultOrder": 12,
    "_isFastLaunch": false,
    "category": "General purpose",
    "gpuNum": 0,
    "memoryGiB": 8,
    "name": "ml.m5d.large",
    "vcpuNum": 2
   },
   {
    "_defaultOrder": 13,
    "_isFastLaunch": false,
    "category": "General purpose",
    "gpuNum": 0,
    "memoryGiB": 16,
    "name": "ml.m5d.xlarge",
    "vcpuNum": 4
   },
   {
    "_defaultOrder": 14,
    "_isFastLaunch": false,
    "category": "General purpose",
    "gpuNum": 0,
    "memoryGiB": 32,
    "name": "ml.m5d.2xlarge",
    "vcpuNum": 8
   },
   {
    "_defaultOrder": 15,
    "_isFastLaunch": false,
    "category": "General purpose",
    "gpuNum": 0,
    "memoryGiB": 64,
    "name": "ml.m5d.4xlarge",
    "vcpuNum": 16
   },
   {
    "_defaultOrder": 16,
    "_isFastLaunch": false,
    "category": "General purpose",
    "gpuNum": 0,
    "memoryGiB": 128,
    "name": "ml.m5d.8xlarge",
    "vcpuNum": 32
   },
   {
    "_defaultOrder": 17,
    "_isFastLaunch": false,
    "category": "General purpose",
    "gpuNum": 0,
    "memoryGiB": 192,
    "name": "ml.m5d.12xlarge",
    "vcpuNum": 48
   },
   {
    "_defaultOrder": 18,
    "_isFastLaunch": false,
    "category": "General purpose",
    "gpuNum": 0,
    "memoryGiB": 256,
    "name": "ml.m5d.16xlarge",
    "vcpuNum": 64
   },
   {
    "_defaultOrder": 19,
    "_isFastLaunch": false,
    "category": "General purpose",
    "gpuNum": 0,
    "memoryGiB": 384,
    "name": "ml.m5d.24xlarge",
    "vcpuNum": 96
   },
   {
    "_defaultOrder": 20,
    "_isFastLaunch": true,
    "category": "Compute optimized",
    "gpuNum": 0,
    "memoryGiB": 4,
    "name": "ml.c5.large",
    "vcpuNum": 2
   },
   {
    "_defaultOrder": 21,
    "_isFastLaunch": false,
    "category": "Compute optimized",
    "gpuNum": 0,
    "memoryGiB": 8,
    "name": "ml.c5.xlarge",
    "vcpuNum": 4
   },
   {
    "_defaultOrder": 22,
    "_isFastLaunch": false,
    "category": "Compute optimized",
    "gpuNum": 0,
    "memoryGiB": 16,
    "name": "ml.c5.2xlarge",
    "vcpuNum": 8
   },
   {
    "_defaultOrder": 23,
    "_isFastLaunch": false,
    "category": "Compute optimized",
    "gpuNum": 0,
    "memoryGiB": 32,
    "name": "ml.c5.4xlarge",
    "vcpuNum": 16
   },
   {
    "_defaultOrder": 24,
    "_isFastLaunch": false,
    "category": "Compute optimized",
    "gpuNum": 0,
    "memoryGiB": 72,
    "name": "ml.c5.9xlarge",
    "vcpuNum": 36
   },
   {
    "_defaultOrder": 25,
    "_isFastLaunch": false,
    "category": "Compute optimized",
    "gpuNum": 0,
    "memoryGiB": 96,
    "name": "ml.c5.12xlarge",
    "vcpuNum": 48
   },
   {
    "_defaultOrder": 26,
    "_isFastLaunch": false,
    "category": "Compute optimized",
    "gpuNum": 0,
    "memoryGiB": 144,
    "name": "ml.c5.18xlarge",
    "vcpuNum": 72
   },
   {
    "_defaultOrder": 27,
    "_isFastLaunch": false,
    "category": "Compute optimized",
    "gpuNum": 0,
    "memoryGiB": 192,
    "name": "ml.c5.24xlarge",
    "vcpuNum": 96
   },
   {
    "_defaultOrder": 28,
    "_isFastLaunch": true,
    "category": "Accelerated computing",
    "gpuNum": 1,
    "memoryGiB": 16,
    "name": "ml.g4dn.xlarge",
    "vcpuNum": 4
   },
   {
    "_defaultOrder": 29,
    "_isFastLaunch": false,
    "category": "Accelerated computing",
    "gpuNum": 1,
    "memoryGiB": 32,
    "name": "ml.g4dn.2xlarge",
    "vcpuNum": 8
   },
   {
    "_defaultOrder": 30,
    "_isFastLaunch": false,
    "category": "Accelerated computing",
    "gpuNum": 1,
    "memoryGiB": 64,
    "name": "ml.g4dn.4xlarge",
    "vcpuNum": 16
   },
   {
    "_defaultOrder": 31,
    "_isFastLaunch": false,
    "category": "Accelerated computing",
    "gpuNum": 1,
    "memoryGiB": 128,
    "name": "ml.g4dn.8xlarge",
    "vcpuNum": 32
   },
   {
    "_defaultOrder": 32,
    "_isFastLaunch": false,
    "category": "Accelerated computing",
    "gpuNum": 4,
    "memoryGiB": 192,
    "name": "ml.g4dn.12xlarge",
    "vcpuNum": 48
   },
   {
    "_defaultOrder": 33,
    "_isFastLaunch": false,
    "category": "Accelerated computing",
    "gpuNum": 1,
    "memoryGiB": 256,
    "name": "ml.g4dn.16xlarge",
    "vcpuNum": 64
   },
   {
    "_defaultOrder": 34,
    "_isFastLaunch": false,
    "category": "Accelerated computing",
    "gpuNum": 1,
    "memoryGiB": 61,
    "name": "ml.p3.2xlarge",
    "vcpuNum": 8
   },
   {
    "_defaultOrder": 35,
    "_isFastLaunch": false,
    "category": "Accelerated computing",
    "gpuNum": 4,
    "memoryGiB": 244,
    "name": "ml.p3.8xlarge",
    "vcpuNum": 32
   },
   {
    "_defaultOrder": 36,
    "_isFastLaunch": false,
    "category": "Accelerated computing",
    "gpuNum": 8,
    "memoryGiB": 488,
    "name": "ml.p3.16xlarge",
    "vcpuNum": 64
   },
   {
    "_defaultOrder": 37,
    "_isFastLaunch": false,
    "category": "Accelerated computing",
    "gpuNum": 8,
    "memoryGiB": 768,
    "name": "ml.p3dn.24xlarge",
    "vcpuNum": 96
   },
   {
    "_defaultOrder": 38,
    "_isFastLaunch": false,
    "category": "Memory Optimized",
    "gpuNum": 0,
    "memoryGiB": 16,
    "name": "ml.r5.large",
    "vcpuNum": 2
   },
   {
    "_defaultOrder": 39,
    "_isFastLaunch": false,
    "category": "Memory Optimized",
    "gpuNum": 0,
    "memoryGiB": 32,
    "name": "ml.r5.xlarge",
    "vcpuNum": 4
   },
   {
    "_defaultOrder": 40,
    "_isFastLaunch": false,
    "category": "Memory Optimized",
    "gpuNum": 0,
    "memoryGiB": 64,
    "name": "ml.r5.2xlarge",
    "vcpuNum": 8
   },
   {
    "_defaultOrder": 41,
    "_isFastLaunch": false,
    "category": "Memory Optimized",
    "gpuNum": 0,
    "memoryGiB": 128,
    "name": "ml.r5.4xlarge",
    "vcpuNum": 16
   },
   {
    "_defaultOrder": 42,
    "_isFastLaunch": false,
    "category": "Memory Optimized",
    "gpuNum": 0,
    "memoryGiB": 256,
    "name": "ml.r5.8xlarge",
    "vcpuNum": 32
   },
   {
    "_defaultOrder": 43,
    "_isFastLaunch": false,
    "category": "Memory Optimized",
    "gpuNum": 0,
    "memoryGiB": 384,
    "name": "ml.r5.12xlarge",
    "vcpuNum": 48
   },
   {
    "_defaultOrder": 44,
    "_isFastLaunch": false,
    "category": "Memory Optimized",
    "gpuNum": 0,
    "memoryGiB": 512,
    "name": "ml.r5.16xlarge",
    "vcpuNum": 64
   },
   {
    "_defaultOrder": 45,
    "_isFastLaunch": false,
    "category": "Memory Optimized",
    "gpuNum": 0,
    "memoryGiB": 768,
    "name": "ml.r5.24xlarge",
    "vcpuNum": 96
   },
   {
    "_defaultOrder": 46,
    "_isFastLaunch": false,
    "category": "Accelerated computing",
    "gpuNum": 1,
    "memoryGiB": 16,
    "name": "ml.g5.xlarge",
    "vcpuNum": 4
   },
   {
    "_defaultOrder": 47,
    "_isFastLaunch": false,
    "category": "Accelerated computing",
    "gpuNum": 1,
    "memoryGiB": 32,
    "name": "ml.g5.2xlarge",
    "vcpuNum": 8
   },
   {
    "_defaultOrder": 48,
    "_isFastLaunch": false,
    "category": "Accelerated computing",
    "gpuNum": 1,
    "memoryGiB": 64,
    "name": "ml.g5.4xlarge",
    "vcpuNum": 16
   },
   {
    "_defaultOrder": 49,
    "_isFastLaunch": false,
    "category": "Accelerated computing",
    "gpuNum": 1,
    "memoryGiB": 128,
    "name": "ml.g5.8xlarge",
    "vcpuNum": 32
   },
   {
    "_defaultOrder": 50,
    "_isFastLaunch": false,
    "category": "Accelerated computing",
    "gpuNum": 1,
    "memoryGiB": 256,
    "name": "ml.g5.16xlarge",
    "vcpuNum": 64
   },
   {
    "_defaultOrder": 51,
    "_isFastLaunch": false,
    "category": "Accelerated computing",
    "gpuNum": 4,
    "memoryGiB": 192,
    "name": "ml.g5.12xlarge",
    "vcpuNum": 48
   },
   {
    "_defaultOrder": 52,
    "_isFastLaunch": false,
    "category": "Accelerated computing",
    "gpuNum": 4,
    "memoryGiB": 384,
    "name": "ml.g5.24xlarge",
    "vcpuNum": 96
   },
   {
    "_defaultOrder": 53,
    "_isFastLaunch": false,
    "category": "Accelerated computing",
    "gpuNum": 8,
    "memoryGiB": 768,
    "name": "ml.g5.48xlarge",
    "vcpuNum": 192
   }
  ],
  "instance_type": "ml.t3.xlarge",
  "kernelspec": {
   "display_name": "Python 3 (Data Science)",
   "language": "python",
   "name": "python3__SAGEMAKER_INTERNAL__arn:aws:sagemaker:us-east-1:081325390199:image/datascience-1.0"
  },
  "language_info": {
   "codemirror_mode": {
    "name": "ipython",
    "version": 3
   },
   "file_extension": ".py",
   "mimetype": "text/x-python",
   "name": "python",
   "nbconvert_exporter": "python",
   "pygments_lexer": "ipython3",
   "version": "3.7.10"
  }
 },
 "nbformat": 4,
 "nbformat_minor": 5
}
