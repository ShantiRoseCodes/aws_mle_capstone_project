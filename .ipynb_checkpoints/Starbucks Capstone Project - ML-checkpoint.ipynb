{
 "cells": [
  {
   "cell_type": "code",
   "execution_count": 47,
   "id": "3a8062b3-a125-4002-9b1a-287e3c3d2cbe",
   "metadata": {
    "tags": []
   },
   "outputs": [
    {
     "name": "stdout",
     "output_type": "stream",
     "text": [
      "Collecting xgboost\n",
      "  Using cached xgboost-1.6.2-py3-none-manylinux2014_x86_64.whl (255.9 MB)\n",
      "Requirement already satisfied: numpy in /opt/conda/lib/python3.7/site-packages (from xgboost) (1.21.6)\n",
      "Requirement already satisfied: scipy in /opt/conda/lib/python3.7/site-packages (from xgboost) (1.4.1)\n",
      "Installing collected packages: xgboost\n",
      "Successfully installed xgboost-1.6.2\n",
      "\u001b[33mWARNING: Running pip as the 'root' user can result in broken permissions and conflicting behaviour with the system package manager. It is recommended to use a virtual environment instead: https://pip.pypa.io/warnings/venv\u001b[0m\u001b[33m\n",
      "\u001b[0m\n",
      "\u001b[1m[\u001b[0m\u001b[34;49mnotice\u001b[0m\u001b[1;39;49m]\u001b[0m\u001b[39;49m A new release of pip is available: \u001b[0m\u001b[31;49m23.0\u001b[0m\u001b[39;49m -> \u001b[0m\u001b[32;49m23.0.1\u001b[0m\n",
      "\u001b[1m[\u001b[0m\u001b[34;49mnotice\u001b[0m\u001b[1;39;49m]\u001b[0m\u001b[39;49m To update, run: \u001b[0m\u001b[32;49mpip install --upgrade pip\u001b[0m\n",
      "Collecting lightgbm\n",
      "  Using cached lightgbm-3.3.5-py3-none-manylinux1_x86_64.whl (2.0 MB)\n",
      "Requirement already satisfied: numpy in /opt/conda/lib/python3.7/site-packages (from lightgbm) (1.21.6)\n",
      "Requirement already satisfied: scipy in /opt/conda/lib/python3.7/site-packages (from lightgbm) (1.4.1)\n",
      "Requirement already satisfied: scikit-learn!=0.22.0 in /opt/conda/lib/python3.7/site-packages (from lightgbm) (0.22.1)\n",
      "Requirement already satisfied: wheel in /opt/conda/lib/python3.7/site-packages (from lightgbm) (0.38.4)\n",
      "Requirement already satisfied: joblib>=0.11 in /opt/conda/lib/python3.7/site-packages (from scikit-learn!=0.22.0->lightgbm) (1.2.0)\n",
      "Installing collected packages: lightgbm\n",
      "Successfully installed lightgbm-3.3.5\n",
      "\u001b[33mWARNING: Running pip as the 'root' user can result in broken permissions and conflicting behaviour with the system package manager. It is recommended to use a virtual environment instead: https://pip.pypa.io/warnings/venv\u001b[0m\u001b[33m\n",
      "\u001b[0m\n",
      "\u001b[1m[\u001b[0m\u001b[34;49mnotice\u001b[0m\u001b[1;39;49m]\u001b[0m\u001b[39;49m A new release of pip is available: \u001b[0m\u001b[31;49m23.0\u001b[0m\u001b[39;49m -> \u001b[0m\u001b[32;49m23.0.1\u001b[0m\n",
      "\u001b[1m[\u001b[0m\u001b[34;49mnotice\u001b[0m\u001b[1;39;49m]\u001b[0m\u001b[39;49m To update, run: \u001b[0m\u001b[32;49mpip install --upgrade pip\u001b[0m\n",
      "Collecting graphviz\n",
      "  Using cached graphviz-0.20.1-py3-none-any.whl (47 kB)\n",
      "Installing collected packages: graphviz\n",
      "Successfully installed graphviz-0.20.1\n",
      "\u001b[33mWARNING: Running pip as the 'root' user can result in broken permissions and conflicting behaviour with the system package manager. It is recommended to use a virtual environment instead: https://pip.pypa.io/warnings/venv\u001b[0m\u001b[33m\n",
      "\u001b[0m\n",
      "\u001b[1m[\u001b[0m\u001b[34;49mnotice\u001b[0m\u001b[1;39;49m]\u001b[0m\u001b[39;49m A new release of pip is available: \u001b[0m\u001b[31;49m23.0\u001b[0m\u001b[39;49m -> \u001b[0m\u001b[32;49m23.0.1\u001b[0m\n",
      "\u001b[1m[\u001b[0m\u001b[34;49mnotice\u001b[0m\u001b[1;39;49m]\u001b[0m\u001b[39;49m To update, run: \u001b[0m\u001b[32;49mpip install --upgrade pip\u001b[0m\n"
     ]
    }
   ],
   "source": [
    "!pip install xgboost\n",
    "!pip install lightgbm\n",
    "!pip install graphviz"
   ]
  },
  {
   "cell_type": "code",
   "execution_count": 4,
   "id": "5acd3e51-30b8-4114-bb85-f62415aeb7fc",
   "metadata": {
    "tags": []
   },
   "outputs": [],
   "source": [
    "import pandas as pd\n",
    "import numpy as np\n",
    "import math\n",
    "import json\n",
    "import seaborn as sns\n",
    "import matplotlib.pyplot as plt\n",
    "import os\n",
    "from sklearn.metrics import f1_score, roc_auc_score\n",
    "\n",
    "%matplotlib inline\n",
    "\n",
    "complete_df = pd.read_csv('data/complete.csv')"
   ]
  },
  {
   "cell_type": "code",
   "execution_count": 5,
   "id": "17e30ac7-42bf-4c3c-8751-91efc5be677f",
   "metadata": {
    "tags": []
   },
   "outputs": [
    {
     "data": {
      "text/plain": [
       "(102693, 26)"
      ]
     },
     "execution_count": 5,
     "metadata": {},
     "output_type": "execute_result"
    }
   ],
   "source": [
    "complete_df.shape"
   ]
  },
  {
   "cell_type": "code",
   "execution_count": 6,
   "id": "0235c9e4-3313-4e8a-bce8-fc53969cdbdb",
   "metadata": {
    "tags": []
   },
   "outputs": [],
   "source": [
    "ml_df = complete_df.copy()"
   ]
  },
  {
   "cell_type": "code",
   "execution_count": 7,
   "id": "b42cc475-7118-4cb8-bc40-8f03f5b4ab1b",
   "metadata": {
    "tags": []
   },
   "outputs": [
    {
     "name": "stdout",
     "output_type": "stream",
     "text": [
      "<class 'pandas.core.frame.DataFrame'>\n",
      "RangeIndex: 102693 entries, 0 to 102692\n",
      "Data columns (total 26 columns):\n",
      " #   Column               Non-Null Count   Dtype  \n",
      "---  ------               --------------   -----  \n",
      " 0   age                  102693 non-null  int64  \n",
      " 1   gender               102693 non-null  object \n",
      " 2   income               102693 non-null  float64\n",
      " 3   became_member_on     102693 non-null  object \n",
      " 4   membership_duration  102693 non-null  int64  \n",
      " 5   person               102693 non-null  object \n",
      " 6   offer_received       102693 non-null  int64  \n",
      " 7   time_received        102693 non-null  int64  \n",
      " 8   offer_id             102693 non-null  object \n",
      " 9   offer_viewed         102693 non-null  int64  \n",
      " 10  time_viewed          102693 non-null  float64\n",
      " 11  offer_completed      102693 non-null  int64  \n",
      " 12  time_completed       102693 non-null  float64\n",
      " 13  reward_received      102693 non-null  float64\n",
      " 14  id                   102693 non-null  object \n",
      " 15  offer                102693 non-null  int64  \n",
      " 16  offer_type           102693 non-null  object \n",
      " 17  difficulty           102693 non-null  int64  \n",
      " 18  duration             102693 non-null  int64  \n",
      " 19  reward               102693 non-null  int64  \n",
      " 20  channels             102693 non-null  object \n",
      " 21  web                  102693 non-null  int64  \n",
      " 22  email                102693 non-null  int64  \n",
      " 23  social               102693 non-null  int64  \n",
      " 24  mobile               102693 non-null  int64  \n",
      " 25  duration_hr          102693 non-null  int64  \n",
      "dtypes: float64(4), int64(15), object(7)\n",
      "memory usage: 20.4+ MB\n"
     ]
    }
   ],
   "source": [
    "ml_df.info()"
   ]
  },
  {
   "cell_type": "code",
   "execution_count": 8,
   "id": "4209e359-32f7-419e-9dc9-26c9a69dd0a9",
   "metadata": {
    "tags": []
   },
   "outputs": [],
   "source": [
    "ml_df['received_viewed'] =  ml_df['time_viewed'] - ml_df['time_received']"
   ]
  },
  {
   "cell_type": "code",
   "execution_count": 9,
   "id": "ff82e783-6818-41c1-8510-fa0466194e0a",
   "metadata": {
    "tags": []
   },
   "outputs": [],
   "source": [
    "ml_df['viewed_completed'] = ml_df['time_completed'] - ml_df['time_viewed']"
   ]
  },
  {
   "cell_type": "code",
   "execution_count": 10,
   "id": "6a562b03-1a23-4117-861c-361673393b77",
   "metadata": {
    "tags": []
   },
   "outputs": [],
   "source": [
    "ml_df['received_completed_diff'] =  ml_df['time_completed'] - ml_df['time_received']"
   ]
  },
  {
   "cell_type": "code",
   "execution_count": 11,
   "id": "98f6a4ca-2c5d-4e1e-b7e9-6567b6a1a0ca",
   "metadata": {
    "tags": []
   },
   "outputs": [],
   "source": [
    "ml_df['duration_diff'] = ml_df['duration_hr'] - ml_df['received_completed_diff']"
   ]
  },
  {
   "cell_type": "code",
   "execution_count": 12,
   "id": "7e2ecf94-38c1-4bc5-83cc-8c3876c7b2be",
   "metadata": {
    "tags": []
   },
   "outputs": [],
   "source": [
    "viewed_completed_anomalies = ml_df[(ml_df.time_viewed > ml_df.time_completed) & (ml_df.time_completed != 0)].index\n",
    "ml_df.drop(index = viewed_completed_anomalies, inplace = True)"
   ]
  },
  {
   "cell_type": "markdown",
   "id": "6d9c1cf5-434e-42e2-a280-fa1e7da3c70e",
   "metadata": {},
   "source": [
    "* time_received should not be greater than time viewed unless time viewed = 0."
   ]
  },
  {
   "cell_type": "code",
   "execution_count": 13,
   "id": "37e230a8-824d-4c8b-98de-9344a3d7b535",
   "metadata": {
    "tags": []
   },
   "outputs": [],
   "source": [
    "received_viewed_anomalies = ml_df[(ml_df.time_received > ml_df.time_viewed) & (ml_df.time_viewed != 0)].index\n",
    "ml_df.drop(index = received_viewed_anomalies, inplace = True)"
   ]
  },
  {
   "cell_type": "markdown",
   "id": "7d01311d-05bf-4b38-9825-205d26980056",
   "metadata": {},
   "source": [
    "offer_received = 0 should mean time_received = 0."
   ]
  },
  {
   "cell_type": "code",
   "execution_count": 14,
   "id": "894cd758-b365-4792-b810-f780f590d1db",
   "metadata": {
    "tags": []
   },
   "outputs": [
    {
     "data": {
      "text/html": [
       "<div>\n",
       "<style scoped>\n",
       "    .dataframe tbody tr th:only-of-type {\n",
       "        vertical-align: middle;\n",
       "    }\n",
       "\n",
       "    .dataframe tbody tr th {\n",
       "        vertical-align: top;\n",
       "    }\n",
       "\n",
       "    .dataframe thead th {\n",
       "        text-align: right;\n",
       "    }\n",
       "</style>\n",
       "<table border=\"1\" class=\"dataframe\">\n",
       "  <thead>\n",
       "    <tr style=\"text-align: right;\">\n",
       "      <th></th>\n",
       "      <th>age</th>\n",
       "      <th>gender</th>\n",
       "      <th>income</th>\n",
       "      <th>became_member_on</th>\n",
       "      <th>membership_duration</th>\n",
       "      <th>person</th>\n",
       "      <th>offer_received</th>\n",
       "      <th>time_received</th>\n",
       "      <th>offer_id</th>\n",
       "      <th>offer_viewed</th>\n",
       "      <th>...</th>\n",
       "      <th>channels</th>\n",
       "      <th>web</th>\n",
       "      <th>email</th>\n",
       "      <th>social</th>\n",
       "      <th>mobile</th>\n",
       "      <th>duration_hr</th>\n",
       "      <th>received_viewed</th>\n",
       "      <th>viewed_completed</th>\n",
       "      <th>received_completed_diff</th>\n",
       "      <th>duration_diff</th>\n",
       "    </tr>\n",
       "  </thead>\n",
       "  <tbody>\n",
       "  </tbody>\n",
       "</table>\n",
       "<p>0 rows × 30 columns</p>\n",
       "</div>"
      ],
      "text/plain": [
       "Empty DataFrame\n",
       "Columns: [age, gender, income, became_member_on, membership_duration, person, offer_received, time_received, offer_id, offer_viewed, time_viewed, offer_completed, time_completed, reward_received, id, offer, offer_type, difficulty, duration, reward, channels, web, email, social, mobile, duration_hr, received_viewed, viewed_completed, received_completed_diff, duration_diff]\n",
       "Index: []\n",
       "\n",
       "[0 rows x 30 columns]"
      ]
     },
     "execution_count": 14,
     "metadata": {},
     "output_type": "execute_result"
    }
   ],
   "source": [
    "ml_df[(ml_df.offer_received == 0) & (ml_df.time_received > 0)] "
   ]
  },
  {
   "cell_type": "markdown",
   "id": "d3382058-443d-472f-8fa8-1db8ceaa54ac",
   "metadata": {},
   "source": [
    "**received_viewed is the difference between time viewed and time received.**\n",
    "* If it results to negative of time received then the offer was not viewed (as NaN values were replaced with 0s)\n",
    "* If it results to a negative value that is not equal to time received then it is an anomalous entry. An offer cannot be viewed before it has been received."
   ]
  },
  {
   "cell_type": "code",
   "execution_count": 15,
   "id": "327f9739-1b95-4a0a-978d-477c8df7e4b8",
   "metadata": {
    "tags": []
   },
   "outputs": [
    {
     "name": "stdout",
     "output_type": "stream",
     "text": [
      "Int64Index([], dtype='int64')\n"
     ]
    }
   ],
   "source": [
    "# Identify the index of the rows that match the condition\n",
    "indices_to_delete = ml_df[(ml_df.received_viewed < 0) & (ml_df.received_viewed != -(ml_df.time_received))].index\n",
    "print(indices_to_delete)\n",
    "\n",
    "# Drop the rows with the identified indices\n",
    "ml_df.drop(index=indices_to_delete, inplace=True)"
   ]
  },
  {
   "cell_type": "code",
   "execution_count": 16,
   "id": "9f9b4b70-83b1-43b3-9863-e9a1193c3685",
   "metadata": {
    "tags": []
   },
   "outputs": [
    {
     "data": {
      "text/html": [
       "<div>\n",
       "<style scoped>\n",
       "    .dataframe tbody tr th:only-of-type {\n",
       "        vertical-align: middle;\n",
       "    }\n",
       "\n",
       "    .dataframe tbody tr th {\n",
       "        vertical-align: top;\n",
       "    }\n",
       "\n",
       "    .dataframe thead th {\n",
       "        text-align: right;\n",
       "    }\n",
       "</style>\n",
       "<table border=\"1\" class=\"dataframe\">\n",
       "  <thead>\n",
       "    <tr style=\"text-align: right;\">\n",
       "      <th></th>\n",
       "      <th>time_received</th>\n",
       "      <th>time_viewed</th>\n",
       "      <th>received_viewed</th>\n",
       "    </tr>\n",
       "  </thead>\n",
       "  <tbody>\n",
       "    <tr>\n",
       "      <th>0</th>\n",
       "      <td>408</td>\n",
       "      <td>0.0</td>\n",
       "      <td>-408.0</td>\n",
       "    </tr>\n",
       "    <tr>\n",
       "      <th>1</th>\n",
       "      <td>504</td>\n",
       "      <td>0.0</td>\n",
       "      <td>-504.0</td>\n",
       "    </tr>\n",
       "    <tr>\n",
       "      <th>7</th>\n",
       "      <td>336</td>\n",
       "      <td>0.0</td>\n",
       "      <td>-336.0</td>\n",
       "    </tr>\n",
       "    <tr>\n",
       "      <th>14</th>\n",
       "      <td>504</td>\n",
       "      <td>0.0</td>\n",
       "      <td>-504.0</td>\n",
       "    </tr>\n",
       "    <tr>\n",
       "      <th>15</th>\n",
       "      <td>504</td>\n",
       "      <td>0.0</td>\n",
       "      <td>-504.0</td>\n",
       "    </tr>\n",
       "    <tr>\n",
       "      <th>...</th>\n",
       "      <td>...</td>\n",
       "      <td>...</td>\n",
       "      <td>...</td>\n",
       "    </tr>\n",
       "    <tr>\n",
       "      <th>102681</th>\n",
       "      <td>408</td>\n",
       "      <td>0.0</td>\n",
       "      <td>-408.0</td>\n",
       "    </tr>\n",
       "    <tr>\n",
       "      <th>102682</th>\n",
       "      <td>504</td>\n",
       "      <td>0.0</td>\n",
       "      <td>-504.0</td>\n",
       "    </tr>\n",
       "    <tr>\n",
       "      <th>102684</th>\n",
       "      <td>168</td>\n",
       "      <td>0.0</td>\n",
       "      <td>-168.0</td>\n",
       "    </tr>\n",
       "    <tr>\n",
       "      <th>102690</th>\n",
       "      <td>336</td>\n",
       "      <td>0.0</td>\n",
       "      <td>-336.0</td>\n",
       "    </tr>\n",
       "    <tr>\n",
       "      <th>102691</th>\n",
       "      <td>576</td>\n",
       "      <td>0.0</td>\n",
       "      <td>-576.0</td>\n",
       "    </tr>\n",
       "  </tbody>\n",
       "</table>\n",
       "<p>13983 rows × 3 columns</p>\n",
       "</div>"
      ],
      "text/plain": [
       "        time_received  time_viewed  received_viewed\n",
       "0                 408          0.0           -408.0\n",
       "1                 504          0.0           -504.0\n",
       "7                 336          0.0           -336.0\n",
       "14                504          0.0           -504.0\n",
       "15                504          0.0           -504.0\n",
       "...               ...          ...              ...\n",
       "102681            408          0.0           -408.0\n",
       "102682            504          0.0           -504.0\n",
       "102684            168          0.0           -168.0\n",
       "102690            336          0.0           -336.0\n",
       "102691            576          0.0           -576.0\n",
       "\n",
       "[13983 rows x 3 columns]"
      ]
     },
     "execution_count": 16,
     "metadata": {},
     "output_type": "execute_result"
    }
   ],
   "source": [
    "ml_df[ml_df.received_viewed < 0][['time_received', 'time_viewed', 'received_viewed']]"
   ]
  },
  {
   "cell_type": "code",
   "execution_count": 17,
   "id": "f7d4a59f-852b-43db-ac5c-31c090fec8fb",
   "metadata": {
    "tags": []
   },
   "outputs": [
    {
     "data": {
      "text/plain": [
       "0.0    13983\n",
       "Name: time_viewed, dtype: int64"
      ]
     },
     "execution_count": 17,
     "metadata": {},
     "output_type": "execute_result"
    }
   ],
   "source": [
    "# received but not viewed\n",
    "ml_df[ml_df.received_viewed < 0]['time_viewed'].value_counts()"
   ]
  },
  {
   "cell_type": "markdown",
   "id": "645502bf-48ea-433d-87d1-17bad2fafd96",
   "metadata": {},
   "source": [
    "If offer_viewed = 0, then time_viewed should be equal to 0."
   ]
  },
  {
   "cell_type": "code",
   "execution_count": 18,
   "id": "c6cd1428-194b-4425-b30b-9a944383559f",
   "metadata": {
    "tags": []
   },
   "outputs": [
    {
     "data": {
      "text/html": [
       "<div>\n",
       "<style scoped>\n",
       "    .dataframe tbody tr th:only-of-type {\n",
       "        vertical-align: middle;\n",
       "    }\n",
       "\n",
       "    .dataframe tbody tr th {\n",
       "        vertical-align: top;\n",
       "    }\n",
       "\n",
       "    .dataframe thead th {\n",
       "        text-align: right;\n",
       "    }\n",
       "</style>\n",
       "<table border=\"1\" class=\"dataframe\">\n",
       "  <thead>\n",
       "    <tr style=\"text-align: right;\">\n",
       "      <th></th>\n",
       "      <th>age</th>\n",
       "      <th>gender</th>\n",
       "      <th>income</th>\n",
       "      <th>became_member_on</th>\n",
       "      <th>membership_duration</th>\n",
       "      <th>person</th>\n",
       "      <th>offer_received</th>\n",
       "      <th>time_received</th>\n",
       "      <th>offer_id</th>\n",
       "      <th>offer_viewed</th>\n",
       "      <th>...</th>\n",
       "      <th>channels</th>\n",
       "      <th>web</th>\n",
       "      <th>email</th>\n",
       "      <th>social</th>\n",
       "      <th>mobile</th>\n",
       "      <th>duration_hr</th>\n",
       "      <th>received_viewed</th>\n",
       "      <th>viewed_completed</th>\n",
       "      <th>received_completed_diff</th>\n",
       "      <th>duration_diff</th>\n",
       "    </tr>\n",
       "  </thead>\n",
       "  <tbody>\n",
       "  </tbody>\n",
       "</table>\n",
       "<p>0 rows × 30 columns</p>\n",
       "</div>"
      ],
      "text/plain": [
       "Empty DataFrame\n",
       "Columns: [age, gender, income, became_member_on, membership_duration, person, offer_received, time_received, offer_id, offer_viewed, time_viewed, offer_completed, time_completed, reward_received, id, offer, offer_type, difficulty, duration, reward, channels, web, email, social, mobile, duration_hr, received_viewed, viewed_completed, received_completed_diff, duration_diff]\n",
       "Index: []\n",
       "\n",
       "[0 rows x 30 columns]"
      ]
     },
     "execution_count": 18,
     "metadata": {},
     "output_type": "execute_result"
    }
   ],
   "source": [
    "ml_df[(ml_df.offer_viewed == 0) & (ml_df.time_viewed > 0)] "
   ]
  },
  {
   "cell_type": "markdown",
   "id": "81fcd0ea-cb0d-4409-89af-d3ab02550209",
   "metadata": {
    "tags": []
   },
   "source": [
    "* The offer was viewed.\n",
    "* The time received is not equal to 0 => This means that the offer was not sent at time 0 and then was immediately viewed at time 0.\n",
    "* The time_viewed is 0 => This means that the offer was not viewed at all and yet the entry says it has been viewed."
   ]
  },
  {
   "cell_type": "code",
   "execution_count": 19,
   "id": "9582cd30-3855-4a03-803e-c52f8d3dc85d",
   "metadata": {
    "tags": []
   },
   "outputs": [],
   "source": [
    "view_anomaly_indices = ml_df[(ml_df.offer_viewed == 1) & (ml_df.time_received != 0) & (ml_df.time_viewed == 0)].index\n",
    "ml_df.drop(index=view_anomaly_indices, inplace=True)"
   ]
  },
  {
   "cell_type": "markdown",
   "id": "073129b3-4df5-47c5-9195-8d829c0628dd",
   "metadata": {},
   "source": [
    "* The offer was completed.\n",
    "* The time received and viewed are not equal to 0. => The offer was not immediately claimed after it was received.\n",
    "* The time completed is equal to 0."
   ]
  },
  {
   "cell_type": "code",
   "execution_count": 20,
   "id": "a29a94a8-8c30-47d3-8250-8c1c362bca5e",
   "metadata": {
    "tags": []
   },
   "outputs": [],
   "source": [
    "completed_anomalies = ml_df[(ml_df.offer_completed == 1) & (ml_df.time_viewed != 0) & (ml_df.time_received != 0) & (ml_df.time_completed == 0)].index\n",
    "ml_df.drop(index = completed_anomalies, inplace = True)"
   ]
  },
  {
   "cell_type": "markdown",
   "id": "dabb44e3-8ab0-4bda-beb5-19575f3b6989",
   "metadata": {},
   "source": [
    "* offer completed == 0 but the reward_received is greater than 0"
   ]
  },
  {
   "cell_type": "code",
   "execution_count": 21,
   "id": "a587d54e-1895-4fe7-9a5a-8b95575cc106",
   "metadata": {
    "tags": []
   },
   "outputs": [
    {
     "data": {
      "text/html": [
       "<div>\n",
       "<style scoped>\n",
       "    .dataframe tbody tr th:only-of-type {\n",
       "        vertical-align: middle;\n",
       "    }\n",
       "\n",
       "    .dataframe tbody tr th {\n",
       "        vertical-align: top;\n",
       "    }\n",
       "\n",
       "    .dataframe thead th {\n",
       "        text-align: right;\n",
       "    }\n",
       "</style>\n",
       "<table border=\"1\" class=\"dataframe\">\n",
       "  <thead>\n",
       "    <tr style=\"text-align: right;\">\n",
       "      <th></th>\n",
       "      <th>offer_completed</th>\n",
       "      <th>time_received</th>\n",
       "      <th>time_viewed</th>\n",
       "      <th>time_completed</th>\n",
       "      <th>received_viewed</th>\n",
       "      <th>viewed_completed</th>\n",
       "      <th>received_completed_diff</th>\n",
       "      <th>duration_hr</th>\n",
       "      <th>duration_diff</th>\n",
       "      <th>reward</th>\n",
       "      <th>reward_received</th>\n",
       "    </tr>\n",
       "  </thead>\n",
       "  <tbody>\n",
       "  </tbody>\n",
       "</table>\n",
       "</div>"
      ],
      "text/plain": [
       "Empty DataFrame\n",
       "Columns: [offer_completed, time_received, time_viewed, time_completed, received_viewed, viewed_completed, received_completed_diff, duration_hr, duration_diff, reward, reward_received]\n",
       "Index: []"
      ]
     },
     "execution_count": 21,
     "metadata": {},
     "output_type": "execute_result"
    }
   ],
   "source": [
    "ml_df[(ml_df.offer_completed == 0) & (ml_df.reward_received > 0)][['offer_completed','time_received', 'time_viewed', 'time_completed', 'received_viewed', 'viewed_completed', 'received_completed_diff', 'duration_hr', 'duration_diff', 'reward', 'reward_received']]"
   ]
  },
  {
   "cell_type": "markdown",
   "id": "0e828657-b95b-4395-b4a4-4bec69435047",
   "metadata": {
    "tags": []
   },
   "source": [
    "**duration_diff is the difference between received_completed and the duration_hr.**\n",
    "* offer_completed == 1, duration_diff >= 0, but reward_received == 0.\n",
    "* offer_completed == 1, duration_diff < 0, but reward_received > 0."
   ]
  },
  {
   "cell_type": "code",
   "execution_count": 22,
   "id": "de7dc546-f4a0-422f-ae21-3be632604230",
   "metadata": {
    "tags": []
   },
   "outputs": [
    {
     "data": {
      "text/html": [
       "<div>\n",
       "<style scoped>\n",
       "    .dataframe tbody tr th:only-of-type {\n",
       "        vertical-align: middle;\n",
       "    }\n",
       "\n",
       "    .dataframe tbody tr th {\n",
       "        vertical-align: top;\n",
       "    }\n",
       "\n",
       "    .dataframe thead th {\n",
       "        text-align: right;\n",
       "    }\n",
       "</style>\n",
       "<table border=\"1\" class=\"dataframe\">\n",
       "  <thead>\n",
       "    <tr style=\"text-align: right;\">\n",
       "      <th></th>\n",
       "      <th>offer_completed</th>\n",
       "      <th>time_received</th>\n",
       "      <th>time_viewed</th>\n",
       "      <th>time_completed</th>\n",
       "      <th>received_viewed</th>\n",
       "      <th>viewed_completed</th>\n",
       "      <th>received_completed_diff</th>\n",
       "      <th>duration_hr</th>\n",
       "      <th>duration_diff</th>\n",
       "      <th>reward</th>\n",
       "      <th>reward_received</th>\n",
       "    </tr>\n",
       "  </thead>\n",
       "  <tbody>\n",
       "  </tbody>\n",
       "</table>\n",
       "</div>"
      ],
      "text/plain": [
       "Empty DataFrame\n",
       "Columns: [offer_completed, time_received, time_viewed, time_completed, received_viewed, viewed_completed, received_completed_diff, duration_hr, duration_diff, reward, reward_received]\n",
       "Index: []"
      ]
     },
     "execution_count": 22,
     "metadata": {},
     "output_type": "execute_result"
    }
   ],
   "source": [
    "ml_df[(ml_df.offer_completed == 1) & (ml_df.duration_diff >= 0) & (ml_df.reward_received == 0)][['offer_completed','time_received', 'time_viewed', 'time_completed', 'received_viewed', 'viewed_completed', 'received_completed_diff', 'duration_hr', 'duration_diff', 'reward', 'reward_received']]"
   ]
  },
  {
   "cell_type": "code",
   "execution_count": 23,
   "id": "d8aa0385-0580-4222-808a-f52ea86e5620",
   "metadata": {
    "tags": []
   },
   "outputs": [],
   "source": [
    "completed_after_duration = ml_df[(ml_df.offer_completed == 1) & (ml_df.duration_diff < 0) & (ml_df.reward_received > 0)][['offer_completed','time_received', 'time_viewed', 'time_completed', 'received_viewed', 'viewed_completed', 'received_completed_diff', 'duration_hr', 'duration_diff', 'reward', 'reward_received']].index\n",
    "ml_df.drop(index = completed_after_duration, inplace = True)"
   ]
  },
  {
   "cell_type": "code",
   "execution_count": 24,
   "id": "907e7889-316f-4910-8aeb-e9a12b07f608",
   "metadata": {
    "tags": []
   },
   "outputs": [
    {
     "data": {
      "text/html": [
       "<div>\n",
       "<style scoped>\n",
       "    .dataframe tbody tr th:only-of-type {\n",
       "        vertical-align: middle;\n",
       "    }\n",
       "\n",
       "    .dataframe tbody tr th {\n",
       "        vertical-align: top;\n",
       "    }\n",
       "\n",
       "    .dataframe thead th {\n",
       "        text-align: right;\n",
       "    }\n",
       "</style>\n",
       "<table border=\"1\" class=\"dataframe\">\n",
       "  <thead>\n",
       "    <tr style=\"text-align: right;\">\n",
       "      <th></th>\n",
       "      <th>age</th>\n",
       "      <th>gender</th>\n",
       "      <th>income</th>\n",
       "      <th>became_member_on</th>\n",
       "      <th>membership_duration</th>\n",
       "      <th>person</th>\n",
       "      <th>offer_received</th>\n",
       "      <th>time_received</th>\n",
       "      <th>offer_id</th>\n",
       "      <th>offer_viewed</th>\n",
       "      <th>...</th>\n",
       "      <th>channels</th>\n",
       "      <th>web</th>\n",
       "      <th>email</th>\n",
       "      <th>social</th>\n",
       "      <th>mobile</th>\n",
       "      <th>duration_hr</th>\n",
       "      <th>received_viewed</th>\n",
       "      <th>viewed_completed</th>\n",
       "      <th>received_completed_diff</th>\n",
       "      <th>duration_diff</th>\n",
       "    </tr>\n",
       "  </thead>\n",
       "  <tbody>\n",
       "    <tr>\n",
       "      <th>3</th>\n",
       "      <td>75</td>\n",
       "      <td>F</td>\n",
       "      <td>100000.0</td>\n",
       "      <td>2017-05-09</td>\n",
       "      <td>443</td>\n",
       "      <td>78afa995795e4d85b5d9ceeca43f5fef</td>\n",
       "      <td>1</td>\n",
       "      <td>168</td>\n",
       "      <td>5a8bc65990b245e5a138643cd4eb9837</td>\n",
       "      <td>1</td>\n",
       "      <td>...</td>\n",
       "      <td>['email', 'mobile', 'social']</td>\n",
       "      <td>0</td>\n",
       "      <td>1</td>\n",
       "      <td>1</td>\n",
       "      <td>1</td>\n",
       "      <td>72</td>\n",
       "      <td>48.0</td>\n",
       "      <td>-216.0</td>\n",
       "      <td>-168.0</td>\n",
       "      <td>240.0</td>\n",
       "    </tr>\n",
       "    <tr>\n",
       "      <th>6</th>\n",
       "      <td>68</td>\n",
       "      <td>M</td>\n",
       "      <td>70000.0</td>\n",
       "      <td>2018-04-26</td>\n",
       "      <td>91</td>\n",
       "      <td>e2127556f4f64592b11af22de27a7932</td>\n",
       "      <td>1</td>\n",
       "      <td>0</td>\n",
       "      <td>2906b810c7d4411798c6938adc9daaa5</td>\n",
       "      <td>1</td>\n",
       "      <td>...</td>\n",
       "      <td>['web', 'email', 'mobile']</td>\n",
       "      <td>1</td>\n",
       "      <td>1</td>\n",
       "      <td>0</td>\n",
       "      <td>1</td>\n",
       "      <td>168</td>\n",
       "      <td>18.0</td>\n",
       "      <td>-18.0</td>\n",
       "      <td>0.0</td>\n",
       "      <td>168.0</td>\n",
       "    </tr>\n",
       "    <tr>\n",
       "      <th>25</th>\n",
       "      <td>58</td>\n",
       "      <td>M</td>\n",
       "      <td>51000.0</td>\n",
       "      <td>2017-11-11</td>\n",
       "      <td>257</td>\n",
       "      <td>2eeac8d8feae4a8cad5a6af0499a211d</td>\n",
       "      <td>1</td>\n",
       "      <td>168</td>\n",
       "      <td>2298d6c36e964ae4a3e7e9706d1fb8c2</td>\n",
       "      <td>1</td>\n",
       "      <td>...</td>\n",
       "      <td>['web', 'email', 'mobile', 'social']</td>\n",
       "      <td>1</td>\n",
       "      <td>1</td>\n",
       "      <td>1</td>\n",
       "      <td>1</td>\n",
       "      <td>168</td>\n",
       "      <td>0.0</td>\n",
       "      <td>-168.0</td>\n",
       "      <td>-168.0</td>\n",
       "      <td>336.0</td>\n",
       "    </tr>\n",
       "    <tr>\n",
       "      <th>27</th>\n",
       "      <td>61</td>\n",
       "      <td>F</td>\n",
       "      <td>57000.0</td>\n",
       "      <td>2017-09-11</td>\n",
       "      <td>318</td>\n",
       "      <td>aa4862eba776480b8bb9c68455b8c2e1</td>\n",
       "      <td>1</td>\n",
       "      <td>0</td>\n",
       "      <td>0b1e1539f2cc45b7b9fa7c272da2e1d7</td>\n",
       "      <td>1</td>\n",
       "      <td>...</td>\n",
       "      <td>['web', 'email']</td>\n",
       "      <td>1</td>\n",
       "      <td>1</td>\n",
       "      <td>0</td>\n",
       "      <td>0</td>\n",
       "      <td>240</td>\n",
       "      <td>18.0</td>\n",
       "      <td>-18.0</td>\n",
       "      <td>0.0</td>\n",
       "      <td>240.0</td>\n",
       "    </tr>\n",
       "    <tr>\n",
       "      <th>29</th>\n",
       "      <td>61</td>\n",
       "      <td>F</td>\n",
       "      <td>57000.0</td>\n",
       "      <td>2017-09-11</td>\n",
       "      <td>318</td>\n",
       "      <td>aa4862eba776480b8bb9c68455b8c2e1</td>\n",
       "      <td>1</td>\n",
       "      <td>336</td>\n",
       "      <td>5a8bc65990b245e5a138643cd4eb9837</td>\n",
       "      <td>1</td>\n",
       "      <td>...</td>\n",
       "      <td>['email', 'mobile', 'social']</td>\n",
       "      <td>0</td>\n",
       "      <td>1</td>\n",
       "      <td>1</td>\n",
       "      <td>1</td>\n",
       "      <td>72</td>\n",
       "      <td>0.0</td>\n",
       "      <td>-336.0</td>\n",
       "      <td>-336.0</td>\n",
       "      <td>408.0</td>\n",
       "    </tr>\n",
       "    <tr>\n",
       "      <th>...</th>\n",
       "      <td>...</td>\n",
       "      <td>...</td>\n",
       "      <td>...</td>\n",
       "      <td>...</td>\n",
       "      <td>...</td>\n",
       "      <td>...</td>\n",
       "      <td>...</td>\n",
       "      <td>...</td>\n",
       "      <td>...</td>\n",
       "      <td>...</td>\n",
       "      <td>...</td>\n",
       "      <td>...</td>\n",
       "      <td>...</td>\n",
       "      <td>...</td>\n",
       "      <td>...</td>\n",
       "      <td>...</td>\n",
       "      <td>...</td>\n",
       "      <td>...</td>\n",
       "      <td>...</td>\n",
       "      <td>...</td>\n",
       "      <td>...</td>\n",
       "    </tr>\n",
       "    <tr>\n",
       "      <th>102677</th>\n",
       "      <td>45</td>\n",
       "      <td>F</td>\n",
       "      <td>54000.0</td>\n",
       "      <td>2018-06-04</td>\n",
       "      <td>52</td>\n",
       "      <td>6d5f3a774f3d4714ab0c092238f3a1d7</td>\n",
       "      <td>1</td>\n",
       "      <td>336</td>\n",
       "      <td>4d5c57ea9a6940dd891ad53e9dbe8da0</td>\n",
       "      <td>1</td>\n",
       "      <td>...</td>\n",
       "      <td>['web', 'email', 'mobile', 'social']</td>\n",
       "      <td>1</td>\n",
       "      <td>1</td>\n",
       "      <td>1</td>\n",
       "      <td>1</td>\n",
       "      <td>120</td>\n",
       "      <td>66.0</td>\n",
       "      <td>-402.0</td>\n",
       "      <td>-336.0</td>\n",
       "      <td>456.0</td>\n",
       "    </tr>\n",
       "    <tr>\n",
       "      <th>102678</th>\n",
       "      <td>45</td>\n",
       "      <td>F</td>\n",
       "      <td>54000.0</td>\n",
       "      <td>2018-06-04</td>\n",
       "      <td>52</td>\n",
       "      <td>6d5f3a774f3d4714ab0c092238f3a1d7</td>\n",
       "      <td>1</td>\n",
       "      <td>408</td>\n",
       "      <td>5a8bc65990b245e5a138643cd4eb9837</td>\n",
       "      <td>1</td>\n",
       "      <td>...</td>\n",
       "      <td>['email', 'mobile', 'social']</td>\n",
       "      <td>0</td>\n",
       "      <td>1</td>\n",
       "      <td>1</td>\n",
       "      <td>1</td>\n",
       "      <td>72</td>\n",
       "      <td>54.0</td>\n",
       "      <td>-462.0</td>\n",
       "      <td>-408.0</td>\n",
       "      <td>480.0</td>\n",
       "    </tr>\n",
       "    <tr>\n",
       "      <th>102679</th>\n",
       "      <td>45</td>\n",
       "      <td>F</td>\n",
       "      <td>54000.0</td>\n",
       "      <td>2018-06-04</td>\n",
       "      <td>52</td>\n",
       "      <td>6d5f3a774f3d4714ab0c092238f3a1d7</td>\n",
       "      <td>1</td>\n",
       "      <td>576</td>\n",
       "      <td>2298d6c36e964ae4a3e7e9706d1fb8c2</td>\n",
       "      <td>1</td>\n",
       "      <td>...</td>\n",
       "      <td>['web', 'email', 'mobile', 'social']</td>\n",
       "      <td>1</td>\n",
       "      <td>1</td>\n",
       "      <td>1</td>\n",
       "      <td>1</td>\n",
       "      <td>168</td>\n",
       "      <td>12.0</td>\n",
       "      <td>-588.0</td>\n",
       "      <td>-576.0</td>\n",
       "      <td>744.0</td>\n",
       "    </tr>\n",
       "    <tr>\n",
       "      <th>102680</th>\n",
       "      <td>61</td>\n",
       "      <td>M</td>\n",
       "      <td>72000.0</td>\n",
       "      <td>2018-07-13</td>\n",
       "      <td>13</td>\n",
       "      <td>2cb4f97358b841b9a9773a7aa05a9d77</td>\n",
       "      <td>1</td>\n",
       "      <td>0</td>\n",
       "      <td>5a8bc65990b245e5a138643cd4eb9837</td>\n",
       "      <td>1</td>\n",
       "      <td>...</td>\n",
       "      <td>['email', 'mobile', 'social']</td>\n",
       "      <td>0</td>\n",
       "      <td>1</td>\n",
       "      <td>1</td>\n",
       "      <td>1</td>\n",
       "      <td>72</td>\n",
       "      <td>42.0</td>\n",
       "      <td>-42.0</td>\n",
       "      <td>0.0</td>\n",
       "      <td>72.0</td>\n",
       "    </tr>\n",
       "    <tr>\n",
       "      <th>102685</th>\n",
       "      <td>49</td>\n",
       "      <td>M</td>\n",
       "      <td>73000.0</td>\n",
       "      <td>2017-01-26</td>\n",
       "      <td>546</td>\n",
       "      <td>01d26f638c274aa0b965d24cefe3183f</td>\n",
       "      <td>1</td>\n",
       "      <td>336</td>\n",
       "      <td>5a8bc65990b245e5a138643cd4eb9837</td>\n",
       "      <td>1</td>\n",
       "      <td>...</td>\n",
       "      <td>['email', 'mobile', 'social']</td>\n",
       "      <td>0</td>\n",
       "      <td>1</td>\n",
       "      <td>1</td>\n",
       "      <td>1</td>\n",
       "      <td>72</td>\n",
       "      <td>60.0</td>\n",
       "      <td>-396.0</td>\n",
       "      <td>-336.0</td>\n",
       "      <td>408.0</td>\n",
       "    </tr>\n",
       "  </tbody>\n",
       "</table>\n",
       "<p>25212 rows × 30 columns</p>\n",
       "</div>"
      ],
      "text/plain": [
       "        age gender    income became_member_on  membership_duration  \\\n",
       "3        75      F  100000.0       2017-05-09                  443   \n",
       "6        68      M   70000.0       2018-04-26                   91   \n",
       "25       58      M   51000.0       2017-11-11                  257   \n",
       "27       61      F   57000.0       2017-09-11                  318   \n",
       "29       61      F   57000.0       2017-09-11                  318   \n",
       "...     ...    ...       ...              ...                  ...   \n",
       "102677   45      F   54000.0       2018-06-04                   52   \n",
       "102678   45      F   54000.0       2018-06-04                   52   \n",
       "102679   45      F   54000.0       2018-06-04                   52   \n",
       "102680   61      M   72000.0       2018-07-13                   13   \n",
       "102685   49      M   73000.0       2017-01-26                  546   \n",
       "\n",
       "                                  person  offer_received  time_received  \\\n",
       "3       78afa995795e4d85b5d9ceeca43f5fef               1            168   \n",
       "6       e2127556f4f64592b11af22de27a7932               1              0   \n",
       "25      2eeac8d8feae4a8cad5a6af0499a211d               1            168   \n",
       "27      aa4862eba776480b8bb9c68455b8c2e1               1              0   \n",
       "29      aa4862eba776480b8bb9c68455b8c2e1               1            336   \n",
       "...                                  ...             ...            ...   \n",
       "102677  6d5f3a774f3d4714ab0c092238f3a1d7               1            336   \n",
       "102678  6d5f3a774f3d4714ab0c092238f3a1d7               1            408   \n",
       "102679  6d5f3a774f3d4714ab0c092238f3a1d7               1            576   \n",
       "102680  2cb4f97358b841b9a9773a7aa05a9d77               1              0   \n",
       "102685  01d26f638c274aa0b965d24cefe3183f               1            336   \n",
       "\n",
       "                                offer_id  offer_viewed  ...  \\\n",
       "3       5a8bc65990b245e5a138643cd4eb9837             1  ...   \n",
       "6       2906b810c7d4411798c6938adc9daaa5             1  ...   \n",
       "25      2298d6c36e964ae4a3e7e9706d1fb8c2             1  ...   \n",
       "27      0b1e1539f2cc45b7b9fa7c272da2e1d7             1  ...   \n",
       "29      5a8bc65990b245e5a138643cd4eb9837             1  ...   \n",
       "...                                  ...           ...  ...   \n",
       "102677  4d5c57ea9a6940dd891ad53e9dbe8da0             1  ...   \n",
       "102678  5a8bc65990b245e5a138643cd4eb9837             1  ...   \n",
       "102679  2298d6c36e964ae4a3e7e9706d1fb8c2             1  ...   \n",
       "102680  5a8bc65990b245e5a138643cd4eb9837             1  ...   \n",
       "102685  5a8bc65990b245e5a138643cd4eb9837             1  ...   \n",
       "\n",
       "                                    channels  web  email  social mobile  \\\n",
       "3              ['email', 'mobile', 'social']    0      1       1      1   \n",
       "6                 ['web', 'email', 'mobile']    1      1       0      1   \n",
       "25      ['web', 'email', 'mobile', 'social']    1      1       1      1   \n",
       "27                          ['web', 'email']    1      1       0      0   \n",
       "29             ['email', 'mobile', 'social']    0      1       1      1   \n",
       "...                                      ...  ...    ...     ...    ...   \n",
       "102677  ['web', 'email', 'mobile', 'social']    1      1       1      1   \n",
       "102678         ['email', 'mobile', 'social']    0      1       1      1   \n",
       "102679  ['web', 'email', 'mobile', 'social']    1      1       1      1   \n",
       "102680         ['email', 'mobile', 'social']    0      1       1      1   \n",
       "102685         ['email', 'mobile', 'social']    0      1       1      1   \n",
       "\n",
       "        duration_hr received_viewed  viewed_completed  \\\n",
       "3                72            48.0            -216.0   \n",
       "6               168            18.0             -18.0   \n",
       "25              168             0.0            -168.0   \n",
       "27              240            18.0             -18.0   \n",
       "29               72             0.0            -336.0   \n",
       "...             ...             ...               ...   \n",
       "102677          120            66.0            -402.0   \n",
       "102678           72            54.0            -462.0   \n",
       "102679          168            12.0            -588.0   \n",
       "102680           72            42.0             -42.0   \n",
       "102685           72            60.0            -396.0   \n",
       "\n",
       "        received_completed_diff  duration_diff  \n",
       "3                        -168.0          240.0  \n",
       "6                           0.0          168.0  \n",
       "25                       -168.0          336.0  \n",
       "27                          0.0          240.0  \n",
       "29                       -336.0          408.0  \n",
       "...                         ...            ...  \n",
       "102677                   -336.0          456.0  \n",
       "102678                   -408.0          480.0  \n",
       "102679                   -576.0          744.0  \n",
       "102680                      0.0           72.0  \n",
       "102685                   -336.0          408.0  \n",
       "\n",
       "[25212 rows x 30 columns]"
      ]
     },
     "execution_count": 24,
     "metadata": {},
     "output_type": "execute_result"
    }
   ],
   "source": [
    "ml_df[(ml_df.offer_viewed == 1) & (ml_df.viewed_completed == -(ml_df.time_viewed))]"
   ]
  },
  {
   "cell_type": "markdown",
   "id": "c47c6d75-39e8-40e4-a9ca-e96a528fdd57",
   "metadata": {
    "tags": []
   },
   "source": [
    "**viewed_completed is the time difference between time_viewed and time_completed.**\n",
    "* 1 consideration is that it is possible for an offer to be completed without being viewed. This means that the viewed_completed should be equal to time_completed as this will mean that time_viewed = 0.\n",
    "* time_completed - time_viewed = time_completed if time_viewed = 0.\n",
    "* If viewed_completed is negative but not equal to -(time_viewed) then this means that the time_completed is less than time viewed. The question here is: whether the system takes the time after the offer is completed which was not indicated in the documentation. So under the premise that the system's timer stops at offer completed then this will mean an anomalous data entry."
   ]
  },
  {
   "cell_type": "code",
   "execution_count": 25,
   "id": "de55bd45-d36c-4dda-8b43-2c3a83012f38",
   "metadata": {
    "tags": []
   },
   "outputs": [
    {
     "data": {
      "text/html": [
       "<div>\n",
       "<style scoped>\n",
       "    .dataframe tbody tr th:only-of-type {\n",
       "        vertical-align: middle;\n",
       "    }\n",
       "\n",
       "    .dataframe tbody tr th {\n",
       "        vertical-align: top;\n",
       "    }\n",
       "\n",
       "    .dataframe thead th {\n",
       "        text-align: right;\n",
       "    }\n",
       "</style>\n",
       "<table border=\"1\" class=\"dataframe\">\n",
       "  <thead>\n",
       "    <tr style=\"text-align: right;\">\n",
       "      <th></th>\n",
       "      <th>offer_viewed</th>\n",
       "      <th>offer_completed</th>\n",
       "      <th>time_received</th>\n",
       "      <th>time_viewed</th>\n",
       "      <th>time_completed</th>\n",
       "      <th>received_viewed</th>\n",
       "      <th>viewed_completed</th>\n",
       "      <th>received_completed_diff</th>\n",
       "      <th>duration_hr</th>\n",
       "      <th>duration_diff</th>\n",
       "      <th>reward</th>\n",
       "      <th>reward_received</th>\n",
       "    </tr>\n",
       "  </thead>\n",
       "  <tbody>\n",
       "    <tr>\n",
       "      <th>0</th>\n",
       "      <td>0</td>\n",
       "      <td>1</td>\n",
       "      <td>408</td>\n",
       "      <td>0.0</td>\n",
       "      <td>528.0</td>\n",
       "      <td>-408.0</td>\n",
       "      <td>528.0</td>\n",
       "      <td>120.0</td>\n",
       "      <td>168</td>\n",
       "      <td>48.0</td>\n",
       "      <td>5</td>\n",
       "      <td>5.0</td>\n",
       "    </tr>\n",
       "    <tr>\n",
       "      <th>33</th>\n",
       "      <td>0</td>\n",
       "      <td>1</td>\n",
       "      <td>336</td>\n",
       "      <td>0.0</td>\n",
       "      <td>456.0</td>\n",
       "      <td>-336.0</td>\n",
       "      <td>456.0</td>\n",
       "      <td>120.0</td>\n",
       "      <td>240</td>\n",
       "      <td>120.0</td>\n",
       "      <td>5</td>\n",
       "      <td>5.0</td>\n",
       "    </tr>\n",
       "    <tr>\n",
       "      <th>34</th>\n",
       "      <td>0</td>\n",
       "      <td>1</td>\n",
       "      <td>504</td>\n",
       "      <td>0.0</td>\n",
       "      <td>456.0</td>\n",
       "      <td>-504.0</td>\n",
       "      <td>456.0</td>\n",
       "      <td>-48.0</td>\n",
       "      <td>240</td>\n",
       "      <td>288.0</td>\n",
       "      <td>5</td>\n",
       "      <td>5.0</td>\n",
       "    </tr>\n",
       "    <tr>\n",
       "      <th>66</th>\n",
       "      <td>0</td>\n",
       "      <td>1</td>\n",
       "      <td>504</td>\n",
       "      <td>0.0</td>\n",
       "      <td>516.0</td>\n",
       "      <td>-504.0</td>\n",
       "      <td>516.0</td>\n",
       "      <td>12.0</td>\n",
       "      <td>168</td>\n",
       "      <td>156.0</td>\n",
       "      <td>5</td>\n",
       "      <td>5.0</td>\n",
       "    </tr>\n",
       "    <tr>\n",
       "      <th>100</th>\n",
       "      <td>0</td>\n",
       "      <td>1</td>\n",
       "      <td>576</td>\n",
       "      <td>0.0</td>\n",
       "      <td>600.0</td>\n",
       "      <td>-576.0</td>\n",
       "      <td>600.0</td>\n",
       "      <td>24.0</td>\n",
       "      <td>168</td>\n",
       "      <td>144.0</td>\n",
       "      <td>2</td>\n",
       "      <td>2.0</td>\n",
       "    </tr>\n",
       "    <tr>\n",
       "      <th>...</th>\n",
       "      <td>...</td>\n",
       "      <td>...</td>\n",
       "      <td>...</td>\n",
       "      <td>...</td>\n",
       "      <td>...</td>\n",
       "      <td>...</td>\n",
       "      <td>...</td>\n",
       "      <td>...</td>\n",
       "      <td>...</td>\n",
       "      <td>...</td>\n",
       "      <td>...</td>\n",
       "      <td>...</td>\n",
       "    </tr>\n",
       "    <tr>\n",
       "      <th>102633</th>\n",
       "      <td>0</td>\n",
       "      <td>1</td>\n",
       "      <td>0</td>\n",
       "      <td>0.0</td>\n",
       "      <td>114.0</td>\n",
       "      <td>0.0</td>\n",
       "      <td>114.0</td>\n",
       "      <td>114.0</td>\n",
       "      <td>168</td>\n",
       "      <td>54.0</td>\n",
       "      <td>2</td>\n",
       "      <td>2.0</td>\n",
       "    </tr>\n",
       "    <tr>\n",
       "      <th>102664</th>\n",
       "      <td>0</td>\n",
       "      <td>1</td>\n",
       "      <td>576</td>\n",
       "      <td>0.0</td>\n",
       "      <td>630.0</td>\n",
       "      <td>-576.0</td>\n",
       "      <td>630.0</td>\n",
       "      <td>54.0</td>\n",
       "      <td>168</td>\n",
       "      <td>114.0</td>\n",
       "      <td>5</td>\n",
       "      <td>5.0</td>\n",
       "    </tr>\n",
       "    <tr>\n",
       "      <th>102674</th>\n",
       "      <td>0</td>\n",
       "      <td>1</td>\n",
       "      <td>0</td>\n",
       "      <td>0.0</td>\n",
       "      <td>156.0</td>\n",
       "      <td>0.0</td>\n",
       "      <td>156.0</td>\n",
       "      <td>156.0</td>\n",
       "      <td>168</td>\n",
       "      <td>12.0</td>\n",
       "      <td>2</td>\n",
       "      <td>2.0</td>\n",
       "    </tr>\n",
       "    <tr>\n",
       "      <th>102675</th>\n",
       "      <td>0</td>\n",
       "      <td>1</td>\n",
       "      <td>576</td>\n",
       "      <td>0.0</td>\n",
       "      <td>156.0</td>\n",
       "      <td>-576.0</td>\n",
       "      <td>156.0</td>\n",
       "      <td>-420.0</td>\n",
       "      <td>168</td>\n",
       "      <td>588.0</td>\n",
       "      <td>2</td>\n",
       "      <td>2.0</td>\n",
       "    </tr>\n",
       "    <tr>\n",
       "      <th>102681</th>\n",
       "      <td>0</td>\n",
       "      <td>1</td>\n",
       "      <td>408</td>\n",
       "      <td>0.0</td>\n",
       "      <td>420.0</td>\n",
       "      <td>-408.0</td>\n",
       "      <td>420.0</td>\n",
       "      <td>12.0</td>\n",
       "      <td>168</td>\n",
       "      <td>156.0</td>\n",
       "      <td>5</td>\n",
       "      <td>5.0</td>\n",
       "    </tr>\n",
       "  </tbody>\n",
       "</table>\n",
       "<p>5365 rows × 12 columns</p>\n",
       "</div>"
      ],
      "text/plain": [
       "        offer_viewed  offer_completed  time_received  time_viewed  \\\n",
       "0                  0                1            408          0.0   \n",
       "33                 0                1            336          0.0   \n",
       "34                 0                1            504          0.0   \n",
       "66                 0                1            504          0.0   \n",
       "100                0                1            576          0.0   \n",
       "...              ...              ...            ...          ...   \n",
       "102633             0                1              0          0.0   \n",
       "102664             0                1            576          0.0   \n",
       "102674             0                1              0          0.0   \n",
       "102675             0                1            576          0.0   \n",
       "102681             0                1            408          0.0   \n",
       "\n",
       "        time_completed  received_viewed  viewed_completed  \\\n",
       "0                528.0           -408.0             528.0   \n",
       "33               456.0           -336.0             456.0   \n",
       "34               456.0           -504.0             456.0   \n",
       "66               516.0           -504.0             516.0   \n",
       "100              600.0           -576.0             600.0   \n",
       "...                ...              ...               ...   \n",
       "102633           114.0              0.0             114.0   \n",
       "102664           630.0           -576.0             630.0   \n",
       "102674           156.0              0.0             156.0   \n",
       "102675           156.0           -576.0             156.0   \n",
       "102681           420.0           -408.0             420.0   \n",
       "\n",
       "        received_completed_diff  duration_hr  duration_diff  reward  \\\n",
       "0                         120.0          168           48.0       5   \n",
       "33                        120.0          240          120.0       5   \n",
       "34                        -48.0          240          288.0       5   \n",
       "66                         12.0          168          156.0       5   \n",
       "100                        24.0          168          144.0       2   \n",
       "...                         ...          ...            ...     ...   \n",
       "102633                    114.0          168           54.0       2   \n",
       "102664                     54.0          168          114.0       5   \n",
       "102674                    156.0          168           12.0       2   \n",
       "102675                   -420.0          168          588.0       2   \n",
       "102681                     12.0          168          156.0       5   \n",
       "\n",
       "        reward_received  \n",
       "0                   5.0  \n",
       "33                  5.0  \n",
       "34                  5.0  \n",
       "66                  5.0  \n",
       "100                 2.0  \n",
       "...                 ...  \n",
       "102633              2.0  \n",
       "102664              5.0  \n",
       "102674              2.0  \n",
       "102675              2.0  \n",
       "102681              5.0  \n",
       "\n",
       "[5365 rows x 12 columns]"
      ]
     },
     "execution_count": 25,
     "metadata": {},
     "output_type": "execute_result"
    }
   ],
   "source": [
    "ml_df[(ml_df.offer_viewed == 0) & (ml_df.offer_completed == 1)][['offer_viewed','offer_completed','time_received', 'time_viewed', 'time_completed', 'received_viewed', 'viewed_completed', 'received_completed_diff', 'duration_hr', 'duration_diff', 'reward', 'reward_received']]"
   ]
  },
  {
   "cell_type": "markdown",
   "id": "d89b9163-1d17-4e3d-8a06-5e2e9ae17965",
   "metadata": {},
   "source": [
    "* rewards do not match"
   ]
  },
  {
   "cell_type": "code",
   "execution_count": 26,
   "id": "dd8115be-ad19-4815-899d-0263af30a08b",
   "metadata": {
    "tags": []
   },
   "outputs": [],
   "source": [
    "reward_anomaly = ml_df[(ml_df.reward != ml_df.reward_received) & (ml_df.duration_hr >= ml_df.duration_diff)].index\n",
    "ml_df.drop(index = reward_anomaly, inplace = True)"
   ]
  },
  {
   "cell_type": "code",
   "execution_count": 27,
   "id": "6bbe9b79-ad7b-48b0-94af-dde948df54d8",
   "metadata": {
    "tags": []
   },
   "outputs": [
    {
     "data": {
      "text/plain": [
       "(60610, 30)"
      ]
     },
     "execution_count": 27,
     "metadata": {},
     "output_type": "execute_result"
    }
   ],
   "source": [
    "ml_df.shape"
   ]
  },
  {
   "cell_type": "code",
   "execution_count": 28,
   "id": "02cc7a33-8853-4c0b-92b3-7f3919175485",
   "metadata": {
    "tags": []
   },
   "outputs": [
    {
     "data": {
      "text/plain": [
       "0    30306\n",
       "1    30304\n",
       "Name: offer_completed, dtype: int64"
      ]
     },
     "execution_count": 28,
     "metadata": {},
     "output_type": "execute_result"
    }
   ],
   "source": [
    "ml_df['offer_completed'].value_counts()"
   ]
  },
  {
   "cell_type": "code",
   "execution_count": 29,
   "id": "1e364cbd-8476-488c-90f2-655c1655ff8d",
   "metadata": {
    "tags": []
   },
   "outputs": [
    {
     "data": {
      "text/plain": [
       "1    60610\n",
       "Name: offer_received, dtype: int64"
      ]
     },
     "execution_count": 29,
     "metadata": {},
     "output_type": "execute_result"
    }
   ],
   "source": [
    "ml_df['offer_received'].value_counts()"
   ]
  },
  {
   "cell_type": "code",
   "execution_count": 30,
   "id": "f6055a9c-3403-4bce-8e84-f678f2348b00",
   "metadata": {
    "tags": []
   },
   "outputs": [
    {
     "data": {
      "text/plain": [
       "1    46960\n",
       "0    13650\n",
       "Name: offer_viewed, dtype: int64"
      ]
     },
     "execution_count": 30,
     "metadata": {},
     "output_type": "execute_result"
    }
   ],
   "source": [
    "ml_df['offer_viewed'].value_counts()"
   ]
  },
  {
   "cell_type": "code",
   "execution_count": 31,
   "id": "3f706a18-a5ee-4f28-b980-efdb9c36163f",
   "metadata": {
    "tags": []
   },
   "outputs": [],
   "source": [
    "# ml_df.to_csv('data/cleaned_complete.csv', index = False)"
   ]
  },
  {
   "cell_type": "code",
   "execution_count": 32,
   "id": "16fe8f07-3333-4a85-b2d0-869ea7de6efa",
   "metadata": {
    "tags": []
   },
   "outputs": [],
   "source": [
    "def _transform_column_into_dummies(dataframe, names_of_column):\n",
    "    \n",
    "    to_concat = [dataframe]\n",
    "    \n",
    "    for name in names_of_column:\n",
    "        dummies = pd.get_dummies(dataframe[name], prefix=f\"{name} = \")\n",
    "        to_concat.append(dummies)\n",
    "    \n",
    "    dataframe = pd.concat(to_concat, axis=1)\n",
    "    \n",
    "    dataframe = dataframe.drop(names_of_column, axis=1)\n",
    "    \n",
    "    return dataframe"
   ]
  },
  {
   "cell_type": "code",
   "execution_count": 33,
   "id": "a1c9036e-b439-4c63-9fd4-ca1b9d67eba0",
   "metadata": {
    "tags": []
   },
   "outputs": [],
   "source": [
    "ml_df = _transform_column_into_dummies(ml_df, ['offer_type', 'gender'])"
   ]
  },
  {
   "cell_type": "code",
   "execution_count": 34,
   "id": "77f5d4bd-2b1e-46c6-acaf-7a38375c3675",
   "metadata": {
    "tags": []
   },
   "outputs": [
    {
     "name": "stdout",
     "output_type": "stream",
     "text": [
      "<class 'pandas.core.frame.DataFrame'>\n",
      "Int64Index: 60610 entries, 0 to 102691\n",
      "Data columns (total 34 columns):\n",
      " #   Column                       Non-Null Count  Dtype  \n",
      "---  ------                       --------------  -----  \n",
      " 0   age                          60610 non-null  int64  \n",
      " 1   income                       60610 non-null  float64\n",
      " 2   became_member_on             60610 non-null  object \n",
      " 3   membership_duration          60610 non-null  int64  \n",
      " 4   person                       60610 non-null  object \n",
      " 5   offer_received               60610 non-null  int64  \n",
      " 6   time_received                60610 non-null  int64  \n",
      " 7   offer_id                     60610 non-null  object \n",
      " 8   offer_viewed                 60610 non-null  int64  \n",
      " 9   time_viewed                  60610 non-null  float64\n",
      " 10  offer_completed              60610 non-null  int64  \n",
      " 11  time_completed               60610 non-null  float64\n",
      " 12  reward_received              60610 non-null  float64\n",
      " 13  id                           60610 non-null  object \n",
      " 14  offer                        60610 non-null  int64  \n",
      " 15  difficulty                   60610 non-null  int64  \n",
      " 16  duration                     60610 non-null  int64  \n",
      " 17  reward                       60610 non-null  int64  \n",
      " 18  channels                     60610 non-null  object \n",
      " 19  web                          60610 non-null  int64  \n",
      " 20  email                        60610 non-null  int64  \n",
      " 21  social                       60610 non-null  int64  \n",
      " 22  mobile                       60610 non-null  int64  \n",
      " 23  duration_hr                  60610 non-null  int64  \n",
      " 24  received_viewed              60610 non-null  float64\n",
      " 25  viewed_completed             60610 non-null  float64\n",
      " 26  received_completed_diff      60610 non-null  float64\n",
      " 27  duration_diff                60610 non-null  float64\n",
      " 28  offer_type = _bogo           60610 non-null  uint8  \n",
      " 29  offer_type = _discount       60610 non-null  uint8  \n",
      " 30  offer_type = _informational  60610 non-null  uint8  \n",
      " 31  gender = _F                  60610 non-null  uint8  \n",
      " 32  gender = _M                  60610 non-null  uint8  \n",
      " 33  gender = _O                  60610 non-null  uint8  \n",
      "dtypes: float64(8), int64(15), object(5), uint8(6)\n",
      "memory usage: 13.8+ MB\n"
     ]
    }
   ],
   "source": [
    "ml_df.info()"
   ]
  },
  {
   "cell_type": "code",
   "execution_count": 35,
   "id": "adf05341-2bf9-473b-9837-493dabac531c",
   "metadata": {
    "tags": []
   },
   "outputs": [],
   "source": [
    "ml_df = ml_df.drop(['became_member_on', 'person', 'channels', 'offer_id', 'id', 'duration', 'time_viewed', 'time_received', 'time_completed', 'duration_diff', 'received_completed_diff', 'reward_received', 'offer_received'], axis = 1)"
   ]
  },
  {
   "cell_type": "code",
   "execution_count": 36,
   "id": "e5743261-e18c-459a-a9e2-9aacd97a5a79",
   "metadata": {
    "tags": []
   },
   "outputs": [
    {
     "data": {
      "text/plain": [
       "0    30306\n",
       "1    30304\n",
       "Name: offer_completed, dtype: int64"
      ]
     },
     "execution_count": 36,
     "metadata": {},
     "output_type": "execute_result"
    }
   ],
   "source": [
    "ml_df['offer_completed'].value_counts()"
   ]
  },
  {
   "cell_type": "code",
   "execution_count": 37,
   "id": "c8e29e52-3dd1-4b66-97ad-003cb05c4c2f",
   "metadata": {
    "tags": []
   },
   "outputs": [],
   "source": [
    "# from sklearn.utils import resample\n",
    "# #create two different dataframe of majority and minority class \n",
    "# df_majority = ml_df[(ml_df['offer_completed']==1)] \n",
    "# df_minority = ml_df[(ml_df['offer_completed']==0)] \n",
    "# # upsample minority class\n",
    "# df_minority_upsampled = resample(df_minority, \n",
    "#                                  replace=True,    # sample with replacement\n",
    "#                                  n_samples= 64992, # to match majority class\n",
    "#                                  random_state=42)  # reproducible results\n",
    "# # Combine majority class with upsampled minority class\n",
    "# df_upsampled = pd.concat([df_minority_upsampled, df_majority])\n"
   ]
  },
  {
   "cell_type": "code",
   "execution_count": 37,
   "id": "863c55d4-1ad3-469c-a043-98f59baad507",
   "metadata": {
    "tags": []
   },
   "outputs": [],
   "source": [
    "# df_upsampled['offer_completed'].value_counts()"
   ]
  },
  {
   "cell_type": "code",
   "execution_count": 38,
   "id": "29e0b157-fd99-4ced-a66c-f00a345111d2",
   "metadata": {
    "tags": []
   },
   "outputs": [],
   "source": [
    "# ml_df['offer_completed'].value_counts()"
   ]
  },
  {
   "cell_type": "code",
   "execution_count": 39,
   "id": "6af6bb1d-3492-4dc9-8119-af308c300d95",
   "metadata": {
    "tags": []
   },
   "outputs": [],
   "source": [
    "# X = df_upsampled.drop('offer_completed', axis = 1)\n",
    "# y = df_upsampled['offer_completed']"
   ]
  },
  {
   "cell_type": "code",
   "execution_count": 38,
   "id": "40cda40a-4269-4c48-8901-7cf0477ace65",
   "metadata": {
    "tags": []
   },
   "outputs": [],
   "source": [
    "X = ml_df.drop('offer_completed', axis = 1)\n",
    "y = ml_df['offer_completed']"
   ]
  },
  {
   "cell_type": "code",
   "execution_count": 39,
   "id": "0b918a0b-ddea-445f-ae4d-1b319bf63bf5",
   "metadata": {
    "tags": []
   },
   "outputs": [],
   "source": [
    "from sklearn.model_selection import train_test_split\n",
    "\n",
    "X_train, X_test, y_train, y_test = train_test_split(X, y, test_size=0.2, random_state=1, shuffle = True)\n",
    "\n",
    "X_train, X_val, y_train, y_val = train_test_split(X_train, y_train, test_size=0.25, random_state=1, shuffle = True) # 0.25 x 0.8 = 0.2"
   ]
  },
  {
   "cell_type": "code",
   "execution_count": 69,
   "id": "549cd310-6444-40b8-b962-d86982cee84c",
   "metadata": {},
   "outputs": [],
   "source": [
    "from sklearn import tree\n",
    "tree_clf = tree.DecisionTreeClassifier()\n",
    "tree_clf = tree_clf.fit(X_train, y_train)"
   ]
  },
  {
   "cell_type": "code",
   "execution_count": 70,
   "id": "34e514cb-2c1c-484f-b373-d825ee45077a",
   "metadata": {
    "tags": []
   },
   "outputs": [],
   "source": [
    "tree_pred = tree_clf.predict(X_test)"
   ]
  },
  {
   "cell_type": "code",
   "execution_count": 71,
   "id": "732f72c8-0a82-41e5-96b6-f121d463ffde",
   "metadata": {
    "tags": []
   },
   "outputs": [],
   "source": [
    "tree_f1 = f1_score(tree_pred, y_test)"
   ]
  },
  {
   "cell_type": "code",
   "execution_count": 72,
   "id": "ece507ce-a4fc-4d81-9920-6f5c501545fa",
   "metadata": {
    "tags": []
   },
   "outputs": [],
   "source": [
    "tree_roc = roc_auc_score(tree_pred, y_test)"
   ]
  },
  {
   "cell_type": "code",
   "execution_count": 73,
   "id": "952cc853-3082-4635-be83-8ca163853776",
   "metadata": {
    "tags": []
   },
   "outputs": [
    {
     "name": "stdout",
     "output_type": "stream",
     "text": [
      "0.9995085190039319 0.9995050072586957\n"
     ]
    }
   ],
   "source": [
    "print(tree_f1, tree_roc)"
   ]
  },
  {
   "cell_type": "code",
   "execution_count": 74,
   "id": "f797c04a-87a5-4e91-a626-c11417dd898e",
   "metadata": {
    "tags": []
   },
   "outputs": [
    {
     "data": {
      "text/plain": [
       "Text(50.722222222222214, 0.5, 'True labels')"
      ]
     },
     "execution_count": 74,
     "metadata": {},
     "output_type": "execute_result"
    },
    {
     "data": {
      "image/png": "[encoded data removed]",
      "text/plain": [
       "<Figure size 640x480 with 2 Axes>"
      ]
     },
     "metadata": {},
     "output_type": "display_data"
    }
   ],
   "source": [
    "import seaborn as sns\n",
    "import matplotlib.pyplot as plt\n",
    "from sklearn.metrics import confusion_matrix\n",
    "\n",
    "# calculate confusion matrix\n",
    "tree_cm = confusion_matrix(y_test, tree_pred)\n",
    "\n",
    "# plot confusion matrix using seaborn heatmap\n",
    "sns.heatmap(tree_cm, annot=True, cmap='Blues', fmt='g')\n",
    "\n",
    "# set axis labels\n",
    "plt.xlabel('Predicted labels')\n",
    "plt.ylabel('True labels')\n"
   ]
  },
  {
   "cell_type": "code",
   "execution_count": 58,
   "id": "b6ee1427-4b85-4640-8931-9c81c8762bf9",
   "metadata": {
    "tags": []
   },
   "outputs": [
    {
     "name": "stdout",
     "output_type": "stream",
     "text": [
      "Feature ranking:\n",
      "1. feature 13 age (0.851063)\n",
      "2. feature 3 income (0.122966)\n",
      "3. feature 5 membership_duration (0.016996)\n",
      "4. feature 6 offer_viewed (0.005152)\n",
      "5. feature 16 offer (0.001876)\n",
      "6. feature 11 difficulty (0.001093)\n",
      "7. feature 12 reward (0.000412)\n",
      "8. feature 0 web (0.000185)\n",
      "9. feature 15 email (0.000111)\n",
      "10. feature 2 social (0.000110)\n",
      "11. feature 1 mobile (0.000035)\n",
      "12. feature 14 duration_hr (0.000000)\n",
      "13. feature 4 received_viewed (0.000000)\n",
      "14. feature 19 viewed_completed (0.000000)\n",
      "15. feature 7 offer_type = _bogo (0.000000)\n",
      "16. feature 8 offer_type = _discount (0.000000)\n",
      "17. feature 18 offer_type = _informational (0.000000)\n",
      "18. feature 10 gender = _F (0.000000)\n",
      "19. feature 17 gender = _M (0.000000)\n",
      "20. feature 9 gender = _O (0.000000)\n"
     ]
    },
    {
     "data": {
      "image/png": "[encoded data removed]",
      "text/plain": [
       "<Figure size 640x480 with 1 Axes>"
      ]
     },
     "metadata": {},
     "output_type": "display_data"
    }
   ],
   "source": [
    "# get feature importances\n",
    "tree_importances = tree_clf.feature_importances_\n",
    "\n",
    "# sort feature importances in descending order\n",
    "indices = np.argsort(tree_importances)[::-1]\n",
    "\n",
    "# print out the feature ranking\n",
    "print(\"Feature ranking:\")\n",
    "for f in range(X.shape[1]):\n",
    "    print(\"%d. feature %d %s (%f)\" % (f + 1, indices[f], X.columns[f], tree_importances[indices[f]]))\n",
    "\n",
    "# plot the feature importances\n",
    "plt.title(\"Feature importances\")\n",
    "plt.bar(range(X.shape[1]), tree_importances[indices])\n",
    "plt.xticks(range(X.shape[1]), indices)\n",
    "plt.show()\n"
   ]
  },
  {
   "cell_type": "code",
   "execution_count": 75,
   "id": "872091bd-aaee-43c5-b0ea-032ec59334c3",
   "metadata": {},
   "outputs": [],
   "source": [
    "from sklearn.ensemble import RandomForestClassifier\n",
    "forest_clf = RandomForestClassifier(max_depth=2, random_state=0)\n",
    "forest_clf = forest_clf.fit(X_train, y_train)"
   ]
  },
  {
   "cell_type": "code",
   "execution_count": 76,
   "id": "93338493-4e77-4bf8-849a-ebc344f13be6",
   "metadata": {
    "tags": []
   },
   "outputs": [],
   "source": [
    "forest_pred = forest_clf.predict(X_test)"
   ]
  },
  {
   "cell_type": "code",
   "execution_count": 77,
   "id": "c8b3609f-2920-4ba4-afc2-bf6287deb7b5",
   "metadata": {
    "tags": []
   },
   "outputs": [],
   "source": [
    "forest_f1 = f1_score(forest_pred, y_test)"
   ]
  },
  {
   "cell_type": "code",
   "execution_count": 78,
   "id": "adfddeef-b235-46cb-bc83-83c209b488de",
   "metadata": {
    "tags": []
   },
   "outputs": [],
   "source": [
    "forest_roc = roc_auc_score(forest_pred, y_test)"
   ]
  },
  {
   "cell_type": "code",
   "execution_count": 79,
   "id": "e365589c-6c5d-4b1a-9aee-88252195894d",
   "metadata": {
    "tags": []
   },
   "outputs": [
    {
     "name": "stdout",
     "output_type": "stream",
     "text": [
      "0.9487643158529233 0.955012853470437\n"
     ]
    }
   ],
   "source": [
    "print(forest_f1, forest_roc)"
   ]
  },
  {
   "cell_type": "code",
   "execution_count": 80,
   "id": "dee77970-f4fb-42f4-b13f-09ef079ee745",
   "metadata": {
    "tags": []
   },
   "outputs": [
    {
     "data": {
      "text/plain": [
       "Text(50.722222222222214, 0.5, 'True labels')"
      ]
     },
     "execution_count": 80,
     "metadata": {},
     "output_type": "execute_result"
    },
    {
     "data": {
      "image/png": "[encoded data removed]",
      "text/plain": [
       "<Figure size 640x480 with 2 Axes>"
      ]
     },
     "metadata": {},
     "output_type": "display_data"
    }
   ],
   "source": [
    "# calculate confusion matrix\n",
    "forest_cm = confusion_matrix(y_test, forest_pred)\n",
    "\n",
    "# plot confusion matrix using seaborn heatmap\n",
    "sns.heatmap(forest_cm, annot=True, cmap='Blues', fmt='g')\n",
    "\n",
    "# set axis labels\n",
    "plt.xlabel('Predicted labels')\n",
    "plt.ylabel('True labels')"
   ]
  },
  {
   "cell_type": "code",
   "execution_count": 81,
   "id": "76ac1793-da74-47f8-bb0a-359e3b6445e6",
   "metadata": {
    "tags": []
   },
   "outputs": [
    {
     "name": "stdout",
     "output_type": "stream",
     "text": [
      "Feature ranking:\n",
      "1. feature 13 age (0.399262)\n",
      "2. feature 11 income (0.144901)\n",
      "3. feature 6 membership_duration (0.132682)\n",
      "4. feature 5 offer_viewed (0.102562)\n",
      "5. feature 16 offer (0.091316)\n",
      "6. feature 15 difficulty (0.036401)\n",
      "7. feature 2 reward (0.033686)\n",
      "8. feature 12 web (0.013563)\n",
      "9. feature 7 email (0.010875)\n",
      "10. feature 1 social (0.008771)\n",
      "11. feature 14 mobile (0.008196)\n",
      "12. feature 4 duration_hr (0.006840)\n",
      "13. feature 18 received_viewed (0.005123)\n",
      "14. feature 17 viewed_completed (0.004086)\n",
      "15. feature 3 offer_type = _bogo (0.001388)\n",
      "16. feature 0 offer_type = _discount (0.000348)\n",
      "17. feature 19 offer_type = _informational (0.000000)\n",
      "18. feature 8 gender = _F (0.000000)\n",
      "19. feature 10 gender = _M (0.000000)\n",
      "20. feature 9 gender = _O (0.000000)\n"
     ]
    },
    {
     "data": {
      "image/png": "[encoded data removed]",
      "text/plain": [
       "<Figure size 640x480 with 1 Axes>"
      ]
     },
     "metadata": {},
     "output_type": "display_data"
    }
   ],
   "source": [
    "# get feature importances\n",
    "forest_importances = forest_clf.feature_importances_\n",
    "\n",
    "# sort feature importances in descending order\n",
    "indices = np.argsort(forest_importances)[::-1]\n",
    "\n",
    "# print out the feature ranking\n",
    "print(\"Feature ranking:\")\n",
    "for f in range(X.shape[1]):\n",
    "    print(\"%d. feature %d %s (%f)\" % (f + 1, indices[f], X.columns[f], forest_importances[indices[f]]))\n",
    "\n",
    "# plot the feature importances\n",
    "plt.title(\"Feature importances\")\n",
    "plt.bar(range(X.shape[1]), forest_importances[indices])\n",
    "plt.xticks(range(X.shape[1]), indices)\n",
    "plt.show()\n"
   ]
  },
  {
   "cell_type": "code",
   "execution_count": 52,
   "id": "495dabf7-7c10-4a90-aedf-ed505ed5360a",
   "metadata": {
    "tags": []
   },
   "outputs": [],
   "source": [
    "from xgboost import XGBClassifier\n",
    "xgb_clf = XGBClassifier(n_estimators=2, max_depth=2, learning_rate=1, objective='binary:logistic')\n",
    "xgb_clf = xgb_clf.fit(X_train, y_train)"
   ]
  },
  {
   "cell_type": "code",
   "execution_count": 53,
   "id": "173102f5-e911-4dad-a84e-fcb8592e916f",
   "metadata": {
    "tags": []
   },
   "outputs": [],
   "source": [
    "xgb_pred = xgb_clf.predict(X_test)"
   ]
  },
  {
   "cell_type": "code",
   "execution_count": 54,
   "id": "5568597c-5c36-4537-a6b1-454b6b1f3581",
   "metadata": {
    "tags": []
   },
   "outputs": [],
   "source": [
    "xgb_f1 = f1_score(xgb_pred, y_test)"
   ]
  },
  {
   "cell_type": "code",
   "execution_count": 55,
   "id": "7a791620-6f1e-4bd8-8534-f3895245fcc4",
   "metadata": {
    "tags": []
   },
   "outputs": [],
   "source": [
    "xgb_roc = roc_auc_score(xgb_pred, y_test)"
   ]
  },
  {
   "cell_type": "code",
   "execution_count": 56,
   "id": "b3a4e8f0-f42b-476c-aecf-9ebe6c211e82",
   "metadata": {
    "tags": []
   },
   "outputs": [
    {
     "name": "stdout",
     "output_type": "stream",
     "text": [
      "0.9487643158529233 0.955012853470437\n"
     ]
    }
   ],
   "source": [
    "print(xgb_f1, xgb_roc)"
   ]
  },
  {
   "cell_type": "code",
   "execution_count": 82,
   "id": "50c64c74-6d33-486b-a2e2-7f5002893a3b",
   "metadata": {
    "tags": []
   },
   "outputs": [
    {
     "data": {
      "text/plain": [
       "Text(50.722222222222214, 0.5, 'True labels')"
      ]
     },
     "execution_count": 82,
     "metadata": {},
     "output_type": "execute_result"
    },
    {
     "data": {
      "image/png": "[encoded data removed]",
      "text/plain": [
       "<Figure size 640x480 with 2 Axes>"
      ]
     },
     "metadata": {},
     "output_type": "display_data"
    }
   ],
   "source": [
    "# calculate confusion matrix\n",
    "xgb_cm = confusion_matrix(y_test, xgb_pred)\n",
    "\n",
    "# plot confusion matrix using seaborn heatmap\n",
    "sns.heatmap(xgb_cm, annot=True, cmap='Blues', fmt='g')\n",
    "\n",
    "# set axis labels\n",
    "plt.xlabel('Predicted labels')\n",
    "plt.ylabel('True labels')"
   ]
  },
  {
   "cell_type": "code",
   "execution_count": 49,
   "id": "1cd38d46-5b4c-4b43-ab04-7f63555cac54",
   "metadata": {
    "tags": []
   },
   "outputs": [
    {
     "name": "stdout",
     "output_type": "stream",
     "text": [
      "Feature ranking:\n",
      "1. feature 13 age (0.928985)\n",
      "2. feature 3 income (0.071015)\n",
      "3. feature 19 membership_duration (0.000000)\n",
      "4. feature 8 offer_viewed (0.000000)\n",
      "5. feature 1 offer (0.000000)\n",
      "6. feature 2 difficulty (0.000000)\n",
      "7. feature 4 reward (0.000000)\n",
      "8. feature 5 web (0.000000)\n",
      "9. feature 6 email (0.000000)\n",
      "10. feature 7 social (0.000000)\n",
      "11. feature 9 mobile (0.000000)\n",
      "12. feature 18 duration_hr (0.000000)\n",
      "13. feature 10 received_viewed (0.000000)\n",
      "14. feature 11 viewed_completed (0.000000)\n",
      "15. feature 12 offer_type = _bogo (0.000000)\n",
      "16. feature 14 offer_type = _discount (0.000000)\n",
      "17. feature 15 offer_type = _informational (0.000000)\n",
      "18. feature 16 gender = _F (0.000000)\n",
      "19. feature 17 gender = _M (0.000000)\n",
      "20. feature 0 gender = _O (0.000000)\n"
     ]
    },
    {
     "data": {
      "image/png": "[encoded data removed]",
      "text/plain": [
       "<Figure size 640x480 with 1 Axes>"
      ]
     },
     "metadata": {},
     "output_type": "display_data"
    }
   ],
   "source": [
    "# get feature importances\n",
    "xgb_importances = xgb_clf.feature_importances_\n",
    "\n",
    "# sort feature importances in descending order\n",
    "indices = np.argsort(xgb_importances)[::-1]\n",
    "\n",
    "# print out the feature ranking\n",
    "print(\"Feature ranking:\")\n",
    "for f in range(X.shape[1]):\n",
    "    print(\"%d. feature %d %s (%f)\" % (f + 1, indices[f], X.columns[f], xgb_importances[indices[f]]))\n",
    "\n",
    "# plot the feature importances\n",
    "plt.title(\"Feature importances\")\n",
    "plt.bar(range(X.shape[1]), xgb_importances[indices])\n",
    "plt.xticks(range(X.shape[1]), indices)\n",
    "plt.show()"
   ]
  },
  {
   "cell_type": "code",
   "execution_count": 61,
   "id": "59e58672-8ee9-49fd-afa8-e2551d860227",
   "metadata": {
    "tags": []
   },
   "outputs": [],
   "source": [
    "import lightgbm as lgb\n",
    "lgb_clf = lgb.LGBMClassifier()\n",
    "lgb_clf = lgb_clf.fit(X_train, y_train)"
   ]
  },
  {
   "cell_type": "code",
   "execution_count": 62,
   "id": "c19e546a-40ec-4fa4-8dc1-578ae1ee3992",
   "metadata": {
    "tags": []
   },
   "outputs": [],
   "source": [
    "lgb_pred = lgb_clf.predict(X_test)"
   ]
  },
  {
   "cell_type": "code",
   "execution_count": 63,
   "id": "87260b85-e44b-4379-83fc-771473c616d5",
   "metadata": {
    "tags": []
   },
   "outputs": [],
   "source": [
    "lgb_f1 = f1_score(lgb_pred, y_test)"
   ]
  },
  {
   "cell_type": "code",
   "execution_count": 64,
   "id": "166352fb-9a28-49d2-9326-4c7884747b85",
   "metadata": {
    "tags": []
   },
   "outputs": [],
   "source": [
    "lgb_roc = f1_score(lgb_pred, y_test)"
   ]
  },
  {
   "cell_type": "code",
   "execution_count": 65,
   "id": "1ae50a12-8cde-46b6-a9ee-29d86be058cc",
   "metadata": {
    "tags": []
   },
   "outputs": [
    {
     "name": "stdout",
     "output_type": "stream",
     "text": [
      "0.9998361461576275 0.9998361461576275\n"
     ]
    }
   ],
   "source": [
    "print(lgb_f1, lgb_roc)"
   ]
  },
  {
   "cell_type": "code",
   "execution_count": 83,
   "id": "2647e060-a2c0-4341-9473-561af368d552",
   "metadata": {
    "tags": []
   },
   "outputs": [
    {
     "data": {
      "text/plain": [
       "Text(50.722222222222214, 0.5, 'True labels')"
      ]
     },
     "execution_count": 83,
     "metadata": {},
     "output_type": "execute_result"
    },
    {
     "data": {
      "image/png": "[encoded data removed]",
      "text/plain": [
       "<Figure size 640x480 with 2 Axes>"
      ]
     },
     "metadata": {},
     "output_type": "display_data"
    }
   ],
   "source": [
    "# calculate confusion matrix\n",
    "lgb_cm = confusion_matrix(y_test, lgb_pred)\n",
    "\n",
    "# plot confusion matrix using seaborn heatmap\n",
    "sns.heatmap(lgb_cm, annot=True, cmap='Blues', fmt='g')\n",
    "\n",
    "# set axis labels\n",
    "plt.xlabel('Predicted labels')\n",
    "plt.ylabel('True labels')"
   ]
  },
  {
   "cell_type": "code",
   "execution_count": 66,
   "id": "a0b5912f-e3b0-49ef-8ea3-b7d7b84088f7",
   "metadata": {
    "tags": []
   },
   "outputs": [
    {
     "name": "stdout",
     "output_type": "stream",
     "text": [
      "Feature ranking:\n",
      "1. feature 13 age (654.000000)\n",
      "2. feature 12 income (559.000000)\n",
      "3. feature 2 membership_duration (512.000000)\n",
      "4. feature 5 offer_viewed (414.000000)\n",
      "5. feature 1 offer (196.000000)\n",
      "6. feature 0 difficulty (195.000000)\n",
      "7. feature 4 reward (139.000000)\n",
      "8. feature 3 web (100.000000)\n",
      "9. feature 14 email (100.000000)\n",
      "10. feature 16 social (51.000000)\n",
      "11. feature 17 mobile (29.000000)\n",
      "12. feature 11 duration_hr (28.000000)\n",
      "13. feature 15 received_viewed (11.000000)\n",
      "14. feature 7 viewed_completed (8.000000)\n",
      "15. feature 6 offer_type = _bogo (3.000000)\n",
      "16. feature 18 offer_type = _discount (1.000000)\n",
      "17. feature 19 offer_type = _informational (0.000000)\n",
      "18. feature 8 gender = _F (0.000000)\n",
      "19. feature 10 gender = _M (0.000000)\n",
      "20. feature 9 gender = _O (0.000000)\n"
     ]
    },
    {
     "data": {
      "image/png": "[encoded data removed]",
      "text/plain": [
       "<Figure size 640x480 with 1 Axes>"
      ]
     },
     "metadata": {},
     "output_type": "display_data"
    }
   ],
   "source": [
    "# get feature importances\n",
    "lgb_importances = lgb_clf.feature_importances_\n",
    "\n",
    "# sort feature importances in descending order\n",
    "indices = np.argsort(lgb_importances)[::-1]\n",
    "\n",
    "# print out the feature ranking\n",
    "print(\"Feature ranking:\")\n",
    "for f in range(X.shape[1]):\n",
    "    print(\"%d. feature %d %s (%f)\" % (f + 1, indices[f], X.columns[f], lgb_importances[indices[f]]))\n",
    "\n",
    "# plot the feature importances\n",
    "plt.title(\"Feature importances\")\n",
    "plt.bar(range(X.shape[1]), lgb_importances[indices])\n",
    "plt.xticks(range(X.shape[1]), indices)\n",
    "plt.show()"
   ]
  },
  {
   "cell_type": "code",
   "execution_count": null,
   "id": "fadeec5f-4c6e-4a5a-8df3-ed173b681185",
   "metadata": {},
   "outputs": [],
   "source": []
  }
 ],
 "metadata": {
  "availableInstances": [
   {
    "_defaultOrder": 0,
    "_isFastLaunch": true,
    "category": "General purpose",
    "gpuNum": 0,
    "memoryGiB": 4,
    "name": "ml.t3.medium",
    "vcpuNum": 2
   },
   {
    "_defaultOrder": 1,
    "_isFastLaunch": false,
    "category": "General purpose",
    "gpuNum": 0,
    "memoryGiB": 8,
    "name": "ml.t3.large",
    "vcpuNum": 2
   },
   {
    "_defaultOrder": 2,
    "_isFastLaunch": false,
    "category": "General purpose",
    "gpuNum": 0,
    "memoryGiB": 16,
    "name": "ml.t3.xlarge",
    "vcpuNum": 4
   },
   {
    "_defaultOrder": 3,
    "_isFastLaunch": false,
    "category": "General purpose",
    "gpuNum": 0,
    "memoryGiB": 32,
    "name": "ml.t3.2xlarge",
    "vcpuNum": 8
   },
   {
    "_defaultOrder": 4,
    "_isFastLaunch": true,
    "category": "General purpose",
    "gpuNum": 0,
    "memoryGiB": 8,
    "name": "ml.m5.large",
    "vcpuNum": 2
   },
   {
    "_defaultOrder": 5,
    "_isFastLaunch": false,
    "category": "General purpose",
    "gpuNum": 0,
    "memoryGiB": 16,
    "name": "ml.m5.xlarge",
    "vcpuNum": 4
   },
   {
    "_defaultOrder": 6,
    "_isFastLaunch": false,
    "category": "General purpose",
    "gpuNum": 0,
    "memoryGiB": 32,
    "name": "ml.m5.2xlarge",
    "vcpuNum": 8
   },
   {
    "_defaultOrder": 7,
    "_isFastLaunch": false,
    "category": "General purpose",
    "gpuNum": 0,
    "memoryGiB": 64,
    "name": "ml.m5.4xlarge",
    "vcpuNum": 16
   },
   {
    "_defaultOrder": 8,
    "_isFastLaunch": false,
    "category": "General purpose",
    "gpuNum": 0,
    "memoryGiB": 128,
    "name": "ml.m5.8xlarge",
    "vcpuNum": 32
   },
   {
    "_defaultOrder": 9,
    "_isFastLaunch": false,
    "category": "General purpose",
    "gpuNum": 0,
    "memoryGiB": 192,
    "name": "ml.m5.12xlarge",
    "vcpuNum": 48
   },
   {
    "_defaultOrder": 10,
    "_isFastLaunch": false,
    "category": "General purpose",
    "gpuNum": 0,
    "memoryGiB": 256,
    "name": "ml.m5.16xlarge",
    "vcpuNum": 64
   },
   {
    "_defaultOrder": 11,
    "_isFastLaunch": false,
    "category": "General purpose",
    "gpuNum": 0,
    "memoryGiB": 384,
    "name": "ml.m5.24xlarge",
    "vcpuNum": 96
   },
   {
    "_defaultOrder": 12,
    "_isFastLaunch": false,
    "category": "General purpose",
    "gpuNum": 0,
    "memoryGiB": 8,
    "name": "ml.m5d.large",
    "vcpuNum": 2
   },
   {
    "_defaultOrder": 13,
    "_isFastLaunch": false,
    "category": "General purpose",
    "gpuNum": 0,
    "memoryGiB": 16,
    "name": "ml.m5d.xlarge",
    "vcpuNum": 4
   },
   {
    "_defaultOrder": 14,
    "_isFastLaunch": false,
    "category": "General purpose",
    "gpuNum": 0,
    "memoryGiB": 32,
    "name": "ml.m5d.2xlarge",
    "vcpuNum": 8
   },
   {
    "_defaultOrder": 15,
    "_isFastLaunch": false,
    "category": "General purpose",
    "gpuNum": 0,
    "memoryGiB": 64,
    "name": "ml.m5d.4xlarge",
    "vcpuNum": 16
   },
   {
    "_defaultOrder": 16,
    "_isFastLaunch": false,
    "category": "General purpose",
    "gpuNum": 0,
    "memoryGiB": 128,
    "name": "ml.m5d.8xlarge",
    "vcpuNum": 32
   },
   {
    "_defaultOrder": 17,
    "_isFastLaunch": false,
    "category": "General purpose",
    "gpuNum": 0,
    "memoryGiB": 192,
    "name": "ml.m5d.12xlarge",
    "vcpuNum": 48
   },
   {
    "_defaultOrder": 18,
    "_isFastLaunch": false,
    "category": "General purpose",
    "gpuNum": 0,
    "memoryGiB": 256,
    "name": "ml.m5d.16xlarge",
    "vcpuNum": 64
   },
   {
    "_defaultOrder": 19,
    "_isFastLaunch": false,
    "category": "General purpose",
    "gpuNum": 0,
    "memoryGiB": 384,
    "name": "ml.m5d.24xlarge",
    "vcpuNum": 96
   },
   {
    "_defaultOrder": 20,
    "_isFastLaunch": true,
    "category": "Compute optimized",
    "gpuNum": 0,
    "memoryGiB": 4,
    "name": "ml.c5.large",
    "vcpuNum": 2
   },
   {
    "_defaultOrder": 21,
    "_isFastLaunch": false,
    "category": "Compute optimized",
    "gpuNum": 0,
    "memoryGiB": 8,
    "name": "ml.c5.xlarge",
    "vcpuNum": 4
   },
   {
    "_defaultOrder": 22,
    "_isFastLaunch": false,
    "category": "Compute optimized",
    "gpuNum": 0,
    "memoryGiB": 16,
    "name": "ml.c5.2xlarge",
    "vcpuNum": 8
   },
   {
    "_defaultOrder": 23,
    "_isFastLaunch": false,
    "category": "Compute optimized",
    "gpuNum": 0,
    "memoryGiB": 32,
    "name": "ml.c5.4xlarge",
    "vcpuNum": 16
   },
   {
    "_defaultOrder": 24,
    "_isFastLaunch": false,
    "category": "Compute optimized",
    "gpuNum": 0,
    "memoryGiB": 72,
    "name": "ml.c5.9xlarge",
    "vcpuNum": 36
   },
   {
    "_defaultOrder": 25,
    "_isFastLaunch": false,
    "category": "Compute optimized",
    "gpuNum": 0,
    "memoryGiB": 96,
    "name": "ml.c5.12xlarge",
    "vcpuNum": 48
   },
   {
    "_defaultOrder": 26,
    "_isFastLaunch": false,
    "category": "Compute optimized",
    "gpuNum": 0,
    "memoryGiB": 144,
    "name": "ml.c5.18xlarge",
    "vcpuNum": 72
   },
   {
    "_defaultOrder": 27,
    "_isFastLaunch": false,
    "category": "Compute optimized",
    "gpuNum": 0,
    "memoryGiB": 192,
    "name": "ml.c5.24xlarge",
    "vcpuNum": 96
   },
   {
    "_defaultOrder": 28,
    "_isFastLaunch": true,
    "category": "Accelerated computing",
    "gpuNum": 1,
    "memoryGiB": 16,
    "name": "ml.g4dn.xlarge",
    "vcpuNum": 4
   },
   {
    "_defaultOrder": 29,
    "_isFastLaunch": false,
    "category": "Accelerated computing",
    "gpuNum": 1,
    "memoryGiB": 32,
    "name": "ml.g4dn.2xlarge",
    "vcpuNum": 8
   },
   {
    "_defaultOrder": 30,
    "_isFastLaunch": false,
    "category": "Accelerated computing",
    "gpuNum": 1,
    "memoryGiB": 64,
    "name": "ml.g4dn.4xlarge",
    "vcpuNum": 16
   },
   {
    "_defaultOrder": 31,
    "_isFastLaunch": false,
    "category": "Accelerated computing",
    "gpuNum": 1,
    "memoryGiB": 128,
    "name": "ml.g4dn.8xlarge",
    "vcpuNum": 32
   },
   {
    "_defaultOrder": 32,
    "_isFastLaunch": false,
    "category": "Accelerated computing",
    "gpuNum": 4,
    "memoryGiB": 192,
    "name": "ml.g4dn.12xlarge",
    "vcpuNum": 48
   },
   {
    "_defaultOrder": 33,
    "_isFastLaunch": false,
    "category": "Accelerated computing",
    "gpuNum": 1,
    "memoryGiB": 256,
    "name": "ml.g4dn.16xlarge",
    "vcpuNum": 64
   },
   {
    "_defaultOrder": 34,
    "_isFastLaunch": false,
    "category": "Accelerated computing",
    "gpuNum": 1,
    "memoryGiB": 61,
    "name": "ml.p3.2xlarge",
    "vcpuNum": 8
   },
   {
    "_defaultOrder": 35,
    "_isFastLaunch": false,
    "category": "Accelerated computing",
    "gpuNum": 4,
    "memoryGiB": 244,
    "name": "ml.p3.8xlarge",
    "vcpuNum": 32
   },
   {
    "_defaultOrder": 36,
    "_isFastLaunch": false,
    "category": "Accelerated computing",
    "gpuNum": 8,
    "memoryGiB": 488,
    "name": "ml.p3.16xlarge",
    "vcpuNum": 64
   },
   {
    "_defaultOrder": 37,
    "_isFastLaunch": false,
    "category": "Accelerated computing",
    "gpuNum": 8,
    "memoryGiB": 768,
    "name": "ml.p3dn.24xlarge",
    "vcpuNum": 96
   },
   {
    "_defaultOrder": 38,
    "_isFastLaunch": false,
    "category": "Memory Optimized",
    "gpuNum": 0,
    "memoryGiB": 16,
    "name": "ml.r5.large",
    "vcpuNum": 2
   },
   {
    "_defaultOrder": 39,
    "_isFastLaunch": false,
    "category": "Memory Optimized",
    "gpuNum": 0,
    "memoryGiB": 32,
    "name": "ml.r5.xlarge",
    "vcpuNum": 4
   },
   {
    "_defaultOrder": 40,
    "_isFastLaunch": false,
    "category": "Memory Optimized",
    "gpuNum": 0,
    "memoryGiB": 64,
    "name": "ml.r5.2xlarge",
    "vcpuNum": 8
   },
   {
    "_defaultOrder": 41,
    "_isFastLaunch": false,
    "category": "Memory Optimized",
    "gpuNum": 0,
    "memoryGiB": 128,
    "name": "ml.r5.4xlarge",
    "vcpuNum": 16
   },
   {
    "_defaultOrder": 42,
    "_isFastLaunch": false,
    "category": "Memory Optimized",
    "gpuNum": 0,
    "memoryGiB": 256,
    "name": "ml.r5.8xlarge",
    "vcpuNum": 32
   },
   {
    "_defaultOrder": 43,
    "_isFastLaunch": false,
    "category": "Memory Optimized",
    "gpuNum": 0,
    "memoryGiB": 384,
    "name": "ml.r5.12xlarge",
    "vcpuNum": 48
   },
   {
    "_defaultOrder": 44,
    "_isFastLaunch": false,
    "category": "Memory Optimized",
    "gpuNum": 0,
    "memoryGiB": 512,
    "name": "ml.r5.16xlarge",
    "vcpuNum": 64
   },
   {
    "_defaultOrder": 45,
    "_isFastLaunch": false,
    "category": "Memory Optimized",
    "gpuNum": 0,
    "memoryGiB": 768,
    "name": "ml.r5.24xlarge",
    "vcpuNum": 96
   },
   {
    "_defaultOrder": 46,
    "_isFastLaunch": false,
    "category": "Accelerated computing",
    "gpuNum": 1,
    "memoryGiB": 16,
    "name": "ml.g5.xlarge",
    "vcpuNum": 4
   },
   {
    "_defaultOrder": 47,
    "_isFastLaunch": false,
    "category": "Accelerated computing",
    "gpuNum": 1,
    "memoryGiB": 32,
    "name": "ml.g5.2xlarge",
    "vcpuNum": 8
   },
   {
    "_defaultOrder": 48,
    "_isFastLaunch": false,
    "category": "Accelerated computing",
    "gpuNum": 1,
    "memoryGiB": 64,
    "name": "ml.g5.4xlarge",
    "vcpuNum": 16
   },
   {
    "_defaultOrder": 49,
    "_isFastLaunch": false,
    "category": "Accelerated computing",
    "gpuNum": 1,
    "memoryGiB": 128,
    "name": "ml.g5.8xlarge",
    "vcpuNum": 32
   },
   {
    "_defaultOrder": 50,
    "_isFastLaunch": false,
    "category": "Accelerated computing",
    "gpuNum": 1,
    "memoryGiB": 256,
    "name": "ml.g5.16xlarge",
    "vcpuNum": 64
   },
   {
    "_defaultOrder": 51,
    "_isFastLaunch": false,
    "category": "Accelerated computing",
    "gpuNum": 4,
    "memoryGiB": 192,
    "name": "ml.g5.12xlarge",
    "vcpuNum": 48
   },
   {
    "_defaultOrder": 52,
    "_isFastLaunch": false,
    "category": "Accelerated computing",
    "gpuNum": 4,
    "memoryGiB": 384,
    "name": "ml.g5.24xlarge",
    "vcpuNum": 96
   },
   {
    "_defaultOrder": 53,
    "_isFastLaunch": false,
    "category": "Accelerated computing",
    "gpuNum": 8,
    "memoryGiB": 768,
    "name": "ml.g5.48xlarge",
    "vcpuNum": 192
   }
  ],
  "instance_type": "ml.t3.medium",
  "kernelspec": {
   "display_name": "Python 3 (Data Science)",
   "language": "python",
   "name": "python3__SAGEMAKER_INTERNAL__arn:aws:sagemaker:us-east-1:081325390199:image/datascience-1.0"
  },
  "language_info": {
   "codemirror_mode": {
    "name": "ipython",
    "version": 3
   },
   "file_extension": ".py",
   "mimetype": "text/x-python",
   "name": "python",
   "nbconvert_exporter": "python",
   "pygments_lexer": "ipython3",
   "version": "3.7.10"
  }
 },
 "nbformat": 4,
 "nbformat_minor": 5
}
