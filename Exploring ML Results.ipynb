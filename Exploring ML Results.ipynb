{
 "cells": [
  {
   "cell_type": "code",
   "execution_count": 2,
   "id": "ec956c0e-bdcb-4611-8b23-2b4aae6c149d",
   "metadata": {
    "tags": []
   },
   "outputs": [],
   "source": [
    "import matplotlib.pyplot as plt\n",
    "import pandas as pd\n",
    "import numpy as np\n",
    "import seaborn as sns\n",
    "import os\n",
    "\n",
    "transaction_with_labels = pd.read_csv('data/transaction_with_labels.csv')"
   ]
  },
  {
   "cell_type": "code",
   "execution_count": 3,
   "id": "404c633a-81a7-414d-a8ec-99fd24d26607",
   "metadata": {
    "tags": []
   },
   "outputs": [
    {
     "data": {
      "text/html": [
       "<div>\n",
       "<style scoped>\n",
       "    .dataframe tbody tr th:only-of-type {\n",
       "        vertical-align: middle;\n",
       "    }\n",
       "\n",
       "    .dataframe tbody tr th {\n",
       "        vertical-align: top;\n",
       "    }\n",
       "\n",
       "    .dataframe thead th {\n",
       "        text-align: right;\n",
       "    }\n",
       "</style>\n",
       "<table border=\"1\" class=\"dataframe\">\n",
       "  <thead>\n",
       "    <tr style=\"text-align: right;\">\n",
       "      <th></th>\n",
       "      <th>age</th>\n",
       "      <th>completed</th>\n",
       "    </tr>\n",
       "  </thead>\n",
       "  <tbody>\n",
       "    <tr>\n",
       "      <th>0</th>\n",
       "      <td>75</td>\n",
       "      <td>1.0</td>\n",
       "    </tr>\n",
       "    <tr>\n",
       "      <th>1</th>\n",
       "      <td>65</td>\n",
       "      <td>1.0</td>\n",
       "    </tr>\n",
       "    <tr>\n",
       "      <th>2</th>\n",
       "      <td>58</td>\n",
       "      <td>0.0</td>\n",
       "    </tr>\n",
       "    <tr>\n",
       "      <th>3</th>\n",
       "      <td>58</td>\n",
       "      <td>0.0</td>\n",
       "    </tr>\n",
       "    <tr>\n",
       "      <th>4</th>\n",
       "      <td>61</td>\n",
       "      <td>1.0</td>\n",
       "    </tr>\n",
       "    <tr>\n",
       "      <th>...</th>\n",
       "      <td>...</td>\n",
       "      <td>...</td>\n",
       "    </tr>\n",
       "    <tr>\n",
       "      <th>20931</th>\n",
       "      <td>45</td>\n",
       "      <td>0.0</td>\n",
       "    </tr>\n",
       "    <tr>\n",
       "      <th>20932</th>\n",
       "      <td>45</td>\n",
       "      <td>0.0</td>\n",
       "    </tr>\n",
       "    <tr>\n",
       "      <th>20933</th>\n",
       "      <td>61</td>\n",
       "      <td>1.0</td>\n",
       "    </tr>\n",
       "    <tr>\n",
       "      <th>20934</th>\n",
       "      <td>49</td>\n",
       "      <td>0.0</td>\n",
       "    </tr>\n",
       "    <tr>\n",
       "      <th>20935</th>\n",
       "      <td>62</td>\n",
       "      <td>1.0</td>\n",
       "    </tr>\n",
       "  </tbody>\n",
       "</table>\n",
       "<p>20936 rows × 2 columns</p>\n",
       "</div>"
      ],
      "text/plain": [
       "       age  completed\n",
       "0       75        1.0\n",
       "1       65        1.0\n",
       "2       58        0.0\n",
       "3       58        0.0\n",
       "4       61        1.0\n",
       "...    ...        ...\n",
       "20931   45        0.0\n",
       "20932   45        0.0\n",
       "20933   61        1.0\n",
       "20934   49        0.0\n",
       "20935   62        1.0\n",
       "\n",
       "[20936 rows x 2 columns]"
      ]
     },
     "execution_count": 3,
     "metadata": {},
     "output_type": "execute_result"
    }
   ],
   "source": [
    "transaction_with_labels[['age', 'completed']]"
   ]
  },
  {
   "cell_type": "code",
   "execution_count": 4,
   "id": "5ed72cbe-0a34-4ebe-a375-c9c8c2a6dedb",
   "metadata": {
    "tags": []
   },
   "outputs": [
    {
     "data": {
      "text/html": [
       "<div>\n",
       "<style scoped>\n",
       "    .dataframe tbody tr th:only-of-type {\n",
       "        vertical-align: middle;\n",
       "    }\n",
       "\n",
       "    .dataframe tbody tr th {\n",
       "        vertical-align: top;\n",
       "    }\n",
       "\n",
       "    .dataframe thead th {\n",
       "        text-align: right;\n",
       "    }\n",
       "</style>\n",
       "<table border=\"1\" class=\"dataframe\">\n",
       "  <thead>\n",
       "    <tr style=\"text-align: right;\">\n",
       "      <th></th>\n",
       "      <th>age</th>\n",
       "      <th>gender</th>\n",
       "      <th>income</th>\n",
       "      <th>became_member_on</th>\n",
       "      <th>membership_duration</th>\n",
       "      <th>person</th>\n",
       "      <th>event</th>\n",
       "      <th>time</th>\n",
       "      <th>amount_spent</th>\n",
       "      <th>offer</th>\n",
       "      <th>...</th>\n",
       "      <th>offer_completed</th>\n",
       "      <th>time_completed</th>\n",
       "      <th>reward_received</th>\n",
       "      <th>received_viewed</th>\n",
       "      <th>viewed_completed</th>\n",
       "      <th>received_completed_diff</th>\n",
       "      <th>duration_diff</th>\n",
       "      <th>valid_complete</th>\n",
       "      <th>completed</th>\n",
       "      <th>label</th>\n",
       "    </tr>\n",
       "  </thead>\n",
       "  <tbody>\n",
       "    <tr>\n",
       "      <th>0</th>\n",
       "      <td>75</td>\n",
       "      <td>F</td>\n",
       "      <td>100000.0</td>\n",
       "      <td>2017-05-09</td>\n",
       "      <td>443</td>\n",
       "      <td>78afa995795e4d85b5d9ceeca43f5fef</td>\n",
       "      <td>transaction</td>\n",
       "      <td>132</td>\n",
       "      <td>19.89</td>\n",
       "      <td>4</td>\n",
       "      <td>...</td>\n",
       "      <td>1</td>\n",
       "      <td>132.0</td>\n",
       "      <td>5.0</td>\n",
       "      <td>6.0</td>\n",
       "      <td>126.0</td>\n",
       "      <td>132.0</td>\n",
       "      <td>36.0</td>\n",
       "      <td>1</td>\n",
       "      <td>1.0</td>\n",
       "      <td>bogo buyers</td>\n",
       "    </tr>\n",
       "    <tr>\n",
       "      <th>1</th>\n",
       "      <td>65</td>\n",
       "      <td>M</td>\n",
       "      <td>53000.0</td>\n",
       "      <td>2018-02-09</td>\n",
       "      <td>167</td>\n",
       "      <td>389bc3fa690240e798340f5a15918d5c</td>\n",
       "      <td>transaction</td>\n",
       "      <td>60</td>\n",
       "      <td>9.54</td>\n",
       "      <td>9</td>\n",
       "      <td>...</td>\n",
       "      <td>1</td>\n",
       "      <td>60.0</td>\n",
       "      <td>5.0</td>\n",
       "      <td>0.0</td>\n",
       "      <td>60.0</td>\n",
       "      <td>60.0</td>\n",
       "      <td>60.0</td>\n",
       "      <td>1</td>\n",
       "      <td>1.0</td>\n",
       "      <td>bogo buyers</td>\n",
       "    </tr>\n",
       "    <tr>\n",
       "      <th>2</th>\n",
       "      <td>58</td>\n",
       "      <td>M</td>\n",
       "      <td>51000.0</td>\n",
       "      <td>2017-11-11</td>\n",
       "      <td>257</td>\n",
       "      <td>2eeac8d8feae4a8cad5a6af0499a211d</td>\n",
       "      <td>transaction</td>\n",
       "      <td>216</td>\n",
       "      <td>2.32</td>\n",
       "      <td>3</td>\n",
       "      <td>...</td>\n",
       "      <td>0</td>\n",
       "      <td>0.0</td>\n",
       "      <td>0.0</td>\n",
       "      <td>0.0</td>\n",
       "      <td>0.0</td>\n",
       "      <td>0.0</td>\n",
       "      <td>96.0</td>\n",
       "      <td>0</td>\n",
       "      <td>0.0</td>\n",
       "      <td>buy without offer</td>\n",
       "    </tr>\n",
       "    <tr>\n",
       "      <th>3</th>\n",
       "      <td>58</td>\n",
       "      <td>M</td>\n",
       "      <td>51000.0</td>\n",
       "      <td>2017-11-11</td>\n",
       "      <td>257</td>\n",
       "      <td>2eeac8d8feae4a8cad5a6af0499a211d</td>\n",
       "      <td>transaction</td>\n",
       "      <td>216</td>\n",
       "      <td>2.32</td>\n",
       "      <td>6</td>\n",
       "      <td>...</td>\n",
       "      <td>0</td>\n",
       "      <td>0.0</td>\n",
       "      <td>0.0</td>\n",
       "      <td>0.0</td>\n",
       "      <td>-168.0</td>\n",
       "      <td>-168.0</td>\n",
       "      <td>336.0</td>\n",
       "      <td>0</td>\n",
       "      <td>0.0</td>\n",
       "      <td>buy without offer</td>\n",
       "    </tr>\n",
       "    <tr>\n",
       "      <th>4</th>\n",
       "      <td>61</td>\n",
       "      <td>F</td>\n",
       "      <td>57000.0</td>\n",
       "      <td>2017-09-11</td>\n",
       "      <td>318</td>\n",
       "      <td>aa4862eba776480b8bb9c68455b8c2e1</td>\n",
       "      <td>transaction</td>\n",
       "      <td>210</td>\n",
       "      <td>12.33</td>\n",
       "      <td>2</td>\n",
       "      <td>...</td>\n",
       "      <td>1</td>\n",
       "      <td>210.0</td>\n",
       "      <td>10.0</td>\n",
       "      <td>0.0</td>\n",
       "      <td>42.0</td>\n",
       "      <td>42.0</td>\n",
       "      <td>78.0</td>\n",
       "      <td>1</td>\n",
       "      <td>1.0</td>\n",
       "      <td>bogo buyers</td>\n",
       "    </tr>\n",
       "  </tbody>\n",
       "</table>\n",
       "<p>5 rows × 35 columns</p>\n",
       "</div>"
      ],
      "text/plain": [
       "   age gender    income became_member_on  membership_duration  \\\n",
       "0   75      F  100000.0       2017-05-09                  443   \n",
       "1   65      M   53000.0       2018-02-09                  167   \n",
       "2   58      M   51000.0       2017-11-11                  257   \n",
       "3   58      M   51000.0       2017-11-11                  257   \n",
       "4   61      F   57000.0       2017-09-11                  318   \n",
       "\n",
       "                             person        event  time  amount_spent  offer  \\\n",
       "0  78afa995795e4d85b5d9ceeca43f5fef  transaction   132         19.89      4   \n",
       "1  389bc3fa690240e798340f5a15918d5c  transaction    60          9.54      9   \n",
       "2  2eeac8d8feae4a8cad5a6af0499a211d  transaction   216          2.32      3   \n",
       "3  2eeac8d8feae4a8cad5a6af0499a211d  transaction   216          2.32      6   \n",
       "4  aa4862eba776480b8bb9c68455b8c2e1  transaction   210         12.33      2   \n",
       "\n",
       "   ... offer_completed  time_completed  reward_received  received_viewed  \\\n",
       "0  ...               1           132.0              5.0              6.0   \n",
       "1  ...               1            60.0              5.0              0.0   \n",
       "2  ...               0             0.0              0.0              0.0   \n",
       "3  ...               0             0.0              0.0              0.0   \n",
       "4  ...               1           210.0             10.0              0.0   \n",
       "\n",
       "   viewed_completed received_completed_diff  duration_diff  valid_complete  \\\n",
       "0             126.0                   132.0           36.0               1   \n",
       "1              60.0                    60.0           60.0               1   \n",
       "2               0.0                     0.0           96.0               0   \n",
       "3            -168.0                  -168.0          336.0               0   \n",
       "4              42.0                    42.0           78.0               1   \n",
       "\n",
       "   completed              label  \n",
       "0        1.0        bogo buyers  \n",
       "1        1.0        bogo buyers  \n",
       "2        0.0  buy without offer  \n",
       "3        0.0  buy without offer  \n",
       "4        1.0        bogo buyers  \n",
       "\n",
       "[5 rows x 35 columns]"
      ]
     },
     "execution_count": 4,
     "metadata": {},
     "output_type": "execute_result"
    }
   ],
   "source": [
    "transaction_with_labels.head()"
   ]
  },
  {
   "cell_type": "code",
   "execution_count": 5,
   "id": "c5839502-7128-4736-aa61-1e63763b1868",
   "metadata": {
    "tags": []
   },
   "outputs": [
    {
     "name": "stdout",
     "output_type": "stream",
     "text": [
      "<class 'pandas.core.frame.DataFrame'>\n",
      "RangeIndex: 20936 entries, 0 to 20935\n",
      "Data columns (total 35 columns):\n",
      " #   Column                   Non-Null Count  Dtype  \n",
      "---  ------                   --------------  -----  \n",
      " 0   age                      20936 non-null  int64  \n",
      " 1   gender                   20936 non-null  object \n",
      " 2   income                   20936 non-null  float64\n",
      " 3   became_member_on         20936 non-null  object \n",
      " 4   membership_duration      20936 non-null  int64  \n",
      " 5   person                   20936 non-null  object \n",
      " 6   event                    20936 non-null  object \n",
      " 7   time                     20936 non-null  int64  \n",
      " 8   amount_spent             20936 non-null  float64\n",
      " 9   offer                    20936 non-null  int64  \n",
      " 10  offer_type               20936 non-null  object \n",
      " 11  difficulty               20936 non-null  int64  \n",
      " 12  duration                 20936 non-null  int64  \n",
      " 13  duration_hr              20936 non-null  int64  \n",
      " 14  reward                   20936 non-null  int64  \n",
      " 15  channels                 20936 non-null  object \n",
      " 16  web                      20936 non-null  int64  \n",
      " 17  email                    20936 non-null  int64  \n",
      " 18  social                   20936 non-null  int64  \n",
      " 19  mobile                   20936 non-null  int64  \n",
      " 20  offer_received           20936 non-null  int64  \n",
      " 21  time_received            20936 non-null  int64  \n",
      " 22  offer_id                 20936 non-null  object \n",
      " 23  offer_viewed             20936 non-null  int64  \n",
      " 24  time_viewed              20936 non-null  float64\n",
      " 25  offer_completed          20936 non-null  int64  \n",
      " 26  time_completed           20936 non-null  float64\n",
      " 27  reward_received          20936 non-null  float64\n",
      " 28  received_viewed          20936 non-null  float64\n",
      " 29  viewed_completed         20936 non-null  float64\n",
      " 30  received_completed_diff  20936 non-null  float64\n",
      " 31  duration_diff            20936 non-null  float64\n",
      " 32  valid_complete           20936 non-null  int64  \n",
      " 33  completed                20936 non-null  float64\n",
      " 34  label                    20936 non-null  object \n",
      "dtypes: float64(10), int64(17), object(8)\n",
      "memory usage: 5.6+ MB\n"
     ]
    }
   ],
   "source": [
    "transaction_with_labels.info()"
   ]
  },
  {
   "cell_type": "code",
   "execution_count": 6,
   "id": "5c3de4c9-153c-47ad-9c41-1626c52e941c",
   "metadata": {
    "tags": []
   },
   "outputs": [
    {
     "data": {
      "image/png": "[encoded data removed]",
      "text/plain": [
       "<Figure size 640x480 with 1 Axes>"
      ]
     },
     "metadata": {},
     "output_type": "display_data"
    }
   ],
   "source": [
    "plt.hist(transaction_with_labels['age'][transaction_with_labels['label'] == 'buy without offer'], bins=8, alpha=0.5, label='Buys Without Offer')\n",
    "plt.hist(transaction_with_labels['age'][transaction_with_labels['label'] == 'bogo buyers'], bins=8, alpha=0.5, label='BOGO Buyers')\n",
    "plt.hist(transaction_with_labels['age'][transaction_with_labels['label'] == 'discount buyers'], bins=8, alpha=0.5, label='Discount Buyers')\n",
    "plt.hist(transaction_with_labels['age'][transaction_with_labels['label'] == 'informational buyers'], bins=8, alpha=0.5, label='Informational Buyers')\n",
    "\n",
    "plt.legend(loc='upper right')\n",
    "\n",
    "# add labels and title\n",
    "plt.xlabel('Age')\n",
    "plt.ylabel('Count')\n",
    "plt.title('Various User Types by Age')\n",
    "\n",
    "plt.show()\n",
    "\n",
    "# plt.savefig(os.path.join('photos/user_types_age.png'), dpi=300, format='png', bbox_inches='tight') # use format='svg' or 'pdf' for vectorial pictures"
   ]
  },
  {
   "cell_type": "code",
   "execution_count": 7,
   "id": "d16082ca-1e02-47f2-bebe-477813517eb9",
   "metadata": {
    "tags": []
   },
   "outputs": [
    {
     "name": "stdout",
     "output_type": "stream",
     "text": [
      "count    14202.000000\n",
      "mean        51.707295\n",
      "std         18.180514\n",
      "min         18.000000\n",
      "25%         37.000000\n",
      "50%         53.000000\n",
      "75%         65.000000\n",
      "max        101.000000\n",
      "Name: age, dtype: float64\n",
      "count    2268.000000\n",
      "mean       57.707672\n",
      "std        15.888773\n",
      "min        18.000000\n",
      "25%        48.000000\n",
      "50%        57.000000\n",
      "75%        68.000000\n",
      "max       100.000000\n",
      "Name: age, dtype: float64\n",
      "count    2043.000000\n",
      "mean       58.835047\n",
      "std        14.854822\n",
      "min        19.000000\n",
      "25%        50.000000\n",
      "50%        59.000000\n",
      "75%        68.000000\n",
      "max       101.000000\n",
      "Name: age, dtype: float64\n",
      "count    2423.000000\n",
      "mean       55.087082\n",
      "std        17.180475\n",
      "min        18.000000\n",
      "25%        43.000000\n",
      "50%        56.000000\n",
      "75%        67.000000\n",
      "max       101.000000\n",
      "Name: age, dtype: float64\n"
     ]
    }
   ],
   "source": [
    "print(transaction_with_labels['age'][transaction_with_labels['label'] == 'buy without offer'].describe())\n",
    "print(transaction_with_labels['age'][transaction_with_labels['label'] == 'bogo buyers'].describe())\n",
    "print(transaction_with_labels['age'][transaction_with_labels['label'] == 'discount buyers'].describe())\n",
    "print(transaction_with_labels['age'][transaction_with_labels['label'] == 'informational buyers'].describe())\n"
   ]
  },
  {
   "cell_type": "code",
   "execution_count": 8,
   "id": "f3374a94-9b1b-4c4e-a238-688b54c69a4a",
   "metadata": {
    "tags": []
   },
   "outputs": [
    {
     "data": {
      "image/png": "[encoded data removed]",
      "text/plain": [
       "<Figure size 640x480 with 1 Axes>"
      ]
     },
     "metadata": {},
     "output_type": "display_data"
    }
   ],
   "source": [
    "plt.hist(transaction_with_labels['membership_duration'][transaction_with_labels['label'] == 'buy without offer'], bins=8, alpha=0.5, label='Buys Without Offer')\n",
    "plt.hist(transaction_with_labels['membership_duration'][transaction_with_labels['label'] == 'bogo buyers'], bins=8, alpha=0.5, label='BOGO Buyers')\n",
    "plt.hist(transaction_with_labels['membership_duration'][transaction_with_labels['label'] == 'discount buyers'], bins=8, alpha=0.5, label='Discount Buyers')\n",
    "plt.hist(transaction_with_labels['membership_duration'][transaction_with_labels['label'] == 'informational buyers'], bins=8, alpha=0.5, label='Informational Buyers')\n",
    "\n",
    "plt.legend(loc='upper right')\n",
    "\n",
    "# add labels and title\n",
    "plt.xlabel('Member Duration')\n",
    "plt.ylabel('Count')\n",
    "plt.title('Various User Types by Member Duration')\n",
    "\n",
    "plt.show()\n",
    "# plt.savefig(os.path.join('photos/user_types_membership.png'), dpi=300, format='png', bbox_inches='tight') # use format='svg' or 'pdf' for vectorial pictures"
   ]
  },
  {
   "cell_type": "code",
   "execution_count": 9,
   "id": "71a07900-e27a-4b82-ac02-b684f1a555da",
   "metadata": {
    "tags": []
   },
   "outputs": [
    {
     "name": "stdout",
     "output_type": "stream",
     "text": [
      "count    14202.000000\n",
      "mean       422.899310\n",
      "std        431.499005\n",
      "min          0.000000\n",
      "25%        140.000000\n",
      "50%        266.000000\n",
      "75%        540.000000\n",
      "max       1822.000000\n",
      "Name: membership_duration, dtype: float64\n",
      "count    2268.000000\n",
      "mean      571.660053\n",
      "std       361.328819\n",
      "min         0.000000\n",
      "25%       277.750000\n",
      "50%       530.500000\n",
      "75%       833.000000\n",
      "max      1814.000000\n",
      "Name: membership_duration, dtype: float64\n",
      "count    2043.000000\n",
      "mean      567.097406\n",
      "std       373.797531\n",
      "min         0.000000\n",
      "25%       261.000000\n",
      "50%       510.000000\n",
      "75%       828.000000\n",
      "max      1819.000000\n",
      "Name: membership_duration, dtype: float64\n",
      "count    2423.000000\n",
      "mean      496.915807\n",
      "std       409.020156\n",
      "min         0.000000\n",
      "25%       201.000000\n",
      "50%       344.000000\n",
      "75%       759.000000\n",
      "max      1819.000000\n",
      "Name: membership_duration, dtype: float64\n"
     ]
    }
   ],
   "source": [
    "print(transaction_with_labels['membership_duration'][transaction_with_labels['label'] == 'buy without offer'].describe())\n",
    "print(transaction_with_labels['membership_duration'][transaction_with_labels['label'] == 'bogo buyers'].describe())\n",
    "print(transaction_with_labels['membership_duration'][transaction_with_labels['label'] == 'discount buyers'].describe())\n",
    "print(transaction_with_labels['membership_duration'][transaction_with_labels['label'] == 'informational buyers'].describe())\n"
   ]
  },
  {
   "cell_type": "code",
   "execution_count": 10,
   "id": "3a818111-7b62-478b-b14e-240110eaec2c",
   "metadata": {},
   "outputs": [
    {
     "data": {
      "image/png": "[encoded data removed]",
      "text/plain": [
       "<Figure size 640x480 with 1 Axes>"
      ]
     },
     "metadata": {},
     "output_type": "display_data"
    }
   ],
   "source": [
    "plt.hist(transaction_with_labels['income'][transaction_with_labels['label'] == 'buy without offer'], bins=8, alpha=0.5, label='Buys Without Offer')\n",
    "plt.hist(transaction_with_labels['income'][transaction_with_labels['label'] == 'bogo buyers'], bins=8, alpha=0.5, label='BOGO Buyers')\n",
    "plt.hist(transaction_with_labels['income'][transaction_with_labels['label'] == 'discount buyers'], bins=8, alpha=0.5, label='Discount Buyers')\n",
    "plt.hist(transaction_with_labels['income'][transaction_with_labels['label'] == 'informational buyers'], bins=8, alpha=0.5, label='Informational Buyers')\n",
    "\n",
    "plt.legend(loc='upper right')\n",
    "\n",
    "# add labels and title\n",
    "plt.xlabel('Income')\n",
    "plt.ylabel('Count')\n",
    "plt.title('Various User Types by Income')\n",
    "\n",
    "plt.show()"
   ]
  },
  {
   "cell_type": "code",
   "execution_count": null,
   "id": "5ba246cc-53f9-413d-b64b-785dddc0ebe4",
   "metadata": {},
   "outputs": [],
   "source": []
  },
  {
   "cell_type": "code",
   "execution_count": 11,
   "id": "0a4698f3-c9ac-401e-9114-185835ffb544",
   "metadata": {
    "tags": []
   },
   "outputs": [
    {
     "data": {
      "image/png": "[encoded data removed]",
      "text/plain": [
       "<Figure size 640x480 with 1 Axes>"
      ]
     },
     "metadata": {},
     "output_type": "display_data"
    }
   ],
   "source": [
    "# Sample data\n",
    "bogo = transaction_with_labels['duration'][transaction_with_labels['label'] == 'bogo buyers']\n",
    "discount = transaction_with_labels['duration'][transaction_with_labels['label'] == 'discount buyers']\n",
    "info = transaction_with_labels['duration'][transaction_with_labels['label'] == 'informational buyers']\n",
    "\n",
    "# Create a figure and axis object\n",
    "fig, ax = plt.subplots()\n",
    "\n",
    "\n",
    "ax.boxplot(bogo, vert=False, positions=[1], widths=0.5)\n",
    "\n",
    "ax.boxplot(discount, vert=False, positions=[2], widths=0.5)\n",
    "\n",
    "ax.boxplot(info, vert=False, positions=[3], widths=0.5)\n",
    "\n",
    "# Set axis labels and title\n",
    "ax.set_yticks([1, 2, 3])\n",
    "ax.set_yticklabels(['Bogo', 'Discount', 'Info'])\n",
    "ax.set_xlabel('Duration')\n",
    "ax.set_title('Box and Whisker Plot of Duration by User Types')\n",
    "\n",
    "# Show the plot\n",
    "plt.show()"
   ]
  },
  {
   "cell_type": "code",
   "execution_count": 19,
   "id": "ed099a57-0a02-4a99-89b6-1d5f5b071b4e",
   "metadata": {
    "tags": []
   },
   "outputs": [
    {
     "data": {
      "image/png": "[encoded data removed]",
      "text/plain": [
       "<Figure size 640x480 with 1 Axes>"
      ]
     },
     "metadata": {},
     "output_type": "display_data"
    }
   ],
   "source": [
    "# Sample data\n",
    "\n",
    "bogo = transaction_with_labels['difficulty'][transaction_with_labels['label'] == 'bogo buyers']\n",
    "discount = transaction_with_labels['difficulty'][transaction_with_labels['label'] == 'discount buyers']\n",
    "\n",
    "\n",
    "# Create a figure and axis object\n",
    "fig, ax = plt.subplots()\n",
    "\n",
    "\n",
    "ax.boxplot(bogo, vert=False, positions=[1], widths=0.5)\n",
    "\n",
    "ax.boxplot(discount, vert=False, positions=[2], widths=0.5)\n",
    "\n",
    "\n",
    "\n",
    "# Set axis labels and title\n",
    "ax.set_yticks([1, 2])\n",
    "ax.set_yticklabels(['Bogo', 'Discount'])\n",
    "ax.set_xlabel('Difficulty')\n",
    "ax.set_title('Box and Whisker Plot of Difficulty by User Types')\n",
    "\n",
    "# Show the plot\n",
    "plt.show()"
   ]
  },
  {
   "cell_type": "code",
   "execution_count": 20,
   "id": "62243dbf-f3fc-4336-9d3b-a96fb9ef65a7",
   "metadata": {
    "tags": []
   },
   "outputs": [
    {
     "data": {
      "image/png": "[encoded data removed]",
      "text/plain": [
       "<Figure size 640x480 with 1 Axes>"
      ]
     },
     "metadata": {},
     "output_type": "display_data"
    }
   ],
   "source": [
    "bogo = transaction_with_labels['reward'][transaction_with_labels['label'] == 'bogo buyers']\n",
    "discount = transaction_with_labels['reward'][transaction_with_labels['label'] == 'discount buyers']\n",
    "\n",
    "# Create a figure and axis object\n",
    "fig, ax = plt.subplots()\n",
    "\n",
    "\n",
    "ax.boxplot(bogo, vert=False, positions=[1], widths=0.5)\n",
    "\n",
    "ax.boxplot(discount, vert=False, positions=[2], widths=0.5)\n",
    "\n",
    "\n",
    "\n",
    "# Set axis labels and title\n",
    "ax.set_yticks([1, 2])\n",
    "ax.set_yticklabels(['Bogo', 'Discount'])\n",
    "ax.set_xlabel('Reward')\n",
    "ax.set_title('Box and Whisker Plot of Reward by User Types')\n",
    "\n",
    "# Show the plot\n",
    "plt.show()"
   ]
  }
 ],
 "metadata": {
  "availableInstances": [
   {
    "_defaultOrder": 0,
    "_isFastLaunch": true,
    "category": "General purpose",
    "gpuNum": 0,
    "memoryGiB": 4,
    "name": "ml.t3.medium",
    "vcpuNum": 2
   },
   {
    "_defaultOrder": 1,
    "_isFastLaunch": false,
    "category": "General purpose",
    "gpuNum": 0,
    "memoryGiB": 8,
    "name": "ml.t3.large",
    "vcpuNum": 2
   },
   {
    "_defaultOrder": 2,
    "_isFastLaunch": false,
    "category": "General purpose",
    "gpuNum": 0,
    "memoryGiB": 16,
    "name": "ml.t3.xlarge",
    "vcpuNum": 4
   },
   {
    "_defaultOrder": 3,
    "_isFastLaunch": false,
    "category": "General purpose",
    "gpuNum": 0,
    "memoryGiB": 32,
    "name": "ml.t3.2xlarge",
    "vcpuNum": 8
   },
   {
    "_defaultOrder": 4,
    "_isFastLaunch": true,
    "category": "General purpose",
    "gpuNum": 0,
    "memoryGiB": 8,
    "name": "ml.m5.large",
    "vcpuNum": 2
   },
   {
    "_defaultOrder": 5,
    "_isFastLaunch": false,
    "category": "General purpose",
    "gpuNum": 0,
    "memoryGiB": 16,
    "name": "ml.m5.xlarge",
    "vcpuNum": 4
   },
   {
    "_defaultOrder": 6,
    "_isFastLaunch": false,
    "category": "General purpose",
    "gpuNum": 0,
    "memoryGiB": 32,
    "name": "ml.m5.2xlarge",
    "vcpuNum": 8
   },
   {
    "_defaultOrder": 7,
    "_isFastLaunch": false,
    "category": "General purpose",
    "gpuNum": 0,
    "memoryGiB": 64,
    "name": "ml.m5.4xlarge",
    "vcpuNum": 16
   },
   {
    "_defaultOrder": 8,
    "_isFastLaunch": false,
    "category": "General purpose",
    "gpuNum": 0,
    "memoryGiB": 128,
    "name": "ml.m5.8xlarge",
    "vcpuNum": 32
   },
   {
    "_defaultOrder": 9,
    "_isFastLaunch": false,
    "category": "General purpose",
    "gpuNum": 0,
    "memoryGiB": 192,
    "name": "ml.m5.12xlarge",
    "vcpuNum": 48
   },
   {
    "_defaultOrder": 10,
    "_isFastLaunch": false,
    "category": "General purpose",
    "gpuNum": 0,
    "memoryGiB": 256,
    "name": "ml.m5.16xlarge",
    "vcpuNum": 64
   },
   {
    "_defaultOrder": 11,
    "_isFastLaunch": false,
    "category": "General purpose",
    "gpuNum": 0,
    "memoryGiB": 384,
    "name": "ml.m5.24xlarge",
    "vcpuNum": 96
   },
   {
    "_defaultOrder": 12,
    "_isFastLaunch": false,
    "category": "General purpose",
    "gpuNum": 0,
    "memoryGiB": 8,
    "name": "ml.m5d.large",
    "vcpuNum": 2
   },
   {
    "_defaultOrder": 13,
    "_isFastLaunch": false,
    "category": "General purpose",
    "gpuNum": 0,
    "memoryGiB": 16,
    "name": "ml.m5d.xlarge",
    "vcpuNum": 4
   },
   {
    "_defaultOrder": 14,
    "_isFastLaunch": false,
    "category": "General purpose",
    "gpuNum": 0,
    "memoryGiB": 32,
    "name": "ml.m5d.2xlarge",
    "vcpuNum": 8
   },
   {
    "_defaultOrder": 15,
    "_isFastLaunch": false,
    "category": "General purpose",
    "gpuNum": 0,
    "memoryGiB": 64,
    "name": "ml.m5d.4xlarge",
    "vcpuNum": 16
   },
   {
    "_defaultOrder": 16,
    "_isFastLaunch": false,
    "category": "General purpose",
    "gpuNum": 0,
    "memoryGiB": 128,
    "name": "ml.m5d.8xlarge",
    "vcpuNum": 32
   },
   {
    "_defaultOrder": 17,
    "_isFastLaunch": false,
    "category": "General purpose",
    "gpuNum": 0,
    "memoryGiB": 192,
    "name": "ml.m5d.12xlarge",
    "vcpuNum": 48
   },
   {
    "_defaultOrder": 18,
    "_isFastLaunch": false,
    "category": "General purpose",
    "gpuNum": 0,
    "memoryGiB": 256,
    "name": "ml.m5d.16xlarge",
    "vcpuNum": 64
   },
   {
    "_defaultOrder": 19,
    "_isFastLaunch": false,
    "category": "General purpose",
    "gpuNum": 0,
    "memoryGiB": 384,
    "name": "ml.m5d.24xlarge",
    "vcpuNum": 96
   },
   {
    "_defaultOrder": 20,
    "_isFastLaunch": true,
    "category": "Compute optimized",
    "gpuNum": 0,
    "memoryGiB": 4,
    "name": "ml.c5.large",
    "vcpuNum": 2
   },
   {
    "_defaultOrder": 21,
    "_isFastLaunch": false,
    "category": "Compute optimized",
    "gpuNum": 0,
    "memoryGiB": 8,
    "name": "ml.c5.xlarge",
    "vcpuNum": 4
   },
   {
    "_defaultOrder": 22,
    "_isFastLaunch": false,
    "category": "Compute optimized",
    "gpuNum": 0,
    "memoryGiB": 16,
    "name": "ml.c5.2xlarge",
    "vcpuNum": 8
   },
   {
    "_defaultOrder": 23,
    "_isFastLaunch": false,
    "category": "Compute optimized",
    "gpuNum": 0,
    "memoryGiB": 32,
    "name": "ml.c5.4xlarge",
    "vcpuNum": 16
   },
   {
    "_defaultOrder": 24,
    "_isFastLaunch": false,
    "category": "Compute optimized",
    "gpuNum": 0,
    "memoryGiB": 72,
    "name": "ml.c5.9xlarge",
    "vcpuNum": 36
   },
   {
    "_defaultOrder": 25,
    "_isFastLaunch": false,
    "category": "Compute optimized",
    "gpuNum": 0,
    "memoryGiB": 96,
    "name": "ml.c5.12xlarge",
    "vcpuNum": 48
   },
   {
    "_defaultOrder": 26,
    "_isFastLaunch": false,
    "category": "Compute optimized",
    "gpuNum": 0,
    "memoryGiB": 144,
    "name": "ml.c5.18xlarge",
    "vcpuNum": 72
   },
   {
    "_defaultOrder": 27,
    "_isFastLaunch": false,
    "category": "Compute optimized",
    "gpuNum": 0,
    "memoryGiB": 192,
    "name": "ml.c5.24xlarge",
    "vcpuNum": 96
   },
   {
    "_defaultOrder": 28,
    "_isFastLaunch": true,
    "category": "Accelerated computing",
    "gpuNum": 1,
    "memoryGiB": 16,
    "name": "ml.g4dn.xlarge",
    "vcpuNum": 4
   },
   {
    "_defaultOrder": 29,
    "_isFastLaunch": false,
    "category": "Accelerated computing",
    "gpuNum": 1,
    "memoryGiB": 32,
    "name": "ml.g4dn.2xlarge",
    "vcpuNum": 8
   },
   {
    "_defaultOrder": 30,
    "_isFastLaunch": false,
    "category": "Accelerated computing",
    "gpuNum": 1,
    "memoryGiB": 64,
    "name": "ml.g4dn.4xlarge",
    "vcpuNum": 16
   },
   {
    "_defaultOrder": 31,
    "_isFastLaunch": false,
    "category": "Accelerated computing",
    "gpuNum": 1,
    "memoryGiB": 128,
    "name": "ml.g4dn.8xlarge",
    "vcpuNum": 32
   },
   {
    "_defaultOrder": 32,
    "_isFastLaunch": false,
    "category": "Accelerated computing",
    "gpuNum": 4,
    "memoryGiB": 192,
    "name": "ml.g4dn.12xlarge",
    "vcpuNum": 48
   },
   {
    "_defaultOrder": 33,
    "_isFastLaunch": false,
    "category": "Accelerated computing",
    "gpuNum": 1,
    "memoryGiB": 256,
    "name": "ml.g4dn.16xlarge",
    "vcpuNum": 64
   },
   {
    "_defaultOrder": 34,
    "_isFastLaunch": false,
    "category": "Accelerated computing",
    "gpuNum": 1,
    "memoryGiB": 61,
    "name": "ml.p3.2xlarge",
    "vcpuNum": 8
   },
   {
    "_defaultOrder": 35,
    "_isFastLaunch": false,
    "category": "Accelerated computing",
    "gpuNum": 4,
    "memoryGiB": 244,
    "name": "ml.p3.8xlarge",
    "vcpuNum": 32
   },
   {
    "_defaultOrder": 36,
    "_isFastLaunch": false,
    "category": "Accelerated computing",
    "gpuNum": 8,
    "memoryGiB": 488,
    "name": "ml.p3.16xlarge",
    "vcpuNum": 64
   },
   {
    "_defaultOrder": 37,
    "_isFastLaunch": false,
    "category": "Accelerated computing",
    "gpuNum": 8,
    "memoryGiB": 768,
    "name": "ml.p3dn.24xlarge",
    "vcpuNum": 96
   },
   {
    "_defaultOrder": 38,
    "_isFastLaunch": false,
    "category": "Memory Optimized",
    "gpuNum": 0,
    "memoryGiB": 16,
    "name": "ml.r5.large",
    "vcpuNum": 2
   },
   {
    "_defaultOrder": 39,
    "_isFastLaunch": false,
    "category": "Memory Optimized",
    "gpuNum": 0,
    "memoryGiB": 32,
    "name": "ml.r5.xlarge",
    "vcpuNum": 4
   },
   {
    "_defaultOrder": 40,
    "_isFastLaunch": false,
    "category": "Memory Optimized",
    "gpuNum": 0,
    "memoryGiB": 64,
    "name": "ml.r5.2xlarge",
    "vcpuNum": 8
   },
   {
    "_defaultOrder": 41,
    "_isFastLaunch": false,
    "category": "Memory Optimized",
    "gpuNum": 0,
    "memoryGiB": 128,
    "name": "ml.r5.4xlarge",
    "vcpuNum": 16
   },
   {
    "_defaultOrder": 42,
    "_isFastLaunch": false,
    "category": "Memory Optimized",
    "gpuNum": 0,
    "memoryGiB": 256,
    "name": "ml.r5.8xlarge",
    "vcpuNum": 32
   },
   {
    "_defaultOrder": 43,
    "_isFastLaunch": false,
    "category": "Memory Optimized",
    "gpuNum": 0,
    "memoryGiB": 384,
    "name": "ml.r5.12xlarge",
    "vcpuNum": 48
   },
   {
    "_defaultOrder": 44,
    "_isFastLaunch": false,
    "category": "Memory Optimized",
    "gpuNum": 0,
    "memoryGiB": 512,
    "name": "ml.r5.16xlarge",
    "vcpuNum": 64
   },
   {
    "_defaultOrder": 45,
    "_isFastLaunch": false,
    "category": "Memory Optimized",
    "gpuNum": 0,
    "memoryGiB": 768,
    "name": "ml.r5.24xlarge",
    "vcpuNum": 96
   },
   {
    "_defaultOrder": 46,
    "_isFastLaunch": false,
    "category": "Accelerated computing",
    "gpuNum": 1,
    "memoryGiB": 16,
    "name": "ml.g5.xlarge",
    "vcpuNum": 4
   },
   {
    "_defaultOrder": 47,
    "_isFastLaunch": false,
    "category": "Accelerated computing",
    "gpuNum": 1,
    "memoryGiB": 32,
    "name": "ml.g5.2xlarge",
    "vcpuNum": 8
   },
   {
    "_defaultOrder": 48,
    "_isFastLaunch": false,
    "category": "Accelerated computing",
    "gpuNum": 1,
    "memoryGiB": 64,
    "name": "ml.g5.4xlarge",
    "vcpuNum": 16
   },
   {
    "_defaultOrder": 49,
    "_isFastLaunch": false,
    "category": "Accelerated computing",
    "gpuNum": 1,
    "memoryGiB": 128,
    "name": "ml.g5.8xlarge",
    "vcpuNum": 32
   },
   {
    "_defaultOrder": 50,
    "_isFastLaunch": false,
    "category": "Accelerated computing",
    "gpuNum": 1,
    "memoryGiB": 256,
    "name": "ml.g5.16xlarge",
    "vcpuNum": 64
   },
   {
    "_defaultOrder": 51,
    "_isFastLaunch": false,
    "category": "Accelerated computing",
    "gpuNum": 4,
    "memoryGiB": 192,
    "name": "ml.g5.12xlarge",
    "vcpuNum": 48
   },
   {
    "_defaultOrder": 52,
    "_isFastLaunch": false,
    "category": "Accelerated computing",
    "gpuNum": 4,
    "memoryGiB": 384,
    "name": "ml.g5.24xlarge",
    "vcpuNum": 96
   },
   {
    "_defaultOrder": 53,
    "_isFastLaunch": false,
    "category": "Accelerated computing",
    "gpuNum": 8,
    "memoryGiB": 768,
    "name": "ml.g5.48xlarge",
    "vcpuNum": 192
   }
  ],
  "instance_type": "ml.t3.medium",
  "kernelspec": {
   "display_name": "Python 3 (Data Science)",
   "language": "python",
   "name": "python3__SAGEMAKER_INTERNAL__arn:aws:sagemaker:us-east-1:081325390199:image/datascience-1.0"
  },
  "language_info": {
   "codemirror_mode": {
    "name": "ipython",
    "version": 3
   },
   "file_extension": ".py",
   "mimetype": "text/x-python",
   "name": "python",
   "nbconvert_exporter": "python",
   "pygments_lexer": "ipython3",
   "version": "3.7.10"
  }
 },
 "nbformat": 4,
 "nbformat_minor": 5
}
