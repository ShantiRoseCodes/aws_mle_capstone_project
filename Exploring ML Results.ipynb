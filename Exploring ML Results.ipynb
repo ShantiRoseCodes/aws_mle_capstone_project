{
 "cells": [
  {
   "cell_type": "code",
   "execution_count": 3,
   "id": "ec956c0e-bdcb-4611-8b23-2b4aae6c149d",
   "metadata": {
    "tags": []
   },
   "outputs": [],
   "source": [
    "import matplotlib.pyplot as plt\n",
    "import pandas as pd\n",
    "import numpy as np\n",
    "import seaborn as sns\n",
    "import os\n",
    "\n",
    "transaction_with_labels = pd.read_csv('data/transaction_with_labels.csv')"
   ]
  },
  {
   "cell_type": "code",
   "execution_count": 5,
   "id": "404c633a-81a7-414d-a8ec-99fd24d26607",
   "metadata": {
    "tags": []
   },
   "outputs": [
    {
     "data": {
      "text/html": [
       "<div>\n",
       "<style scoped>\n",
       "    .dataframe tbody tr th:only-of-type {\n",
       "        vertical-align: middle;\n",
       "    }\n",
       "\n",
       "    .dataframe tbody tr th {\n",
       "        vertical-align: top;\n",
       "    }\n",
       "\n",
       "    .dataframe thead th {\n",
       "        text-align: right;\n",
       "    }\n",
       "</style>\n",
       "<table border=\"1\" class=\"dataframe\">\n",
       "  <thead>\n",
       "    <tr style=\"text-align: right;\">\n",
       "      <th></th>\n",
       "      <th>age</th>\n",
       "      <th>completed</th>\n",
       "    </tr>\n",
       "  </thead>\n",
       "  <tbody>\n",
       "    <tr>\n",
       "      <th>0</th>\n",
       "      <td>55</td>\n",
       "      <td>0.0</td>\n",
       "    </tr>\n",
       "    <tr>\n",
       "      <th>1</th>\n",
       "      <td>55</td>\n",
       "      <td>0.0</td>\n",
       "    </tr>\n",
       "    <tr>\n",
       "      <th>2</th>\n",
       "      <td>55</td>\n",
       "      <td>0.0</td>\n",
       "    </tr>\n",
       "    <tr>\n",
       "      <th>3</th>\n",
       "      <td>55</td>\n",
       "      <td>0.0</td>\n",
       "    </tr>\n",
       "    <tr>\n",
       "      <th>4</th>\n",
       "      <td>75</td>\n",
       "      <td>1.0</td>\n",
       "    </tr>\n",
       "    <tr>\n",
       "      <th>...</th>\n",
       "      <td>...</td>\n",
       "      <td>...</td>\n",
       "    </tr>\n",
       "    <tr>\n",
       "      <th>148668</th>\n",
       "      <td>62</td>\n",
       "      <td>0.0</td>\n",
       "    </tr>\n",
       "    <tr>\n",
       "      <th>148669</th>\n",
       "      <td>62</td>\n",
       "      <td>0.0</td>\n",
       "    </tr>\n",
       "    <tr>\n",
       "      <th>148670</th>\n",
       "      <td>62</td>\n",
       "      <td>0.0</td>\n",
       "    </tr>\n",
       "    <tr>\n",
       "      <th>148671</th>\n",
       "      <td>62</td>\n",
       "      <td>0.0</td>\n",
       "    </tr>\n",
       "    <tr>\n",
       "      <th>148672</th>\n",
       "      <td>62</td>\n",
       "      <td>0.0</td>\n",
       "    </tr>\n",
       "  </tbody>\n",
       "</table>\n",
       "<p>148673 rows × 2 columns</p>\n",
       "</div>"
      ],
      "text/plain": [
       "        age  completed\n",
       "0        55        0.0\n",
       "1        55        0.0\n",
       "2        55        0.0\n",
       "3        55        0.0\n",
       "4        75        1.0\n",
       "...     ...        ...\n",
       "148668   62        0.0\n",
       "148669   62        0.0\n",
       "148670   62        0.0\n",
       "148671   62        0.0\n",
       "148672   62        0.0\n",
       "\n",
       "[148673 rows x 2 columns]"
      ]
     },
     "execution_count": 5,
     "metadata": {},
     "output_type": "execute_result"
    }
   ],
   "source": [
    "transaction_with_labels[['age', 'completed']]"
   ]
  },
  {
   "cell_type": "code",
   "execution_count": 8,
   "id": "5ed72cbe-0a34-4ebe-a375-c9c8c2a6dedb",
   "metadata": {
    "tags": []
   },
   "outputs": [
    {
     "data": {
      "text/html": [
       "<div>\n",
       "<style scoped>\n",
       "    .dataframe tbody tr th:only-of-type {\n",
       "        vertical-align: middle;\n",
       "    }\n",
       "\n",
       "    .dataframe tbody tr th {\n",
       "        vertical-align: top;\n",
       "    }\n",
       "\n",
       "    .dataframe thead th {\n",
       "        text-align: right;\n",
       "    }\n",
       "</style>\n",
       "<table border=\"1\" class=\"dataframe\">\n",
       "  <thead>\n",
       "    <tr style=\"text-align: right;\">\n",
       "      <th></th>\n",
       "      <th>age</th>\n",
       "      <th>gender</th>\n",
       "      <th>income</th>\n",
       "      <th>became_member_on</th>\n",
       "      <th>membership_duration</th>\n",
       "      <th>person</th>\n",
       "      <th>event</th>\n",
       "      <th>time</th>\n",
       "      <th>amount_spent</th>\n",
       "      <th>offer_received</th>\n",
       "      <th>...</th>\n",
       "      <th>social</th>\n",
       "      <th>mobile</th>\n",
       "      <th>duration_hr</th>\n",
       "      <th>received_viewed</th>\n",
       "      <th>viewed_completed</th>\n",
       "      <th>received_completed_diff</th>\n",
       "      <th>duration_diff</th>\n",
       "      <th>valid_complete</th>\n",
       "      <th>completed</th>\n",
       "      <th>label</th>\n",
       "    </tr>\n",
       "  </thead>\n",
       "  <tbody>\n",
       "    <tr>\n",
       "      <th>0</th>\n",
       "      <td>55</td>\n",
       "      <td>F</td>\n",
       "      <td>112000.0</td>\n",
       "      <td>2017-07-15</td>\n",
       "      <td>376</td>\n",
       "      <td>0610b486422d4921ae7d2bf64640c50b</td>\n",
       "      <td>transaction</td>\n",
       "      <td>18</td>\n",
       "      <td>21.51</td>\n",
       "      <td>1</td>\n",
       "      <td>...</td>\n",
       "      <td>0</td>\n",
       "      <td>1</td>\n",
       "      <td>96</td>\n",
       "      <td>-504.0</td>\n",
       "      <td>0.0</td>\n",
       "      <td>-504.0</td>\n",
       "      <td>600.0</td>\n",
       "      <td>0</td>\n",
       "      <td>0.0</td>\n",
       "      <td>buy without offer</td>\n",
       "    </tr>\n",
       "    <tr>\n",
       "      <th>1</th>\n",
       "      <td>55</td>\n",
       "      <td>F</td>\n",
       "      <td>112000.0</td>\n",
       "      <td>2017-07-15</td>\n",
       "      <td>376</td>\n",
       "      <td>0610b486422d4921ae7d2bf64640c50b</td>\n",
       "      <td>transaction</td>\n",
       "      <td>144</td>\n",
       "      <td>32.28</td>\n",
       "      <td>1</td>\n",
       "      <td>...</td>\n",
       "      <td>0</td>\n",
       "      <td>1</td>\n",
       "      <td>96</td>\n",
       "      <td>-504.0</td>\n",
       "      <td>0.0</td>\n",
       "      <td>-504.0</td>\n",
       "      <td>600.0</td>\n",
       "      <td>0</td>\n",
       "      <td>0.0</td>\n",
       "      <td>buy without offer</td>\n",
       "    </tr>\n",
       "    <tr>\n",
       "      <th>2</th>\n",
       "      <td>55</td>\n",
       "      <td>F</td>\n",
       "      <td>112000.0</td>\n",
       "      <td>2017-07-15</td>\n",
       "      <td>376</td>\n",
       "      <td>0610b486422d4921ae7d2bf64640c50b</td>\n",
       "      <td>transaction</td>\n",
       "      <td>528</td>\n",
       "      <td>23.22</td>\n",
       "      <td>1</td>\n",
       "      <td>...</td>\n",
       "      <td>0</td>\n",
       "      <td>1</td>\n",
       "      <td>168</td>\n",
       "      <td>-408.0</td>\n",
       "      <td>528.0</td>\n",
       "      <td>120.0</td>\n",
       "      <td>48.0</td>\n",
       "      <td>0</td>\n",
       "      <td>0.0</td>\n",
       "      <td>buy without offer</td>\n",
       "    </tr>\n",
       "    <tr>\n",
       "      <th>3</th>\n",
       "      <td>55</td>\n",
       "      <td>F</td>\n",
       "      <td>112000.0</td>\n",
       "      <td>2017-07-15</td>\n",
       "      <td>376</td>\n",
       "      <td>0610b486422d4921ae7d2bf64640c50b</td>\n",
       "      <td>transaction</td>\n",
       "      <td>528</td>\n",
       "      <td>23.22</td>\n",
       "      <td>1</td>\n",
       "      <td>...</td>\n",
       "      <td>0</td>\n",
       "      <td>1</td>\n",
       "      <td>96</td>\n",
       "      <td>-504.0</td>\n",
       "      <td>0.0</td>\n",
       "      <td>-504.0</td>\n",
       "      <td>600.0</td>\n",
       "      <td>0</td>\n",
       "      <td>0.0</td>\n",
       "      <td>buy without offer</td>\n",
       "    </tr>\n",
       "    <tr>\n",
       "      <th>4</th>\n",
       "      <td>75</td>\n",
       "      <td>F</td>\n",
       "      <td>100000.0</td>\n",
       "      <td>2017-05-09</td>\n",
       "      <td>443</td>\n",
       "      <td>78afa995795e4d85b5d9ceeca43f5fef</td>\n",
       "      <td>transaction</td>\n",
       "      <td>132</td>\n",
       "      <td>19.89</td>\n",
       "      <td>1</td>\n",
       "      <td>...</td>\n",
       "      <td>0</td>\n",
       "      <td>1</td>\n",
       "      <td>168</td>\n",
       "      <td>6.0</td>\n",
       "      <td>126.0</td>\n",
       "      <td>132.0</td>\n",
       "      <td>36.0</td>\n",
       "      <td>1</td>\n",
       "      <td>1.0</td>\n",
       "      <td>bogo buyers</td>\n",
       "    </tr>\n",
       "  </tbody>\n",
       "</table>\n",
       "<p>5 rows × 35 columns</p>\n",
       "</div>"
      ],
      "text/plain": [
       "   age gender    income became_member_on  membership_duration  \\\n",
       "0   55      F  112000.0       2017-07-15                  376   \n",
       "1   55      F  112000.0       2017-07-15                  376   \n",
       "2   55      F  112000.0       2017-07-15                  376   \n",
       "3   55      F  112000.0       2017-07-15                  376   \n",
       "4   75      F  100000.0       2017-05-09                  443   \n",
       "\n",
       "                             person        event  time  amount_spent  \\\n",
       "0  0610b486422d4921ae7d2bf64640c50b  transaction    18         21.51   \n",
       "1  0610b486422d4921ae7d2bf64640c50b  transaction   144         32.28   \n",
       "2  0610b486422d4921ae7d2bf64640c50b  transaction   528         23.22   \n",
       "3  0610b486422d4921ae7d2bf64640c50b  transaction   528         23.22   \n",
       "4  78afa995795e4d85b5d9ceeca43f5fef  transaction   132         19.89   \n",
       "\n",
       "   offer_received  ...  social mobile  duration_hr  received_viewed  \\\n",
       "0               1  ...       0      1           96           -504.0   \n",
       "1               1  ...       0      1           96           -504.0   \n",
       "2               1  ...       0      1          168           -408.0   \n",
       "3               1  ...       0      1           96           -504.0   \n",
       "4               1  ...       0      1          168              6.0   \n",
       "\n",
       "   viewed_completed  received_completed_diff  duration_diff  valid_complete  \\\n",
       "0               0.0                   -504.0          600.0               0   \n",
       "1               0.0                   -504.0          600.0               0   \n",
       "2             528.0                    120.0           48.0               0   \n",
       "3               0.0                   -504.0          600.0               0   \n",
       "4             126.0                    132.0           36.0               1   \n",
       "\n",
       "  completed              label  \n",
       "0       0.0  buy without offer  \n",
       "1       0.0  buy without offer  \n",
       "2       0.0  buy without offer  \n",
       "3       0.0  buy without offer  \n",
       "4       1.0        bogo buyers  \n",
       "\n",
       "[5 rows x 35 columns]"
      ]
     },
     "execution_count": 8,
     "metadata": {},
     "output_type": "execute_result"
    }
   ],
   "source": [
    "transaction_with_labels.head()"
   ]
  },
  {
   "cell_type": "code",
   "execution_count": 23,
   "id": "c5839502-7128-4736-aa61-1e63763b1868",
   "metadata": {
    "tags": []
   },
   "outputs": [
    {
     "name": "stdout",
     "output_type": "stream",
     "text": [
      "<class 'pandas.core.frame.DataFrame'>\n",
      "RangeIndex: 148673 entries, 0 to 148672\n",
      "Data columns (total 35 columns):\n",
      " #   Column                   Non-Null Count   Dtype  \n",
      "---  ------                   --------------   -----  \n",
      " 0   age                      148673 non-null  int64  \n",
      " 1   gender                   148673 non-null  object \n",
      " 2   income                   148673 non-null  float64\n",
      " 3   became_member_on         148673 non-null  object \n",
      " 4   membership_duration      148673 non-null  int64  \n",
      " 5   person                   148673 non-null  object \n",
      " 6   event                    148673 non-null  object \n",
      " 7   time                     148673 non-null  int64  \n",
      " 8   amount_spent             148673 non-null  float64\n",
      " 9   offer_received           148673 non-null  int64  \n",
      " 10  time_received            148673 non-null  int64  \n",
      " 11  offer_id                 148673 non-null  object \n",
      " 12  offer_viewed             148673 non-null  int64  \n",
      " 13  time_viewed              148673 non-null  float64\n",
      " 14  offer_completed          148673 non-null  int64  \n",
      " 15  time_completed           148673 non-null  float64\n",
      " 16  reward_received          148673 non-null  float64\n",
      " 17  offer                    148673 non-null  int64  \n",
      " 18  offer_type               148673 non-null  object \n",
      " 19  difficulty               148673 non-null  int64  \n",
      " 20  duration                 148673 non-null  int64  \n",
      " 21  reward                   148673 non-null  int64  \n",
      " 22  channels                 148673 non-null  object \n",
      " 23  web                      148673 non-null  int64  \n",
      " 24  email                    148673 non-null  int64  \n",
      " 25  social                   148673 non-null  int64  \n",
      " 26  mobile                   148673 non-null  int64  \n",
      " 27  duration_hr              148673 non-null  int64  \n",
      " 28  received_viewed          148673 non-null  float64\n",
      " 29  viewed_completed         148673 non-null  float64\n",
      " 30  received_completed_diff  148673 non-null  float64\n",
      " 31  duration_diff            148673 non-null  float64\n",
      " 32  valid_complete           148673 non-null  int64  \n",
      " 33  completed                148673 non-null  float64\n",
      " 34  label                    148673 non-null  object \n",
      "dtypes: float64(10), int64(17), object(8)\n",
      "memory usage: 39.7+ MB\n"
     ]
    }
   ],
   "source": [
    "transaction_with_labels.info()"
   ]
  },
  {
   "cell_type": "code",
   "execution_count": 4,
   "id": "5c3de4c9-153c-47ad-9c41-1626c52e941c",
   "metadata": {
    "tags": []
   },
   "outputs": [
    {
     "data": {
      "image/png": "[encoded data removed]",
      "text/plain": [
       "<Figure size 640x480 with 1 Axes>"
      ]
     },
     "metadata": {},
     "output_type": "display_data"
    }
   ],
   "source": [
    "plt.hist(transaction_with_labels['age'][transaction_with_labels['label'] == 'buy without offer'], bins=8, alpha=0.5, label='Buys Without Offer')\n",
    "plt.hist(transaction_with_labels['age'][transaction_with_labels['label'] == 'bogo buyers'], bins=8, alpha=0.5, label='BOGO Buyers')\n",
    "plt.hist(transaction_with_labels['age'][transaction_with_labels['label'] == 'discount buyers'], bins=8, alpha=0.5, label='Discount Buyers')\n",
    "plt.hist(transaction_with_labels['age'][transaction_with_labels['label'] == 'informational buyers'], bins=8, alpha=0.5, label='Informational Buyers')\n",
    "\n",
    "plt.legend(loc='upper right')\n",
    "\n",
    "# add labels and title\n",
    "plt.xlabel('Age')\n",
    "plt.ylabel('Count')\n",
    "plt.title('Various User Types by Age')\n",
    "\n",
    "plt.show()\n",
    "\n",
    "# plt.savefig(os.path.join('photos/user_types_age.png'), dpi=300, format='png', bbox_inches='tight') # use format='svg' or 'pdf' for vectorial pictures"
   ]
  },
  {
   "cell_type": "code",
   "execution_count": 5,
   "id": "d16082ca-1e02-47f2-bebe-477813517eb9",
   "metadata": {
    "tags": []
   },
   "outputs": [
    {
     "name": "stdout",
     "output_type": "stream",
     "text": [
      "count    68347.000000\n",
      "mean        53.172356\n",
      "std         18.005742\n",
      "min         18.000000\n",
      "25%         40.000000\n",
      "50%         54.000000\n",
      "75%         66.000000\n",
      "max        101.000000\n",
      "Name: age, dtype: float64\n",
      "count    11562.00000\n",
      "mean        55.99853\n",
      "std         16.61628\n",
      "min         18.00000\n",
      "25%         45.00000\n",
      "50%         56.00000\n",
      "75%         67.00000\n",
      "max        101.00000\n",
      "Name: age, dtype: float64\n",
      "count    13377.000000\n",
      "mean        55.336697\n",
      "std         16.746758\n",
      "min         18.000000\n",
      "25%         44.000000\n",
      "50%         56.000000\n",
      "75%         67.000000\n",
      "max        101.000000\n",
      "Name: age, dtype: float64\n",
      "count    55387.000000\n",
      "mean        52.997870\n",
      "std         17.679476\n",
      "min         18.000000\n",
      "25%         40.000000\n",
      "50%         54.000000\n",
      "75%         66.000000\n",
      "max        101.000000\n",
      "Name: age, dtype: float64\n"
     ]
    }
   ],
   "source": [
    "print(transaction_with_labels['age'][transaction_with_labels['label'] == 'buy without offer'].describe())\n",
    "print(transaction_with_labels['age'][transaction_with_labels['label'] == 'bogo buyers'].describe())\n",
    "print(transaction_with_labels['age'][transaction_with_labels['label'] == 'discount buyers'].describe())\n",
    "print(transaction_with_labels['age'][transaction_with_labels['label'] == 'informational buyers'].describe())\n"
   ]
  },
  {
   "cell_type": "code",
   "execution_count": 36,
   "id": "f3374a94-9b1b-4c4e-a238-688b54c69a4a",
   "metadata": {
    "tags": []
   },
   "outputs": [
    {
     "data": {
      "image/png": "[encoded data removed]",
      "text/plain": [
       "<Figure size 640x480 with 1 Axes>"
      ]
     },
     "metadata": {},
     "output_type": "display_data"
    }
   ],
   "source": [
    "plt.hist(transaction_with_labels['membership_duration'][transaction_with_labels['label'] == 'buy without offer'], bins=8, alpha=0.5, label='Buys Without Offer')\n",
    "plt.hist(transaction_with_labels['membership_duration'][transaction_with_labels['label'] == 'bogo buyers'], bins=8, alpha=0.5, label='BOGO Buyers')\n",
    "plt.hist(transaction_with_labels['membership_duration'][transaction_with_labels['label'] == 'discount buyers'], bins=8, alpha=0.5, label='Discount Buyers')\n",
    "plt.hist(transaction_with_labels['membership_duration'][transaction_with_labels['label'] == 'informational buyers'], bins=8, alpha=0.5, label='Informational Buyers')\n",
    "\n",
    "plt.legend(loc='upper right')\n",
    "\n",
    "# add labels and title\n",
    "plt.xlabel('Member Duration')\n",
    "plt.ylabel('Count')\n",
    "plt.title('Various User Types by Member Duration')\n",
    "\n",
    "plt.show()\n",
    "# plt.savefig(os.path.join('photos/user_types_membership.png'), dpi=300, format='png', bbox_inches='tight') # use format='svg' or 'pdf' for vectorial pictures"
   ]
  },
  {
   "cell_type": "code",
   "execution_count": 6,
   "id": "71a07900-e27a-4b82-ac02-b684f1a555da",
   "metadata": {
    "tags": []
   },
   "outputs": [
    {
     "name": "stdout",
     "output_type": "stream",
     "text": [
      "count    68347.000000\n",
      "mean       627.822889\n",
      "std        441.977875\n",
      "min          0.000000\n",
      "25%        272.000000\n",
      "50%        546.000000\n",
      "75%        906.000000\n",
      "max       1823.000000\n",
      "Name: membership_duration, dtype: float64\n",
      "count    11562.000000\n",
      "mean       588.864470\n",
      "std        383.797403\n",
      "min          0.000000\n",
      "25%        279.000000\n",
      "50%        530.000000\n",
      "75%        854.000000\n",
      "max       1823.000000\n",
      "Name: membership_duration, dtype: float64\n",
      "count    13377.000000\n",
      "mean       608.553712\n",
      "std        416.867914\n",
      "min          0.000000\n",
      "25%        268.000000\n",
      "50%        542.000000\n",
      "75%        884.000000\n",
      "max       1823.000000\n",
      "Name: membership_duration, dtype: float64\n",
      "count    55387.000000\n",
      "mean       630.783632\n",
      "std        432.255250\n",
      "min          0.000000\n",
      "25%        276.000000\n",
      "50%        553.000000\n",
      "75%        910.000000\n",
      "max       1822.000000\n",
      "Name: membership_duration, dtype: float64\n"
     ]
    }
   ],
   "source": [
    "print(transaction_with_labels['membership_duration'][transaction_with_labels['label'] == 'buy without offer'].describe())\n",
    "print(transaction_with_labels['membership_duration'][transaction_with_labels['label'] == 'bogo buyers'].describe())\n",
    "print(transaction_with_labels['membership_duration'][transaction_with_labels['label'] == 'discount buyers'].describe())\n",
    "print(transaction_with_labels['membership_duration'][transaction_with_labels['label'] == 'informational buyers'].describe())\n"
   ]
  },
  {
   "cell_type": "code",
   "execution_count": 8,
   "id": "3a818111-7b62-478b-b14e-240110eaec2c",
   "metadata": {},
   "outputs": [
    {
     "data": {
      "image/png": "[encoded data removed]",
      "text/plain": [
       "<Figure size 640x480 with 1 Axes>"
      ]
     },
     "metadata": {},
     "output_type": "display_data"
    }
   ],
   "source": [
    "plt.hist(transaction_with_labels['income'][transaction_with_labels['label'] == 'buy without offer'], bins=8, alpha=0.5, label='Buys Without Offer')\n",
    "plt.hist(transaction_with_labels['income'][transaction_with_labels['label'] == 'bogo buyers'], bins=8, alpha=0.5, label='BOGO Buyers')\n",
    "plt.hist(transaction_with_labels['income'][transaction_with_labels['label'] == 'discount buyers'], bins=8, alpha=0.5, label='Discount Buyers')\n",
    "plt.hist(transaction_with_labels['income'][transaction_with_labels['label'] == 'informational buyers'], bins=8, alpha=0.5, label='Informational Buyers')\n",
    "\n",
    "plt.legend(loc='upper right')\n",
    "\n",
    "# add labels and title\n",
    "plt.xlabel('Income')\n",
    "plt.ylabel('Count')\n",
    "plt.title('Various User Types by Income')\n",
    "\n",
    "plt.show()"
   ]
  },
  {
   "cell_type": "code",
   "execution_count": null,
   "id": "5ba246cc-53f9-413d-b64b-785dddc0ebe4",
   "metadata": {},
   "outputs": [],
   "source": []
  },
  {
   "cell_type": "code",
   "execution_count": 24,
   "id": "0a4698f3-c9ac-401e-9114-185835ffb544",
   "metadata": {
    "tags": []
   },
   "outputs": [
    {
     "data": {
      "image/png": "[encoded data removed]",
      "text/plain": [
       "<Figure size 640x480 with 1 Axes>"
      ]
     },
     "metadata": {},
     "output_type": "display_data"
    }
   ],
   "source": [
    "# Sample data\n",
    "bogo = transaction_with_labels['duration'][transaction_with_labels['label'] == 'bogo buyers']\n",
    "discount = transaction_with_labels['duration'][transaction_with_labels['label'] == 'discount buyers']\n",
    "info = transaction_with_labels['duration'][transaction_with_labels['label'] == 'informational buyers']\n",
    "\n",
    "# Create a figure and axis object\n",
    "fig, ax = plt.subplots()\n",
    "\n",
    "\n",
    "ax.boxplot(bogo, vert=False, positions=[1], widths=0.5)\n",
    "\n",
    "ax.boxplot(discount, vert=False, positions=[2], widths=0.5)\n",
    "\n",
    "ax.boxplot(info, vert=False, positions=[3], widths=0.5)\n",
    "\n",
    "# Set axis labels and title\n",
    "ax.set_yticks([1, 2, 3])\n",
    "ax.set_yticklabels(['Bogo', 'Discount', 'Info'])\n",
    "ax.set_xlabel('Duration')\n",
    "ax.set_title('Box and Whisker Plot of Duration by User Types')\n",
    "\n",
    "# Show the plot\n",
    "plt.show()"
   ]
  },
  {
   "cell_type": "code",
   "execution_count": 19,
   "id": "ed099a57-0a02-4a99-89b6-1d5f5b071b4e",
   "metadata": {
    "tags": []
   },
   "outputs": [
    {
     "data": {
      "image/png": "[encoded data removed]",
      "text/plain": [
       "<Figure size 640x480 with 1 Axes>"
      ]
     },
     "metadata": {},
     "output_type": "display_data"
    }
   ],
   "source": [
    "# Sample data\n",
    "\n",
    "bogo = transaction_with_labels['difficulty'][transaction_with_labels['label'] == 'bogo buyers']\n",
    "discount = transaction_with_labels['difficulty'][transaction_with_labels['label'] == 'discount buyers']\n",
    "\n",
    "\n",
    "# Create a figure and axis object\n",
    "fig, ax = plt.subplots()\n",
    "\n",
    "\n",
    "ax.boxplot(bogo, vert=False, positions=[1], widths=0.5)\n",
    "\n",
    "ax.boxplot(discount, vert=False, positions=[2], widths=0.5)\n",
    "\n",
    "\n",
    "\n",
    "# Set axis labels and title\n",
    "ax.set_yticks([1, 2])\n",
    "ax.set_yticklabels(['Bogo', 'Discount'])\n",
    "ax.set_xlabel('Difficulty')\n",
    "ax.set_title('Box and Whisker Plot of Difficulty by User Types')\n",
    "\n",
    "# Show the plot\n",
    "plt.show()"
   ]
  },
  {
   "cell_type": "code",
   "execution_count": 20,
   "id": "62243dbf-f3fc-4336-9d3b-a96fb9ef65a7",
   "metadata": {
    "tags": []
   },
   "outputs": [
    {
     "data": {
      "image/png": "[encoded data removed]",
      "text/plain": [
       "<Figure size 640x480 with 1 Axes>"
      ]
     },
     "metadata": {},
     "output_type": "display_data"
    }
   ],
   "source": [
    "bogo = transaction_with_labels['reward'][transaction_with_labels['label'] == 'bogo buyers']\n",
    "discount = transaction_with_labels['reward'][transaction_with_labels['label'] == 'discount buyers']\n",
    "\n",
    "# Create a figure and axis object\n",
    "fig, ax = plt.subplots()\n",
    "\n",
    "\n",
    "ax.boxplot(bogo, vert=False, positions=[1], widths=0.5)\n",
    "\n",
    "ax.boxplot(discount, vert=False, positions=[2], widths=0.5)\n",
    "\n",
    "\n",
    "\n",
    "# Set axis labels and title\n",
    "ax.set_yticks([1, 2])\n",
    "ax.set_yticklabels(['Bogo', 'Discount'])\n",
    "ax.set_xlabel('Reward')\n",
    "ax.set_title('Box and Whisker Plot of Reward by User Types')\n",
    "\n",
    "# Show the plot\n",
    "plt.show()"
   ]
  }
 ],
 "metadata": {
  "availableInstances": [
   {
    "_defaultOrder": 0,
    "_isFastLaunch": true,
    "category": "General purpose",
    "gpuNum": 0,
    "memoryGiB": 4,
    "name": "ml.t3.medium",
    "vcpuNum": 2
   },
   {
    "_defaultOrder": 1,
    "_isFastLaunch": false,
    "category": "General purpose",
    "gpuNum": 0,
    "memoryGiB": 8,
    "name": "ml.t3.large",
    "vcpuNum": 2
   },
   {
    "_defaultOrder": 2,
    "_isFastLaunch": false,
    "category": "General purpose",
    "gpuNum": 0,
    "memoryGiB": 16,
    "name": "ml.t3.xlarge",
    "vcpuNum": 4
   },
   {
    "_defaultOrder": 3,
    "_isFastLaunch": false,
    "category": "General purpose",
    "gpuNum": 0,
    "memoryGiB": 32,
    "name": "ml.t3.2xlarge",
    "vcpuNum": 8
   },
   {
    "_defaultOrder": 4,
    "_isFastLaunch": true,
    "category": "General purpose",
    "gpuNum": 0,
    "memoryGiB": 8,
    "name": "ml.m5.large",
    "vcpuNum": 2
   },
   {
    "_defaultOrder": 5,
    "_isFastLaunch": false,
    "category": "General purpose",
    "gpuNum": 0,
    "memoryGiB": 16,
    "name": "ml.m5.xlarge",
    "vcpuNum": 4
   },
   {
    "_defaultOrder": 6,
    "_isFastLaunch": false,
    "category": "General purpose",
    "gpuNum": 0,
    "memoryGiB": 32,
    "name": "ml.m5.2xlarge",
    "vcpuNum": 8
   },
   {
    "_defaultOrder": 7,
    "_isFastLaunch": false,
    "category": "General purpose",
    "gpuNum": 0,
    "memoryGiB": 64,
    "name": "ml.m5.4xlarge",
    "vcpuNum": 16
   },
   {
    "_defaultOrder": 8,
    "_isFastLaunch": false,
    "category": "General purpose",
    "gpuNum": 0,
    "memoryGiB": 128,
    "name": "ml.m5.8xlarge",
    "vcpuNum": 32
   },
   {
    "_defaultOrder": 9,
    "_isFastLaunch": false,
    "category": "General purpose",
    "gpuNum": 0,
    "memoryGiB": 192,
    "name": "ml.m5.12xlarge",
    "vcpuNum": 48
   },
   {
    "_defaultOrder": 10,
    "_isFastLaunch": false,
    "category": "General purpose",
    "gpuNum": 0,
    "memoryGiB": 256,
    "name": "ml.m5.16xlarge",
    "vcpuNum": 64
   },
   {
    "_defaultOrder": 11,
    "_isFastLaunch": false,
    "category": "General purpose",
    "gpuNum": 0,
    "memoryGiB": 384,
    "name": "ml.m5.24xlarge",
    "vcpuNum": 96
   },
   {
    "_defaultOrder": 12,
    "_isFastLaunch": false,
    "category": "General purpose",
    "gpuNum": 0,
    "memoryGiB": 8,
    "name": "ml.m5d.large",
    "vcpuNum": 2
   },
   {
    "_defaultOrder": 13,
    "_isFastLaunch": false,
    "category": "General purpose",
    "gpuNum": 0,
    "memoryGiB": 16,
    "name": "ml.m5d.xlarge",
    "vcpuNum": 4
   },
   {
    "_defaultOrder": 14,
    "_isFastLaunch": false,
    "category": "General purpose",
    "gpuNum": 0,
    "memoryGiB": 32,
    "name": "ml.m5d.2xlarge",
    "vcpuNum": 8
   },
   {
    "_defaultOrder": 15,
    "_isFastLaunch": false,
    "category": "General purpose",
    "gpuNum": 0,
    "memoryGiB": 64,
    "name": "ml.m5d.4xlarge",
    "vcpuNum": 16
   },
   {
    "_defaultOrder": 16,
    "_isFastLaunch": false,
    "category": "General purpose",
    "gpuNum": 0,
    "memoryGiB": 128,
    "name": "ml.m5d.8xlarge",
    "vcpuNum": 32
   },
   {
    "_defaultOrder": 17,
    "_isFastLaunch": false,
    "category": "General purpose",
    "gpuNum": 0,
    "memoryGiB": 192,
    "name": "ml.m5d.12xlarge",
    "vcpuNum": 48
   },
   {
    "_defaultOrder": 18,
    "_isFastLaunch": false,
    "category": "General purpose",
    "gpuNum": 0,
    "memoryGiB": 256,
    "name": "ml.m5d.16xlarge",
    "vcpuNum": 64
   },
   {
    "_defaultOrder": 19,
    "_isFastLaunch": false,
    "category": "General purpose",
    "gpuNum": 0,
    "memoryGiB": 384,
    "name": "ml.m5d.24xlarge",
    "vcpuNum": 96
   },
   {
    "_defaultOrder": 20,
    "_isFastLaunch": true,
    "category": "Compute optimized",
    "gpuNum": 0,
    "memoryGiB": 4,
    "name": "ml.c5.large",
    "vcpuNum": 2
   },
   {
    "_defaultOrder": 21,
    "_isFastLaunch": false,
    "category": "Compute optimized",
    "gpuNum": 0,
    "memoryGiB": 8,
    "name": "ml.c5.xlarge",
    "vcpuNum": 4
   },
   {
    "_defaultOrder": 22,
    "_isFastLaunch": false,
    "category": "Compute optimized",
    "gpuNum": 0,
    "memoryGiB": 16,
    "name": "ml.c5.2xlarge",
    "vcpuNum": 8
   },
   {
    "_defaultOrder": 23,
    "_isFastLaunch": false,
    "category": "Compute optimized",
    "gpuNum": 0,
    "memoryGiB": 32,
    "name": "ml.c5.4xlarge",
    "vcpuNum": 16
   },
   {
    "_defaultOrder": 24,
    "_isFastLaunch": false,
    "category": "Compute optimized",
    "gpuNum": 0,
    "memoryGiB": 72,
    "name": "ml.c5.9xlarge",
    "vcpuNum": 36
   },
   {
    "_defaultOrder": 25,
    "_isFastLaunch": false,
    "category": "Compute optimized",
    "gpuNum": 0,
    "memoryGiB": 96,
    "name": "ml.c5.12xlarge",
    "vcpuNum": 48
   },
   {
    "_defaultOrder": 26,
    "_isFastLaunch": false,
    "category": "Compute optimized",
    "gpuNum": 0,
    "memoryGiB": 144,
    "name": "ml.c5.18xlarge",
    "vcpuNum": 72
   },
   {
    "_defaultOrder": 27,
    "_isFastLaunch": false,
    "category": "Compute optimized",
    "gpuNum": 0,
    "memoryGiB": 192,
    "name": "ml.c5.24xlarge",
    "vcpuNum": 96
   },
   {
    "_defaultOrder": 28,
    "_isFastLaunch": true,
    "category": "Accelerated computing",
    "gpuNum": 1,
    "memoryGiB": 16,
    "name": "ml.g4dn.xlarge",
    "vcpuNum": 4
   },
   {
    "_defaultOrder": 29,
    "_isFastLaunch": false,
    "category": "Accelerated computing",
    "gpuNum": 1,
    "memoryGiB": 32,
    "name": "ml.g4dn.2xlarge",
    "vcpuNum": 8
   },
   {
    "_defaultOrder": 30,
    "_isFastLaunch": false,
    "category": "Accelerated computing",
    "gpuNum": 1,
    "memoryGiB": 64,
    "name": "ml.g4dn.4xlarge",
    "vcpuNum": 16
   },
   {
    "_defaultOrder": 31,
    "_isFastLaunch": false,
    "category": "Accelerated computing",
    "gpuNum": 1,
    "memoryGiB": 128,
    "name": "ml.g4dn.8xlarge",
    "vcpuNum": 32
   },
   {
    "_defaultOrder": 32,
    "_isFastLaunch": false,
    "category": "Accelerated computing",
    "gpuNum": 4,
    "memoryGiB": 192,
    "name": "ml.g4dn.12xlarge",
    "vcpuNum": 48
   },
   {
    "_defaultOrder": 33,
    "_isFastLaunch": false,
    "category": "Accelerated computing",
    "gpuNum": 1,
    "memoryGiB": 256,
    "name": "ml.g4dn.16xlarge",
    "vcpuNum": 64
   },
   {
    "_defaultOrder": 34,
    "_isFastLaunch": false,
    "category": "Accelerated computing",
    "gpuNum": 1,
    "memoryGiB": 61,
    "name": "ml.p3.2xlarge",
    "vcpuNum": 8
   },
   {
    "_defaultOrder": 35,
    "_isFastLaunch": false,
    "category": "Accelerated computing",
    "gpuNum": 4,
    "memoryGiB": 244,
    "name": "ml.p3.8xlarge",
    "vcpuNum": 32
   },
   {
    "_defaultOrder": 36,
    "_isFastLaunch": false,
    "category": "Accelerated computing",
    "gpuNum": 8,
    "memoryGiB": 488,
    "name": "ml.p3.16xlarge",
    "vcpuNum": 64
   },
   {
    "_defaultOrder": 37,
    "_isFastLaunch": false,
    "category": "Accelerated computing",
    "gpuNum": 8,
    "memoryGiB": 768,
    "name": "ml.p3dn.24xlarge",
    "vcpuNum": 96
   },
   {
    "_defaultOrder": 38,
    "_isFastLaunch": false,
    "category": "Memory Optimized",
    "gpuNum": 0,
    "memoryGiB": 16,
    "name": "ml.r5.large",
    "vcpuNum": 2
   },
   {
    "_defaultOrder": 39,
    "_isFastLaunch": false,
    "category": "Memory Optimized",
    "gpuNum": 0,
    "memoryGiB": 32,
    "name": "ml.r5.xlarge",
    "vcpuNum": 4
   },
   {
    "_defaultOrder": 40,
    "_isFastLaunch": false,
    "category": "Memory Optimized",
    "gpuNum": 0,
    "memoryGiB": 64,
    "name": "ml.r5.2xlarge",
    "vcpuNum": 8
   },
   {
    "_defaultOrder": 41,
    "_isFastLaunch": false,
    "category": "Memory Optimized",
    "gpuNum": 0,
    "memoryGiB": 128,
    "name": "ml.r5.4xlarge",
    "vcpuNum": 16
   },
   {
    "_defaultOrder": 42,
    "_isFastLaunch": false,
    "category": "Memory Optimized",
    "gpuNum": 0,
    "memoryGiB": 256,
    "name": "ml.r5.8xlarge",
    "vcpuNum": 32
   },
   {
    "_defaultOrder": 43,
    "_isFastLaunch": false,
    "category": "Memory Optimized",
    "gpuNum": 0,
    "memoryGiB": 384,
    "name": "ml.r5.12xlarge",
    "vcpuNum": 48
   },
   {
    "_defaultOrder": 44,
    "_isFastLaunch": false,
    "category": "Memory Optimized",
    "gpuNum": 0,
    "memoryGiB": 512,
    "name": "ml.r5.16xlarge",
    "vcpuNum": 64
   },
   {
    "_defaultOrder": 45,
    "_isFastLaunch": false,
    "category": "Memory Optimized",
    "gpuNum": 0,
    "memoryGiB": 768,
    "name": "ml.r5.24xlarge",
    "vcpuNum": 96
   },
   {
    "_defaultOrder": 46,
    "_isFastLaunch": false,
    "category": "Accelerated computing",
    "gpuNum": 1,
    "memoryGiB": 16,
    "name": "ml.g5.xlarge",
    "vcpuNum": 4
   },
   {
    "_defaultOrder": 47,
    "_isFastLaunch": false,
    "category": "Accelerated computing",
    "gpuNum": 1,
    "memoryGiB": 32,
    "name": "ml.g5.2xlarge",
    "vcpuNum": 8
   },
   {
    "_defaultOrder": 48,
    "_isFastLaunch": false,
    "category": "Accelerated computing",
    "gpuNum": 1,
    "memoryGiB": 64,
    "name": "ml.g5.4xlarge",
    "vcpuNum": 16
   },
   {
    "_defaultOrder": 49,
    "_isFastLaunch": false,
    "category": "Accelerated computing",
    "gpuNum": 1,
    "memoryGiB": 128,
    "name": "ml.g5.8xlarge",
    "vcpuNum": 32
   },
   {
    "_defaultOrder": 50,
    "_isFastLaunch": false,
    "category": "Accelerated computing",
    "gpuNum": 1,
    "memoryGiB": 256,
    "name": "ml.g5.16xlarge",
    "vcpuNum": 64
   },
   {
    "_defaultOrder": 51,
    "_isFastLaunch": false,
    "category": "Accelerated computing",
    "gpuNum": 4,
    "memoryGiB": 192,
    "name": "ml.g5.12xlarge",
    "vcpuNum": 48
   },
   {
    "_defaultOrder": 52,
    "_isFastLaunch": false,
    "category": "Accelerated computing",
    "gpuNum": 4,
    "memoryGiB": 384,
    "name": "ml.g5.24xlarge",
    "vcpuNum": 96
   },
   {
    "_defaultOrder": 53,
    "_isFastLaunch": false,
    "category": "Accelerated computing",
    "gpuNum": 8,
    "memoryGiB": 768,
    "name": "ml.g5.48xlarge",
    "vcpuNum": 192
   }
  ],
  "instance_type": "ml.t3.medium",
  "kernelspec": {
   "display_name": "Python 3 (Data Science)",
   "language": "python",
   "name": "python3__SAGEMAKER_INTERNAL__arn:aws:sagemaker:us-east-1:081325390199:image/datascience-1.0"
  },
  "language_info": {
   "codemirror_mode": {
    "name": "ipython",
    "version": 3
   },
   "file_extension": ".py",
   "mimetype": "text/x-python",
   "name": "python",
   "nbconvert_exporter": "python",
   "pygments_lexer": "ipython3",
   "version": "3.7.10"
  }
 },
 "nbformat": 4,
 "nbformat_minor": 5
}
