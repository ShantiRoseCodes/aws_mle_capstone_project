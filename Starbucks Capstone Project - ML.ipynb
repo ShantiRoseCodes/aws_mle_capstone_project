{
 "cells": [
  {
   "cell_type": "code",
   "execution_count": 1,
   "id": "3a8062b3-a125-4002-9b1a-287e3c3d2cbe",
   "metadata": {
    "tags": []
   },
   "outputs": [
    {
     "name": "stdout",
     "output_type": "stream",
     "text": [
      "Requirement already satisfied: xgboost in /opt/conda/lib/python3.7/site-packages (1.6.2)\n",
      "Requirement already satisfied: scipy in /opt/conda/lib/python3.7/site-packages (from xgboost) (1.4.1)\n",
      "Requirement already satisfied: numpy in /opt/conda/lib/python3.7/site-packages (from xgboost) (1.21.6)\n",
      "\u001b[33mWARNING: Running pip as the 'root' user can result in broken permissions and conflicting behaviour with the system package manager. It is recommended to use a virtual environment instead: https://pip.pypa.io/warnings/venv\u001b[0m\u001b[33m\n",
      "\u001b[0m\n",
      "\u001b[1m[\u001b[0m\u001b[34;49mnotice\u001b[0m\u001b[1;39;49m]\u001b[0m\u001b[39;49m A new release of pip is available: \u001b[0m\u001b[31;49m23.0\u001b[0m\u001b[39;49m -> \u001b[0m\u001b[32;49m23.0.1\u001b[0m\n",
      "\u001b[1m[\u001b[0m\u001b[34;49mnotice\u001b[0m\u001b[1;39;49m]\u001b[0m\u001b[39;49m To update, run: \u001b[0m\u001b[32;49mpip install --upgrade pip\u001b[0m\n",
      "Requirement already satisfied: lightgbm in /opt/conda/lib/python3.7/site-packages (3.3.5)\n",
      "Requirement already satisfied: scikit-learn!=0.22.0 in /opt/conda/lib/python3.7/site-packages (from lightgbm) (0.22.1)\n",
      "Requirement already satisfied: wheel in /opt/conda/lib/python3.7/site-packages (from lightgbm) (0.38.4)\n",
      "Requirement already satisfied: numpy in /opt/conda/lib/python3.7/site-packages (from lightgbm) (1.21.6)\n",
      "Requirement already satisfied: scipy in /opt/conda/lib/python3.7/site-packages (from lightgbm) (1.4.1)\n",
      "Requirement already satisfied: joblib>=0.11 in /opt/conda/lib/python3.7/site-packages (from scikit-learn!=0.22.0->lightgbm) (1.2.0)\n",
      "\u001b[33mWARNING: Running pip as the 'root' user can result in broken permissions and conflicting behaviour with the system package manager. It is recommended to use a virtual environment instead: https://pip.pypa.io/warnings/venv\u001b[0m\u001b[33m\n",
      "\u001b[0m\n",
      "\u001b[1m[\u001b[0m\u001b[34;49mnotice\u001b[0m\u001b[1;39;49m]\u001b[0m\u001b[39;49m A new release of pip is available: \u001b[0m\u001b[31;49m23.0\u001b[0m\u001b[39;49m -> \u001b[0m\u001b[32;49m23.0.1\u001b[0m\n",
      "\u001b[1m[\u001b[0m\u001b[34;49mnotice\u001b[0m\u001b[1;39;49m]\u001b[0m\u001b[39;49m To update, run: \u001b[0m\u001b[32;49mpip install --upgrade pip\u001b[0m\n",
      "Requirement already satisfied: graphviz in /opt/conda/lib/python3.7/site-packages (0.20.1)\n",
      "\u001b[33mWARNING: Running pip as the 'root' user can result in broken permissions and conflicting behaviour with the system package manager. It is recommended to use a virtual environment instead: https://pip.pypa.io/warnings/venv\u001b[0m\u001b[33m\n",
      "\u001b[0m\n",
      "\u001b[1m[\u001b[0m\u001b[34;49mnotice\u001b[0m\u001b[1;39;49m]\u001b[0m\u001b[39;49m A new release of pip is available: \u001b[0m\u001b[31;49m23.0\u001b[0m\u001b[39;49m -> \u001b[0m\u001b[32;49m23.0.1\u001b[0m\n",
      "\u001b[1m[\u001b[0m\u001b[34;49mnotice\u001b[0m\u001b[1;39;49m]\u001b[0m\u001b[39;49m To update, run: \u001b[0m\u001b[32;49mpip install --upgrade pip\u001b[0m\n"
     ]
    }
   ],
   "source": [
    "!pip install xgboost\n",
    "!pip install lightgbm\n",
    "!pip install graphviz"
   ]
  },
  {
   "cell_type": "code",
   "execution_count": 3,
   "id": "5acd3e51-30b8-4114-bb85-f62415aeb7fc",
   "metadata": {
    "tags": []
   },
   "outputs": [],
   "source": [
    "import pandas as pd\n",
    "import numpy as np\n",
    "import math\n",
    "import json\n",
    "import seaborn as sns\n",
    "import matplotlib.pyplot as plt\n",
    "import os\n",
    "from sklearn.metrics import f1_score, recall_score\n",
    "from sklearn.ensemble import RandomForestClassifier\n",
    "\n",
    "\n",
    "%matplotlib inline\n",
    "\n",
    "complete_df = pd.read_csv('data/complete.csv')\n",
    "transaction_with_labels = pd.read_csv('data/transaction_with_labels.csv')"
   ]
  },
  {
   "cell_type": "code",
   "execution_count": 5,
   "id": "17e30ac7-42bf-4c3c-8751-91efc5be677f",
   "metadata": {
    "tags": []
   },
   "outputs": [
    {
     "data": {
      "text/plain": [
       "(102693, 26)"
      ]
     },
     "execution_count": 5,
     "metadata": {},
     "output_type": "execute_result"
    }
   ],
   "source": [
    "complete_df.shape"
   ]
  },
  {
   "cell_type": "code",
   "execution_count": 5,
   "id": "0235c9e4-3313-4e8a-bce8-fc53969cdbdb",
   "metadata": {
    "tags": []
   },
   "outputs": [],
   "source": [
    "ml_df = complete_df.copy()"
   ]
  },
  {
   "cell_type": "code",
   "execution_count": 6,
   "id": "b42cc475-7118-4cb8-bc40-8f03f5b4ab1b",
   "metadata": {
    "tags": []
   },
   "outputs": [
    {
     "name": "stdout",
     "output_type": "stream",
     "text": [
      "<class 'pandas.core.frame.DataFrame'>\n",
      "RangeIndex: 102693 entries, 0 to 102692\n",
      "Data columns (total 26 columns):\n",
      " #   Column               Non-Null Count   Dtype  \n",
      "---  ------               --------------   -----  \n",
      " 0   age                  102693 non-null  int64  \n",
      " 1   gender               102693 non-null  object \n",
      " 2   income               102693 non-null  float64\n",
      " 3   became_member_on     102693 non-null  object \n",
      " 4   membership_duration  102693 non-null  int64  \n",
      " 5   person               102693 non-null  object \n",
      " 6   offer_received       102693 non-null  int64  \n",
      " 7   time_received        102693 non-null  int64  \n",
      " 8   offer_id             102693 non-null  object \n",
      " 9   offer_viewed         102693 non-null  int64  \n",
      " 10  time_viewed          102693 non-null  float64\n",
      " 11  offer_completed      102693 non-null  int64  \n",
      " 12  time_completed       102693 non-null  float64\n",
      " 13  reward_received      102693 non-null  float64\n",
      " 14  id                   102693 non-null  object \n",
      " 15  offer                102693 non-null  int64  \n",
      " 16  offer_type           102693 non-null  object \n",
      " 17  difficulty           102693 non-null  int64  \n",
      " 18  duration             102693 non-null  int64  \n",
      " 19  reward               102693 non-null  int64  \n",
      " 20  channels             102693 non-null  object \n",
      " 21  web                  102693 non-null  int64  \n",
      " 22  email                102693 non-null  int64  \n",
      " 23  social               102693 non-null  int64  \n",
      " 24  mobile               102693 non-null  int64  \n",
      " 25  duration_hr          102693 non-null  int64  \n",
      "dtypes: float64(4), int64(15), object(7)\n",
      "memory usage: 20.4+ MB\n"
     ]
    }
   ],
   "source": [
    "ml_df.info()"
   ]
  },
  {
   "cell_type": "code",
   "execution_count": 7,
   "id": "4209e359-32f7-419e-9dc9-26c9a69dd0a9",
   "metadata": {
    "tags": []
   },
   "outputs": [],
   "source": [
    "ml_df['received_viewed'] =  ml_df['time_viewed'] - ml_df['time_received']"
   ]
  },
  {
   "cell_type": "code",
   "execution_count": 8,
   "id": "ff82e783-6818-41c1-8510-fa0466194e0a",
   "metadata": {
    "tags": []
   },
   "outputs": [],
   "source": [
    "ml_df['viewed_completed'] = ml_df['time_completed'] - ml_df['time_viewed']"
   ]
  },
  {
   "cell_type": "code",
   "execution_count": 9,
   "id": "6a562b03-1a23-4117-861c-361673393b77",
   "metadata": {
    "tags": []
   },
   "outputs": [],
   "source": [
    "ml_df['received_completed_diff'] =  ml_df['time_completed'] - ml_df['time_received']"
   ]
  },
  {
   "cell_type": "code",
   "execution_count": 10,
   "id": "98f6a4ca-2c5d-4e1e-b7e9-6567b6a1a0ca",
   "metadata": {
    "tags": []
   },
   "outputs": [],
   "source": [
    "ml_df['duration_diff'] = ml_df['duration_hr'] - ml_df['received_completed_diff']"
   ]
  },
  {
   "cell_type": "code",
   "execution_count": 11,
   "id": "7e2ecf94-38c1-4bc5-83cc-8c3876c7b2be",
   "metadata": {
    "tags": []
   },
   "outputs": [],
   "source": [
    "viewed_completed_anomalies = ml_df[(ml_df.time_viewed > ml_df.time_completed) & (ml_df.time_completed != 0)].index\n",
    "ml_df.drop(index = viewed_completed_anomalies, inplace = True)"
   ]
  },
  {
   "cell_type": "markdown",
   "id": "6d9c1cf5-434e-42e2-a280-fa1e7da3c70e",
   "metadata": {},
   "source": [
    "* time_received should not be greater than time viewed unless time viewed = 0."
   ]
  },
  {
   "cell_type": "code",
   "execution_count": 12,
   "id": "37e230a8-824d-4c8b-98de-9344a3d7b535",
   "metadata": {
    "tags": []
   },
   "outputs": [],
   "source": [
    "received_viewed_anomalies = ml_df[(ml_df.time_received > ml_df.time_viewed) & (ml_df.time_viewed != 0)].index\n",
    "ml_df.drop(index = received_viewed_anomalies, inplace = True)"
   ]
  },
  {
   "cell_type": "markdown",
   "id": "7d01311d-05bf-4b38-9825-205d26980056",
   "metadata": {},
   "source": [
    "offer_received = 0 should mean time_received = 0."
   ]
  },
  {
   "cell_type": "code",
   "execution_count": 13,
   "id": "894cd758-b365-4792-b810-f780f590d1db",
   "metadata": {
    "tags": []
   },
   "outputs": [
    {
     "data": {
      "text/html": [
       "<div>\n",
       "<style scoped>\n",
       "    .dataframe tbody tr th:only-of-type {\n",
       "        vertical-align: middle;\n",
       "    }\n",
       "\n",
       "    .dataframe tbody tr th {\n",
       "        vertical-align: top;\n",
       "    }\n",
       "\n",
       "    .dataframe thead th {\n",
       "        text-align: right;\n",
       "    }\n",
       "</style>\n",
       "<table border=\"1\" class=\"dataframe\">\n",
       "  <thead>\n",
       "    <tr style=\"text-align: right;\">\n",
       "      <th></th>\n",
       "      <th>age</th>\n",
       "      <th>gender</th>\n",
       "      <th>income</th>\n",
       "      <th>became_member_on</th>\n",
       "      <th>membership_duration</th>\n",
       "      <th>person</th>\n",
       "      <th>offer_received</th>\n",
       "      <th>time_received</th>\n",
       "      <th>offer_id</th>\n",
       "      <th>offer_viewed</th>\n",
       "      <th>...</th>\n",
       "      <th>channels</th>\n",
       "      <th>web</th>\n",
       "      <th>email</th>\n",
       "      <th>social</th>\n",
       "      <th>mobile</th>\n",
       "      <th>duration_hr</th>\n",
       "      <th>received_viewed</th>\n",
       "      <th>viewed_completed</th>\n",
       "      <th>received_completed_diff</th>\n",
       "      <th>duration_diff</th>\n",
       "    </tr>\n",
       "  </thead>\n",
       "  <tbody>\n",
       "  </tbody>\n",
       "</table>\n",
       "<p>0 rows × 30 columns</p>\n",
       "</div>"
      ],
      "text/plain": [
       "Empty DataFrame\n",
       "Columns: [age, gender, income, became_member_on, membership_duration, person, offer_received, time_received, offer_id, offer_viewed, time_viewed, offer_completed, time_completed, reward_received, id, offer, offer_type, difficulty, duration, reward, channels, web, email, social, mobile, duration_hr, received_viewed, viewed_completed, received_completed_diff, duration_diff]\n",
       "Index: []\n",
       "\n",
       "[0 rows x 30 columns]"
      ]
     },
     "execution_count": 13,
     "metadata": {},
     "output_type": "execute_result"
    }
   ],
   "source": [
    "ml_df[(ml_df.offer_received == 0) & (ml_df.time_received > 0)] "
   ]
  },
  {
   "cell_type": "markdown",
   "id": "d3382058-443d-472f-8fa8-1db8ceaa54ac",
   "metadata": {},
   "source": [
    "**received_viewed is the difference between time viewed and time received.**\n",
    "* If it results to negative of time received then the offer was not viewed (as NaN values were replaced with 0s)\n",
    "* If it results to a negative value that is not equal to time received then it is an anomalous entry. An offer cannot be viewed before it has been received."
   ]
  },
  {
   "cell_type": "code",
   "execution_count": 14,
   "id": "327f9739-1b95-4a0a-978d-477c8df7e4b8",
   "metadata": {
    "tags": []
   },
   "outputs": [
    {
     "name": "stdout",
     "output_type": "stream",
     "text": [
      "Int64Index([], dtype='int64')\n"
     ]
    }
   ],
   "source": [
    "# Identify the index of the rows that match the condition\n",
    "indices_to_delete = ml_df[(ml_df.received_viewed < 0) & (ml_df.received_viewed != -(ml_df.time_received))].index\n",
    "print(indices_to_delete)\n",
    "\n",
    "# Drop the rows with the identified indices\n",
    "ml_df.drop(index=indices_to_delete, inplace=True)"
   ]
  },
  {
   "cell_type": "code",
   "execution_count": 15,
   "id": "9f9b4b70-83b1-43b3-9863-e9a1193c3685",
   "metadata": {
    "tags": []
   },
   "outputs": [
    {
     "data": {
      "text/html": [
       "<div>\n",
       "<style scoped>\n",
       "    .dataframe tbody tr th:only-of-type {\n",
       "        vertical-align: middle;\n",
       "    }\n",
       "\n",
       "    .dataframe tbody tr th {\n",
       "        vertical-align: top;\n",
       "    }\n",
       "\n",
       "    .dataframe thead th {\n",
       "        text-align: right;\n",
       "    }\n",
       "</style>\n",
       "<table border=\"1\" class=\"dataframe\">\n",
       "  <thead>\n",
       "    <tr style=\"text-align: right;\">\n",
       "      <th></th>\n",
       "      <th>time_received</th>\n",
       "      <th>time_viewed</th>\n",
       "      <th>received_viewed</th>\n",
       "    </tr>\n",
       "  </thead>\n",
       "  <tbody>\n",
       "    <tr>\n",
       "      <th>0</th>\n",
       "      <td>408</td>\n",
       "      <td>0.0</td>\n",
       "      <td>-408.0</td>\n",
       "    </tr>\n",
       "    <tr>\n",
       "      <th>1</th>\n",
       "      <td>504</td>\n",
       "      <td>0.0</td>\n",
       "      <td>-504.0</td>\n",
       "    </tr>\n",
       "    <tr>\n",
       "      <th>7</th>\n",
       "      <td>336</td>\n",
       "      <td>0.0</td>\n",
       "      <td>-336.0</td>\n",
       "    </tr>\n",
       "    <tr>\n",
       "      <th>14</th>\n",
       "      <td>504</td>\n",
       "      <td>0.0</td>\n",
       "      <td>-504.0</td>\n",
       "    </tr>\n",
       "    <tr>\n",
       "      <th>15</th>\n",
       "      <td>504</td>\n",
       "      <td>0.0</td>\n",
       "      <td>-504.0</td>\n",
       "    </tr>\n",
       "    <tr>\n",
       "      <th>...</th>\n",
       "      <td>...</td>\n",
       "      <td>...</td>\n",
       "      <td>...</td>\n",
       "    </tr>\n",
       "    <tr>\n",
       "      <th>102681</th>\n",
       "      <td>408</td>\n",
       "      <td>0.0</td>\n",
       "      <td>-408.0</td>\n",
       "    </tr>\n",
       "    <tr>\n",
       "      <th>102682</th>\n",
       "      <td>504</td>\n",
       "      <td>0.0</td>\n",
       "      <td>-504.0</td>\n",
       "    </tr>\n",
       "    <tr>\n",
       "      <th>102684</th>\n",
       "      <td>168</td>\n",
       "      <td>0.0</td>\n",
       "      <td>-168.0</td>\n",
       "    </tr>\n",
       "    <tr>\n",
       "      <th>102690</th>\n",
       "      <td>336</td>\n",
       "      <td>0.0</td>\n",
       "      <td>-336.0</td>\n",
       "    </tr>\n",
       "    <tr>\n",
       "      <th>102691</th>\n",
       "      <td>576</td>\n",
       "      <td>0.0</td>\n",
       "      <td>-576.0</td>\n",
       "    </tr>\n",
       "  </tbody>\n",
       "</table>\n",
       "<p>13983 rows × 3 columns</p>\n",
       "</div>"
      ],
      "text/plain": [
       "        time_received  time_viewed  received_viewed\n",
       "0                 408          0.0           -408.0\n",
       "1                 504          0.0           -504.0\n",
       "7                 336          0.0           -336.0\n",
       "14                504          0.0           -504.0\n",
       "15                504          0.0           -504.0\n",
       "...               ...          ...              ...\n",
       "102681            408          0.0           -408.0\n",
       "102682            504          0.0           -504.0\n",
       "102684            168          0.0           -168.0\n",
       "102690            336          0.0           -336.0\n",
       "102691            576          0.0           -576.0\n",
       "\n",
       "[13983 rows x 3 columns]"
      ]
     },
     "execution_count": 15,
     "metadata": {},
     "output_type": "execute_result"
    }
   ],
   "source": [
    "ml_df[ml_df.received_viewed < 0][['time_received', 'time_viewed', 'received_viewed']]"
   ]
  },
  {
   "cell_type": "code",
   "execution_count": 16,
   "id": "f7d4a59f-852b-43db-ac5c-31c090fec8fb",
   "metadata": {
    "tags": []
   },
   "outputs": [
    {
     "data": {
      "text/plain": [
       "0.0    13983\n",
       "Name: time_viewed, dtype: int64"
      ]
     },
     "execution_count": 16,
     "metadata": {},
     "output_type": "execute_result"
    }
   ],
   "source": [
    "# received but not viewed\n",
    "ml_df[ml_df.received_viewed < 0]['time_viewed'].value_counts()"
   ]
  },
  {
   "cell_type": "markdown",
   "id": "645502bf-48ea-433d-87d1-17bad2fafd96",
   "metadata": {},
   "source": [
    "If offer_viewed = 0, then time_viewed should be equal to 0."
   ]
  },
  {
   "cell_type": "code",
   "execution_count": 17,
   "id": "c6cd1428-194b-4425-b30b-9a944383559f",
   "metadata": {
    "tags": []
   },
   "outputs": [
    {
     "data": {
      "text/html": [
       "<div>\n",
       "<style scoped>\n",
       "    .dataframe tbody tr th:only-of-type {\n",
       "        vertical-align: middle;\n",
       "    }\n",
       "\n",
       "    .dataframe tbody tr th {\n",
       "        vertical-align: top;\n",
       "    }\n",
       "\n",
       "    .dataframe thead th {\n",
       "        text-align: right;\n",
       "    }\n",
       "</style>\n",
       "<table border=\"1\" class=\"dataframe\">\n",
       "  <thead>\n",
       "    <tr style=\"text-align: right;\">\n",
       "      <th></th>\n",
       "      <th>age</th>\n",
       "      <th>gender</th>\n",
       "      <th>income</th>\n",
       "      <th>became_member_on</th>\n",
       "      <th>membership_duration</th>\n",
       "      <th>person</th>\n",
       "      <th>offer_received</th>\n",
       "      <th>time_received</th>\n",
       "      <th>offer_id</th>\n",
       "      <th>offer_viewed</th>\n",
       "      <th>...</th>\n",
       "      <th>channels</th>\n",
       "      <th>web</th>\n",
       "      <th>email</th>\n",
       "      <th>social</th>\n",
       "      <th>mobile</th>\n",
       "      <th>duration_hr</th>\n",
       "      <th>received_viewed</th>\n",
       "      <th>viewed_completed</th>\n",
       "      <th>received_completed_diff</th>\n",
       "      <th>duration_diff</th>\n",
       "    </tr>\n",
       "  </thead>\n",
       "  <tbody>\n",
       "  </tbody>\n",
       "</table>\n",
       "<p>0 rows × 30 columns</p>\n",
       "</div>"
      ],
      "text/plain": [
       "Empty DataFrame\n",
       "Columns: [age, gender, income, became_member_on, membership_duration, person, offer_received, time_received, offer_id, offer_viewed, time_viewed, offer_completed, time_completed, reward_received, id, offer, offer_type, difficulty, duration, reward, channels, web, email, social, mobile, duration_hr, received_viewed, viewed_completed, received_completed_diff, duration_diff]\n",
       "Index: []\n",
       "\n",
       "[0 rows x 30 columns]"
      ]
     },
     "execution_count": 17,
     "metadata": {},
     "output_type": "execute_result"
    }
   ],
   "source": [
    "ml_df[(ml_df.offer_viewed == 0) & (ml_df.time_viewed > 0)] "
   ]
  },
  {
   "cell_type": "markdown",
   "id": "81fcd0ea-cb0d-4409-89af-d3ab02550209",
   "metadata": {
    "tags": []
   },
   "source": [
    "* The offer was viewed.\n",
    "* The time received is not equal to 0 => This means that the offer was not sent at time 0 and then was immediately viewed at time 0.\n",
    "* The time_viewed is 0 => This means that the offer was not viewed at all and yet the entry says it has been viewed."
   ]
  },
  {
   "cell_type": "code",
   "execution_count": 18,
   "id": "9582cd30-3855-4a03-803e-c52f8d3dc85d",
   "metadata": {
    "tags": []
   },
   "outputs": [],
   "source": [
    "view_anomaly_indices = ml_df[(ml_df.offer_viewed == 1) & (ml_df.time_received != 0) & (ml_df.time_viewed == 0)].index\n",
    "ml_df.drop(index=view_anomaly_indices, inplace=True)"
   ]
  },
  {
   "cell_type": "markdown",
   "id": "073129b3-4df5-47c5-9195-8d829c0628dd",
   "metadata": {},
   "source": [
    "* The offer was completed.\n",
    "* The time received and viewed are not equal to 0. => The offer was not immediately claimed after it was received.\n",
    "* The time completed is equal to 0."
   ]
  },
  {
   "cell_type": "code",
   "execution_count": 19,
   "id": "a29a94a8-8c30-47d3-8250-8c1c362bca5e",
   "metadata": {
    "tags": []
   },
   "outputs": [],
   "source": [
    "completed_anomalies = ml_df[(ml_df.offer_completed == 1) & (ml_df.time_viewed != 0) & (ml_df.time_received != 0) & (ml_df.time_completed == 0)].index\n",
    "ml_df.drop(index = completed_anomalies, inplace = True)"
   ]
  },
  {
   "cell_type": "markdown",
   "id": "dabb44e3-8ab0-4bda-beb5-19575f3b6989",
   "metadata": {},
   "source": [
    "* offer completed == 0 but the reward_received is greater than 0"
   ]
  },
  {
   "cell_type": "code",
   "execution_count": 20,
   "id": "a587d54e-1895-4fe7-9a5a-8b95575cc106",
   "metadata": {
    "tags": []
   },
   "outputs": [
    {
     "data": {
      "text/html": [
       "<div>\n",
       "<style scoped>\n",
       "    .dataframe tbody tr th:only-of-type {\n",
       "        vertical-align: middle;\n",
       "    }\n",
       "\n",
       "    .dataframe tbody tr th {\n",
       "        vertical-align: top;\n",
       "    }\n",
       "\n",
       "    .dataframe thead th {\n",
       "        text-align: right;\n",
       "    }\n",
       "</style>\n",
       "<table border=\"1\" class=\"dataframe\">\n",
       "  <thead>\n",
       "    <tr style=\"text-align: right;\">\n",
       "      <th></th>\n",
       "      <th>offer_completed</th>\n",
       "      <th>time_received</th>\n",
       "      <th>time_viewed</th>\n",
       "      <th>time_completed</th>\n",
       "      <th>received_viewed</th>\n",
       "      <th>viewed_completed</th>\n",
       "      <th>received_completed_diff</th>\n",
       "      <th>duration_hr</th>\n",
       "      <th>duration_diff</th>\n",
       "      <th>reward</th>\n",
       "      <th>reward_received</th>\n",
       "    </tr>\n",
       "  </thead>\n",
       "  <tbody>\n",
       "  </tbody>\n",
       "</table>\n",
       "</div>"
      ],
      "text/plain": [
       "Empty DataFrame\n",
       "Columns: [offer_completed, time_received, time_viewed, time_completed, received_viewed, viewed_completed, received_completed_diff, duration_hr, duration_diff, reward, reward_received]\n",
       "Index: []"
      ]
     },
     "execution_count": 20,
     "metadata": {},
     "output_type": "execute_result"
    }
   ],
   "source": [
    "ml_df[(ml_df.offer_completed == 0) & (ml_df.reward_received > 0)][['offer_completed','time_received', 'time_viewed', 'time_completed', 'received_viewed', 'viewed_completed', 'received_completed_diff', 'duration_hr', 'duration_diff', 'reward', 'reward_received']]"
   ]
  },
  {
   "cell_type": "markdown",
   "id": "0e828657-b95b-4395-b4a4-4bec69435047",
   "metadata": {
    "tags": []
   },
   "source": [
    "**duration_diff is the difference between received_completed and the duration_hr.**\n",
    "* offer_completed == 1, duration_diff >= 0, but reward_received == 0.\n",
    "* offer_completed == 1, duration_diff < 0, but reward_received > 0."
   ]
  },
  {
   "cell_type": "code",
   "execution_count": 21,
   "id": "de7dc546-f4a0-422f-ae21-3be632604230",
   "metadata": {
    "tags": []
   },
   "outputs": [
    {
     "data": {
      "text/html": [
       "<div>\n",
       "<style scoped>\n",
       "    .dataframe tbody tr th:only-of-type {\n",
       "        vertical-align: middle;\n",
       "    }\n",
       "\n",
       "    .dataframe tbody tr th {\n",
       "        vertical-align: top;\n",
       "    }\n",
       "\n",
       "    .dataframe thead th {\n",
       "        text-align: right;\n",
       "    }\n",
       "</style>\n",
       "<table border=\"1\" class=\"dataframe\">\n",
       "  <thead>\n",
       "    <tr style=\"text-align: right;\">\n",
       "      <th></th>\n",
       "      <th>offer_completed</th>\n",
       "      <th>time_received</th>\n",
       "      <th>time_viewed</th>\n",
       "      <th>time_completed</th>\n",
       "      <th>received_viewed</th>\n",
       "      <th>viewed_completed</th>\n",
       "      <th>received_completed_diff</th>\n",
       "      <th>duration_hr</th>\n",
       "      <th>duration_diff</th>\n",
       "      <th>reward</th>\n",
       "      <th>reward_received</th>\n",
       "    </tr>\n",
       "  </thead>\n",
       "  <tbody>\n",
       "  </tbody>\n",
       "</table>\n",
       "</div>"
      ],
      "text/plain": [
       "Empty DataFrame\n",
       "Columns: [offer_completed, time_received, time_viewed, time_completed, received_viewed, viewed_completed, received_completed_diff, duration_hr, duration_diff, reward, reward_received]\n",
       "Index: []"
      ]
     },
     "execution_count": 21,
     "metadata": {},
     "output_type": "execute_result"
    }
   ],
   "source": [
    "ml_df[(ml_df.offer_completed == 1) & (ml_df.duration_diff >= 0) & (ml_df.reward_received == 0)][['offer_completed','time_received', 'time_viewed', 'time_completed', 'received_viewed', 'viewed_completed', 'received_completed_diff', 'duration_hr', 'duration_diff', 'reward', 'reward_received']]"
   ]
  },
  {
   "cell_type": "code",
   "execution_count": 22,
   "id": "d8aa0385-0580-4222-808a-f52ea86e5620",
   "metadata": {
    "tags": []
   },
   "outputs": [],
   "source": [
    "completed_after_duration = ml_df[(ml_df.offer_completed == 1) & (ml_df.duration_diff < 0) & (ml_df.reward_received > 0)][['offer_completed','time_received', 'time_viewed', 'time_completed', 'received_viewed', 'viewed_completed', 'received_completed_diff', 'duration_hr', 'duration_diff', 'reward', 'reward_received']].index\n",
    "ml_df.drop(index = completed_after_duration, inplace = True)"
   ]
  },
  {
   "cell_type": "code",
   "execution_count": 23,
   "id": "907e7889-316f-4910-8aeb-e9a12b07f608",
   "metadata": {
    "tags": []
   },
   "outputs": [
    {
     "data": {
      "text/html": [
       "<div>\n",
       "<style scoped>\n",
       "    .dataframe tbody tr th:only-of-type {\n",
       "        vertical-align: middle;\n",
       "    }\n",
       "\n",
       "    .dataframe tbody tr th {\n",
       "        vertical-align: top;\n",
       "    }\n",
       "\n",
       "    .dataframe thead th {\n",
       "        text-align: right;\n",
       "    }\n",
       "</style>\n",
       "<table border=\"1\" class=\"dataframe\">\n",
       "  <thead>\n",
       "    <tr style=\"text-align: right;\">\n",
       "      <th></th>\n",
       "      <th>age</th>\n",
       "      <th>gender</th>\n",
       "      <th>income</th>\n",
       "      <th>became_member_on</th>\n",
       "      <th>membership_duration</th>\n",
       "      <th>person</th>\n",
       "      <th>offer_received</th>\n",
       "      <th>time_received</th>\n",
       "      <th>offer_id</th>\n",
       "      <th>offer_viewed</th>\n",
       "      <th>...</th>\n",
       "      <th>channels</th>\n",
       "      <th>web</th>\n",
       "      <th>email</th>\n",
       "      <th>social</th>\n",
       "      <th>mobile</th>\n",
       "      <th>duration_hr</th>\n",
       "      <th>received_viewed</th>\n",
       "      <th>viewed_completed</th>\n",
       "      <th>received_completed_diff</th>\n",
       "      <th>duration_diff</th>\n",
       "    </tr>\n",
       "  </thead>\n",
       "  <tbody>\n",
       "    <tr>\n",
       "      <th>3</th>\n",
       "      <td>75</td>\n",
       "      <td>F</td>\n",
       "      <td>100000.0</td>\n",
       "      <td>2017-05-09</td>\n",
       "      <td>443</td>\n",
       "      <td>78afa995795e4d85b5d9ceeca43f5fef</td>\n",
       "      <td>1</td>\n",
       "      <td>168</td>\n",
       "      <td>5a8bc65990b245e5a138643cd4eb9837</td>\n",
       "      <td>1</td>\n",
       "      <td>...</td>\n",
       "      <td>['email', 'mobile', 'social']</td>\n",
       "      <td>0</td>\n",
       "      <td>1</td>\n",
       "      <td>1</td>\n",
       "      <td>1</td>\n",
       "      <td>72</td>\n",
       "      <td>48.0</td>\n",
       "      <td>-216.0</td>\n",
       "      <td>-168.0</td>\n",
       "      <td>240.0</td>\n",
       "    </tr>\n",
       "    <tr>\n",
       "      <th>6</th>\n",
       "      <td>68</td>\n",
       "      <td>M</td>\n",
       "      <td>70000.0</td>\n",
       "      <td>2018-04-26</td>\n",
       "      <td>91</td>\n",
       "      <td>e2127556f4f64592b11af22de27a7932</td>\n",
       "      <td>1</td>\n",
       "      <td>0</td>\n",
       "      <td>2906b810c7d4411798c6938adc9daaa5</td>\n",
       "      <td>1</td>\n",
       "      <td>...</td>\n",
       "      <td>['web', 'email', 'mobile']</td>\n",
       "      <td>1</td>\n",
       "      <td>1</td>\n",
       "      <td>0</td>\n",
       "      <td>1</td>\n",
       "      <td>168</td>\n",
       "      <td>18.0</td>\n",
       "      <td>-18.0</td>\n",
       "      <td>0.0</td>\n",
       "      <td>168.0</td>\n",
       "    </tr>\n",
       "    <tr>\n",
       "      <th>25</th>\n",
       "      <td>58</td>\n",
       "      <td>M</td>\n",
       "      <td>51000.0</td>\n",
       "      <td>2017-11-11</td>\n",
       "      <td>257</td>\n",
       "      <td>2eeac8d8feae4a8cad5a6af0499a211d</td>\n",
       "      <td>1</td>\n",
       "      <td>168</td>\n",
       "      <td>2298d6c36e964ae4a3e7e9706d1fb8c2</td>\n",
       "      <td>1</td>\n",
       "      <td>...</td>\n",
       "      <td>['web', 'email', 'mobile', 'social']</td>\n",
       "      <td>1</td>\n",
       "      <td>1</td>\n",
       "      <td>1</td>\n",
       "      <td>1</td>\n",
       "      <td>168</td>\n",
       "      <td>0.0</td>\n",
       "      <td>-168.0</td>\n",
       "      <td>-168.0</td>\n",
       "      <td>336.0</td>\n",
       "    </tr>\n",
       "    <tr>\n",
       "      <th>27</th>\n",
       "      <td>61</td>\n",
       "      <td>F</td>\n",
       "      <td>57000.0</td>\n",
       "      <td>2017-09-11</td>\n",
       "      <td>318</td>\n",
       "      <td>aa4862eba776480b8bb9c68455b8c2e1</td>\n",
       "      <td>1</td>\n",
       "      <td>0</td>\n",
       "      <td>0b1e1539f2cc45b7b9fa7c272da2e1d7</td>\n",
       "      <td>1</td>\n",
       "      <td>...</td>\n",
       "      <td>['web', 'email']</td>\n",
       "      <td>1</td>\n",
       "      <td>1</td>\n",
       "      <td>0</td>\n",
       "      <td>0</td>\n",
       "      <td>240</td>\n",
       "      <td>18.0</td>\n",
       "      <td>-18.0</td>\n",
       "      <td>0.0</td>\n",
       "      <td>240.0</td>\n",
       "    </tr>\n",
       "    <tr>\n",
       "      <th>29</th>\n",
       "      <td>61</td>\n",
       "      <td>F</td>\n",
       "      <td>57000.0</td>\n",
       "      <td>2017-09-11</td>\n",
       "      <td>318</td>\n",
       "      <td>aa4862eba776480b8bb9c68455b8c2e1</td>\n",
       "      <td>1</td>\n",
       "      <td>336</td>\n",
       "      <td>5a8bc65990b245e5a138643cd4eb9837</td>\n",
       "      <td>1</td>\n",
       "      <td>...</td>\n",
       "      <td>['email', 'mobile', 'social']</td>\n",
       "      <td>0</td>\n",
       "      <td>1</td>\n",
       "      <td>1</td>\n",
       "      <td>1</td>\n",
       "      <td>72</td>\n",
       "      <td>0.0</td>\n",
       "      <td>-336.0</td>\n",
       "      <td>-336.0</td>\n",
       "      <td>408.0</td>\n",
       "    </tr>\n",
       "    <tr>\n",
       "      <th>...</th>\n",
       "      <td>...</td>\n",
       "      <td>...</td>\n",
       "      <td>...</td>\n",
       "      <td>...</td>\n",
       "      <td>...</td>\n",
       "      <td>...</td>\n",
       "      <td>...</td>\n",
       "      <td>...</td>\n",
       "      <td>...</td>\n",
       "      <td>...</td>\n",
       "      <td>...</td>\n",
       "      <td>...</td>\n",
       "      <td>...</td>\n",
       "      <td>...</td>\n",
       "      <td>...</td>\n",
       "      <td>...</td>\n",
       "      <td>...</td>\n",
       "      <td>...</td>\n",
       "      <td>...</td>\n",
       "      <td>...</td>\n",
       "      <td>...</td>\n",
       "    </tr>\n",
       "    <tr>\n",
       "      <th>102677</th>\n",
       "      <td>45</td>\n",
       "      <td>F</td>\n",
       "      <td>54000.0</td>\n",
       "      <td>2018-06-04</td>\n",
       "      <td>52</td>\n",
       "      <td>6d5f3a774f3d4714ab0c092238f3a1d7</td>\n",
       "      <td>1</td>\n",
       "      <td>336</td>\n",
       "      <td>4d5c57ea9a6940dd891ad53e9dbe8da0</td>\n",
       "      <td>1</td>\n",
       "      <td>...</td>\n",
       "      <td>['web', 'email', 'mobile', 'social']</td>\n",
       "      <td>1</td>\n",
       "      <td>1</td>\n",
       "      <td>1</td>\n",
       "      <td>1</td>\n",
       "      <td>120</td>\n",
       "      <td>66.0</td>\n",
       "      <td>-402.0</td>\n",
       "      <td>-336.0</td>\n",
       "      <td>456.0</td>\n",
       "    </tr>\n",
       "    <tr>\n",
       "      <th>102678</th>\n",
       "      <td>45</td>\n",
       "      <td>F</td>\n",
       "      <td>54000.0</td>\n",
       "      <td>2018-06-04</td>\n",
       "      <td>52</td>\n",
       "      <td>6d5f3a774f3d4714ab0c092238f3a1d7</td>\n",
       "      <td>1</td>\n",
       "      <td>408</td>\n",
       "      <td>5a8bc65990b245e5a138643cd4eb9837</td>\n",
       "      <td>1</td>\n",
       "      <td>...</td>\n",
       "      <td>['email', 'mobile', 'social']</td>\n",
       "      <td>0</td>\n",
       "      <td>1</td>\n",
       "      <td>1</td>\n",
       "      <td>1</td>\n",
       "      <td>72</td>\n",
       "      <td>54.0</td>\n",
       "      <td>-462.0</td>\n",
       "      <td>-408.0</td>\n",
       "      <td>480.0</td>\n",
       "    </tr>\n",
       "    <tr>\n",
       "      <th>102679</th>\n",
       "      <td>45</td>\n",
       "      <td>F</td>\n",
       "      <td>54000.0</td>\n",
       "      <td>2018-06-04</td>\n",
       "      <td>52</td>\n",
       "      <td>6d5f3a774f3d4714ab0c092238f3a1d7</td>\n",
       "      <td>1</td>\n",
       "      <td>576</td>\n",
       "      <td>2298d6c36e964ae4a3e7e9706d1fb8c2</td>\n",
       "      <td>1</td>\n",
       "      <td>...</td>\n",
       "      <td>['web', 'email', 'mobile', 'social']</td>\n",
       "      <td>1</td>\n",
       "      <td>1</td>\n",
       "      <td>1</td>\n",
       "      <td>1</td>\n",
       "      <td>168</td>\n",
       "      <td>12.0</td>\n",
       "      <td>-588.0</td>\n",
       "      <td>-576.0</td>\n",
       "      <td>744.0</td>\n",
       "    </tr>\n",
       "    <tr>\n",
       "      <th>102680</th>\n",
       "      <td>61</td>\n",
       "      <td>M</td>\n",
       "      <td>72000.0</td>\n",
       "      <td>2018-07-13</td>\n",
       "      <td>13</td>\n",
       "      <td>2cb4f97358b841b9a9773a7aa05a9d77</td>\n",
       "      <td>1</td>\n",
       "      <td>0</td>\n",
       "      <td>5a8bc65990b245e5a138643cd4eb9837</td>\n",
       "      <td>1</td>\n",
       "      <td>...</td>\n",
       "      <td>['email', 'mobile', 'social']</td>\n",
       "      <td>0</td>\n",
       "      <td>1</td>\n",
       "      <td>1</td>\n",
       "      <td>1</td>\n",
       "      <td>72</td>\n",
       "      <td>42.0</td>\n",
       "      <td>-42.0</td>\n",
       "      <td>0.0</td>\n",
       "      <td>72.0</td>\n",
       "    </tr>\n",
       "    <tr>\n",
       "      <th>102685</th>\n",
       "      <td>49</td>\n",
       "      <td>M</td>\n",
       "      <td>73000.0</td>\n",
       "      <td>2017-01-26</td>\n",
       "      <td>546</td>\n",
       "      <td>01d26f638c274aa0b965d24cefe3183f</td>\n",
       "      <td>1</td>\n",
       "      <td>336</td>\n",
       "      <td>5a8bc65990b245e5a138643cd4eb9837</td>\n",
       "      <td>1</td>\n",
       "      <td>...</td>\n",
       "      <td>['email', 'mobile', 'social']</td>\n",
       "      <td>0</td>\n",
       "      <td>1</td>\n",
       "      <td>1</td>\n",
       "      <td>1</td>\n",
       "      <td>72</td>\n",
       "      <td>60.0</td>\n",
       "      <td>-396.0</td>\n",
       "      <td>-336.0</td>\n",
       "      <td>408.0</td>\n",
       "    </tr>\n",
       "  </tbody>\n",
       "</table>\n",
       "<p>25212 rows × 30 columns</p>\n",
       "</div>"
      ],
      "text/plain": [
       "        age gender    income became_member_on  membership_duration  \\\n",
       "3        75      F  100000.0       2017-05-09                  443   \n",
       "6        68      M   70000.0       2018-04-26                   91   \n",
       "25       58      M   51000.0       2017-11-11                  257   \n",
       "27       61      F   57000.0       2017-09-11                  318   \n",
       "29       61      F   57000.0       2017-09-11                  318   \n",
       "...     ...    ...       ...              ...                  ...   \n",
       "102677   45      F   54000.0       2018-06-04                   52   \n",
       "102678   45      F   54000.0       2018-06-04                   52   \n",
       "102679   45      F   54000.0       2018-06-04                   52   \n",
       "102680   61      M   72000.0       2018-07-13                   13   \n",
       "102685   49      M   73000.0       2017-01-26                  546   \n",
       "\n",
       "                                  person  offer_received  time_received  \\\n",
       "3       78afa995795e4d85b5d9ceeca43f5fef               1            168   \n",
       "6       e2127556f4f64592b11af22de27a7932               1              0   \n",
       "25      2eeac8d8feae4a8cad5a6af0499a211d               1            168   \n",
       "27      aa4862eba776480b8bb9c68455b8c2e1               1              0   \n",
       "29      aa4862eba776480b8bb9c68455b8c2e1               1            336   \n",
       "...                                  ...             ...            ...   \n",
       "102677  6d5f3a774f3d4714ab0c092238f3a1d7               1            336   \n",
       "102678  6d5f3a774f3d4714ab0c092238f3a1d7               1            408   \n",
       "102679  6d5f3a774f3d4714ab0c092238f3a1d7               1            576   \n",
       "102680  2cb4f97358b841b9a9773a7aa05a9d77               1              0   \n",
       "102685  01d26f638c274aa0b965d24cefe3183f               1            336   \n",
       "\n",
       "                                offer_id  offer_viewed  ...  \\\n",
       "3       5a8bc65990b245e5a138643cd4eb9837             1  ...   \n",
       "6       2906b810c7d4411798c6938adc9daaa5             1  ...   \n",
       "25      2298d6c36e964ae4a3e7e9706d1fb8c2             1  ...   \n",
       "27      0b1e1539f2cc45b7b9fa7c272da2e1d7             1  ...   \n",
       "29      5a8bc65990b245e5a138643cd4eb9837             1  ...   \n",
       "...                                  ...           ...  ...   \n",
       "102677  4d5c57ea9a6940dd891ad53e9dbe8da0             1  ...   \n",
       "102678  5a8bc65990b245e5a138643cd4eb9837             1  ...   \n",
       "102679  2298d6c36e964ae4a3e7e9706d1fb8c2             1  ...   \n",
       "102680  5a8bc65990b245e5a138643cd4eb9837             1  ...   \n",
       "102685  5a8bc65990b245e5a138643cd4eb9837             1  ...   \n",
       "\n",
       "                                    channels  web  email  social mobile  \\\n",
       "3              ['email', 'mobile', 'social']    0      1       1      1   \n",
       "6                 ['web', 'email', 'mobile']    1      1       0      1   \n",
       "25      ['web', 'email', 'mobile', 'social']    1      1       1      1   \n",
       "27                          ['web', 'email']    1      1       0      0   \n",
       "29             ['email', 'mobile', 'social']    0      1       1      1   \n",
       "...                                      ...  ...    ...     ...    ...   \n",
       "102677  ['web', 'email', 'mobile', 'social']    1      1       1      1   \n",
       "102678         ['email', 'mobile', 'social']    0      1       1      1   \n",
       "102679  ['web', 'email', 'mobile', 'social']    1      1       1      1   \n",
       "102680         ['email', 'mobile', 'social']    0      1       1      1   \n",
       "102685         ['email', 'mobile', 'social']    0      1       1      1   \n",
       "\n",
       "        duration_hr received_viewed  viewed_completed  \\\n",
       "3                72            48.0            -216.0   \n",
       "6               168            18.0             -18.0   \n",
       "25              168             0.0            -168.0   \n",
       "27              240            18.0             -18.0   \n",
       "29               72             0.0            -336.0   \n",
       "...             ...             ...               ...   \n",
       "102677          120            66.0            -402.0   \n",
       "102678           72            54.0            -462.0   \n",
       "102679          168            12.0            -588.0   \n",
       "102680           72            42.0             -42.0   \n",
       "102685           72            60.0            -396.0   \n",
       "\n",
       "        received_completed_diff  duration_diff  \n",
       "3                        -168.0          240.0  \n",
       "6                           0.0          168.0  \n",
       "25                       -168.0          336.0  \n",
       "27                          0.0          240.0  \n",
       "29                       -336.0          408.0  \n",
       "...                         ...            ...  \n",
       "102677                   -336.0          456.0  \n",
       "102678                   -408.0          480.0  \n",
       "102679                   -576.0          744.0  \n",
       "102680                      0.0           72.0  \n",
       "102685                   -336.0          408.0  \n",
       "\n",
       "[25212 rows x 30 columns]"
      ]
     },
     "execution_count": 23,
     "metadata": {},
     "output_type": "execute_result"
    }
   ],
   "source": [
    "ml_df[(ml_df.offer_viewed == 1) & (ml_df.viewed_completed == -(ml_df.time_viewed))]"
   ]
  },
  {
   "cell_type": "markdown",
   "id": "c47c6d75-39e8-40e4-a9ca-e96a528fdd57",
   "metadata": {
    "tags": []
   },
   "source": [
    "**viewed_completed is the time difference between time_viewed and time_completed.**\n",
    "* 1 consideration is that it is possible for an offer to be completed without being viewed. This means that the viewed_completed should be equal to time_completed as this will mean that time_viewed = 0.\n",
    "* time_completed - time_viewed = time_completed if time_viewed = 0.\n",
    "* If viewed_completed is negative but not equal to -(time_viewed) then this means that the time_completed is less than time viewed. The question here is: whether the system takes the time after the offer is completed which was not indicated in the documentation. So under the premise that the system's timer stops at offer completed then this will mean an anomalous data entry."
   ]
  },
  {
   "cell_type": "code",
   "execution_count": 24,
   "id": "de55bd45-d36c-4dda-8b43-2c3a83012f38",
   "metadata": {
    "tags": []
   },
   "outputs": [
    {
     "data": {
      "text/html": [
       "<div>\n",
       "<style scoped>\n",
       "    .dataframe tbody tr th:only-of-type {\n",
       "        vertical-align: middle;\n",
       "    }\n",
       "\n",
       "    .dataframe tbody tr th {\n",
       "        vertical-align: top;\n",
       "    }\n",
       "\n",
       "    .dataframe thead th {\n",
       "        text-align: right;\n",
       "    }\n",
       "</style>\n",
       "<table border=\"1\" class=\"dataframe\">\n",
       "  <thead>\n",
       "    <tr style=\"text-align: right;\">\n",
       "      <th></th>\n",
       "      <th>offer_viewed</th>\n",
       "      <th>offer_completed</th>\n",
       "      <th>time_received</th>\n",
       "      <th>time_viewed</th>\n",
       "      <th>time_completed</th>\n",
       "      <th>received_viewed</th>\n",
       "      <th>viewed_completed</th>\n",
       "      <th>received_completed_diff</th>\n",
       "      <th>duration_hr</th>\n",
       "      <th>duration_diff</th>\n",
       "      <th>reward</th>\n",
       "      <th>reward_received</th>\n",
       "    </tr>\n",
       "  </thead>\n",
       "  <tbody>\n",
       "    <tr>\n",
       "      <th>0</th>\n",
       "      <td>0</td>\n",
       "      <td>1</td>\n",
       "      <td>408</td>\n",
       "      <td>0.0</td>\n",
       "      <td>528.0</td>\n",
       "      <td>-408.0</td>\n",
       "      <td>528.0</td>\n",
       "      <td>120.0</td>\n",
       "      <td>168</td>\n",
       "      <td>48.0</td>\n",
       "      <td>5</td>\n",
       "      <td>5.0</td>\n",
       "    </tr>\n",
       "    <tr>\n",
       "      <th>33</th>\n",
       "      <td>0</td>\n",
       "      <td>1</td>\n",
       "      <td>336</td>\n",
       "      <td>0.0</td>\n",
       "      <td>456.0</td>\n",
       "      <td>-336.0</td>\n",
       "      <td>456.0</td>\n",
       "      <td>120.0</td>\n",
       "      <td>240</td>\n",
       "      <td>120.0</td>\n",
       "      <td>5</td>\n",
       "      <td>5.0</td>\n",
       "    </tr>\n",
       "    <tr>\n",
       "      <th>34</th>\n",
       "      <td>0</td>\n",
       "      <td>1</td>\n",
       "      <td>504</td>\n",
       "      <td>0.0</td>\n",
       "      <td>456.0</td>\n",
       "      <td>-504.0</td>\n",
       "      <td>456.0</td>\n",
       "      <td>-48.0</td>\n",
       "      <td>240</td>\n",
       "      <td>288.0</td>\n",
       "      <td>5</td>\n",
       "      <td>5.0</td>\n",
       "    </tr>\n",
       "    <tr>\n",
       "      <th>66</th>\n",
       "      <td>0</td>\n",
       "      <td>1</td>\n",
       "      <td>504</td>\n",
       "      <td>0.0</td>\n",
       "      <td>516.0</td>\n",
       "      <td>-504.0</td>\n",
       "      <td>516.0</td>\n",
       "      <td>12.0</td>\n",
       "      <td>168</td>\n",
       "      <td>156.0</td>\n",
       "      <td>5</td>\n",
       "      <td>5.0</td>\n",
       "    </tr>\n",
       "    <tr>\n",
       "      <th>100</th>\n",
       "      <td>0</td>\n",
       "      <td>1</td>\n",
       "      <td>576</td>\n",
       "      <td>0.0</td>\n",
       "      <td>600.0</td>\n",
       "      <td>-576.0</td>\n",
       "      <td>600.0</td>\n",
       "      <td>24.0</td>\n",
       "      <td>168</td>\n",
       "      <td>144.0</td>\n",
       "      <td>2</td>\n",
       "      <td>2.0</td>\n",
       "    </tr>\n",
       "    <tr>\n",
       "      <th>...</th>\n",
       "      <td>...</td>\n",
       "      <td>...</td>\n",
       "      <td>...</td>\n",
       "      <td>...</td>\n",
       "      <td>...</td>\n",
       "      <td>...</td>\n",
       "      <td>...</td>\n",
       "      <td>...</td>\n",
       "      <td>...</td>\n",
       "      <td>...</td>\n",
       "      <td>...</td>\n",
       "      <td>...</td>\n",
       "    </tr>\n",
       "    <tr>\n",
       "      <th>102633</th>\n",
       "      <td>0</td>\n",
       "      <td>1</td>\n",
       "      <td>0</td>\n",
       "      <td>0.0</td>\n",
       "      <td>114.0</td>\n",
       "      <td>0.0</td>\n",
       "      <td>114.0</td>\n",
       "      <td>114.0</td>\n",
       "      <td>168</td>\n",
       "      <td>54.0</td>\n",
       "      <td>2</td>\n",
       "      <td>2.0</td>\n",
       "    </tr>\n",
       "    <tr>\n",
       "      <th>102664</th>\n",
       "      <td>0</td>\n",
       "      <td>1</td>\n",
       "      <td>576</td>\n",
       "      <td>0.0</td>\n",
       "      <td>630.0</td>\n",
       "      <td>-576.0</td>\n",
       "      <td>630.0</td>\n",
       "      <td>54.0</td>\n",
       "      <td>168</td>\n",
       "      <td>114.0</td>\n",
       "      <td>5</td>\n",
       "      <td>5.0</td>\n",
       "    </tr>\n",
       "    <tr>\n",
       "      <th>102674</th>\n",
       "      <td>0</td>\n",
       "      <td>1</td>\n",
       "      <td>0</td>\n",
       "      <td>0.0</td>\n",
       "      <td>156.0</td>\n",
       "      <td>0.0</td>\n",
       "      <td>156.0</td>\n",
       "      <td>156.0</td>\n",
       "      <td>168</td>\n",
       "      <td>12.0</td>\n",
       "      <td>2</td>\n",
       "      <td>2.0</td>\n",
       "    </tr>\n",
       "    <tr>\n",
       "      <th>102675</th>\n",
       "      <td>0</td>\n",
       "      <td>1</td>\n",
       "      <td>576</td>\n",
       "      <td>0.0</td>\n",
       "      <td>156.0</td>\n",
       "      <td>-576.0</td>\n",
       "      <td>156.0</td>\n",
       "      <td>-420.0</td>\n",
       "      <td>168</td>\n",
       "      <td>588.0</td>\n",
       "      <td>2</td>\n",
       "      <td>2.0</td>\n",
       "    </tr>\n",
       "    <tr>\n",
       "      <th>102681</th>\n",
       "      <td>0</td>\n",
       "      <td>1</td>\n",
       "      <td>408</td>\n",
       "      <td>0.0</td>\n",
       "      <td>420.0</td>\n",
       "      <td>-408.0</td>\n",
       "      <td>420.0</td>\n",
       "      <td>12.0</td>\n",
       "      <td>168</td>\n",
       "      <td>156.0</td>\n",
       "      <td>5</td>\n",
       "      <td>5.0</td>\n",
       "    </tr>\n",
       "  </tbody>\n",
       "</table>\n",
       "<p>5365 rows × 12 columns</p>\n",
       "</div>"
      ],
      "text/plain": [
       "        offer_viewed  offer_completed  time_received  time_viewed  \\\n",
       "0                  0                1            408          0.0   \n",
       "33                 0                1            336          0.0   \n",
       "34                 0                1            504          0.0   \n",
       "66                 0                1            504          0.0   \n",
       "100                0                1            576          0.0   \n",
       "...              ...              ...            ...          ...   \n",
       "102633             0                1              0          0.0   \n",
       "102664             0                1            576          0.0   \n",
       "102674             0                1              0          0.0   \n",
       "102675             0                1            576          0.0   \n",
       "102681             0                1            408          0.0   \n",
       "\n",
       "        time_completed  received_viewed  viewed_completed  \\\n",
       "0                528.0           -408.0             528.0   \n",
       "33               456.0           -336.0             456.0   \n",
       "34               456.0           -504.0             456.0   \n",
       "66               516.0           -504.0             516.0   \n",
       "100              600.0           -576.0             600.0   \n",
       "...                ...              ...               ...   \n",
       "102633           114.0              0.0             114.0   \n",
       "102664           630.0           -576.0             630.0   \n",
       "102674           156.0              0.0             156.0   \n",
       "102675           156.0           -576.0             156.0   \n",
       "102681           420.0           -408.0             420.0   \n",
       "\n",
       "        received_completed_diff  duration_hr  duration_diff  reward  \\\n",
       "0                         120.0          168           48.0       5   \n",
       "33                        120.0          240          120.0       5   \n",
       "34                        -48.0          240          288.0       5   \n",
       "66                         12.0          168          156.0       5   \n",
       "100                        24.0          168          144.0       2   \n",
       "...                         ...          ...            ...     ...   \n",
       "102633                    114.0          168           54.0       2   \n",
       "102664                     54.0          168          114.0       5   \n",
       "102674                    156.0          168           12.0       2   \n",
       "102675                   -420.0          168          588.0       2   \n",
       "102681                     12.0          168          156.0       5   \n",
       "\n",
       "        reward_received  \n",
       "0                   5.0  \n",
       "33                  5.0  \n",
       "34                  5.0  \n",
       "66                  5.0  \n",
       "100                 2.0  \n",
       "...                 ...  \n",
       "102633              2.0  \n",
       "102664              5.0  \n",
       "102674              2.0  \n",
       "102675              2.0  \n",
       "102681              5.0  \n",
       "\n",
       "[5365 rows x 12 columns]"
      ]
     },
     "execution_count": 24,
     "metadata": {},
     "output_type": "execute_result"
    }
   ],
   "source": [
    "ml_df[(ml_df.offer_viewed == 0) & (ml_df.offer_completed == 1)][['offer_viewed','offer_completed','time_received', 'time_viewed', 'time_completed', 'received_viewed', 'viewed_completed', 'received_completed_diff', 'duration_hr', 'duration_diff', 'reward', 'reward_received']]"
   ]
  },
  {
   "cell_type": "markdown",
   "id": "d89b9163-1d17-4e3d-8a06-5e2e9ae17965",
   "metadata": {},
   "source": [
    "* rewards do not match"
   ]
  },
  {
   "cell_type": "code",
   "execution_count": 25,
   "id": "dd8115be-ad19-4815-899d-0263af30a08b",
   "metadata": {
    "tags": []
   },
   "outputs": [],
   "source": [
    "reward_anomaly = ml_df[(ml_df.reward != ml_df.reward_received) & (ml_df.duration_hr >= ml_df.duration_diff)].index\n",
    "ml_df.drop(index = reward_anomaly, inplace = True)"
   ]
  },
  {
   "cell_type": "code",
   "execution_count": 26,
   "id": "6bbe9b79-ad7b-48b0-94af-dde948df54d8",
   "metadata": {
    "tags": []
   },
   "outputs": [
    {
     "data": {
      "text/plain": [
       "(60610, 30)"
      ]
     },
     "execution_count": 26,
     "metadata": {},
     "output_type": "execute_result"
    }
   ],
   "source": [
    "ml_df.shape"
   ]
  },
  {
   "cell_type": "code",
   "execution_count": 27,
   "id": "02cc7a33-8853-4c0b-92b3-7f3919175485",
   "metadata": {
    "tags": []
   },
   "outputs": [
    {
     "data": {
      "text/plain": [
       "0    30306\n",
       "1    30304\n",
       "Name: offer_completed, dtype: int64"
      ]
     },
     "execution_count": 27,
     "metadata": {},
     "output_type": "execute_result"
    }
   ],
   "source": [
    "ml_df['offer_completed'].value_counts()"
   ]
  },
  {
   "cell_type": "code",
   "execution_count": 28,
   "id": "1e364cbd-8476-488c-90f2-655c1655ff8d",
   "metadata": {
    "tags": []
   },
   "outputs": [
    {
     "data": {
      "text/plain": [
       "1    60610\n",
       "Name: offer_received, dtype: int64"
      ]
     },
     "execution_count": 28,
     "metadata": {},
     "output_type": "execute_result"
    }
   ],
   "source": [
    "ml_df['offer_received'].value_counts()"
   ]
  },
  {
   "cell_type": "code",
   "execution_count": 29,
   "id": "f6055a9c-3403-4bce-8e84-f678f2348b00",
   "metadata": {
    "tags": []
   },
   "outputs": [
    {
     "data": {
      "text/plain": [
       "1    46960\n",
       "0    13650\n",
       "Name: offer_viewed, dtype: int64"
      ]
     },
     "execution_count": 29,
     "metadata": {},
     "output_type": "execute_result"
    }
   ],
   "source": [
    "ml_df['offer_viewed'].value_counts()"
   ]
  },
  {
   "cell_type": "code",
   "execution_count": 30,
   "id": "bcf13f0a-2bd6-4fd5-9724-ead06e7cb354",
   "metadata": {
    "tags": []
   },
   "outputs": [
    {
     "data": {
      "text/html": [
       "<div>\n",
       "<style scoped>\n",
       "    .dataframe tbody tr th:only-of-type {\n",
       "        vertical-align: middle;\n",
       "    }\n",
       "\n",
       "    .dataframe tbody tr th {\n",
       "        vertical-align: top;\n",
       "    }\n",
       "\n",
       "    .dataframe thead th {\n",
       "        text-align: right;\n",
       "    }\n",
       "</style>\n",
       "<table border=\"1\" class=\"dataframe\">\n",
       "  <thead>\n",
       "    <tr style=\"text-align: right;\">\n",
       "      <th></th>\n",
       "      <th>age</th>\n",
       "      <th>gender</th>\n",
       "      <th>income</th>\n",
       "      <th>became_member_on</th>\n",
       "      <th>membership_duration</th>\n",
       "      <th>person</th>\n",
       "      <th>offer_received</th>\n",
       "      <th>time_received</th>\n",
       "      <th>offer_id</th>\n",
       "      <th>offer_viewed</th>\n",
       "      <th>...</th>\n",
       "      <th>channels</th>\n",
       "      <th>web</th>\n",
       "      <th>email</th>\n",
       "      <th>social</th>\n",
       "      <th>mobile</th>\n",
       "      <th>duration_hr</th>\n",
       "      <th>received_viewed</th>\n",
       "      <th>viewed_completed</th>\n",
       "      <th>received_completed_diff</th>\n",
       "      <th>duration_diff</th>\n",
       "    </tr>\n",
       "  </thead>\n",
       "  <tbody>\n",
       "    <tr>\n",
       "      <th>0</th>\n",
       "      <td>55</td>\n",
       "      <td>F</td>\n",
       "      <td>112000.0</td>\n",
       "      <td>2017-07-15</td>\n",
       "      <td>376</td>\n",
       "      <td>0610b486422d4921ae7d2bf64640c50b</td>\n",
       "      <td>1</td>\n",
       "      <td>408</td>\n",
       "      <td>9b98b8c7a33c4b65b9aebfe6a799e6d9</td>\n",
       "      <td>0</td>\n",
       "      <td>...</td>\n",
       "      <td>['web', 'email', 'mobile']</td>\n",
       "      <td>1</td>\n",
       "      <td>1</td>\n",
       "      <td>0</td>\n",
       "      <td>1</td>\n",
       "      <td>168</td>\n",
       "      <td>-408.0</td>\n",
       "      <td>528.0</td>\n",
       "      <td>120.0</td>\n",
       "      <td>48.0</td>\n",
       "    </tr>\n",
       "    <tr>\n",
       "      <th>1</th>\n",
       "      <td>55</td>\n",
       "      <td>F</td>\n",
       "      <td>112000.0</td>\n",
       "      <td>2017-07-15</td>\n",
       "      <td>376</td>\n",
       "      <td>0610b486422d4921ae7d2bf64640c50b</td>\n",
       "      <td>1</td>\n",
       "      <td>504</td>\n",
       "      <td>3f207df678b143eea3cee63160fa8bed</td>\n",
       "      <td>0</td>\n",
       "      <td>...</td>\n",
       "      <td>['web', 'email', 'mobile']</td>\n",
       "      <td>1</td>\n",
       "      <td>1</td>\n",
       "      <td>0</td>\n",
       "      <td>1</td>\n",
       "      <td>96</td>\n",
       "      <td>-504.0</td>\n",
       "      <td>0.0</td>\n",
       "      <td>-504.0</td>\n",
       "      <td>600.0</td>\n",
       "    </tr>\n",
       "    <tr>\n",
       "      <th>2</th>\n",
       "      <td>75</td>\n",
       "      <td>F</td>\n",
       "      <td>100000.0</td>\n",
       "      <td>2017-05-09</td>\n",
       "      <td>443</td>\n",
       "      <td>78afa995795e4d85b5d9ceeca43f5fef</td>\n",
       "      <td>1</td>\n",
       "      <td>0</td>\n",
       "      <td>9b98b8c7a33c4b65b9aebfe6a799e6d9</td>\n",
       "      <td>1</td>\n",
       "      <td>...</td>\n",
       "      <td>['web', 'email', 'mobile']</td>\n",
       "      <td>1</td>\n",
       "      <td>1</td>\n",
       "      <td>0</td>\n",
       "      <td>1</td>\n",
       "      <td>168</td>\n",
       "      <td>6.0</td>\n",
       "      <td>126.0</td>\n",
       "      <td>132.0</td>\n",
       "      <td>36.0</td>\n",
       "    </tr>\n",
       "    <tr>\n",
       "      <th>3</th>\n",
       "      <td>75</td>\n",
       "      <td>F</td>\n",
       "      <td>100000.0</td>\n",
       "      <td>2017-05-09</td>\n",
       "      <td>443</td>\n",
       "      <td>78afa995795e4d85b5d9ceeca43f5fef</td>\n",
       "      <td>1</td>\n",
       "      <td>168</td>\n",
       "      <td>5a8bc65990b245e5a138643cd4eb9837</td>\n",
       "      <td>1</td>\n",
       "      <td>...</td>\n",
       "      <td>['email', 'mobile', 'social']</td>\n",
       "      <td>0</td>\n",
       "      <td>1</td>\n",
       "      <td>1</td>\n",
       "      <td>1</td>\n",
       "      <td>72</td>\n",
       "      <td>48.0</td>\n",
       "      <td>-216.0</td>\n",
       "      <td>-168.0</td>\n",
       "      <td>240.0</td>\n",
       "    </tr>\n",
       "    <tr>\n",
       "      <th>4</th>\n",
       "      <td>75</td>\n",
       "      <td>F</td>\n",
       "      <td>100000.0</td>\n",
       "      <td>2017-05-09</td>\n",
       "      <td>443</td>\n",
       "      <td>78afa995795e4d85b5d9ceeca43f5fef</td>\n",
       "      <td>1</td>\n",
       "      <td>408</td>\n",
       "      <td>ae264e3637204a6fb9bb56bc8210ddfd</td>\n",
       "      <td>1</td>\n",
       "      <td>...</td>\n",
       "      <td>['email', 'mobile', 'social']</td>\n",
       "      <td>0</td>\n",
       "      <td>1</td>\n",
       "      <td>1</td>\n",
       "      <td>1</td>\n",
       "      <td>168</td>\n",
       "      <td>0.0</td>\n",
       "      <td>102.0</td>\n",
       "      <td>102.0</td>\n",
       "      <td>66.0</td>\n",
       "    </tr>\n",
       "    <tr>\n",
       "      <th>...</th>\n",
       "      <td>...</td>\n",
       "      <td>...</td>\n",
       "      <td>...</td>\n",
       "      <td>...</td>\n",
       "      <td>...</td>\n",
       "      <td>...</td>\n",
       "      <td>...</td>\n",
       "      <td>...</td>\n",
       "      <td>...</td>\n",
       "      <td>...</td>\n",
       "      <td>...</td>\n",
       "      <td>...</td>\n",
       "      <td>...</td>\n",
       "      <td>...</td>\n",
       "      <td>...</td>\n",
       "      <td>...</td>\n",
       "      <td>...</td>\n",
       "      <td>...</td>\n",
       "      <td>...</td>\n",
       "      <td>...</td>\n",
       "      <td>...</td>\n",
       "    </tr>\n",
       "    <tr>\n",
       "      <th>102685</th>\n",
       "      <td>49</td>\n",
       "      <td>M</td>\n",
       "      <td>73000.0</td>\n",
       "      <td>2017-01-26</td>\n",
       "      <td>546</td>\n",
       "      <td>01d26f638c274aa0b965d24cefe3183f</td>\n",
       "      <td>1</td>\n",
       "      <td>336</td>\n",
       "      <td>5a8bc65990b245e5a138643cd4eb9837</td>\n",
       "      <td>1</td>\n",
       "      <td>...</td>\n",
       "      <td>['email', 'mobile', 'social']</td>\n",
       "      <td>0</td>\n",
       "      <td>1</td>\n",
       "      <td>1</td>\n",
       "      <td>1</td>\n",
       "      <td>72</td>\n",
       "      <td>60.0</td>\n",
       "      <td>-396.0</td>\n",
       "      <td>-336.0</td>\n",
       "      <td>408.0</td>\n",
       "    </tr>\n",
       "    <tr>\n",
       "      <th>102686</th>\n",
       "      <td>83</td>\n",
       "      <td>F</td>\n",
       "      <td>50000.0</td>\n",
       "      <td>2016-03-07</td>\n",
       "      <td>871</td>\n",
       "      <td>9dc1421481194dcd9400aec7c9ae6366</td>\n",
       "      <td>1</td>\n",
       "      <td>336</td>\n",
       "      <td>4d5c57ea9a6940dd891ad53e9dbe8da0</td>\n",
       "      <td>1</td>\n",
       "      <td>...</td>\n",
       "      <td>['web', 'email', 'mobile', 'social']</td>\n",
       "      <td>1</td>\n",
       "      <td>1</td>\n",
       "      <td>1</td>\n",
       "      <td>1</td>\n",
       "      <td>120</td>\n",
       "      <td>6.0</td>\n",
       "      <td>18.0</td>\n",
       "      <td>24.0</td>\n",
       "      <td>96.0</td>\n",
       "    </tr>\n",
       "    <tr>\n",
       "      <th>102689</th>\n",
       "      <td>62</td>\n",
       "      <td>F</td>\n",
       "      <td>82000.0</td>\n",
       "      <td>2017-07-22</td>\n",
       "      <td>369</td>\n",
       "      <td>e4052622e5ba45a8b96b59aba68cf068</td>\n",
       "      <td>1</td>\n",
       "      <td>0</td>\n",
       "      <td>2298d6c36e964ae4a3e7e9706d1fb8c2</td>\n",
       "      <td>1</td>\n",
       "      <td>...</td>\n",
       "      <td>['web', 'email', 'mobile', 'social']</td>\n",
       "      <td>1</td>\n",
       "      <td>1</td>\n",
       "      <td>1</td>\n",
       "      <td>1</td>\n",
       "      <td>168</td>\n",
       "      <td>6.0</td>\n",
       "      <td>48.0</td>\n",
       "      <td>54.0</td>\n",
       "      <td>114.0</td>\n",
       "    </tr>\n",
       "    <tr>\n",
       "      <th>102690</th>\n",
       "      <td>62</td>\n",
       "      <td>F</td>\n",
       "      <td>82000.0</td>\n",
       "      <td>2017-07-22</td>\n",
       "      <td>369</td>\n",
       "      <td>e4052622e5ba45a8b96b59aba68cf068</td>\n",
       "      <td>1</td>\n",
       "      <td>336</td>\n",
       "      <td>3f207df678b143eea3cee63160fa8bed</td>\n",
       "      <td>0</td>\n",
       "      <td>...</td>\n",
       "      <td>['web', 'email', 'mobile']</td>\n",
       "      <td>1</td>\n",
       "      <td>1</td>\n",
       "      <td>0</td>\n",
       "      <td>1</td>\n",
       "      <td>96</td>\n",
       "      <td>-336.0</td>\n",
       "      <td>0.0</td>\n",
       "      <td>-336.0</td>\n",
       "      <td>432.0</td>\n",
       "    </tr>\n",
       "    <tr>\n",
       "      <th>102691</th>\n",
       "      <td>62</td>\n",
       "      <td>F</td>\n",
       "      <td>82000.0</td>\n",
       "      <td>2017-07-22</td>\n",
       "      <td>369</td>\n",
       "      <td>e4052622e5ba45a8b96b59aba68cf068</td>\n",
       "      <td>1</td>\n",
       "      <td>576</td>\n",
       "      <td>3f207df678b143eea3cee63160fa8bed</td>\n",
       "      <td>0</td>\n",
       "      <td>...</td>\n",
       "      <td>['web', 'email', 'mobile']</td>\n",
       "      <td>1</td>\n",
       "      <td>1</td>\n",
       "      <td>0</td>\n",
       "      <td>1</td>\n",
       "      <td>96</td>\n",
       "      <td>-576.0</td>\n",
       "      <td>0.0</td>\n",
       "      <td>-576.0</td>\n",
       "      <td>672.0</td>\n",
       "    </tr>\n",
       "  </tbody>\n",
       "</table>\n",
       "<p>60610 rows × 30 columns</p>\n",
       "</div>"
      ],
      "text/plain": [
       "        age gender    income became_member_on  membership_duration  \\\n",
       "0        55      F  112000.0       2017-07-15                  376   \n",
       "1        55      F  112000.0       2017-07-15                  376   \n",
       "2        75      F  100000.0       2017-05-09                  443   \n",
       "3        75      F  100000.0       2017-05-09                  443   \n",
       "4        75      F  100000.0       2017-05-09                  443   \n",
       "...     ...    ...       ...              ...                  ...   \n",
       "102685   49      M   73000.0       2017-01-26                  546   \n",
       "102686   83      F   50000.0       2016-03-07                  871   \n",
       "102689   62      F   82000.0       2017-07-22                  369   \n",
       "102690   62      F   82000.0       2017-07-22                  369   \n",
       "102691   62      F   82000.0       2017-07-22                  369   \n",
       "\n",
       "                                  person  offer_received  time_received  \\\n",
       "0       0610b486422d4921ae7d2bf64640c50b               1            408   \n",
       "1       0610b486422d4921ae7d2bf64640c50b               1            504   \n",
       "2       78afa995795e4d85b5d9ceeca43f5fef               1              0   \n",
       "3       78afa995795e4d85b5d9ceeca43f5fef               1            168   \n",
       "4       78afa995795e4d85b5d9ceeca43f5fef               1            408   \n",
       "...                                  ...             ...            ...   \n",
       "102685  01d26f638c274aa0b965d24cefe3183f               1            336   \n",
       "102686  9dc1421481194dcd9400aec7c9ae6366               1            336   \n",
       "102689  e4052622e5ba45a8b96b59aba68cf068               1              0   \n",
       "102690  e4052622e5ba45a8b96b59aba68cf068               1            336   \n",
       "102691  e4052622e5ba45a8b96b59aba68cf068               1            576   \n",
       "\n",
       "                                offer_id  offer_viewed  ...  \\\n",
       "0       9b98b8c7a33c4b65b9aebfe6a799e6d9             0  ...   \n",
       "1       3f207df678b143eea3cee63160fa8bed             0  ...   \n",
       "2       9b98b8c7a33c4b65b9aebfe6a799e6d9             1  ...   \n",
       "3       5a8bc65990b245e5a138643cd4eb9837             1  ...   \n",
       "4       ae264e3637204a6fb9bb56bc8210ddfd             1  ...   \n",
       "...                                  ...           ...  ...   \n",
       "102685  5a8bc65990b245e5a138643cd4eb9837             1  ...   \n",
       "102686  4d5c57ea9a6940dd891ad53e9dbe8da0             1  ...   \n",
       "102689  2298d6c36e964ae4a3e7e9706d1fb8c2             1  ...   \n",
       "102690  3f207df678b143eea3cee63160fa8bed             0  ...   \n",
       "102691  3f207df678b143eea3cee63160fa8bed             0  ...   \n",
       "\n",
       "                                    channels  web  email  social mobile  \\\n",
       "0                 ['web', 'email', 'mobile']    1      1       0      1   \n",
       "1                 ['web', 'email', 'mobile']    1      1       0      1   \n",
       "2                 ['web', 'email', 'mobile']    1      1       0      1   \n",
       "3              ['email', 'mobile', 'social']    0      1       1      1   \n",
       "4              ['email', 'mobile', 'social']    0      1       1      1   \n",
       "...                                      ...  ...    ...     ...    ...   \n",
       "102685         ['email', 'mobile', 'social']    0      1       1      1   \n",
       "102686  ['web', 'email', 'mobile', 'social']    1      1       1      1   \n",
       "102689  ['web', 'email', 'mobile', 'social']    1      1       1      1   \n",
       "102690            ['web', 'email', 'mobile']    1      1       0      1   \n",
       "102691            ['web', 'email', 'mobile']    1      1       0      1   \n",
       "\n",
       "        duration_hr received_viewed  viewed_completed  \\\n",
       "0               168          -408.0             528.0   \n",
       "1                96          -504.0               0.0   \n",
       "2               168             6.0             126.0   \n",
       "3                72            48.0            -216.0   \n",
       "4               168             0.0             102.0   \n",
       "...             ...             ...               ...   \n",
       "102685           72            60.0            -396.0   \n",
       "102686          120             6.0              18.0   \n",
       "102689          168             6.0              48.0   \n",
       "102690           96          -336.0               0.0   \n",
       "102691           96          -576.0               0.0   \n",
       "\n",
       "        received_completed_diff  duration_diff  \n",
       "0                         120.0           48.0  \n",
       "1                        -504.0          600.0  \n",
       "2                         132.0           36.0  \n",
       "3                        -168.0          240.0  \n",
       "4                         102.0           66.0  \n",
       "...                         ...            ...  \n",
       "102685                   -336.0          408.0  \n",
       "102686                     24.0           96.0  \n",
       "102689                     54.0          114.0  \n",
       "102690                   -336.0          432.0  \n",
       "102691                   -576.0          672.0  \n",
       "\n",
       "[60610 rows x 30 columns]"
      ]
     },
     "execution_count": 30,
     "metadata": {},
     "output_type": "execute_result"
    }
   ],
   "source": [
    "ml_df"
   ]
  },
  {
   "cell_type": "code",
   "execution_count": 31,
   "id": "0aab2775-60af-4aa1-bbc4-a07180b3132d",
   "metadata": {
    "tags": []
   },
   "outputs": [],
   "source": [
    "ml_df['viewed_and_completed'] = ((ml_df['offer_viewed'] == 1) & ml_df[\"offer_completed\"] == 1)"
   ]
  },
  {
   "cell_type": "code",
   "execution_count": 32,
   "id": "6d0f82be-6c69-48b9-b6b1-075865b33edb",
   "metadata": {
    "tags": []
   },
   "outputs": [],
   "source": [
    "ml_df['valid_complete'] = ml_df['viewed_and_completed'].apply(lambda x: 1 if x is True else 0)\n"
   ]
  },
  {
   "cell_type": "code",
   "execution_count": 33,
   "id": "10a0ada9-50d5-4b16-a877-be8842597a1f",
   "metadata": {
    "tags": []
   },
   "outputs": [],
   "source": [
    "ml_df.drop('viewed_and_completed', axis = 1, inplace = True)"
   ]
  },
  {
   "cell_type": "code",
   "execution_count": 34,
   "id": "bf131e20-811a-4a01-a70b-85d7248b8b5f",
   "metadata": {
    "tags": []
   },
   "outputs": [
    {
     "data": {
      "text/html": [
       "<div>\n",
       "<style scoped>\n",
       "    .dataframe tbody tr th:only-of-type {\n",
       "        vertical-align: middle;\n",
       "    }\n",
       "\n",
       "    .dataframe tbody tr th {\n",
       "        vertical-align: top;\n",
       "    }\n",
       "\n",
       "    .dataframe thead th {\n",
       "        text-align: right;\n",
       "    }\n",
       "</style>\n",
       "<table border=\"1\" class=\"dataframe\">\n",
       "  <thead>\n",
       "    <tr style=\"text-align: right;\">\n",
       "      <th></th>\n",
       "      <th>offer_received</th>\n",
       "      <th>offer_viewed</th>\n",
       "      <th>offer_completed</th>\n",
       "      <th>valid_complete</th>\n",
       "    </tr>\n",
       "  </thead>\n",
       "  <tbody>\n",
       "    <tr>\n",
       "      <th>0</th>\n",
       "      <td>1</td>\n",
       "      <td>0</td>\n",
       "      <td>1</td>\n",
       "      <td>0</td>\n",
       "    </tr>\n",
       "    <tr>\n",
       "      <th>1</th>\n",
       "      <td>1</td>\n",
       "      <td>0</td>\n",
       "      <td>0</td>\n",
       "      <td>0</td>\n",
       "    </tr>\n",
       "    <tr>\n",
       "      <th>2</th>\n",
       "      <td>1</td>\n",
       "      <td>1</td>\n",
       "      <td>1</td>\n",
       "      <td>1</td>\n",
       "    </tr>\n",
       "    <tr>\n",
       "      <th>3</th>\n",
       "      <td>1</td>\n",
       "      <td>1</td>\n",
       "      <td>0</td>\n",
       "      <td>0</td>\n",
       "    </tr>\n",
       "    <tr>\n",
       "      <th>4</th>\n",
       "      <td>1</td>\n",
       "      <td>1</td>\n",
       "      <td>1</td>\n",
       "      <td>1</td>\n",
       "    </tr>\n",
       "    <tr>\n",
       "      <th>...</th>\n",
       "      <td>...</td>\n",
       "      <td>...</td>\n",
       "      <td>...</td>\n",
       "      <td>...</td>\n",
       "    </tr>\n",
       "    <tr>\n",
       "      <th>102685</th>\n",
       "      <td>1</td>\n",
       "      <td>1</td>\n",
       "      <td>0</td>\n",
       "      <td>0</td>\n",
       "    </tr>\n",
       "    <tr>\n",
       "      <th>102686</th>\n",
       "      <td>1</td>\n",
       "      <td>1</td>\n",
       "      <td>1</td>\n",
       "      <td>1</td>\n",
       "    </tr>\n",
       "    <tr>\n",
       "      <th>102689</th>\n",
       "      <td>1</td>\n",
       "      <td>1</td>\n",
       "      <td>1</td>\n",
       "      <td>1</td>\n",
       "    </tr>\n",
       "    <tr>\n",
       "      <th>102690</th>\n",
       "      <td>1</td>\n",
       "      <td>0</td>\n",
       "      <td>0</td>\n",
       "      <td>0</td>\n",
       "    </tr>\n",
       "    <tr>\n",
       "      <th>102691</th>\n",
       "      <td>1</td>\n",
       "      <td>0</td>\n",
       "      <td>0</td>\n",
       "      <td>0</td>\n",
       "    </tr>\n",
       "  </tbody>\n",
       "</table>\n",
       "<p>60610 rows × 4 columns</p>\n",
       "</div>"
      ],
      "text/plain": [
       "        offer_received  offer_viewed  offer_completed  valid_complete\n",
       "0                    1             0                1               0\n",
       "1                    1             0                0               0\n",
       "2                    1             1                1               1\n",
       "3                    1             1                0               0\n",
       "4                    1             1                1               1\n",
       "...                ...           ...              ...             ...\n",
       "102685               1             1                0               0\n",
       "102686               1             1                1               1\n",
       "102689               1             1                1               1\n",
       "102690               1             0                0               0\n",
       "102691               1             0                0               0\n",
       "\n",
       "[60610 rows x 4 columns]"
      ]
     },
     "execution_count": 34,
     "metadata": {},
     "output_type": "execute_result"
    }
   ],
   "source": [
    "ml_df[['offer_received', 'offer_viewed', 'offer_completed', 'valid_complete']]"
   ]
  },
  {
   "cell_type": "code",
   "execution_count": 35,
   "id": "3f706a18-a5ee-4f28-b980-efdb9c36163f",
   "metadata": {
    "tags": []
   },
   "outputs": [],
   "source": [
    "# ml_df.to_csv('data/cleaned_complete.csv', index = False)"
   ]
  },
  {
   "cell_type": "code",
   "execution_count": null,
   "id": "16fe8f07-3333-4a85-b2d0-869ea7de6efa",
   "metadata": {
    "tags": []
   },
   "outputs": [],
   "source": []
  },
  {
   "cell_type": "code",
   "execution_count": null,
   "id": "a1c9036e-b439-4c63-9fd4-ca1b9d67eba0",
   "metadata": {
    "tags": []
   },
   "outputs": [],
   "source": []
  },
  {
   "cell_type": "code",
   "execution_count": null,
   "id": "77f5d4bd-2b1e-46c6-acaf-7a38375c3675",
   "metadata": {
    "tags": []
   },
   "outputs": [],
   "source": [
    "ml_df.info()"
   ]
  },
  {
   "cell_type": "code",
   "execution_count": 37,
   "id": "c8e29e52-3dd1-4b66-97ad-003cb05c4c2f",
   "metadata": {
    "tags": []
   },
   "outputs": [],
   "source": [
    "# from sklearn.utils import resample\n",
    "# #create two different dataframe of majority and minority class \n",
    "# df_majority = ml_df[(ml_df['offer_completed']==1)] \n",
    "# df_minority = ml_df[(ml_df['offer_completed']==0)] \n",
    "# # upsample minority class\n",
    "# df_minority_upsampled = resample(df_minority, \n",
    "#                                  replace=True,    # sample with replacement\n",
    "#                                  n_samples= 64992, # to match majority class\n",
    "#                                  random_state=42)  # reproducible results\n",
    "# # Combine majority class with upsampled minority class\n",
    "# df_upsampled = pd.concat([df_minority_upsampled, df_majority])\n"
   ]
  },
  {
   "cell_type": "code",
   "execution_count": 38,
   "id": "863c55d4-1ad3-469c-a043-98f59baad507",
   "metadata": {
    "tags": []
   },
   "outputs": [],
   "source": [
    "# df_upsampled['offer_completed'].value_counts()"
   ]
  },
  {
   "cell_type": "code",
   "execution_count": 39,
   "id": "29e0b157-fd99-4ced-a66c-f00a345111d2",
   "metadata": {
    "tags": []
   },
   "outputs": [],
   "source": [
    "# ml_df['offer_completed'].value_counts()"
   ]
  },
  {
   "cell_type": "code",
   "execution_count": 40,
   "id": "6af6bb1d-3492-4dc9-8119-af308c300d95",
   "metadata": {
    "tags": []
   },
   "outputs": [],
   "source": [
    "# X = df_upsampled.drop('offer_completed', axis = 1)\n",
    "# y = df_upsampled['offer_completed']"
   ]
  },
  {
   "cell_type": "code",
   "execution_count": 5,
   "id": "7cf6c48d-c985-4c7a-8b5c-09f53414b741",
   "metadata": {},
   "outputs": [
    {
     "name": "stdout",
     "output_type": "stream",
     "text": [
      "<class 'pandas.core.frame.DataFrame'>\n",
      "RangeIndex: 148673 entries, 0 to 148672\n",
      "Data columns (total 35 columns):\n",
      " #   Column                   Non-Null Count   Dtype  \n",
      "---  ------                   --------------   -----  \n",
      " 0   age                      148673 non-null  int64  \n",
      " 1   gender                   148673 non-null  object \n",
      " 2   income                   148673 non-null  float64\n",
      " 3   became_member_on         148673 non-null  object \n",
      " 4   membership_duration      148673 non-null  int64  \n",
      " 5   person                   148673 non-null  object \n",
      " 6   event                    148673 non-null  object \n",
      " 7   time                     148673 non-null  int64  \n",
      " 8   amount_spent             148673 non-null  float64\n",
      " 9   offer_received           148673 non-null  int64  \n",
      " 10  time_received            148673 non-null  int64  \n",
      " 11  offer_id                 148673 non-null  object \n",
      " 12  offer_viewed             148673 non-null  int64  \n",
      " 13  time_viewed              148673 non-null  float64\n",
      " 14  offer_completed          148673 non-null  int64  \n",
      " 15  time_completed           148673 non-null  float64\n",
      " 16  reward_received          148673 non-null  float64\n",
      " 17  offer                    148673 non-null  int64  \n",
      " 18  offer_type               148673 non-null  object \n",
      " 19  difficulty               148673 non-null  int64  \n",
      " 20  duration                 148673 non-null  int64  \n",
      " 21  reward                   148673 non-null  int64  \n",
      " 22  channels                 148673 non-null  object \n",
      " 23  web                      148673 non-null  int64  \n",
      " 24  email                    148673 non-null  int64  \n",
      " 25  social                   148673 non-null  int64  \n",
      " 26  mobile                   148673 non-null  int64  \n",
      " 27  duration_hr              148673 non-null  int64  \n",
      " 28  received_viewed          148673 non-null  float64\n",
      " 29  viewed_completed         148673 non-null  float64\n",
      " 30  received_completed_diff  148673 non-null  float64\n",
      " 31  duration_diff            148673 non-null  float64\n",
      " 32  valid_complete           148673 non-null  int64  \n",
      " 33  completed                148673 non-null  float64\n",
      " 34  label                    148673 non-null  object \n",
      "dtypes: float64(10), int64(17), object(8)\n",
      "memory usage: 39.7+ MB\n"
     ]
    }
   ],
   "source": [
    "transaction_with_labels.info()"
   ]
  },
  {
   "cell_type": "code",
   "execution_count": 6,
   "id": "58b82cf5-4add-4161-ae93-8f5bfd2f19d5",
   "metadata": {
    "tags": []
   },
   "outputs": [],
   "source": [
    "transaction_with_labels.drop(['offer', 'time_viewed', 'time_received', 'time_completed', \n",
    "                    'offer_received', 'offer_viewed', 'offer_completed', \n",
    "                    'reward_received', 'became_member_on', 'person', 'channels', \n",
    "                    'offer_id', 'duration_diff', 'received_viewed', 'viewed_completed', \n",
    "                    'received_completed_diff',  'duration_hr', 'duration_diff', 'valid_complete',\n",
    "                    'label', 'event', 'time'], axis = 1, inplace = True)"
   ]
  },
  {
   "cell_type": "code",
   "execution_count": 7,
   "id": "16c26d1e-27bb-4841-b294-16201c5935e5",
   "metadata": {
    "tags": []
   },
   "outputs": [
    {
     "data": {
      "text/html": [
       "<div>\n",
       "<style scoped>\n",
       "    .dataframe tbody tr th:only-of-type {\n",
       "        vertical-align: middle;\n",
       "    }\n",
       "\n",
       "    .dataframe tbody tr th {\n",
       "        vertical-align: top;\n",
       "    }\n",
       "\n",
       "    .dataframe thead th {\n",
       "        text-align: right;\n",
       "    }\n",
       "</style>\n",
       "<table border=\"1\" class=\"dataframe\">\n",
       "  <thead>\n",
       "    <tr style=\"text-align: right;\">\n",
       "      <th></th>\n",
       "      <th>age</th>\n",
       "      <th>gender</th>\n",
       "      <th>income</th>\n",
       "      <th>membership_duration</th>\n",
       "      <th>amount_spent</th>\n",
       "      <th>offer_type</th>\n",
       "      <th>difficulty</th>\n",
       "      <th>duration</th>\n",
       "      <th>reward</th>\n",
       "      <th>web</th>\n",
       "      <th>email</th>\n",
       "      <th>social</th>\n",
       "      <th>mobile</th>\n",
       "      <th>completed</th>\n",
       "    </tr>\n",
       "  </thead>\n",
       "  <tbody>\n",
       "    <tr>\n",
       "      <th>0</th>\n",
       "      <td>55</td>\n",
       "      <td>F</td>\n",
       "      <td>112000.0</td>\n",
       "      <td>376</td>\n",
       "      <td>21.51</td>\n",
       "      <td>informational</td>\n",
       "      <td>0</td>\n",
       "      <td>4</td>\n",
       "      <td>0</td>\n",
       "      <td>1</td>\n",
       "      <td>1</td>\n",
       "      <td>0</td>\n",
       "      <td>1</td>\n",
       "      <td>0.0</td>\n",
       "    </tr>\n",
       "    <tr>\n",
       "      <th>1</th>\n",
       "      <td>55</td>\n",
       "      <td>F</td>\n",
       "      <td>112000.0</td>\n",
       "      <td>376</td>\n",
       "      <td>32.28</td>\n",
       "      <td>informational</td>\n",
       "      <td>0</td>\n",
       "      <td>4</td>\n",
       "      <td>0</td>\n",
       "      <td>1</td>\n",
       "      <td>1</td>\n",
       "      <td>0</td>\n",
       "      <td>1</td>\n",
       "      <td>0.0</td>\n",
       "    </tr>\n",
       "    <tr>\n",
       "      <th>2</th>\n",
       "      <td>55</td>\n",
       "      <td>F</td>\n",
       "      <td>112000.0</td>\n",
       "      <td>376</td>\n",
       "      <td>23.22</td>\n",
       "      <td>bogo</td>\n",
       "      <td>5</td>\n",
       "      <td>7</td>\n",
       "      <td>5</td>\n",
       "      <td>1</td>\n",
       "      <td>1</td>\n",
       "      <td>0</td>\n",
       "      <td>1</td>\n",
       "      <td>0.0</td>\n",
       "    </tr>\n",
       "    <tr>\n",
       "      <th>3</th>\n",
       "      <td>55</td>\n",
       "      <td>F</td>\n",
       "      <td>112000.0</td>\n",
       "      <td>376</td>\n",
       "      <td>23.22</td>\n",
       "      <td>informational</td>\n",
       "      <td>0</td>\n",
       "      <td>4</td>\n",
       "      <td>0</td>\n",
       "      <td>1</td>\n",
       "      <td>1</td>\n",
       "      <td>0</td>\n",
       "      <td>1</td>\n",
       "      <td>0.0</td>\n",
       "    </tr>\n",
       "    <tr>\n",
       "      <th>4</th>\n",
       "      <td>75</td>\n",
       "      <td>F</td>\n",
       "      <td>100000.0</td>\n",
       "      <td>443</td>\n",
       "      <td>19.89</td>\n",
       "      <td>bogo</td>\n",
       "      <td>5</td>\n",
       "      <td>7</td>\n",
       "      <td>5</td>\n",
       "      <td>1</td>\n",
       "      <td>1</td>\n",
       "      <td>0</td>\n",
       "      <td>1</td>\n",
       "      <td>1.0</td>\n",
       "    </tr>\n",
       "  </tbody>\n",
       "</table>\n",
       "</div>"
      ],
      "text/plain": [
       "   age gender    income  membership_duration  amount_spent     offer_type  \\\n",
       "0   55      F  112000.0                  376         21.51  informational   \n",
       "1   55      F  112000.0                  376         32.28  informational   \n",
       "2   55      F  112000.0                  376         23.22           bogo   \n",
       "3   55      F  112000.0                  376         23.22  informational   \n",
       "4   75      F  100000.0                  443         19.89           bogo   \n",
       "\n",
       "   difficulty  duration  reward  web  email  social  mobile  completed  \n",
       "0           0         4       0    1      1       0       1        0.0  \n",
       "1           0         4       0    1      1       0       1        0.0  \n",
       "2           5         7       5    1      1       0       1        0.0  \n",
       "3           0         4       0    1      1       0       1        0.0  \n",
       "4           5         7       5    1      1       0       1        1.0  "
      ]
     },
     "execution_count": 7,
     "metadata": {},
     "output_type": "execute_result"
    }
   ],
   "source": [
    "transaction_with_labels.head()"
   ]
  },
  {
   "cell_type": "code",
   "execution_count": 8,
   "id": "9142e18c-c9d4-4727-87af-d6a94bfbad40",
   "metadata": {
    "tags": []
   },
   "outputs": [],
   "source": [
    "def _transform_column_into_dummies(dataframe, names_of_column):\n",
    "    \n",
    "    to_concat = [dataframe]\n",
    "    \n",
    "    for name in names_of_column:\n",
    "        dummies = pd.get_dummies(dataframe[name], prefix=f\"{name} = \")\n",
    "        to_concat.append(dummies)\n",
    "    \n",
    "    dataframe = pd.concat(to_concat, axis=1)\n",
    "    \n",
    "    dataframe = dataframe.drop(names_of_column, axis=1)\n",
    "    \n",
    "    return dataframe\n",
    "\n",
    "transaction_with_labels = _transform_column_into_dummies(transaction_with_labels, ['offer_type', 'gender'])"
   ]
  },
  {
   "cell_type": "code",
   "execution_count": 9,
   "id": "40cda40a-4269-4c48-8901-7cf0477ace65",
   "metadata": {
    "tags": []
   },
   "outputs": [],
   "source": [
    "X = transaction_with_labels.drop('completed', axis = 1)\n",
    "y = transaction_with_labels['completed']"
   ]
  },
  {
   "cell_type": "code",
   "execution_count": 10,
   "id": "1078e417-44df-4de2-9a83-cdd5e24ab464",
   "metadata": {
    "tags": []
   },
   "outputs": [],
   "source": [
    "# X.to_csv('data/X.csv', index = False)\n",
    "# y.to_csv('data/y.csv', index = False)"
   ]
  },
  {
   "cell_type": "code",
   "execution_count": 11,
   "id": "0aac5099-0b8b-4d36-8e56-6c46d3a8a0f3",
   "metadata": {
    "tags": []
   },
   "outputs": [
    {
     "data": {
      "text/plain": [
       "Index(['age', 'income', 'membership_duration', 'amount_spent', 'difficulty',\n",
       "       'duration', 'reward', 'web', 'email', 'social', 'mobile',\n",
       "       'offer_type = _bogo', 'offer_type = _discount',\n",
       "       'offer_type = _informational', 'gender = _F', 'gender = _M',\n",
       "       'gender = _O'],\n",
       "      dtype='object')"
      ]
     },
     "execution_count": 11,
     "metadata": {},
     "output_type": "execute_result"
    }
   ],
   "source": [
    "X.columns"
   ]
  },
  {
   "cell_type": "code",
   "execution_count": 12,
   "id": "0b918a0b-ddea-445f-ae4d-1b319bf63bf5",
   "metadata": {
    "tags": []
   },
   "outputs": [],
   "source": [
    "from sklearn.model_selection import train_test_split\n",
    "\n",
    "X_train, X_test, y_train, y_test = train_test_split(X, y, test_size=0.2, random_state=1, shuffle = True)\n",
    "\n",
    "X_train, X_val, y_train, y_val = train_test_split(X_train, y_train, test_size=0.25, random_state=1, shuffle = True) # 0.25 x 0.8 = 0.2"
   ]
  },
  {
   "cell_type": "code",
   "execution_count": 10,
   "id": "549cd310-6444-40b8-b962-d86982cee84c",
   "metadata": {},
   "outputs": [],
   "source": [
    "from sklearn import tree\n",
    "tree_clf = tree.DecisionTreeClassifier()\n",
    "tree_clf = tree_clf.fit(X_train, y_train)"
   ]
  },
  {
   "cell_type": "code",
   "execution_count": 11,
   "id": "34e514cb-2c1c-484f-b373-d825ee45077a",
   "metadata": {
    "tags": []
   },
   "outputs": [],
   "source": [
    "tree_pred = tree_clf.predict(X_test)"
   ]
  },
  {
   "cell_type": "code",
   "execution_count": 12,
   "id": "732f72c8-0a82-41e5-96b6-f121d463ffde",
   "metadata": {
    "tags": []
   },
   "outputs": [],
   "source": [
    "tree_f1 = f1_score(tree_pred, y_test)"
   ]
  },
  {
   "cell_type": "code",
   "execution_count": 13,
   "id": "91aa3e62-44e0-456f-92c3-e1d5dee9523e",
   "metadata": {
    "tags": []
   },
   "outputs": [],
   "source": [
    "tree_recall = recall_score(tree_pred, y_test) "
   ]
  },
  {
   "cell_type": "code",
   "execution_count": 14,
   "id": "952cc853-3082-4635-be83-8ca163853776",
   "metadata": {
    "tags": []
   },
   "outputs": [
    {
     "name": "stdout",
     "output_type": "stream",
     "text": [
      "0.7535673696173759 0.7632050134288272\n"
     ]
    }
   ],
   "source": [
    "print(tree_f1, tree_recall)"
   ]
  },
  {
   "cell_type": "code",
   "execution_count": 15,
   "id": "5e29592e-2232-438c-a5e3-d8b130de4534",
   "metadata": {
    "tags": []
   },
   "outputs": [],
   "source": [
    "import seaborn as sns\n",
    "import matplotlib.pyplot as plt\n",
    "from sklearn.metrics import confusion_matrix"
   ]
  },
  {
   "cell_type": "code",
   "execution_count": 16,
   "id": "f797c04a-87a5-4e91-a626-c11417dd898e",
   "metadata": {
    "tags": []
   },
   "outputs": [
    {
     "data": {
      "text/plain": [
       "Text(50.722222222222214, 0.5, 'True labels')"
      ]
     },
     "execution_count": 16,
     "metadata": {},
     "output_type": "execute_result"
    },
    {
     "data": {
      "image/png": "[encoded data removed]",
      "text/plain": [
       "<Figure size 640x480 with 2 Axes>"
      ]
     },
     "metadata": {},
     "output_type": "display_data"
    }
   ],
   "source": [
    "import seaborn as sns\n",
    "import matplotlib.pyplot as plt\n",
    "from sklearn.metrics import confusion_matrix\n",
    "\n",
    "# calculate confusion matrix\n",
    "tree_cm = confusion_matrix(y_test, tree_pred)\n",
    "\n",
    "# plot confusion matrix using seaborn heatmap\n",
    "sns.heatmap(tree_cm, annot=True, cmap='Blues', fmt='g')\n",
    "\n",
    "# set axis labels\n",
    "plt.xlabel('Predicted labels')\n",
    "plt.ylabel('True labels')\n"
   ]
  },
  {
   "cell_type": "code",
   "execution_count": 17,
   "id": "b6ee1427-4b85-4640-8931-9c81c8762bf9",
   "metadata": {
    "tags": []
   },
   "outputs": [
    {
     "name": "stdout",
     "output_type": "stream",
     "text": [
      "Feature ranking:\n",
      "1. feature 3 age (0.343403)\n",
      "2. feature 2 income (0.205816)\n",
      "3. feature 0 membership_duration (0.132409)\n",
      "4. feature 1 amount_spent (0.132055)\n",
      "5. feature 5 difficulty (0.084271)\n",
      "6. feature 7 duration (0.037671)\n",
      "7. feature 9 reward (0.031004)\n",
      "8. feature 14 web (0.011900)\n",
      "9. feature 15 email (0.011723)\n",
      "10. feature 11 social (0.003284)\n",
      "11. feature 16 mobile (0.002296)\n",
      "12. feature 12 offer_type = _bogo (0.001793)\n",
      "13. feature 6 offer_type = _discount (0.001482)\n",
      "14. feature 4 offer_type = _informational (0.000892)\n",
      "15. feature 10 gender = _F (0.000000)\n",
      "16. feature 13 gender = _M (0.000000)\n",
      "17. feature 8 gender = _O (0.000000)\n"
     ]
    },
    {
     "data": {
      "image/png": "[encoded data removed]",
      "text/plain": [
       "<Figure size 640x480 with 1 Axes>"
      ]
     },
     "metadata": {},
     "output_type": "display_data"
    }
   ],
   "source": [
    "# get feature importances\n",
    "tree_importances = tree_clf.feature_importances_\n",
    "\n",
    "# sort feature importances in descending order\n",
    "indices = np.argsort(tree_importances)[::-1]\n",
    "\n",
    "# print out the feature ranking\n",
    "print(\"Feature ranking:\")\n",
    "for f in range(X.shape[1]):\n",
    "    print(\"%d. feature %d %s (%f)\" % (f + 1, indices[f], X.columns[f], tree_importances[indices[f]]))\n",
    "\n",
    "# plot the feature importances\n",
    "plt.title(\"Feature importances\")\n",
    "plt.bar(range(X.shape[1]), tree_importances[indices])\n",
    "plt.xticks(range(X.shape[1]), indices)\n",
    "plt.show()\n"
   ]
  },
  {
   "cell_type": "code",
   "execution_count": 22,
   "id": "872091bd-aaee-43c5-b0ea-032ec59334c3",
   "metadata": {},
   "outputs": [],
   "source": [
    "forest_clf = RandomForestClassifier(max_depth=2, random_state=0)\n",
    "forest_clf = forest_clf.fit(X_train, y_train)"
   ]
  },
  {
   "cell_type": "code",
   "execution_count": 23,
   "id": "93338493-4e77-4bf8-849a-ebc344f13be6",
   "metadata": {
    "tags": []
   },
   "outputs": [],
   "source": [
    "forest_pred = forest_clf.predict(X_test)"
   ]
  },
  {
   "cell_type": "code",
   "execution_count": 24,
   "id": "c8b3609f-2920-4ba4-afc2-bf6287deb7b5",
   "metadata": {
    "tags": []
   },
   "outputs": [],
   "source": [
    "forest_f1 = f1_score(forest_pred, y_test)"
   ]
  },
  {
   "cell_type": "code",
   "execution_count": 25,
   "id": "098fd743-9aba-4c6c-ab5c-f312e841748c",
   "metadata": {
    "tags": []
   },
   "outputs": [],
   "source": [
    "forest_recall = recall_score(forest_pred, y_test)"
   ]
  },
  {
   "cell_type": "code",
   "execution_count": 26,
   "id": "e365589c-6c5d-4b1a-9aee-88252195894d",
   "metadata": {
    "tags": []
   },
   "outputs": [
    {
     "name": "stdout",
     "output_type": "stream",
     "text": [
      "0.6983642437507199 0.6488815155731563\n"
     ]
    }
   ],
   "source": [
    "print(forest_f1, forest_recall)"
   ]
  },
  {
   "cell_type": "code",
   "execution_count": 52,
   "id": "dee77970-f4fb-42f4-b13f-09ef079ee745",
   "metadata": {
    "tags": []
   },
   "outputs": [
    {
     "data": {
      "text/plain": [
       "Text(50.722222222222214, 0.5, 'True labels')"
      ]
     },
     "execution_count": 52,
     "metadata": {},
     "output_type": "execute_result"
    },
    {
     "data": {
      "image/png": "[encoded data removed]",
      "text/plain": [
       "<Figure size 640x480 with 2 Axes>"
      ]
     },
     "metadata": {},
     "output_type": "display_data"
    }
   ],
   "source": [
    "# calculate confusion matrix\n",
    "forest_cm = confusion_matrix(y_test, forest_pred)\n",
    "\n",
    "# plot confusion matrix using seaborn heatmap\n",
    "sns.heatmap(forest_cm, annot=True, cmap='Blues', fmt='g')\n",
    "\n",
    "# set axis labels\n",
    "plt.xlabel('Predicted labels')\n",
    "plt.ylabel('True labels')"
   ]
  },
  {
   "cell_type": "code",
   "execution_count": 27,
   "id": "76ac1793-da74-47f8-bb0a-359e3b6445e6",
   "metadata": {
    "tags": []
   },
   "outputs": [
    {
     "name": "stdout",
     "output_type": "stream",
     "text": [
      "Feature ranking:\n",
      "1. feature 5 age (0.208596)\n",
      "2. feature 4 income (0.199387)\n",
      "3. feature 13 membership_duration (0.154546)\n",
      "4. feature 9 amount_spent (0.141001)\n",
      "5. feature 6 difficulty (0.137521)\n",
      "6. feature 7 duration (0.051405)\n",
      "7. feature 11 reward (0.035525)\n",
      "8. feature 10 web (0.029669)\n",
      "9. feature 3 email (0.021235)\n",
      "10. feature 12 social (0.017715)\n",
      "11. feature 1 mobile (0.002039)\n",
      "12. feature 2 offer_type = _bogo (0.000872)\n",
      "13. feature 0 offer_type = _discount (0.000460)\n",
      "14. feature 16 offer_type = _informational (0.000019)\n",
      "15. feature 15 gender = _F (0.000009)\n",
      "16. feature 14 gender = _M (0.000003)\n",
      "17. feature 8 gender = _O (0.000000)\n"
     ]
    },
    {
     "data": {
      "image/png": "[encoded data removed]",
      "text/plain": [
       "<Figure size 640x480 with 1 Axes>"
      ]
     },
     "metadata": {},
     "output_type": "display_data"
    }
   ],
   "source": [
    "# get feature importances\n",
    "forest_importances = forest_clf.feature_importances_\n",
    "\n",
    "# sort feature importances in descending order\n",
    "indices = np.argsort(forest_importances)[::-1]\n",
    "\n",
    "# print out the feature ranking\n",
    "print(\"Feature ranking:\")\n",
    "for f in range(X.shape[1]):\n",
    "    print(\"%d. feature %d %s (%f)\" % (f + 1, indices[f], X.columns[f], forest_importances[indices[f]]))\n",
    "\n",
    "# plot the feature importances\n",
    "plt.title(\"Feature importances\")\n",
    "plt.bar(range(X.shape[1]), forest_importances[indices])\n",
    "plt.xticks(range(X.shape[1]), indices)\n",
    "plt.show()\n"
   ]
  },
  {
   "cell_type": "code",
   "execution_count": 28,
   "id": "59e58672-8ee9-49fd-afa8-e2551d860227",
   "metadata": {
    "tags": []
   },
   "outputs": [],
   "source": [
    "import lightgbm as lgb\n",
    "lgb_clf = lgb.LGBMClassifier()\n",
    "lgb_clf = lgb_clf.fit(X_train, y_train)"
   ]
  },
  {
   "cell_type": "code",
   "execution_count": 29,
   "id": "c19e546a-40ec-4fa4-8dc1-578ae1ee3992",
   "metadata": {
    "tags": []
   },
   "outputs": [],
   "source": [
    "lgb_pred = lgb_clf.predict(X_test)"
   ]
  },
  {
   "cell_type": "code",
   "execution_count": 30,
   "id": "87260b85-e44b-4379-83fc-771473c616d5",
   "metadata": {
    "tags": []
   },
   "outputs": [],
   "source": [
    "lgb_f1 = f1_score(lgb_pred, y_test)"
   ]
  },
  {
   "cell_type": "code",
   "execution_count": 31,
   "id": "9eeb6edd-10fc-44a9-9df0-8256f51c16d4",
   "metadata": {},
   "outputs": [],
   "source": [
    "lgb_recall = recall_score(lgb_pred, y_test)"
   ]
  },
  {
   "cell_type": "code",
   "execution_count": 32,
   "id": "1ae50a12-8cde-46b6-a9ee-29d86be058cc",
   "metadata": {
    "tags": []
   },
   "outputs": [
    {
     "name": "stdout",
     "output_type": "stream",
     "text": [
      "0.7241440273439802 0.6864804469273743\n"
     ]
    }
   ],
   "source": [
    "print(lgb_f1, lgb_recall)"
   ]
  },
  {
   "cell_type": "code",
   "execution_count": 61,
   "id": "2647e060-a2c0-4341-9473-561af368d552",
   "metadata": {
    "tags": []
   },
   "outputs": [
    {
     "data": {
      "text/plain": [
       "Text(50.722222222222214, 0.5, 'True labels')"
      ]
     },
     "execution_count": 61,
     "metadata": {},
     "output_type": "execute_result"
    },
    {
     "data": {
      "image/png": "[encoded data removed]",
      "text/plain": [
       "<Figure size 640x480 with 2 Axes>"
      ]
     },
     "metadata": {},
     "output_type": "display_data"
    }
   ],
   "source": [
    "# calculate confusion matrix\n",
    "lgb_cm = confusion_matrix(y_test, lgb_pred)\n",
    "\n",
    "# plot confusion matrix using seaborn heatmap\n",
    "sns.heatmap(lgb_cm, annot=True, cmap='Blues', fmt='g')\n",
    "\n",
    "# set axis labels\n",
    "plt.xlabel('Predicted labels')\n",
    "plt.ylabel('True labels')"
   ]
  },
  {
   "cell_type": "code",
   "execution_count": 62,
   "id": "a0b5912f-e3b0-49ef-8ea3-b7d7b84088f7",
   "metadata": {
    "tags": []
   },
   "outputs": [
    {
     "name": "stdout",
     "output_type": "stream",
     "text": [
      "Feature ranking:\n",
      "1. feature 2 age (822.000000)\n",
      "2. feature 0 income (713.000000)\n",
      "3. feature 1 membership_duration (656.000000)\n",
      "4. feature 3 amount_spent (341.000000)\n",
      "5. feature 9 difficulty (90.000000)\n",
      "6. feature 4 duration (88.000000)\n",
      "7. feature 5 reward (75.000000)\n",
      "8. feature 14 web (57.000000)\n",
      "9. feature 7 email (56.000000)\n",
      "10. feature 6 social (36.000000)\n",
      "11. feature 15 mobile (30.000000)\n",
      "12. feature 16 offer_type = _bogo (26.000000)\n",
      "13. feature 12 offer_type = _discount (6.000000)\n",
      "14. feature 11 offer_type = _informational (2.000000)\n",
      "15. feature 13 gender = _F (2.000000)\n",
      "16. feature 10 gender = _M (0.000000)\n",
      "17. feature 8 gender = _O (0.000000)\n"
     ]
    },
    {
     "data": {
      "image/png": "[encoded data removed]",
      "text/plain": [
       "<Figure size 640x480 with 1 Axes>"
      ]
     },
     "metadata": {},
     "output_type": "display_data"
    }
   ],
   "source": [
    "# get feature importances\n",
    "lgb_importances = lgb_clf.feature_importances_\n",
    "\n",
    "# sort feature importances in descending order\n",
    "indices = np.argsort(lgb_importances)[::-1]\n",
    "\n",
    "# print out the feature ranking\n",
    "print(\"Feature ranking:\")\n",
    "for f in range(X.shape[1]):\n",
    "    print(\"%d. feature %d %s (%f)\" % (f + 1, indices[f], X.columns[f], lgb_importances[indices[f]]))\n",
    "\n",
    "# plot the feature importances\n",
    "plt.title(\"Feature importances\")\n",
    "plt.bar(range(X.shape[1]), lgb_importances[indices])\n",
    "plt.xticks(range(X.shape[1]), indices)\n",
    "plt.show()"
   ]
  },
  {
   "cell_type": "code",
   "execution_count": 64,
   "id": "beb013ff-5264-4c5c-bd56-31e825ab8524",
   "metadata": {
    "tags": []
   },
   "outputs": [],
   "source": [
    "from sklearn.preprocessing import StandardScaler\n",
    "from sklearn.model_selection import KFold, cross_val_score\n",
    "from sklearn.pipeline import Pipeline"
   ]
  },
  {
   "cell_type": "code",
   "execution_count": 65,
   "id": "fadeec5f-4c6e-4a5a-8df3-ed173b681185",
   "metadata": {},
   "outputs": [],
   "source": [
    "models = []\n",
    "models.append(('DT', tree.DecisionTreeClassifier()))\n",
    "models.append(('RF', RandomForestClassifier()))\n",
    "models.append(('LGBM', lgb.LGBMClassifier()))"
   ]
  },
  {
   "cell_type": "code",
   "execution_count": 21,
   "id": "c0266c89-762c-4ab9-aee6-cde81c01fc89",
   "metadata": {
    "tags": []
   },
   "outputs": [
    {
     "name": "stdout",
     "output_type": "stream",
     "text": [
      "[0.77354959 0.76450153 0.77678478 0.77074572 0.77143158 0.77341641\n",
      " 0.77247014 0.76384348 0.77253308 0.7775821 ] DT: 0.771686 (0.004274)\n",
      "[0.82277952 0.81789606 0.82179054 0.82914262 0.82341772 0.82613211\n",
      " 0.8285834  0.82021524 0.82382393 0.82706612] RF: 0.824085 (0.003459)\n",
      "[0.79544736 0.79086564 0.7886543  0.79579298 0.79279471 0.79707724\n",
      " 0.79465882 0.78779502 0.78698163 0.79345775] LGBM: 0.792353 (0.003406)\n"
     ]
    }
   ],
   "source": [
    "f1_results = []\n",
    "f1_names = []\n",
    "scoring = 'f1'\n",
    "cv = KFold(n_splits=10, shuffle=True, random_state=1)\n",
    "\n",
    "for name, model in models:\n",
    "    trans = StandardScaler()\n",
    "    pipeline = Pipeline(steps=[('t', trans), ('m', model)])\n",
    "    cv_results = cross_val_score(pipeline, \n",
    "                                    X_train, \n",
    "                                    y_train, \n",
    "                                    scoring = scoring, \n",
    "                                    cv = cv)\n",
    "    f1_results.append(abs(cv_results))\n",
    "    f1_names.append(name)\n",
    "    msg = \"%s: %f (%f)\" % (name, abs(cv_results.mean()), cv_results.std())\n",
    "    print(abs(cv_results), msg)"
   ]
  },
  {
   "cell_type": "code",
   "execution_count": 69,
   "id": "75f145a4-acf9-46c6-9980-01f05c2d4f3e",
   "metadata": {
    "tags": []
   },
   "outputs": [
    {
     "data": {
      "image/png": "[encoded data removed]",
      "text/plain": [
       "<Figure size 800x400 with 1 Axes>"
      ]
     },
     "metadata": {},
     "output_type": "display_data"
    }
   ],
   "source": [
    "fig = plt.figure(figsize=(8,4))\n",
    "fig.suptitle('KFold Cross Validation F1 Scores', color = 'black')\n",
    "ax = fig.add_subplot(111)\n",
    "\n",
    "plt.boxplot(f1_results, vert = True, patch_artist = True, manage_ticks = True,\n",
    "            medianprops = {\"color\":'black'}, \n",
    "            whiskerprops = {\"color\": 'black'}, \n",
    "            capprops = {\"color\": 'black'}, \n",
    "            boxprops = {\"color\": 'black'}, \n",
    "            flierprops = {\"marker\":'o', \n",
    "                          \"markerfacecolor\":'b', \n",
    "                          \"markersize\": 12})\n",
    "\n",
    "ax.set_xticklabels(f1_names)\n",
    "plt.show()\n",
    "# plt.savefig(os.path.join('photos/kfold_f1.png'), dpi=300, format='png', bbox_inches='tight') \n"
   ]
  },
  {
   "cell_type": "code",
   "execution_count": 22,
   "id": "ed15b586-82fe-4b53-8a31-32f2fc86fc77",
   "metadata": {
    "tags": []
   },
   "outputs": [
    {
     "name": "stdout",
     "output_type": "stream",
     "text": [
      "[0.77084197 0.75781576 0.7751791  0.77376581 0.7687132  0.77091964\n",
      " 0.77047459 0.75955481 0.76519223 0.76938859] DT: 0.768185 (0.005409)\n",
      "[0.82393198 0.81429762 0.82511589 0.82598939 0.81665265 0.82622204\n",
      " 0.82843343 0.82192356 0.81727987 0.81842429] RF: 0.821827 (0.004596)\n",
      "[0.7826628  0.77594831 0.77918247 0.77947776 0.78195963 0.79080365\n",
      " 0.79357413 0.77803444 0.77470029 0.77636438] LGBM: 0.781271 (0.005986)\n"
     ]
    }
   ],
   "source": [
    "recall_results = []\n",
    "recall_names = []\n",
    "scoring = 'recall'\n",
    "cv = KFold(n_splits=10, shuffle=True, random_state=1)\n",
    "\n",
    "for name, model in models:\n",
    "    trans = StandardScaler()\n",
    "    pipeline = Pipeline(steps=[('t', trans), ('m', model)])\n",
    "    cv_results = cross_val_score(pipeline, \n",
    "                                    X_train, \n",
    "                                    y_train, \n",
    "                                    scoring = scoring, \n",
    "                                    cv = cv)\n",
    "    recall_results.append(abs(cv_results))\n",
    "    recall_names.append(name)\n",
    "    msg = \"%s: %f (%f)\" % (name, abs(cv_results.mean()), cv_results.std())\n",
    "    print(abs(cv_results), msg)"
   ]
  },
  {
   "cell_type": "code",
   "execution_count": 68,
   "id": "aea9d93a-4046-4910-830b-26beb66d8a69",
   "metadata": {
    "tags": []
   },
   "outputs": [
    {
     "data": {
      "image/png": "[encoded data removed]",
      "text/plain": [
       "<Figure size 800x400 with 1 Axes>"
      ]
     },
     "metadata": {},
     "output_type": "display_data"
    }
   ],
   "source": [
    "fig = plt.figure(figsize=(8,4))\n",
    "fig.suptitle('KFold Cross Validation Recall', color = 'black')\n",
    "ax = fig.add_subplot(111)\n",
    "\n",
    "plt.boxplot(recall_results, vert = True, patch_artist = True, manage_ticks = True,\n",
    "            medianprops = {\"color\":'black'}, \n",
    "            whiskerprops = {\"color\": 'black'}, \n",
    "            capprops = {\"color\": 'black'}, \n",
    "            boxprops = {\"color\": 'black'}, \n",
    "            flierprops = {\"marker\":'o', \n",
    "                          \"markerfacecolor\":'b', \n",
    "                          \"markersize\": 12})\n",
    "\n",
    "ax.set_xticklabels(recall_names)\n",
    "plt.show()\n",
    "\n",
    "# plt.savefig(os.path.join('photos/kfold_recall.png'), dpi=300, format='png', bbox_inches='tight') \n"
   ]
  },
  {
   "cell_type": "code",
   "execution_count": 14,
   "id": "2df6bd6e-c7f4-4e79-ba7e-5e8e6304b14f",
   "metadata": {
    "tags": []
   },
   "outputs": [
    {
     "data": {
      "text/html": [
       "<div>\n",
       "<style scoped>\n",
       "    .dataframe tbody tr th:only-of-type {\n",
       "        vertical-align: middle;\n",
       "    }\n",
       "\n",
       "    .dataframe tbody tr th {\n",
       "        vertical-align: top;\n",
       "    }\n",
       "\n",
       "    .dataframe thead th {\n",
       "        text-align: right;\n",
       "    }\n",
       "</style>\n",
       "<table border=\"1\" class=\"dataframe\">\n",
       "  <thead>\n",
       "    <tr style=\"text-align: right;\">\n",
       "      <th></th>\n",
       "      <th>0</th>\n",
       "    </tr>\n",
       "  </thead>\n",
       "  <tbody>\n",
       "    <tr>\n",
       "      <th>bootstrap</th>\n",
       "      <td>True</td>\n",
       "    </tr>\n",
       "    <tr>\n",
       "      <th>ccp_alpha</th>\n",
       "      <td>0.0</td>\n",
       "    </tr>\n",
       "    <tr>\n",
       "      <th>class_weight</th>\n",
       "      <td>None</td>\n",
       "    </tr>\n",
       "    <tr>\n",
       "      <th>criterion</th>\n",
       "      <td>gini</td>\n",
       "    </tr>\n",
       "    <tr>\n",
       "      <th>max_depth</th>\n",
       "      <td>None</td>\n",
       "    </tr>\n",
       "    <tr>\n",
       "      <th>max_features</th>\n",
       "      <td>auto</td>\n",
       "    </tr>\n",
       "    <tr>\n",
       "      <th>max_leaf_nodes</th>\n",
       "      <td>None</td>\n",
       "    </tr>\n",
       "    <tr>\n",
       "      <th>max_samples</th>\n",
       "      <td>None</td>\n",
       "    </tr>\n",
       "    <tr>\n",
       "      <th>min_impurity_decrease</th>\n",
       "      <td>0.0</td>\n",
       "    </tr>\n",
       "    <tr>\n",
       "      <th>min_impurity_split</th>\n",
       "      <td>None</td>\n",
       "    </tr>\n",
       "    <tr>\n",
       "      <th>min_samples_leaf</th>\n",
       "      <td>1</td>\n",
       "    </tr>\n",
       "    <tr>\n",
       "      <th>min_samples_split</th>\n",
       "      <td>2</td>\n",
       "    </tr>\n",
       "    <tr>\n",
       "      <th>min_weight_fraction_leaf</th>\n",
       "      <td>0.0</td>\n",
       "    </tr>\n",
       "    <tr>\n",
       "      <th>n_estimators</th>\n",
       "      <td>100</td>\n",
       "    </tr>\n",
       "    <tr>\n",
       "      <th>n_jobs</th>\n",
       "      <td>None</td>\n",
       "    </tr>\n",
       "    <tr>\n",
       "      <th>oob_score</th>\n",
       "      <td>False</td>\n",
       "    </tr>\n",
       "    <tr>\n",
       "      <th>random_state</th>\n",
       "      <td>None</td>\n",
       "    </tr>\n",
       "    <tr>\n",
       "      <th>verbose</th>\n",
       "      <td>0</td>\n",
       "    </tr>\n",
       "    <tr>\n",
       "      <th>warm_start</th>\n",
       "      <td>False</td>\n",
       "    </tr>\n",
       "  </tbody>\n",
       "</table>\n",
       "</div>"
      ],
      "text/plain": [
       "                              0\n",
       "bootstrap                  True\n",
       "ccp_alpha                   0.0\n",
       "class_weight               None\n",
       "criterion                  gini\n",
       "max_depth                  None\n",
       "max_features               auto\n",
       "max_leaf_nodes             None\n",
       "max_samples                None\n",
       "min_impurity_decrease       0.0\n",
       "min_impurity_split         None\n",
       "min_samples_leaf              1\n",
       "min_samples_split             2\n",
       "min_weight_fraction_leaf    0.0\n",
       "n_estimators                100\n",
       "n_jobs                     None\n",
       "oob_score                 False\n",
       "random_state               None\n",
       "verbose                       0\n",
       "warm_start                False"
      ]
     },
     "execution_count": 14,
     "metadata": {},
     "output_type": "execute_result"
    }
   ],
   "source": [
    "#Show default parameters of Random Forest Classifier\n",
    "rfc = RandomForestClassifier()\n",
    "params = rfc.get_params()\n",
    "params_df = pd.DataFrame(params, index=[0])\n",
    "params_df.T"
   ]
  },
  {
   "cell_type": "code",
   "execution_count": 21,
   "id": "e409b9b6-a034-4bf8-adff-0106defd00c4",
   "metadata": {
    "tags": []
   },
   "outputs": [],
   "source": [
    "params = {'bootstrap': [True], \n",
    "          'max_depth': [22,24, 26],\n",
    "          'max_features': ['auto', 'sqrt'], \n",
    "          'min_samples_leaf': [5, 6],\n",
    "          'min_samples_split': [12, 14],\n",
    "          'n_estimators': [2800, 3000, 3200]}"
   ]
  },
  {
   "cell_type": "code",
   "execution_count": null,
   "id": "c6834c06-8737-4a5b-952a-0c1e91dec65c",
   "metadata": {
    "tags": []
   },
   "outputs": [],
   "source": [
    "from sklearn.model_selection import RandomizedSearchCV\n",
    "clf = RandomizedSearchCV(estimator=rfc, \n",
    "                         param_distributions=params,\n",
    "                         n_iter = 10,\n",
    "                         scoring='recall',\n",
    "                         cv = 10,\n",
    "                         verbose=1)\n",
    "clf.fit(X_val, y_val)\n",
    "print(\"Best parameters:\", clf.best_params_)\n",
    "print(\"Best Recall: \", (clf.best_score_))"
   ]
  },
  {
   "cell_type": "code",
   "execution_count": null,
   "id": "936b00ee-3564-4141-b97c-a450528fc52a",
   "metadata": {},
   "outputs": [],
   "source": [
    "# Best parameters: {'n_estimators': 1400, 'min_samples_split': 4, 'min_samples_leaf': 4, 'max_features': 'sqrt', 'max_depth': 5, 'bootstrap': True}\n",
    "# Best Recall:  0.7361111111111112\n",
    "\n",
    "# Best parameters: {'n_estimators': 1600, 'min_samples_split': 5, 'min_samples_leaf': 4, 'max_features': 'auto', 'max_depth': 7, 'bootstrap': True}\n",
    "# Best Recall:  0.7482098765432099\n",
    "\n",
    "# Best parameters: {'n_estimators': 1800, 'min_samples_split': 5, 'min_samples_leaf': 4, 'max_features': 'sqrt', 'max_depth': 10, 'bootstrap': True}\n",
    "# Best Recall:  0.7567283950617283\n",
    "\n",
    "# 114.0min finished\n",
    "# Best parameters: {'n_estimators': 2200, 'min_samples_split': 7, 'min_samples_leaf': 4, 'max_features': 'auto', 'max_depth': 14, 'bootstrap': True}\n",
    "# Best Recall:  0.770246913580247\n",
    "\n",
    "# elapsed: 129.5min finished\n",
    "# Best parameters: {'n_estimators': 2200, 'min_samples_split': 8, 'min_samples_leaf': 5, 'max_features': 'auto', 'max_depth': 16, 'bootstrap': True}\n",
    "# Best Recall:  0.7725308641975308\n",
    "\n",
    "# 145.4min finished\n",
    "# Best parameters: {'n_estimators': 2400, 'min_samples_split': 12, 'min_samples_leaf': 5, 'max_features': 'sqrt', 'max_depth': 20, 'bootstrap': True}\n",
    "# Best Recall:  0.7743827160493828\n",
    "\n",
    "#  159.7min finished\n",
    "# Best parameters: {'n_estimators': 2800, 'min_samples_split': 12, 'min_samples_leaf': 5, 'max_features': 'sqrt', 'max_depth': 22, 'bootstrap': True}\n",
    "# Best Recall:  0.7511728395061729\n",
    "\n",
    "# Best parameters: {'n_estimators': 2800, 'min_samples_split': 12, 'min_samples_leaf': 5, 'max_features': 'auto', 'max_depth': 22, 'bootstrap': True}\n",
    "# Best Recall:  0.7498148148148149"
   ]
  },
  {
   "cell_type": "code",
   "execution_count": 36,
   "id": "e37ff753-dabe-46c8-929d-a71d0d8cbdb9",
   "metadata": {
    "tags": []
   },
   "outputs": [
    {
     "data": {
      "image/png": "[encoded data removed]",
      "text/plain": [
       "<Figure size 640x480 with 1 Axes>"
      ]
     },
     "metadata": {},
     "output_type": "display_data"
    }
   ],
   "source": [
    "import matplotlib.pyplot as plt\n",
    "\n",
    "best_recall = [0.649, 0.736, 0.748, 0.757, 0.770, 0.773, 0.774, 0.751, 0.750]\n",
    "runs = [1, 2, 3, 4, 5, 6, 7, 8, 9]\n",
    "\n",
    "# Create a figure and axis object\n",
    "fig, ax = plt.subplots()\n",
    "\n",
    "# Plot the line graph\n",
    "ax.plot(runs, best_recall, '-o', color='blue', linewidth=2, markersize=8)\n",
    "\n",
    "# Add text annotation for the highest value\n",
    "max_recall = max(best_recall)\n",
    "max_run = runs[best_recall.index(max_recall)]\n",
    "ax.annotate(f'Max Recall: {max_recall:.3f}', xy=(max_run, max_recall), xytext=(max_run-0.5, max_recall+0.01),\n",
    "            arrowprops=dict(facecolor='black', arrowstyle='->'))\n",
    "\n",
    "# Set axis labels and title\n",
    "ax.set_xlabel('Run Number')\n",
    "ax.set_ylabel('Best Recall')\n",
    "\n",
    "# Show the plot\n",
    "plt.show()\n"
   ]
  },
  {
   "cell_type": "code",
   "execution_count": 16,
   "id": "aa079cd2-2a58-4c2e-a087-c58092573119",
   "metadata": {},
   "outputs": [
    {
     "data": {
      "text/plain": [
       "RandomForestClassifier(bootstrap=True, ccp_alpha=0.0, class_weight=None,\n",
       "                       criterion='gini', max_depth=22, max_features='sqrt',\n",
       "                       max_leaf_nodes=None, max_samples=None,\n",
       "                       min_impurity_decrease=0.0, min_impurity_split=None,\n",
       "                       min_samples_leaf=5, min_samples_split=12,\n",
       "                       min_weight_fraction_leaf=0.0, n_estimators=2400,\n",
       "                       n_jobs=None, oob_score=False, random_state=None,\n",
       "                       verbose=0, warm_start=False)"
      ]
     },
     "execution_count": 16,
     "metadata": {},
     "output_type": "execute_result"
    }
   ],
   "source": [
    "best_rf = RandomForestClassifier(n_estimators = 2400, \n",
    "                       min_samples_split = 12, \n",
    "                       min_samples_leaf = 5, \n",
    "                       max_features = 'sqrt', \n",
    "                       max_depth = 22, \n",
    "                       bootstrap = True)\n",
    "\n",
    "best_rf.fit(X_train, y_train)"
   ]
  },
  {
   "cell_type": "code",
   "execution_count": 17,
   "id": "3e1c2c75-0592-4f4a-9b4b-c2ebd7ed7c0a",
   "metadata": {
    "tags": []
   },
   "outputs": [],
   "source": [
    "best_pred = best_rf.predict(X_test)"
   ]
  },
  {
   "cell_type": "code",
   "execution_count": 18,
   "id": "4303e5c1-2dfc-4216-80ca-3a8d037fe061",
   "metadata": {
    "tags": []
   },
   "outputs": [],
   "source": [
    "best_pred_df = pd.DataFrame({'actual': y_test, 'predicted': best_pred})"
   ]
  },
  {
   "cell_type": "code",
   "execution_count": 19,
   "id": "e982b16b-4f7c-4918-bf4a-4b7246920a20",
   "metadata": {
    "tags": []
   },
   "outputs": [],
   "source": [
    "best_pred_df = pd.merge(left = best_pred_df, right = X_test, how = \"inner\" , left_on = best_pred_df.index, right_on=X_test.index)"
   ]
  },
  {
   "cell_type": "code",
   "execution_count": 22,
   "id": "44179dcd-5975-448c-b69b-88b78a3244f6",
   "metadata": {
    "tags": []
   },
   "outputs": [
    {
     "data": {
      "text/html": [
       "<div>\n",
       "<style scoped>\n",
       "    .dataframe tbody tr th:only-of-type {\n",
       "        vertical-align: middle;\n",
       "    }\n",
       "\n",
       "    .dataframe tbody tr th {\n",
       "        vertical-align: top;\n",
       "    }\n",
       "\n",
       "    .dataframe thead th {\n",
       "        text-align: right;\n",
       "    }\n",
       "</style>\n",
       "<table border=\"1\" class=\"dataframe\">\n",
       "  <thead>\n",
       "    <tr style=\"text-align: right;\">\n",
       "      <th></th>\n",
       "      <th>key_0</th>\n",
       "      <th>actual</th>\n",
       "      <th>predicted</th>\n",
       "      <th>age</th>\n",
       "      <th>income</th>\n",
       "      <th>membership_duration</th>\n",
       "      <th>amount_spent</th>\n",
       "      <th>difficulty</th>\n",
       "      <th>duration</th>\n",
       "      <th>reward</th>\n",
       "      <th>web</th>\n",
       "      <th>email</th>\n",
       "      <th>social</th>\n",
       "      <th>mobile</th>\n",
       "      <th>offer_type = _bogo</th>\n",
       "      <th>offer_type = _discount</th>\n",
       "      <th>offer_type = _informational</th>\n",
       "      <th>gender = _F</th>\n",
       "      <th>gender = _M</th>\n",
       "      <th>gender = _O</th>\n",
       "    </tr>\n",
       "  </thead>\n",
       "  <tbody>\n",
       "    <tr>\n",
       "      <th>0</th>\n",
       "      <td>39279</td>\n",
       "      <td>1.0</td>\n",
       "      <td>1.0</td>\n",
       "      <td>76</td>\n",
       "      <td>53000.0</td>\n",
       "      <td>1403</td>\n",
       "      <td>4.60</td>\n",
       "      <td>0</td>\n",
       "      <td>4</td>\n",
       "      <td>0</td>\n",
       "      <td>1</td>\n",
       "      <td>1</td>\n",
       "      <td>0</td>\n",
       "      <td>1</td>\n",
       "      <td>0</td>\n",
       "      <td>0</td>\n",
       "      <td>1</td>\n",
       "      <td>1</td>\n",
       "      <td>0</td>\n",
       "      <td>0</td>\n",
       "    </tr>\n",
       "    <tr>\n",
       "      <th>1</th>\n",
       "      <td>23756</td>\n",
       "      <td>0.0</td>\n",
       "      <td>0.0</td>\n",
       "      <td>39</td>\n",
       "      <td>74000.0</td>\n",
       "      <td>935</td>\n",
       "      <td>21.48</td>\n",
       "      <td>0</td>\n",
       "      <td>3</td>\n",
       "      <td>0</td>\n",
       "      <td>0</td>\n",
       "      <td>1</td>\n",
       "      <td>1</td>\n",
       "      <td>1</td>\n",
       "      <td>0</td>\n",
       "      <td>0</td>\n",
       "      <td>1</td>\n",
       "      <td>0</td>\n",
       "      <td>1</td>\n",
       "      <td>0</td>\n",
       "    </tr>\n",
       "    <tr>\n",
       "      <th>2</th>\n",
       "      <td>142514</td>\n",
       "      <td>1.0</td>\n",
       "      <td>1.0</td>\n",
       "      <td>49</td>\n",
       "      <td>31000.0</td>\n",
       "      <td>126</td>\n",
       "      <td>5.08</td>\n",
       "      <td>0</td>\n",
       "      <td>3</td>\n",
       "      <td>0</td>\n",
       "      <td>0</td>\n",
       "      <td>1</td>\n",
       "      <td>1</td>\n",
       "      <td>1</td>\n",
       "      <td>0</td>\n",
       "      <td>0</td>\n",
       "      <td>1</td>\n",
       "      <td>1</td>\n",
       "      <td>0</td>\n",
       "      <td>0</td>\n",
       "    </tr>\n",
       "    <tr>\n",
       "      <th>3</th>\n",
       "      <td>10020</td>\n",
       "      <td>0.0</td>\n",
       "      <td>0.0</td>\n",
       "      <td>51</td>\n",
       "      <td>66000.0</td>\n",
       "      <td>245</td>\n",
       "      <td>6.31</td>\n",
       "      <td>0</td>\n",
       "      <td>4</td>\n",
       "      <td>0</td>\n",
       "      <td>1</td>\n",
       "      <td>1</td>\n",
       "      <td>0</td>\n",
       "      <td>1</td>\n",
       "      <td>0</td>\n",
       "      <td>0</td>\n",
       "      <td>1</td>\n",
       "      <td>0</td>\n",
       "      <td>1</td>\n",
       "      <td>0</td>\n",
       "    </tr>\n",
       "    <tr>\n",
       "      <th>4</th>\n",
       "      <td>73339</td>\n",
       "      <td>0.0</td>\n",
       "      <td>0.0</td>\n",
       "      <td>21</td>\n",
       "      <td>39000.0</td>\n",
       "      <td>1072</td>\n",
       "      <td>1.66</td>\n",
       "      <td>0</td>\n",
       "      <td>4</td>\n",
       "      <td>0</td>\n",
       "      <td>1</td>\n",
       "      <td>1</td>\n",
       "      <td>0</td>\n",
       "      <td>1</td>\n",
       "      <td>0</td>\n",
       "      <td>0</td>\n",
       "      <td>1</td>\n",
       "      <td>0</td>\n",
       "      <td>1</td>\n",
       "      <td>0</td>\n",
       "    </tr>\n",
       "    <tr>\n",
       "      <th>...</th>\n",
       "      <td>...</td>\n",
       "      <td>...</td>\n",
       "      <td>...</td>\n",
       "      <td>...</td>\n",
       "      <td>...</td>\n",
       "      <td>...</td>\n",
       "      <td>...</td>\n",
       "      <td>...</td>\n",
       "      <td>...</td>\n",
       "      <td>...</td>\n",
       "      <td>...</td>\n",
       "      <td>...</td>\n",
       "      <td>...</td>\n",
       "      <td>...</td>\n",
       "      <td>...</td>\n",
       "      <td>...</td>\n",
       "      <td>...</td>\n",
       "      <td>...</td>\n",
       "      <td>...</td>\n",
       "      <td>...</td>\n",
       "    </tr>\n",
       "    <tr>\n",
       "      <th>29730</th>\n",
       "      <td>65042</td>\n",
       "      <td>1.0</td>\n",
       "      <td>1.0</td>\n",
       "      <td>71</td>\n",
       "      <td>75000.0</td>\n",
       "      <td>487</td>\n",
       "      <td>23.53</td>\n",
       "      <td>0</td>\n",
       "      <td>3</td>\n",
       "      <td>0</td>\n",
       "      <td>0</td>\n",
       "      <td>1</td>\n",
       "      <td>1</td>\n",
       "      <td>1</td>\n",
       "      <td>0</td>\n",
       "      <td>0</td>\n",
       "      <td>1</td>\n",
       "      <td>0</td>\n",
       "      <td>1</td>\n",
       "      <td>0</td>\n",
       "    </tr>\n",
       "    <tr>\n",
       "      <th>29731</th>\n",
       "      <td>26572</td>\n",
       "      <td>0.0</td>\n",
       "      <td>1.0</td>\n",
       "      <td>66</td>\n",
       "      <td>51000.0</td>\n",
       "      <td>434</td>\n",
       "      <td>11.45</td>\n",
       "      <td>0</td>\n",
       "      <td>3</td>\n",
       "      <td>0</td>\n",
       "      <td>0</td>\n",
       "      <td>1</td>\n",
       "      <td>1</td>\n",
       "      <td>1</td>\n",
       "      <td>0</td>\n",
       "      <td>0</td>\n",
       "      <td>1</td>\n",
       "      <td>0</td>\n",
       "      <td>1</td>\n",
       "      <td>0</td>\n",
       "    </tr>\n",
       "    <tr>\n",
       "      <th>29732</th>\n",
       "      <td>8675</td>\n",
       "      <td>0.0</td>\n",
       "      <td>0.0</td>\n",
       "      <td>88</td>\n",
       "      <td>71000.0</td>\n",
       "      <td>488</td>\n",
       "      <td>21.10</td>\n",
       "      <td>20</td>\n",
       "      <td>10</td>\n",
       "      <td>5</td>\n",
       "      <td>1</td>\n",
       "      <td>1</td>\n",
       "      <td>0</td>\n",
       "      <td>0</td>\n",
       "      <td>0</td>\n",
       "      <td>1</td>\n",
       "      <td>0</td>\n",
       "      <td>1</td>\n",
       "      <td>0</td>\n",
       "      <td>0</td>\n",
       "    </tr>\n",
       "    <tr>\n",
       "      <th>29733</th>\n",
       "      <td>48818</td>\n",
       "      <td>1.0</td>\n",
       "      <td>1.0</td>\n",
       "      <td>36</td>\n",
       "      <td>70000.0</td>\n",
       "      <td>900</td>\n",
       "      <td>22.26</td>\n",
       "      <td>0</td>\n",
       "      <td>3</td>\n",
       "      <td>0</td>\n",
       "      <td>0</td>\n",
       "      <td>1</td>\n",
       "      <td>1</td>\n",
       "      <td>1</td>\n",
       "      <td>0</td>\n",
       "      <td>0</td>\n",
       "      <td>1</td>\n",
       "      <td>1</td>\n",
       "      <td>0</td>\n",
       "      <td>0</td>\n",
       "    </tr>\n",
       "    <tr>\n",
       "      <th>29734</th>\n",
       "      <td>107325</td>\n",
       "      <td>1.0</td>\n",
       "      <td>1.0</td>\n",
       "      <td>28</td>\n",
       "      <td>48000.0</td>\n",
       "      <td>880</td>\n",
       "      <td>9.39</td>\n",
       "      <td>0</td>\n",
       "      <td>3</td>\n",
       "      <td>0</td>\n",
       "      <td>0</td>\n",
       "      <td>1</td>\n",
       "      <td>1</td>\n",
       "      <td>1</td>\n",
       "      <td>0</td>\n",
       "      <td>0</td>\n",
       "      <td>1</td>\n",
       "      <td>0</td>\n",
       "      <td>1</td>\n",
       "      <td>0</td>\n",
       "    </tr>\n",
       "  </tbody>\n",
       "</table>\n",
       "<p>29735 rows × 20 columns</p>\n",
       "</div>"
      ],
      "text/plain": [
       "        key_0  actual  predicted  age   income  membership_duration  \\\n",
       "0       39279     1.0        1.0   76  53000.0                 1403   \n",
       "1       23756     0.0        0.0   39  74000.0                  935   \n",
       "2      142514     1.0        1.0   49  31000.0                  126   \n",
       "3       10020     0.0        0.0   51  66000.0                  245   \n",
       "4       73339     0.0        0.0   21  39000.0                 1072   \n",
       "...       ...     ...        ...  ...      ...                  ...   \n",
       "29730   65042     1.0        1.0   71  75000.0                  487   \n",
       "29731   26572     0.0        1.0   66  51000.0                  434   \n",
       "29732    8675     0.0        0.0   88  71000.0                  488   \n",
       "29733   48818     1.0        1.0   36  70000.0                  900   \n",
       "29734  107325     1.0        1.0   28  48000.0                  880   \n",
       "\n",
       "       amount_spent  difficulty  duration  reward  web  email  social  mobile  \\\n",
       "0              4.60           0         4       0    1      1       0       1   \n",
       "1             21.48           0         3       0    0      1       1       1   \n",
       "2              5.08           0         3       0    0      1       1       1   \n",
       "3              6.31           0         4       0    1      1       0       1   \n",
       "4              1.66           0         4       0    1      1       0       1   \n",
       "...             ...         ...       ...     ...  ...    ...     ...     ...   \n",
       "29730         23.53           0         3       0    0      1       1       1   \n",
       "29731         11.45           0         3       0    0      1       1       1   \n",
       "29732         21.10          20        10       5    1      1       0       0   \n",
       "29733         22.26           0         3       0    0      1       1       1   \n",
       "29734          9.39           0         3       0    0      1       1       1   \n",
       "\n",
       "       offer_type = _bogo  offer_type = _discount  \\\n",
       "0                       0                       0   \n",
       "1                       0                       0   \n",
       "2                       0                       0   \n",
       "3                       0                       0   \n",
       "4                       0                       0   \n",
       "...                   ...                     ...   \n",
       "29730                   0                       0   \n",
       "29731                   0                       0   \n",
       "29732                   0                       1   \n",
       "29733                   0                       0   \n",
       "29734                   0                       0   \n",
       "\n",
       "       offer_type = _informational  gender = _F  gender = _M  gender = _O  \n",
       "0                                1            1            0            0  \n",
       "1                                1            0            1            0  \n",
       "2                                1            1            0            0  \n",
       "3                                1            0            1            0  \n",
       "4                                1            0            1            0  \n",
       "...                            ...          ...          ...          ...  \n",
       "29730                            1            0            1            0  \n",
       "29731                            1            0            1            0  \n",
       "29732                            0            1            0            0  \n",
       "29733                            1            1            0            0  \n",
       "29734                            1            0            1            0  \n",
       "\n",
       "[29735 rows x 20 columns]"
      ]
     },
     "execution_count": 22,
     "metadata": {},
     "output_type": "execute_result"
    }
   ],
   "source": [
    "best_pred_df"
   ]
  },
  {
   "cell_type": "code",
   "execution_count": 21,
   "id": "73aedc98-c631-4c29-bf77-28de9f1794c8",
   "metadata": {
    "tags": []
   },
   "outputs": [],
   "source": [
    "# best_pred_df.to_csv('completed_offers_results.csv', index = False)"
   ]
  },
  {
   "cell_type": "code",
   "execution_count": 24,
   "id": "444f931f-7dae-453d-a163-30dd414a4407",
   "metadata": {
    "tags": []
   },
   "outputs": [
    {
     "name": "stdout",
     "output_type": "stream",
     "text": [
      "0.7809272821990011 0.7944880907843871\n"
     ]
    }
   ],
   "source": [
    "best_f1 = f1_score(y_test, best_pred)\n",
    "best_recall = recall_score(y_test, best_pred)\n",
    "\n",
    "print(best_f1, best_recall)"
   ]
  },
  {
   "cell_type": "code",
   "execution_count": 25,
   "id": "3d73fc5e-a388-4afb-b282-e95bb1372532",
   "metadata": {
    "tags": []
   },
   "outputs": [
    {
     "data": {
      "text/plain": [
       "Text(50.722222222222214, 0.5, 'True labels')"
      ]
     },
     "execution_count": 25,
     "metadata": {},
     "output_type": "execute_result"
    },
    {
     "data": {
      "image/png": "[encoded data removed]",
      "text/plain": [
       "<Figure size 640x480 with 2 Axes>"
      ]
     },
     "metadata": {},
     "output_type": "display_data"
    }
   ],
   "source": [
    "# calculate confusion matrix\n",
    "best_cm = confusion_matrix(y_test, best_pred)\n",
    "\n",
    "# plot confusion matrix using seaborn heatmap\n",
    "sns.heatmap(best_cm, annot=True, cmap='Blues', fmt='g')\n",
    "\n",
    "# set axis labels\n",
    "plt.xlabel('Predicted labels')\n",
    "plt.ylabel('True labels')"
   ]
  },
  {
   "cell_type": "code",
   "execution_count": 26,
   "id": "28b69884-80ee-4305-9157-c6027fcc75d0",
   "metadata": {},
   "outputs": [
    {
     "name": "stdout",
     "output_type": "stream",
     "text": [
      "Feature ranking:\n",
      "1. feature 2 age (0.194701)\n",
      "2. feature 3 income (0.181556)\n",
      "3. feature 1 membership_duration (0.153233)\n",
      "4. feature 0 amount_spent (0.151066)\n",
      "5. feature 9 difficulty (0.073865)\n",
      "6. feature 5 duration (0.068864)\n",
      "7. feature 4 reward (0.044291)\n",
      "8. feature 6 web (0.041274)\n",
      "9. feature 13 email (0.036563)\n",
      "10. feature 7 social (0.023419)\n",
      "11. feature 11 mobile (0.008489)\n",
      "12. feature 10 offer_type = _bogo (0.007570)\n",
      "13. feature 12 offer_type = _discount (0.007176)\n",
      "14. feature 14 offer_type = _informational (0.003394)\n",
      "15. feature 15 gender = _F (0.003214)\n",
      "16. feature 16 gender = _M (0.001326)\n",
      "17. feature 8 gender = _O (0.000000)\n"
     ]
    },
    {
     "data": {
      "image/png": "[encoded data removed]",
      "text/plain": [
       "<Figure size 640x480 with 1 Axes>"
      ]
     },
     "metadata": {},
     "output_type": "display_data"
    }
   ],
   "source": [
    "# get feature importances\n",
    "best_importances = best_rf.feature_importances_\n",
    "\n",
    "# sort feature importances in descending order\n",
    "indices = np.argsort(best_importances)[::-1]\n",
    "\n",
    "# print out the feature ranking\n",
    "print(\"Feature ranking:\")\n",
    "for f in range(X.shape[1]):\n",
    "    print(\"%d. feature %d %s (%f)\" % (f + 1, indices[f], X.columns[f], best_importances[indices[f]]))\n",
    "\n",
    "# plot the feature importances\n",
    "plt.title(\"Feature importances\")\n",
    "plt.bar(range(X.shape[1]), best_importances[indices])\n",
    "plt.xticks(range(X.shape[1]), indices)\n",
    "plt.show()\n"
   ]
  },
  {
   "cell_type": "code",
   "execution_count": null,
   "id": "419c19d6-b381-431f-8323-c53c606844ad",
   "metadata": {},
   "outputs": [],
   "source": []
  }
 ],
 "metadata": {
  "availableInstances": [
   {
    "_defaultOrder": 0,
    "_isFastLaunch": true,
    "category": "General purpose",
    "gpuNum": 0,
    "memoryGiB": 4,
    "name": "ml.t3.medium",
    "vcpuNum": 2
   },
   {
    "_defaultOrder": 1,
    "_isFastLaunch": false,
    "category": "General purpose",
    "gpuNum": 0,
    "memoryGiB": 8,
    "name": "ml.t3.large",
    "vcpuNum": 2
   },
   {
    "_defaultOrder": 2,
    "_isFastLaunch": false,
    "category": "General purpose",
    "gpuNum": 0,
    "memoryGiB": 16,
    "name": "ml.t3.xlarge",
    "vcpuNum": 4
   },
   {
    "_defaultOrder": 3,
    "_isFastLaunch": false,
    "category": "General purpose",
    "gpuNum": 0,
    "memoryGiB": 32,
    "name": "ml.t3.2xlarge",
    "vcpuNum": 8
   },
   {
    "_defaultOrder": 4,
    "_isFastLaunch": true,
    "category": "General purpose",
    "gpuNum": 0,
    "memoryGiB": 8,
    "name": "ml.m5.large",
    "vcpuNum": 2
   },
   {
    "_defaultOrder": 5,
    "_isFastLaunch": false,
    "category": "General purpose",
    "gpuNum": 0,
    "memoryGiB": 16,
    "name": "ml.m5.xlarge",
    "vcpuNum": 4
   },
   {
    "_defaultOrder": 6,
    "_isFastLaunch": false,
    "category": "General purpose",
    "gpuNum": 0,
    "memoryGiB": 32,
    "name": "ml.m5.2xlarge",
    "vcpuNum": 8
   },
   {
    "_defaultOrder": 7,
    "_isFastLaunch": false,
    "category": "General purpose",
    "gpuNum": 0,
    "memoryGiB": 64,
    "name": "ml.m5.4xlarge",
    "vcpuNum": 16
   },
   {
    "_defaultOrder": 8,
    "_isFastLaunch": false,
    "category": "General purpose",
    "gpuNum": 0,
    "memoryGiB": 128,
    "name": "ml.m5.8xlarge",
    "vcpuNum": 32
   },
   {
    "_defaultOrder": 9,
    "_isFastLaunch": false,
    "category": "General purpose",
    "gpuNum": 0,
    "memoryGiB": 192,
    "name": "ml.m5.12xlarge",
    "vcpuNum": 48
   },
   {
    "_defaultOrder": 10,
    "_isFastLaunch": false,
    "category": "General purpose",
    "gpuNum": 0,
    "memoryGiB": 256,
    "name": "ml.m5.16xlarge",
    "vcpuNum": 64
   },
   {
    "_defaultOrder": 11,
    "_isFastLaunch": false,
    "category": "General purpose",
    "gpuNum": 0,
    "memoryGiB": 384,
    "name": "ml.m5.24xlarge",
    "vcpuNum": 96
   },
   {
    "_defaultOrder": 12,
    "_isFastLaunch": false,
    "category": "General purpose",
    "gpuNum": 0,
    "memoryGiB": 8,
    "name": "ml.m5d.large",
    "vcpuNum": 2
   },
   {
    "_defaultOrder": 13,
    "_isFastLaunch": false,
    "category": "General purpose",
    "gpuNum": 0,
    "memoryGiB": 16,
    "name": "ml.m5d.xlarge",
    "vcpuNum": 4
   },
   {
    "_defaultOrder": 14,
    "_isFastLaunch": false,
    "category": "General purpose",
    "gpuNum": 0,
    "memoryGiB": 32,
    "name": "ml.m5d.2xlarge",
    "vcpuNum": 8
   },
   {
    "_defaultOrder": 15,
    "_isFastLaunch": false,
    "category": "General purpose",
    "gpuNum": 0,
    "memoryGiB": 64,
    "name": "ml.m5d.4xlarge",
    "vcpuNum": 16
   },
   {
    "_defaultOrder": 16,
    "_isFastLaunch": false,
    "category": "General purpose",
    "gpuNum": 0,
    "memoryGiB": 128,
    "name": "ml.m5d.8xlarge",
    "vcpuNum": 32
   },
   {
    "_defaultOrder": 17,
    "_isFastLaunch": false,
    "category": "General purpose",
    "gpuNum": 0,
    "memoryGiB": 192,
    "name": "ml.m5d.12xlarge",
    "vcpuNum": 48
   },
   {
    "_defaultOrder": 18,
    "_isFastLaunch": false,
    "category": "General purpose",
    "gpuNum": 0,
    "memoryGiB": 256,
    "name": "ml.m5d.16xlarge",
    "vcpuNum": 64
   },
   {
    "_defaultOrder": 19,
    "_isFastLaunch": false,
    "category": "General purpose",
    "gpuNum": 0,
    "memoryGiB": 384,
    "name": "ml.m5d.24xlarge",
    "vcpuNum": 96
   },
   {
    "_defaultOrder": 20,
    "_isFastLaunch": true,
    "category": "Compute optimized",
    "gpuNum": 0,
    "memoryGiB": 4,
    "name": "ml.c5.large",
    "vcpuNum": 2
   },
   {
    "_defaultOrder": 21,
    "_isFastLaunch": false,
    "category": "Compute optimized",
    "gpuNum": 0,
    "memoryGiB": 8,
    "name": "ml.c5.xlarge",
    "vcpuNum": 4
   },
   {
    "_defaultOrder": 22,
    "_isFastLaunch": false,
    "category": "Compute optimized",
    "gpuNum": 0,
    "memoryGiB": 16,
    "name": "ml.c5.2xlarge",
    "vcpuNum": 8
   },
   {
    "_defaultOrder": 23,
    "_isFastLaunch": false,
    "category": "Compute optimized",
    "gpuNum": 0,
    "memoryGiB": 32,
    "name": "ml.c5.4xlarge",
    "vcpuNum": 16
   },
   {
    "_defaultOrder": 24,
    "_isFastLaunch": false,
    "category": "Compute optimized",
    "gpuNum": 0,
    "memoryGiB": 72,
    "name": "ml.c5.9xlarge",
    "vcpuNum": 36
   },
   {
    "_defaultOrder": 25,
    "_isFastLaunch": false,
    "category": "Compute optimized",
    "gpuNum": 0,
    "memoryGiB": 96,
    "name": "ml.c5.12xlarge",
    "vcpuNum": 48
   },
   {
    "_defaultOrder": 26,
    "_isFastLaunch": false,
    "category": "Compute optimized",
    "gpuNum": 0,
    "memoryGiB": 144,
    "name": "ml.c5.18xlarge",
    "vcpuNum": 72
   },
   {
    "_defaultOrder": 27,
    "_isFastLaunch": false,
    "category": "Compute optimized",
    "gpuNum": 0,
    "memoryGiB": 192,
    "name": "ml.c5.24xlarge",
    "vcpuNum": 96
   },
   {
    "_defaultOrder": 28,
    "_isFastLaunch": true,
    "category": "Accelerated computing",
    "gpuNum": 1,
    "memoryGiB": 16,
    "name": "ml.g4dn.xlarge",
    "vcpuNum": 4
   },
   {
    "_defaultOrder": 29,
    "_isFastLaunch": false,
    "category": "Accelerated computing",
    "gpuNum": 1,
    "memoryGiB": 32,
    "name": "ml.g4dn.2xlarge",
    "vcpuNum": 8
   },
   {
    "_defaultOrder": 30,
    "_isFastLaunch": false,
    "category": "Accelerated computing",
    "gpuNum": 1,
    "memoryGiB": 64,
    "name": "ml.g4dn.4xlarge",
    "vcpuNum": 16
   },
   {
    "_defaultOrder": 31,
    "_isFastLaunch": false,
    "category": "Accelerated computing",
    "gpuNum": 1,
    "memoryGiB": 128,
    "name": "ml.g4dn.8xlarge",
    "vcpuNum": 32
   },
   {
    "_defaultOrder": 32,
    "_isFastLaunch": false,
    "category": "Accelerated computing",
    "gpuNum": 4,
    "memoryGiB": 192,
    "name": "ml.g4dn.12xlarge",
    "vcpuNum": 48
   },
   {
    "_defaultOrder": 33,
    "_isFastLaunch": false,
    "category": "Accelerated computing",
    "gpuNum": 1,
    "memoryGiB": 256,
    "name": "ml.g4dn.16xlarge",
    "vcpuNum": 64
   },
   {
    "_defaultOrder": 34,
    "_isFastLaunch": false,
    "category": "Accelerated computing",
    "gpuNum": 1,
    "memoryGiB": 61,
    "name": "ml.p3.2xlarge",
    "vcpuNum": 8
   },
   {
    "_defaultOrder": 35,
    "_isFastLaunch": false,
    "category": "Accelerated computing",
    "gpuNum": 4,
    "memoryGiB": 244,
    "name": "ml.p3.8xlarge",
    "vcpuNum": 32
   },
   {
    "_defaultOrder": 36,
    "_isFastLaunch": false,
    "category": "Accelerated computing",
    "gpuNum": 8,
    "memoryGiB": 488,
    "name": "ml.p3.16xlarge",
    "vcpuNum": 64
   },
   {
    "_defaultOrder": 37,
    "_isFastLaunch": false,
    "category": "Accelerated computing",
    "gpuNum": 8,
    "memoryGiB": 768,
    "name": "ml.p3dn.24xlarge",
    "vcpuNum": 96
   },
   {
    "_defaultOrder": 38,
    "_isFastLaunch": false,
    "category": "Memory Optimized",
    "gpuNum": 0,
    "memoryGiB": 16,
    "name": "ml.r5.large",
    "vcpuNum": 2
   },
   {
    "_defaultOrder": 39,
    "_isFastLaunch": false,
    "category": "Memory Optimized",
    "gpuNum": 0,
    "memoryGiB": 32,
    "name": "ml.r5.xlarge",
    "vcpuNum": 4
   },
   {
    "_defaultOrder": 40,
    "_isFastLaunch": false,
    "category": "Memory Optimized",
    "gpuNum": 0,
    "memoryGiB": 64,
    "name": "ml.r5.2xlarge",
    "vcpuNum": 8
   },
   {
    "_defaultOrder": 41,
    "_isFastLaunch": false,
    "category": "Memory Optimized",
    "gpuNum": 0,
    "memoryGiB": 128,
    "name": "ml.r5.4xlarge",
    "vcpuNum": 16
   },
   {
    "_defaultOrder": 42,
    "_isFastLaunch": false,
    "category": "Memory Optimized",
    "gpuNum": 0,
    "memoryGiB": 256,
    "name": "ml.r5.8xlarge",
    "vcpuNum": 32
   },
   {
    "_defaultOrder": 43,
    "_isFastLaunch": false,
    "category": "Memory Optimized",
    "gpuNum": 0,
    "memoryGiB": 384,
    "name": "ml.r5.12xlarge",
    "vcpuNum": 48
   },
   {
    "_defaultOrder": 44,
    "_isFastLaunch": false,
    "category": "Memory Optimized",
    "gpuNum": 0,
    "memoryGiB": 512,
    "name": "ml.r5.16xlarge",
    "vcpuNum": 64
   },
   {
    "_defaultOrder": 45,
    "_isFastLaunch": false,
    "category": "Memory Optimized",
    "gpuNum": 0,
    "memoryGiB": 768,
    "name": "ml.r5.24xlarge",
    "vcpuNum": 96
   },
   {
    "_defaultOrder": 46,
    "_isFastLaunch": false,
    "category": "Accelerated computing",
    "gpuNum": 1,
    "memoryGiB": 16,
    "name": "ml.g5.xlarge",
    "vcpuNum": 4
   },
   {
    "_defaultOrder": 47,
    "_isFastLaunch": false,
    "category": "Accelerated computing",
    "gpuNum": 1,
    "memoryGiB": 32,
    "name": "ml.g5.2xlarge",
    "vcpuNum": 8
   },
   {
    "_defaultOrder": 48,
    "_isFastLaunch": false,
    "category": "Accelerated computing",
    "gpuNum": 1,
    "memoryGiB": 64,
    "name": "ml.g5.4xlarge",
    "vcpuNum": 16
   },
   {
    "_defaultOrder": 49,
    "_isFastLaunch": false,
    "category": "Accelerated computing",
    "gpuNum": 1,
    "memoryGiB": 128,
    "name": "ml.g5.8xlarge",
    "vcpuNum": 32
   },
   {
    "_defaultOrder": 50,
    "_isFastLaunch": false,
    "category": "Accelerated computing",
    "gpuNum": 1,
    "memoryGiB": 256,
    "name": "ml.g5.16xlarge",
    "vcpuNum": 64
   },
   {
    "_defaultOrder": 51,
    "_isFastLaunch": false,
    "category": "Accelerated computing",
    "gpuNum": 4,
    "memoryGiB": 192,
    "name": "ml.g5.12xlarge",
    "vcpuNum": 48
   },
   {
    "_defaultOrder": 52,
    "_isFastLaunch": false,
    "category": "Accelerated computing",
    "gpuNum": 4,
    "memoryGiB": 384,
    "name": "ml.g5.24xlarge",
    "vcpuNum": 96
   },
   {
    "_defaultOrder": 53,
    "_isFastLaunch": false,
    "category": "Accelerated computing",
    "gpuNum": 8,
    "memoryGiB": 768,
    "name": "ml.g5.48xlarge",
    "vcpuNum": 192
   }
  ],
  "instance_type": "ml.t3.xlarge",
  "kernelspec": {
   "display_name": "Python 3 (Data Science)",
   "language": "python",
   "name": "python3__SAGEMAKER_INTERNAL__arn:aws:sagemaker:us-east-1:081325390199:image/datascience-1.0"
  },
  "language_info": {
   "codemirror_mode": {
    "name": "ipython",
    "version": 3
   },
   "file_extension": ".py",
   "mimetype": "text/x-python",
   "name": "python",
   "nbconvert_exporter": "python",
   "pygments_lexer": "ipython3",
   "version": "3.7.10"
  }
 },
 "nbformat": 4,
 "nbformat_minor": 5
}
